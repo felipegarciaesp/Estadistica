{
  "nbformat": 4,
  "nbformat_minor": 0,
  "metadata": {
    "colab": {
      "name": "Ejercicio CLASE 02 - Distribucion binomial y normal.ipynb",
      "provenance": [],
      "authorship_tag": "ABX9TyMPNzSFz6oy/fPZI3c2UxhD",
      "include_colab_link": true
    },
    "kernelspec": {
      "name": "python3",
      "display_name": "Python 3"
    }
  },
  "cells": [
    {
      "cell_type": "markdown",
      "metadata": {
        "id": "view-in-github",
        "colab_type": "text"
      },
      "source": [
        "<a href=\"https://colab.research.google.com/github/robertomoragad/Estadistica/blob/master/Ejercicio_CLASE_02_Distribucion_binomial_y_normal.ipynb\" target=\"_parent\"><img src=\"https://colab.research.google.com/assets/colab-badge.svg\" alt=\"Open In Colab\"/></a>"
      ]
    },
    {
      "cell_type": "code",
      "metadata": {
        "id": "wre6rx81QPvT"
      },
      "source": [
        "#Importamos Librerias de la siguiente forma: \n",
        "import numpy as np # importando numpy\n",
        "from scipy import stats # importando scipy.stats\n",
        "import matplotlib.pyplot as plt #importando matplotlib"
      ],
      "execution_count": null,
      "outputs": []
    },
    {
      "cell_type": "code",
      "metadata": {
        "colab": {
          "base_uri": "https://localhost:8080/",
          "height": 764
        },
        "id": "9r_sogPSUR-D",
        "outputId": "760de414-c0d0-470a-b9f0-74d9a6aea66d"
      },
      "source": [
        "#Lanzar 2 dados y sumar\n",
        "n = 1000\n",
        "min = 1\n",
        "max = 7\n",
        "\n",
        "dado1 = np.random.randint(min, max, n)\n",
        "dado2 = np.random.randint(min, max,n)\n",
        "sumadados = dado1+dado2\n",
        "#print(dado1)\n",
        "#print(dado2)\n",
        "#print(sumadados)\n",
        "\n",
        "#graficar histograma con datos muestra\n",
        "plt.hist(dado2, range(0, 8, 1), density=True)\n",
        "plt.show()\n",
        "\n",
        "#graficar histograma con datos muestra\n",
        "plt.hist(dado2, range(0, 8, 1))\n",
        "plt.show()\n",
        "\n",
        "#graficar histograma con datos muestra\n",
        "plt.hist(sumadados, range(0, 14, 1))\n",
        "plt.show()"
      ],
      "execution_count": null,
      "outputs": [
        {
          "output_type": "display_data",
          "data": {
            "image/png": "[encoded data removed]",
            "text/plain": [
              "<Figure size 432x288 with 1 Axes>"
            ]
          },
          "metadata": {
            "tags": [],
            "needs_background": "light"
          }
        },
        {
          "output_type": "display_data",
          "data": {
            "image/png": "[encoded data removed]",
            "text/plain": [
              "<Figure size 432x288 with 1 Axes>"
            ]
          },
          "metadata": {
            "tags": [],
            "needs_background": "light"
          }
        },
        {
          "output_type": "display_data",
          "data": {
            "image/png": "[encoded data removed]",
            "text/plain": [
              "<Figure size 432x288 with 1 Axes>"
            ]
          },
          "metadata": {
            "tags": [],
            "needs_background": "light"
          }
        }
      ]
    },
    {
      "cell_type": "code",
      "metadata": {
        "id": "tqupMEHm12-V"
      },
      "source": [
        "#qué observa al aumentar la cantidad de veces que se lanzan los dados?\n",
        "#qué observa con la suma de 2 dados?\n"
      ],
      "execution_count": null,
      "outputs": []
    },
    {
      "cell_type": "code",
      "metadata": {
        "colab": {
          "base_uri": "https://localhost:8080/",
          "height": 425
        },
        "id": "mxPT8urGXwK1",
        "outputId": "2b868fb7-6a82-49bb-d9bc-c7256cdbbd49"
      },
      "source": [
        "#Ejemplo Distribucion Binomial\n",
        "\n",
        "n = 10\n",
        "p = 0.25 #uno de cuatro\n",
        "\n",
        "\n",
        "#Graficar funcion de probabilidad utilizando SCIPY\n",
        "binomial = stats.binom(n, p) # Distribución\n",
        "x = np.arange(binomial.ppf(0.01),\n",
        "              binomial.ppf(0.99))\n",
        "fmp = binomial.pmf(x) # Función de Masa de Probabilidad\n",
        "\n",
        "plt.plot(x, fmp, '--')\n",
        "plt.vlines(x, 0, fmp, colors='b', lw=10, alpha=0.5)\n",
        "plt.title('Distribución Binomial')\n",
        "plt.ylabel('probabilidad')\n",
        "plt.xlabel('valores')\n",
        "plt.show()\n",
        "\n",
        "\n",
        "\n",
        "#ahora calcular la probabilidad de que 0 preguntas sean correctas\n",
        "#prob puntuales\n",
        "cero = stats.binom(n, p).pmf(0) \n",
        "\n",
        "una = stats.binom(n, p).pmf(1)\n",
        "dos = stats.binom(n, p).pmf(2)\n",
        "tres = stats.binom(n, p).pmf(3)\n",
        "print('cero correcta:', cero)\n",
        "print('una correctas:', una)\n",
        "print('dos correctas:', dos)\n",
        "print('tres correctas:', tres)\n",
        "\n",
        "\n",
        "#calcular prob al menos 4 correctas\n",
        "#usar la funcion de dist. acumulada:  .cdf\n",
        "prob_4_o_mas = 1 - stats.binom(n, p).cdf(3)\n",
        "print('prob 4 o mas: ', prob_4_o_mas)\n",
        "\n",
        "#calcular prob entre 4 y 6\n",
        "#usar prob puntuales\n",
        "cuatro = stats.binom(n, p).pmf(4)\n",
        "cinco = stats.binom(n, p).pmf(5)\n",
        "seis = stats.binom(n, p).pmf(6)\n",
        "print('entre 4 y 6:', cuatro + cinco + seis)\n",
        "\n",
        "#calcular prob 10 correctas\n",
        "#usar prob puntuales\n",
        "diez = stats.binom(n, p).pmf(10)\n",
        "print('diez correctas: ',diez)\n",
        "\n",
        "#calcular prob menos de 3 correctas\n",
        "#usar la funcion de dist. acumulada:  .cdf\n",
        "prob_2_o_menos = stats.binom(n, p).cdf(2)\n",
        "print('prob 2 o menos: ', prob_2_o_menos)\n",
        "\n",
        "\n",
        " \n",
        "\n",
        "\n",
        "\n"
      ],
      "execution_count": null,
      "outputs": [
        {
          "output_type": "display_data",
          "data": {
            "image/png": "[encoded data removed]",
            "text/plain": [
              "<Figure size 432x288 with 1 Axes>"
            ]
          },
          "metadata": {
            "tags": [],
            "needs_background": "light"
          }
        },
        {
          "output_type": "stream",
          "text": [
            "cero correcta: 0.056313514709472684\n",
            "una correctas: 0.18771171569824247\n",
            "dos correctas: 0.28156757354736334\n",
            "tres correctas: 0.2502822875976565\n",
            "prob 4 o mas:  0.22412490844726562\n",
            "entre 4 y 6: 0.2206192016601565\n",
            "diez correctas:  9.5367431640625e-07\n",
            "prob 2 o menos:  0.5255928039550781\n"
          ],
          "name": "stdout"
        }
      ]
    },
    {
      "cell_type": "code",
      "metadata": {
        "id": "Bjj1OeqKJ5Zu"
      },
      "source": [
        "#cargar la data de estudio (100 clientes)\n",
        "centro = (19707,\t12136,\t16181,\t21894,\t17170,\t14183,\t8608,\t17439,\t19933,\t18509,\t10778,\t19901,\t7323,\t19778,\t19458,\t17000,\t15851,\t21139,\t22619,\t17356,\t21590,\t14385,\t10250,\t17886,\t23411,\t11725,\t18272,\t18407,\t15956,\t12441,\t18721,\t16561,\t15468,\t19903,\t29031,\t11777,\t14083,\t10815,\t9110)\n",
        "\n",
        "norte = (22228,\t20136,\t24760,\t19693,\t20957,\t23123,\t21690,\t17370,\t20700,\t21155,\t20153,\t22482,\t21272,\t22254,\t22365,\t21497,\t21575,\t23929,\t20805,\t24765,\t18492,\t20520,\t24037,\t22000,\t25362,\t21782,\t24100,\t15150,\t22049,\t24982,\t22263,\t23793,\t28865,\t28698,\t25114,\t27724)\n",
        "\n",
        "sur = (20275,\t30072,\t24883,\t24092,\t28462,\t26240,\t24796,\t26044,\t29736,\t25032,\t24964,\t27502,\t24384,\t23188,\t25823,\t26535,\t29519,\t28454,\t31021,\t34607,\t34272,\t29477,\t31521,\t26633,\t30714)\n"
      ],
      "execution_count": null,
      "outputs": []
    },
    {
      "cell_type": "code",
      "metadata": {
        "colab": {
          "base_uri": "https://localhost:8080/"
        },
        "id": "71_D5kqVNCn9",
        "outputId": "a16d4b54-1a47-4134-a72b-e7a98969d415"
      },
      "source": [
        "#Crear variable facturacion mensual de los 100 clientes\n",
        "facturacion = (centro + norte + sur)\n",
        "\n",
        "\n",
        "#Calcular estadísticos de la muestra\n",
        "\n",
        "muestra = np.size(facturacion)\n",
        "media = np.mean(facturacion)\n",
        "desv_std = np.std(facturacion, ddof=1)\n",
        "mediana = np.median(facturacion)\n",
        "mediana2 = np.percentile(facturacion, 50) #otra forma es utilizar percentiles\n",
        "\n",
        "print('media: ',media)\n",
        "print('mediana: ', mediana)\n",
        "print('mediana: ', mediana2)\n",
        "print('desv std: ', desv_std)\n"
      ],
      "execution_count": null,
      "outputs": [
        {
          "output_type": "stream",
          "text": [
            "media:  21428.41\n",
            "mediana:  21640.0\n",
            "mediana:  21640.0\n",
            "desv std:  5733.673411504878\n"
          ],
          "name": "stdout"
        }
      ]
    },
    {
      "cell_type": "markdown",
      "metadata": {
        "id": "WiBiozE3wWQ_"
      },
      "source": [
        "Para comprobar si los datos de nuestra población o muestra siguen una distribución normal, utilizaremos un test de normalidad denominado Anderson-Darling, el cual evalúa la hipótesis (y su correspondiente hipótesis nula) de que los datos siguen una distribuión normal:\n",
        "\n",
        "H 0  :: los datos siguen una distribución normal\n",
        "\n",
        "H 1  :: los datos NO siguen una distribución normal\n",
        "\n",
        "Si el valor arrojado (Test estadístico de Anderson-Darling) es menor al valor crítico dado para un cierto nivel de significanci (por ejemplo = 5%), se acepta la hipótesis H 0, los datos tienen una distribución normal."
      ]
    },
    {
      "cell_type": "code",
      "metadata": {
        "colab": {
          "base_uri": "https://localhost:8080/"
        },
        "id": "LflQU2WWvzy3",
        "outputId": "c85ee4fc-0392-4e19-d117-438ae1512a76"
      },
      "source": [
        "#comprobar normalidad de los datos\n",
        "stats.anderson(facturacion, dist='norm')\n"
      ],
      "execution_count": null,
      "outputs": [
        {
          "output_type": "execute_result",
          "data": {
            "text/plain": [
              "AndersonResult(statistic=0.3435597944355493, critical_values=array([0.555, 0.632, 0.759, 0.885, 1.053]), significance_level=array([15. , 10. ,  5. ,  2.5,  1. ]))"
            ]
          },
          "metadata": {
            "tags": []
          },
          "execution_count": 19
        }
      ]
    },
    {
      "cell_type": "markdown",
      "metadata": {
        "id": "3CAc6FQcw5Of"
      },
      "source": [
        "En este caso en valor arrojado es 0,34355, el cual es menor al 0,759 para un nivel de significancia del 5%. Por tanto aceptamos la hipotesis de que los datos siguen una distribución normal."
      ]
    },
    {
      "cell_type": "code",
      "metadata": {
        "colab": {
          "base_uri": "https://localhost:8080/",
          "height": 373
        },
        "id": "XSTcwf2mRtYR",
        "outputId": "567d4dd5-594b-4308-a1a2-c26c3c4145c0"
      },
      "source": [
        "#graficar histograma con datos muestra\n",
        "plt.figure(figsize=(10, 6)) #tamaño grafico\n",
        "plt.hist(facturacion, 6, density=False, cumulative=False, color='b') #con 6 clases y color azul\n",
        "plt.show()"
      ],
      "execution_count": null,
      "outputs": [
        {
          "output_type": "display_data",
          "data": {
            "image/png": "[encoded data removed]",
            "text/plain": [
              "<Figure size 720x432 with 1 Axes>"
            ]
          },
          "metadata": {
            "tags": [],
            "needs_background": "light"
          }
        }
      ]
    },
    {
      "cell_type": "code",
      "metadata": {
        "colab": {
          "base_uri": "https://localhost:8080/",
          "height": 385
        },
        "id": "DN3dG2wZz2dZ",
        "outputId": "7e4a318c-0f72-4fae-9ab2-ad10710d1d52"
      },
      "source": [
        "#crear proyeccion poblacion\n",
        "mu = media\n",
        "sigma = desv_std\n",
        "\n",
        "poblacion = stats.norm(mu, sigma)\n",
        "x = np.arange(poblacion.ppf(0.01),poblacion.ppf(0.99))\n",
        "\n",
        "plt.figure(figsize=(10, 6)) #tamaño grafico\n",
        "plt.plot(x,poblacion.pdf(x),\"r\")\n",
        "plt.hist(facturacion, 6, density=True, cumulative=False, color='b') #con 6 clases, color azul y frec. relativa\n",
        "plt.show()"
      ],
      "execution_count": null,
      "outputs": [
        {
          "output_type": "display_data",
          "data": {
            "image/png": "[encoded data removed]",
            "text/plain": [
              "<Figure size 720x432 with 1 Axes>"
            ]
          },
          "metadata": {
            "tags": [],
            "needs_background": "light"
          }
        }
      ]
    },
    {
      "cell_type": "code",
      "metadata": {
        "colab": {
          "base_uri": "https://localhost:8080/",
          "height": 281
        },
        "id": "68sZWuLxSc4W",
        "outputId": "3d1950d9-4350-42ca-f6cd-257242c1cd41"
      },
      "source": [
        "#gráfico box plot por zonas\n",
        "data= (norte, centro, sur, facturacion)\n",
        "labels = (\"norte\", \"centro\", \"sur\", \"pais\")\n",
        "plt.boxplot(data, labels=labels)\n",
        "plt.show\n",
        "\n",
        "\n",
        "#calcular estadisticos (media y desv. std)\n"
      ],
      "execution_count": null,
      "outputs": [
        {
          "output_type": "execute_result",
          "data": {
            "text/plain": [
              "<function matplotlib.pyplot.show>"
            ]
          },
          "metadata": {
            "tags": []
          },
          "execution_count": 46
        },
        {
          "output_type": "display_data",
          "data": {
            "image/png": "[encoded data removed]",
            "text/plain": [
              "<Figure size 432x288 with 1 Axes>"
            ]
          },
          "metadata": {
            "tags": [],
            "needs_background": "light"
          }
        }
      ]
    },
    {
      "cell_type": "code",
      "metadata": {
        "colab": {
          "base_uri": "https://localhost:8080/"
        },
        "id": "Z_SjyjTxR-gm",
        "outputId": "5bc4b921-50c2-4369-d4dd-eda247ecf46b"
      },
      "source": [
        "#contar la cantidad de clientes en muestra que gasta al menos $30.000\n",
        "count = sum(map(lambda x : x>=30000, facturacion))\n",
        "\n",
        "print(count)"
      ],
      "execution_count": null,
      "outputs": [
        {
          "output_type": "stream",
          "text": [
            "6\n"
          ],
          "name": "stdout"
        }
      ]
    },
    {
      "cell_type": "code",
      "metadata": {
        "colab": {
          "base_uri": "https://localhost:8080/"
        },
        "id": "pp3sWJ2S2GPc",
        "outputId": "4d31f208-127d-4e76-a4a6-b7d27af0db86"
      },
      "source": [
        "#Proyectar clientes que pertenecen a \"Premium\"\n",
        "\n",
        "#Primera forma con Numpy y Scipy\n",
        "x = 30000 # Valor al que queremos calcular su probabilidad acumulada\n",
        "mu = np.mean(facturacion) \n",
        "sigma = np.std(facturacion)\n",
        "\n",
        "Z = (x - mu) / sigma\n",
        "\n",
        "prob30k = stats.norm.cdf(Z) # Probabilidad acumulada de infinito negativo al valor buscado\n",
        "print('probabilidad de ser Premium: ', (1 - prob30k)) #se busca el complemento\n",
        "\n",
        "#Otra forma sin aplicar Z, es usar libreria Scipy\n",
        "prob30k_b = stats.norm(mu, sigma).cdf(x)\n",
        "print('otra forma: ',1-prob30k_b)\n"
      ],
      "execution_count": null,
      "outputs": [
        {
          "output_type": "stream",
          "text": [
            "probabilidad de ser Premium:  0.06648563911127958\n",
            "otra forma:  0.06648563911127958\n"
          ],
          "name": "stdout"
        }
      ]
    },
    {
      "cell_type": "code",
      "metadata": {
        "colab": {
          "base_uri": "https://localhost:8080/",
          "height": 373
        },
        "id": "H-VZlTVU3W4q",
        "outputId": "2e9c5629-a2ea-4885-d167-6b05cb84331d"
      },
      "source": [
        "#Tip sobre como crear distribuciones\n",
        "poblacion_simulada = np.random.RandomState(seed=2).normal(mu, sigma, 1000000)\n",
        "\n",
        "plt.figure(figsize=(10, 6)) #tamaño grafico\n",
        "plt.hist(poblacion_simulada, 15, density=False, cumulative=False, color='b') #con 15 clases y color azul\n",
        "plt.show()"
      ],
      "execution_count": null,
      "outputs": [
        {
          "output_type": "display_data",
          "data": {
            "image/png": "[encoded data removed]",
            "text/plain": [
              "<Figure size 720x432 with 1 Axes>"
            ]
          },
          "metadata": {
            "tags": [],
            "needs_background": "light"
          }
        }
      ]
    }
  ]
}