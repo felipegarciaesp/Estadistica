{
  "nbformat": 4,
  "nbformat_minor": 0,
  "metadata": {
    "colab": {
      "name": "Test de Hipotesis - Error tipo II (beta).ipynb",
      "provenance": [],
      "authorship_tag": "ABX9TyOSmH7m27MLpVgoSnLkPNCb",
      "include_colab_link": true
    },
    "kernelspec": {
      "name": "python3",
      "display_name": "Python 3"
    }
  },
  "cells": [
    {
      "cell_type": "markdown",
      "metadata": {
        "id": "view-in-github",
        "colab_type": "text"
      },
      "source": [
        "<a href=\"https://colab.research.google.com/github/robertomoragad/Estadistica/blob/master/Test_de_Hipotesis_Error_tipo_II_(beta).ipynb\" target=\"_parent\"><img src=\"https://colab.research.google.com/assets/colab-badge.svg\" alt=\"Open In Colab\"/></a>"
      ]
    },
    {
      "cell_type": "code",
      "metadata": {
        "id": "WQw6SbeK19HE"
      },
      "source": [
        "#Primero Importamos Librerias de la siguiente forma: \n",
        "import numpy as np # importando numpy\n",
        "from scipy import stats # importando scipy.stats\n",
        "import matplotlib.pyplot as plt #importando matplotlib"
      ],
      "execution_count": 71,
      "outputs": []
    },
    {
      "cell_type": "markdown",
      "metadata": {
        "id": "8MNE49wi-a8X"
      },
      "source": [
        "**En esta sección se encuentra un ejercicio para entender Error tipo II (beta)**\n",
        "\n",
        "\n",
        "Cuando realizamos una prueba de hipótesis podemos cometer dos tipos de error: tipo I y tipo II. Los riesgos de estos dos errores están inversamente relacionados y se determinan según el nivel de significancia y la potencia de la prueba. Por tanto ninguna prueba de hipótesis es 100% cierta. \n",
        "\n",
        "**Error tipo I:**\n",
        "Cuando rechazamos la hipótesis nula cuando es verdadera, cometemos un error de tipo I. La probabilidad de cometer un error de tipo I es α, que es el nivel de significancia que estableces para la prueba de hipótesis.\n",
        "\n",
        "**Error tipo II:**\n",
        "El error tipo II es el riesgo de no rechazar una hipotesis nula que es falsa. La probabilidad de cometer un error de tipo II es β, que depende de la potencia de la prueba. Podemos reducir el riesgo de cometer un error de tipo II al asegurarse de que la prueba tenga suficiente potencia. Para ello, debemos asegurarnos de que el tamaño de la muestra es lo suficientemente grande como para detectar una diferencia práctica cuando esta realmente exista.\n",
        "\n",
        "\n",
        "A continuación un resumen visual:\n",
        "\n",
        "\n",
        "**intro**\n",
        "<img src='https://drive.google.com/uc?export=view&id=1D5hnaRxeMWMO9UhSkVex4dvKZ-Sl2v9m' width=\"900\" align=\"left\" style=\"margin-right: 20px\"> \n",
        "<br>\n",
        "\n",
        "<p style=\"font-size:8pt\"> \n",
        "Imagen gentileza de: Roberto Moraga</p>"
      ]
    },
    {
      "cell_type": "markdown",
      "metadata": {
        "id": "WWhvbsDs-93u"
      },
      "source": [
        "Para hacer variar el error tipo I y el error tipo II tenemos algunas alternativas:\n",
        "\n",
        "\n",
        "**intro**\n",
        "<img src='https://drive.google.com/uc?export=view&id=1KJqey0330cf61i7ITpwgokZ4L007lnCJ' width=\"900\" align=\"left\" style=\"margin-right: 20px\"> \n",
        "<br>\n",
        "\n",
        "<p style=\"font-size:8pt\"> \n",
        "Imagen gentileza de: Roberto Moraga</p>"
      ]
    },
    {
      "cell_type": "markdown",
      "metadata": {
        "id": "H5YpzKUE_YDW"
      },
      "source": [
        "...como hemos visto, en la eventualidad de no rechaza H0, siendo esta falsa, se puede cometer el error denominado error tipo II. (error beta)\n",
        "\n",
        "\n",
        "Pero cómo calculamos el beta?. Este dato sería una información relevante a la hora de comunicar en un estudio de contraste el valor de este tipo de error.  En algunos software de análisis estadísticos no entregan información de este tipo  de error ya que sería necesario incorporar el valor de H1. \n",
        "\n",
        "Existe una forma de estimar este tipo de error II si hacemos alguna suposición (no estadística) dirigida por críterios expertos en el fenomeno que estemos estudiando.\n",
        "\n",
        "\n",
        "Supongamos que queremos demostrar que el gasto promedio de los clientes ante una campaña comercial es más de 28 dolares con un nivel de significación del 5%. Se sabe que la desviación std poblacional es 3,7 dolares. Para ello se consideró una muestra de 32 clientes para la que se obtuvo una media de 29.\n",
        "\n",
        "Planteamos el problema en python:"
      ]
    },
    {
      "cell_type": "code",
      "metadata": {
        "colab": {
          "base_uri": "https://localhost:8080/"
        },
        "id": "_PJsZ_OGBn1x",
        "outputId": "71d1bb6b-2c1e-4290-a6b2-c11dcbc4d067"
      },
      "source": [
        "# 0)  calcular estadisticos muestra\n",
        "xbar = 29\n",
        "sigma = 3.7\n",
        "n = 32\n",
        "\n",
        "print('sigma poblacion: ', sigma)\n",
        "print('Xbarra: ',xbar)\n",
        "print('tamaño muestra: ', n)"
      ],
      "execution_count": 72,
      "outputs": [
        {
          "output_type": "stream",
          "text": [
            "sigma poblacion:  3.7\n",
            "Xbarra:  29\n",
            "tamaño muestra:  32\n"
          ],
          "name": "stdout"
        }
      ]
    },
    {
      "cell_type": "code",
      "metadata": {
        "colab": {
          "base_uri": "https://localhost:8080/"
        },
        "id": "XLOw2Q16CIJ1",
        "outputId": "30777158-89b8-45d1-b874-1de40354f4da"
      },
      "source": [
        "#como n > 30 y sí se conoce Sigma, aplicaremos Z \n",
        "#asumimos que datos se distribuyen normal X-N(mu, sigma)\n",
        "\n",
        "# 1) Definir hipotesis a contrastar (prueba unilateral - 1 cola)\n",
        "  #H0:   Mu <= 28\n",
        "  #H1:   Mu >  28\n",
        "\n",
        "\n",
        "alpha = 0.05\n",
        "Mu_h0 = 28\n",
        "\n",
        "# 2) buscar valor critico de Z\n",
        "Zcritico = stats.norm.ppf(1-(alpha))# 1 cola\n",
        "print('Z critico: ', Zcritico)\n",
        "\n",
        "\n",
        "# 3) calcular Estadistico de prueba Z\n",
        "Z =  (xbar - Mu_h0) / (sigma / np.sqrt(n)) #utilizar sigma poblacion\n",
        "print('Z: ',Z)\n",
        "\n",
        "\n",
        "# 4) Definir Regla decisión\n",
        "#no rechazar H0 si:  Z <= Z crítico\n",
        "#rechazar H0 si:  Z > Zcritico  \n",
        "\n",
        "\n",
        "# 5) buscar el valor en dolares correspondiente al Z critico\n",
        "\n",
        "x = Mu_h0 + (Zcritico * (sigma / np.sqrt(n)))\n",
        "print('X promedio para Z=1,64: ',x)\n",
        "\n",
        "# otra forma mas simple con Stats usando ppf\n",
        "x_b = stats.norm(Mu_h0, sigma/np.sqrt(n)).ppf(0.95)\n",
        "print('X promedio para Z=1,64: ',x_b)\n"
      ],
      "execution_count": 75,
      "outputs": [
        {
          "output_type": "stream",
          "text": [
            "Z critico:  1.6448536269514722\n",
            "Z:  1.5288795268898323\n",
            "X promedio para Z=1,64:  29.075855617150925\n",
            "X promedio para Z=1,64:  29.075855617150925\n"
          ],
          "name": "stdout"
        }
      ]
    },
    {
      "cell_type": "markdown",
      "metadata": {
        "id": "k49_pB-IDK_A"
      },
      "source": [
        "Conclusión:  como estadístico Z de prueba es menor a Z crítico, no se rechaza la H0, es decir, el gasto medio por cliente en esta campaña es menor o igual a 28 dolares.\n",
        "\n",
        "Otra vista:\n",
        "Si se observa el Xpromedio que corresponde a Zcritico es 29,076 dolares,  esto quiere decir si el valor del promedio de la muestra de 32 personas es menor a esa suma, no se puede rechazar la H0."
      ]
    },
    {
      "cell_type": "markdown",
      "metadata": {
        "id": "D8cwV0Y9D9Kp"
      },
      "source": [
        "\n",
        "\n",
        "---\n",
        "\n",
        "Ahora haremos una suposición no estadística, basado en juico experto, de que en realidad el gasto promedio de los clientes era mayor a 28 dolares (utilizaremos un valor por ejemplo de 30 dolares = h1).\n",
        "\n",
        "Cuál sería la probabilidad de que en la distribución de medias muestrales de tamaño 32 de una población con media poblacional de 30 dolares nos encontremos con medias de menos a 29,076 dolares (Z critico). "
      ]
    },
    {
      "cell_type": "code",
      "metadata": {
        "colab": {
          "base_uri": "https://localhost:8080/"
        },
        "id": "UzAD3ZmrPMFA",
        "outputId": "00e5056c-4dea-4b71-a649-03398fd02fca"
      },
      "source": [
        "# aca vamos a calcular la probabilidad de que las medias muestrales de la poblacion Mu=30 (H1) sean menor a 29,076\n",
        "# Xbar - N(30, 3.7)    (asumimos normalidad)\n",
        "\n",
        "#H1\n",
        "Mu_h1= 30 \n",
        "x = x # 29,076 dolares\n",
        "\n",
        "Z1 = (x - Mu_h1)/ (sigma/ np.sqrt(n))\n",
        "print('Z1: ',Z1)\n",
        "\n",
        "#ahora calcular es probabilidad, esta corresponde al error tipo II\n",
        "beta = stats.norm.cdf(Z1)\n",
        "print('Beta: ', beta)\n",
        "\n",
        "#otra forma con stats\n",
        "beta_b = stats.norm(Mu_h1, sigma/np.sqrt(n)).cdf(x)\n",
        "print('Beta: ',beta_b)\n",
        "\n",
        "\n"
      ],
      "execution_count": 76,
      "outputs": [
        {
          "output_type": "stream",
          "text": [
            "Z1:  -1.4129054268281902\n",
            "Beta:  0.07884176662115255\n",
            "Beta:  0.07884176662115255\n"
          ],
          "name": "stdout"
        }
      ]
    },
    {
      "cell_type": "markdown",
      "metadata": {
        "id": "zZvzpCChRg4Y"
      },
      "source": [
        "Por tanto el error tipo II (Beta) con esta suposición (no sujeta de criterio estadístico)  de Mu= 30 dolares es de 0,0788.  \n",
        "La potencia de la prueba es de 0,9212 (1- beta).\n",
        "\n",
        "--\n",
        "\n",
        "Pudes probar: \n",
        "*  reduciendo el alpha a 0,01, con lo cual el beta aumentará de 0,0788 a 0,2322 \n",
        "*  aumentando el alpha a 0,10,  con lo cual el beta se reducirá de 0,0788 a 0,0378 \n",
        "\n",
        "*(manteniendo constante el tamaño muestra, sigma poblacion y el supuesto de H1)*.\n",
        "\n",
        "Adicional a lo anterior puedes probar haciendo ajustes con el tamaño de la muestra."
      ]
    },
    {
      "cell_type": "markdown",
      "metadata": {
        "id": "I-PBklVKcpeJ"
      },
      "source": [
        "Graficando las curvas de medias muestrales de H0 y H1."
      ]
    },
    {
      "cell_type": "code",
      "metadata": {
        "colab": {
          "base_uri": "https://localhost:8080/",
          "height": 327
        },
        "id": "8ceqM_0fVuNs",
        "outputId": "c9d5376e-513d-4f22-b767-c7aff4bf0bb1"
      },
      "source": [
        "#graficar H0 y H1\n",
        "#proyectar distribucion medias H0 con n=32\n",
        "medias_h0 = stats.norm(Mu_h0, sigma / np.sqrt(n))\n",
        "x_medias_h0 = np.linspace(medias_h0.ppf(0.01), medias_h0.ppf(0.99), 100)\n",
        "pdf_medias_h0 = medias_h0.pdf(x_medias_h0) #funcion densidad probabilidad\n",
        "\n",
        "#proyectar distribucion medias H1 con n=32\n",
        "medias_h1 = stats.norm(Mu_h1, sigma / np.sqrt(n))\n",
        "x_medias_h1 = np.linspace(medias_h1.ppf(0.01), medias_h1.ppf(0.99), 100)\n",
        "pdf_medias_h1 = medias_h1.pdf(x_medias_h1) #funcion densidad probabilidad\n",
        "\n",
        "\n",
        "\n",
        "plt.figure(figsize=(10, 5)) #tamaño grafico\n",
        "plt.plot(x_medias_h0, pdf_medias_h0,\"r\") #medias h0 fit\n",
        "plt.plot(x_medias_h1, pdf_medias_h1,\"b\", ) #medias h1 fit\n",
        "plt.vlines(ymin=0, ymax=0.6, x=x)#Z critico\n",
        "plt.legend(['H0','H1', 'Valor Critico'],bbox_to_anchor=(1.1,1.05))\n",
        "plt.show()\n"
      ],
      "execution_count": 77,
      "outputs": [
        {
          "output_type": "display_data",
          "data": {
            "image/png": "[encoded data removed]",
            "text/plain": [
              "<Figure size 720x360 with 1 Axes>"
            ]
          },
          "metadata": {
            "tags": [],
            "needs_background": "light"
          }
        }
      ]
    }
  ]
}