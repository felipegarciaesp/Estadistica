{
  "nbformat": 4,
  "nbformat_minor": 0,
  "metadata": {
    "colab": {
      "name": "Calculo de poder - Experimento 01.ipynb",
      "provenance": [],
      "authorship_tag": "ABX9TyOCaD1a3H/S6Gleu1zmdFa8",
      "include_colab_link": true
    },
    "kernelspec": {
      "name": "python3",
      "display_name": "Python 3"
    },
    "language_info": {
      "name": "python"
    }
  },
  "cells": [
    {
      "cell_type": "markdown",
      "metadata": {
        "id": "view-in-github",
        "colab_type": "text"
      },
      "source": [
        "<a href=\"https://colab.research.google.com/github/robertomoragad/Estadistica/blob/master/Calculo_de_poder_Experimento_01.ipynb\" target=\"_parent\"><img src=\"https://colab.research.google.com/assets/colab-badge.svg\" alt=\"Open In Colab\"/></a>"
      ]
    },
    {
      "cell_type": "code",
      "metadata": {
        "id": "kU_92al2QRT4"
      },
      "source": [
        "#Importamos librerias de la siguiente forma: \n",
        "import numpy as np # importando numpy\n",
        "from scipy import stats # importando scipy.stats\n",
        "import matplotlib.pyplot as plt #importando matplotlib\n",
        "import pandas as pd #pandas"
      ],
      "execution_count": 2,
      "outputs": []
    },
    {
      "cell_type": "markdown",
      "metadata": {
        "id": "zVitbDEyQYHW"
      },
      "source": [
        "**Cálculo del poder**\n",
        "\n",
        "En este ejemplo vamos a mostrar como se calcula el poder, imagenemos que nosotros trabajamos en una compañía que desarrolla un producto de marketing digital, y nuestra promesa de valor es ayudar a los clientes a incrementar el engagement con sus clientes. Para este fin pondremos en un prestigioso cliente nuestro producto estrella.\n",
        "\n",
        "Para evaluar el engagement nuestro prestigioso cliente mide la cantidad de minutos que pasan al día sus clientes en su plataforma, actualmente el cliente (con su actual modelo de servicio) exhibe un tiempo de actividad media de sus clientes por día igual a 200 minutos, con una desviación estandar de 35 minutos.\n",
        "\n",
        "Esta será nuestra hipotésis nula:  H0:  μ = 200 min\n",
        "\n",
        "Llevaremos a cabo un experimento para ver si nuestros producto produce un engagement mejor que el actual exhibido por nuestro cliente, pero nuestro cliente nos indica que solamente podemos realizar el tratamiento con un total de 50 de sus clientes, los que serán escogidos de forma aleatoria.\n",
        "\n",
        "Con base en lo anterior plantearemos las siguientes hipótesis a contrastar (1 cola):\n",
        "\n",
        "* H0 :  μ = 200 min.\n",
        "* H1 :  μ > 200 min.\n",
        "\n",
        "Vamos a presetear un valor alpha de 0.01 (error tipo I).\n",
        "\n",
        "\n",
        "En el siguiente procedimiento apoyados en python vamos a calcular el valor de Z crítico y su valor correspondiente en promedio de minutos.  El valor que obtendremos en esta operación corresponderá al promedio en minutos mínimo desde donde la media muestral será considera que cae en la zona de rechazo de la hipótesis nula.  En otras palabras, si la media que se obtenga con los 50 clientes del estudio supera este valor, estaremos rechazando la hipotesis nula. "
      ]
    },
    {
      "cell_type": "code",
      "metadata": {
        "colab": {
          "base_uri": "https://localhost:8080/"
        },
        "id": "WMByFu2fTKhk",
        "outputId": "31b153ac-0c03-47ba-b26a-661205ad165f"
      },
      "source": [
        "#Cargamos data línea base\n",
        "Mu = 200\n",
        "Sigma = 35\n",
        "\n",
        "#tamaño de muestra del tratamiento\n",
        "n = 50\n",
        "\n",
        "# 1) Definir hipotesis a contrastar (prueba unilateral - cola derecha)\n",
        "alpha = 0.01\n",
        "\n",
        "#H0:   Mu = 200\n",
        "#H1:   Mu >  200 \n",
        "\n",
        "\n",
        "# 2) buscar valor critico de Z\n",
        "Zcritico = stats.norm.ppf(1-alpha)# 1 cola\n",
        "print('Z critico: ', Zcritico)\n",
        "\n",
        "\n",
        "#3 ) calcular el valor en minutos correspondiente al Z critico\n",
        "valor_minutos_zcritico= stats.norm(Mu, Sigma/np.sqrt(n)).ppf(1-alpha)\n",
        "print(\"Valor media para Z critico: \", valor_minutos_zcritico)"
      ],
      "execution_count": 41,
      "outputs": [
        {
          "output_type": "stream",
          "text": [
            "Z critico:  2.3263478740408408\n",
            "Valor media para Z critico:  211.5148344999323\n"
          ],
          "name": "stdout"
        }
      ]
    },
    {
      "cell_type": "code",
      "metadata": {
        "colab": {
          "base_uri": "https://localhost:8080/",
          "height": 327
        },
        "id": "KppkLVMSUVQC",
        "outputId": "3371d234-57f6-48b6-dcc4-d9625526358f"
      },
      "source": [
        "#visualizando la distribucion de las medias muestrales y limites\n",
        "\n",
        "#proyectar distribucion H0\n",
        "muestral_z = stats.norm(Mu, Sigma / np.sqrt(n))\n",
        "x_z = np.linspace(muestral_z.ppf(0.0001), muestral_z.ppf(0.9999), 100)\n",
        "pdf_z = muestral_z.pdf(x_z) #funcion densidad probabilidad\n",
        "\n",
        "plt.figure(figsize=(10, 5)) #tamaño grafico\n",
        "plt.plot(x_z, pdf_z,\"b\") #medias H0\n",
        "plt.vlines(ymin=0, ymax=0.1, x=valor_minutos_zcritico,  colors='r')#valor_libra_zcritico\n",
        "plt.legend(['H0', 'p99','xbar'],bbox_to_anchor=(1.1,1.05))\n",
        "plt.show()"
      ],
      "execution_count": 42,
      "outputs": [
        {
          "output_type": "display_data",
          "data": {
            "image/png": "[encoded data removed]",
            "text/plain": [
              "<Figure size 720x360 with 1 Axes>"
            ]
          },
          "metadata": {
            "tags": [],
            "needs_background": "light"
          }
        }
      ]
    },
    {
      "cell_type": "markdown",
      "metadata": {
        "id": "A6qyK385rS28"
      },
      "source": [
        "De acuerdo a conversaciones con el cliente y expertos en la materia, se ha definido que si nuestro producto mejora el engagement en al menos 15 minutos, esto será considerado como un efecto de negocio relevante.  Por tanto el tamaño del efecto que utilizaremos para proceder a calcular la Potencia será de 15 minutos.\n",
        "\n",
        "Tamaño del efecto = 15 minutos.\n",
        "\n",
        "Ahora tendremos las siguientes hipótesis:\n",
        "\n",
        "* H0:  μ = 200 min\n",
        "* H1:  μ = 215 min\n",
        "\n",
        "\n",
        "Para calcular la Potencia de la prueba, primero procederemos a calcular el Beta (error tipo II), lo haremos con python en el siguiente procedimiento:\n"
      ]
    },
    {
      "cell_type": "code",
      "metadata": {
        "colab": {
          "base_uri": "https://localhost:8080/"
        },
        "id": "ioN4oOq3uE3m",
        "outputId": "88f7a49e-a68b-4818-b7ff-e913c11910db"
      },
      "source": [
        "efecto = 15 #tamaño del efecto\n",
        "H1= Mu + efecto\n",
        "\n",
        "## Calcular la potencia de la prueba (1 - beta)\n",
        "\n",
        "#calcular el valor en minutos correspondiente al Z critico\n",
        "valor_minutos_zcritico= stats.norm(Mu, Sigma/np.sqrt(n)).ppf(1-alpha)\n",
        "print(\"Valor media para Z critico: \", valor_minutos_zcritico)\n",
        "\n",
        "#Calcular Beta (error tipo II)\n",
        "#forma simple con Scipy\n",
        "beta = stats.norm(H1, Sigma/np.sqrt(n)).cdf(valor_minutos_zcritico)\n",
        "print('Beta: ',beta)\n",
        "\n",
        "#Calcular Potencia estadística (1- beta)\n",
        "print('Potencia de la prueba: ', 1-beta)"
      ],
      "execution_count": 33,
      "outputs": [
        {
          "output_type": "stream",
          "text": [
            "Valor media para Z critico:  211.5148344999323\n",
            "Beta:  0.2406822113563845\n",
            "Potencia de la prueba:  0.7593177886436155\n"
          ],
          "name": "stdout"
        }
      ]
    },
    {
      "cell_type": "code",
      "metadata": {
        "colab": {
          "base_uri": "https://localhost:8080/",
          "height": 327
        },
        "id": "YPxGEmN2xtNc",
        "outputId": "ebd154ef-f860-4774-e7b9-694450542296"
      },
      "source": [
        "#visualizando\n",
        "#proyectar distribucion H0\n",
        "h0_z = stats.norm(Mu, Sigma / np.sqrt(n))\n",
        "x0_z = np.linspace(h0_z.ppf(0.0001), h0_z.ppf(0.9999), 100)\n",
        "pdf0_z = h0_z.pdf(x0_z) #funcion densidad probabilidad\n",
        "\n",
        "#proyectar distribucion H1\n",
        "h1_z = stats.norm(H1, Sigma / np.sqrt(n))\n",
        "x1_z = np.linspace(h1_z.ppf(0.0001), h1_z.ppf(0.9999), 100)\n",
        "pdf1_z = h1_z.pdf(x1_z) #funcion densidad probabilidad\n",
        "\n",
        "plt.figure(figsize=(10, 5)) #tamaño grafico\n",
        "plt.plot(x0_z, pdf0_z,\"b\") #medias H0\n",
        "plt.plot(x1_z, pdf1_z,\"r\") #medias H1\n",
        "plt.vlines(ymin=0, ymax=0.08, x=valor_minutos_zcritico,  colors='y')#valor_minutos_zcritico\n",
        "plt.legend(['H0', 'H1','p99'],bbox_to_anchor=(1.1,1.05))\n",
        "plt.show()"
      ],
      "execution_count": 43,
      "outputs": [
        {
          "output_type": "display_data",
          "data": {
            "image/png": "[encoded data removed]",
            "text/plain": [
              "<Figure size 720x360 with 1 Axes>"
            ]
          },
          "metadata": {
            "tags": [],
            "needs_background": "light"
          }
        }
      ]
    },
    {
      "cell_type": "code",
      "metadata": {
        "colab": {
          "base_uri": "https://localhost:8080/"
        },
        "id": "bEia6aM0yrjU",
        "outputId": "4d7f202a-b0fd-4665-90d7-06a933c9c1ad"
      },
      "source": [
        "from statsmodels.stats.power import tt_solve_power\n",
        "\n",
        "tt_solve_power(effect_size=efecto/Sigma, nobs=None, alpha=alpha, power=0.90, alternative='larger')"
      ],
      "execution_count": 45,
      "outputs": [
        {
          "output_type": "execute_result",
          "data": {
            "text/plain": [
              "73.60661303694864"
            ]
          },
          "metadata": {
            "tags": []
          },
          "execution_count": 45
        }
      ]
    },
    {
      "cell_type": "code",
      "metadata": {
        "colab": {
          "base_uri": "https://localhost:8080/"
        },
        "id": "uPM1aR5y0mzW",
        "outputId": "4375fcb7-6fa0-42fb-ae8c-1dafd9c32140"
      },
      "source": [
        "from statsmodels.stats.power import tt_solve_power\n",
        "\n",
        "tt_solve_power(effect_size=16/Sigma, nobs=40, alpha=alpha, power=None, alternative='larger')"
      ],
      "execution_count": 46,
      "outputs": [
        {
          "output_type": "execute_result",
          "data": {
            "text/plain": [
              "0.6787087534467986"
            ]
          },
          "metadata": {
            "tags": []
          },
          "execution_count": 46
        }
      ]
    },
    {
      "cell_type": "code",
      "metadata": {
        "colab": {
          "base_uri": "https://localhost:8080/"
        },
        "id": "o8ZscprVwsxS",
        "outputId": "7f7c50fb-1bfa-4265-b3ad-f8b1cd99879a"
      },
      "source": [
        "#estimar tamaño de muestra con analisis de Potencia\n",
        "from statsmodels.stats.power import TTestIndPower\n",
        "\n",
        "\n",
        "#definir parametros para el analisis\n",
        "sigma = 24\n",
        "efecto_bruto = 10 #criterio relevancia experto\n",
        "tamano_efecto = (efecto_bruto / sigma) #efecto estandarizado d Cohen\n",
        "print('Tamaño del efecto d Cohen: ', tamano_efecto)\n",
        "alpha = 0.01\n",
        "potencia = 0.732348\n",
        "\n",
        "#ejecuta analisis\n",
        "analysis = TTestIndPower()\n",
        "result = analysis.solve_power(tamano_efecto, power=potencia, nobs1=None, ratio=1.0, alpha=alpha, alternative='larger')\n",
        "print('Sample Size: %.3f' % result)"
      ],
      "execution_count": 35,
      "outputs": [
        {
          "output_type": "stream",
          "text": [
            "Tamaño del efecto d Cohen:  0.4166666666666667\n",
            "Sample Size: 101.364\n"
          ],
          "name": "stdout"
        }
      ]
    }
  ]
}