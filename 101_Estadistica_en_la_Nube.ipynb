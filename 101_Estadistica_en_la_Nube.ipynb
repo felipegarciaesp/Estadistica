{
  "nbformat": 4,
  "nbformat_minor": 0,
  "metadata": {
    "colab": {
      "name": "101 - Estadistica en la Nube.ipynb",
      "provenance": [],
      "collapsed_sections": [
        "3b-kmvt4qd0m",
        "3mlbO5ZLqorB",
        "gqYM2Ffhmun1",
        "Q8-tANv0IIvr",
        "xPW0EFuFYcFG",
        "b6Y_IwEQjF9B",
        "cMM7tF_QSv7B",
        "OqrFWULvmbPP",
        "mIRAXpC6sEUr",
        "Jw_TLk41yCZE",
        "dHIEqB1lsVfu",
        "bhIiPHQardbe",
        "A5Lv-kPAxpqT",
        "BlguPFHsTF69",
        "xApcUsRErtqS"
      ],
      "toc_visible": true,
      "mount_file_id": "1SVzJPkQXh1k0Wr0j74y57JDmkN2OK4t2",
      "authorship_tag": "ABX9TyPIM+sX5Xs2kZyx0aIxyjIg",
      "include_colab_link": true
    },
    "kernelspec": {
      "name": "python3",
      "display_name": "Python 3"
    },
    "accelerator": "TPU"
  },
  "cells": [
    {
      "cell_type": "markdown",
      "metadata": {
        "id": "view-in-github",
        "colab_type": "text"
      },
      "source": [
        "<a href=\"https://colab.research.google.com/github/robertomoragad/Estadistica/blob/master/101_Estadistica_en_la_Nube.ipynb\" target=\"_parent\"><img src=\"https://colab.research.google.com/assets/colab-badge.svg\" alt=\"Open In Colab\"/></a>"
      ]
    },
    {
      "cell_type": "markdown",
      "metadata": {
        "id": "3b-kmvt4qd0m",
        "colab_type": "text"
      },
      "source": [
        "#Workshop: **Estadística en la Nube**\n",
        "autor: Roberto Moraga Diaz - Agile Coach \n",
        "[perfil lkdn](https://www.linkedin.com/in/robertomoragad/)\n",
        "\n",
        "**Objetivo:** reforzar conocimientos de estadísticas aplicadas al análisis de datos, aplicando herramientas de programación en la nube (Python y Google Colab)"
      ]
    },
    {
      "cell_type": "code",
      "metadata": {
        "id": "3T9eJkmrpb0X",
        "colab_type": "code",
        "colab": {
          "base_uri": "https://localhost:8080/",
          "height": 0
        },
        "outputId": "c74d5f18-82a2-4602-cbe4-4f1bd5052e47"
      },
      "source": [
        "name= 'Roberto Moraga'\n",
        "role= 'Agile Coach'\n",
        "organization= 'TCS'\n",
        "Whatsapp= '+569 76179935'\n",
        "\n",
        "print('hola me llamo ', name, ' y soy ', role)\n",
        "print(' te invito a este webinar, conectemos en mi Wsp: ', Whatsapp)\n"
      ],
      "execution_count": 2,
      "outputs": [
        {
          "output_type": "stream",
          "text": [
            "hola me llamo  Roberto Moraga  y soy  Agile Coach\n",
            " te invito a este webinar, conectemos en mi Wsp:  +569 76179935\n"
          ],
          "name": "stdout"
        }
      ]
    },
    {
      "cell_type": "markdown",
      "metadata": {
        "id": "3mlbO5ZLqorB",
        "colab_type": "text"
      },
      "source": [
        "# **A) Plataforma**\n"
      ]
    },
    {
      "cell_type": "markdown",
      "metadata": {
        "id": "gqYM2Ffhmun1",
        "colab_type": "text"
      },
      "source": [
        "##1) Programacion en Colab\n",
        "Crear notebook en Colab, asignar recursos, ajustar TPU.\n",
        "\n",
        "Aplicaremos programación python en un notebook de Google Colab. Python es un lenguaje muy sencillo, veamos un ejemplo:"
      ]
    },
    {
      "cell_type": "code",
      "metadata": {
        "id": "gMSmUJUPqnJV",
        "colab_type": "code",
        "colab": {
          "base_uri": "https://localhost:8080/",
          "height": 0
        },
        "outputId": "a08b1379-4e4b-4104-ad44-acb327e87127"
      },
      "source": [
        "#crear un hola mundo\n",
        "saludo = (\"hola mundo\")\n",
        "nombre = ('Roberto')\n",
        "\n",
        "print (saludo, nombre)\n"
      ],
      "execution_count": 75,
      "outputs": [
        {
          "output_type": "stream",
          "text": [
            "hola mundo Roberto\n"
          ],
          "name": "stdout"
        }
      ]
    },
    {
      "cell_type": "code",
      "metadata": {
        "id": "ja_nFVcpTW3z",
        "colab_type": "code",
        "colab": {
          "base_uri": "https://localhost:8080/",
          "height": 0
        },
        "outputId": "be125a2b-88a8-4234-b1e8-5a9c6d1db1dc"
      },
      "source": [
        "#crear funcion que duplique una cantidad\n",
        "s = int(input('ingresa una cantidad porfavor: '))\n",
        "t=2\n",
        "resultado= (s*t)\n",
        "print('el doble de ', s, 'es la cantidad de: ', resultado)\n"
      ],
      "execution_count": 3,
      "outputs": [
        {
          "output_type": "stream",
          "text": [
            "ingresa una cantidad porfavor: 20\n",
            "el doble de  20 es la cantidad de:  40\n"
          ],
          "name": "stdout"
        }
      ]
    },
    {
      "cell_type": "code",
      "metadata": {
        "id": "NfwO0qcGFKCS",
        "colab_type": "code",
        "colab": {
          "base_uri": "https://localhost:8080/",
          "height": 34
        },
        "outputId": "49b2ac8e-cf5a-4f93-bee1-06cfe78ed5e8"
      },
      "source": [
        "#crear funcion para calular elevado al cuadrado\n",
        "def eleva2(x):\n",
        "  return (x*x)\n",
        "\n",
        "x=8\n",
        "print(x, \" elevado al cuadrado es \", eleva2(x))"
      ],
      "execution_count": 5,
      "outputs": [
        {
          "output_type": "stream",
          "text": [
            "8  elevado al cuadrado es  64\n"
          ],
          "name": "stdout"
        }
      ]
    },
    {
      "cell_type": "markdown",
      "metadata": {
        "id": "Q8-tANv0IIvr",
        "colab_type": "text"
      },
      "source": [
        "##2) Librerias\n",
        "Ahora vamos a cargar las librerias comunmente utilizadas en estadísticas en python"
      ]
    },
    {
      "cell_type": "code",
      "metadata": {
        "id": "-aklWD4tIUjn",
        "colab_type": "code",
        "colab": {}
      },
      "source": [
        "#Importamos...\n",
        "import numpy as np # importando numpy\n",
        "from scipy import stats # importando scipy.stats\n",
        "import pandas as pd # importando pandas\n",
        "import matplotlib.pyplot as plt #importando matplotlib\n"
      ],
      "execution_count": 6,
      "outputs": []
    },
    {
      "cell_type": "code",
      "metadata": {
        "id": "-97wHOraIsN9",
        "colab_type": "code",
        "colab": {
          "base_uri": "https://localhost:8080/",
          "height": 52
        },
        "outputId": "2dd3a350-5bea-4212-ce47-3ad040b758d6"
      },
      "source": [
        "#ahora vamos a probar Numpy, crearemos un conjunto de datos de satisfaccion de clientes (12 casos, con escala de 1 a 10)\n",
        "satisfaccion= (2, 5, 3, 4, 2, 1, 4, 4, 5, 7, 6, 8)\n",
        "\n",
        "#ahora calular la media y la cantidad de datos usando numpy (np)\n",
        "media = np.mean(satisfaccion)\n",
        "cantidad = np.size(satisfaccion)\n",
        "\n",
        "#ahora vamos a imprimir la media y cantidad de datos\n",
        "print(\"media: \", media)\n",
        "print(\"cantidad: \", cantidad)"
      ],
      "execution_count": 7,
      "outputs": [
        {
          "output_type": "stream",
          "text": [
            "media:  4.25\n",
            "cantidad:  12\n"
          ],
          "name": "stdout"
        }
      ]
    },
    {
      "cell_type": "code",
      "metadata": {
        "id": "_ugQRJKqjA-q",
        "colab_type": "code",
        "colab": {
          "base_uri": "https://localhost:8080/",
          "height": 281
        },
        "outputId": "ee7825da-5546-4590-e28f-07dae3c08306"
      },
      "source": [
        "#ahora vamos a probar Matplotlib creando 1 grafico de histograma\n",
        "#un histograma simple\n",
        "\n",
        "plt.hist(satisfaccion, bins=15)\n",
        "plt.title(\"Histogram\")\n",
        "plt.show()"
      ],
      "execution_count": 82,
      "outputs": [
        {
          "output_type": "display_data",
          "data": {
            "image/png": "[encoded data removed]",
            "text/plain": [
              "<Figure size 432x288 with 1 Axes>"
            ]
          },
          "metadata": {
            "tags": [],
            "needs_background": "light"
          }
        }
      ]
    },
    {
      "cell_type": "code",
      "metadata": {
        "id": "uAL6v2UaEoxg",
        "colab_type": "code",
        "colab": {
          "base_uri": "https://localhost:8080/",
          "height": 281
        },
        "outputId": "037b35c5-c3d6-49be-d711-b69f86a8fa61"
      },
      "source": [
        "#ahora vamos a crear un run chart / gráfico de línea\n",
        "\n",
        "plt.plot(satisfaccion)\n",
        "plt.title(\"grafico de linea\")\n",
        "plt.show()\n",
        "\n",
        "\n",
        "# si quieres crear un id correlativo de las encuestas (12 encuestas)\n",
        "#x = np.linspace(1,cantidad,cantidad) \n",
        "#plt.plot(x, satisfaccion)\n",
        "#plt.title(\"Raw Data\")\n",
        "#plt.show()\n",
        "\n",
        "#otra forma es crear un programa\n",
        "#x1 = [x1 for x1 in range(len(satisfaccion))]\n"
      ],
      "execution_count": 8,
      "outputs": [
        {
          "output_type": "display_data",
          "data": {
            "image/png": "[encoded data removed]",
            "text/plain": [
              "<Figure size 432x288 with 1 Axes>"
            ]
          },
          "metadata": {
            "tags": [],
            "needs_background": "light"
          }
        }
      ]
    },
    {
      "cell_type": "markdown",
      "metadata": {
        "id": "h2FCnZv68EIE",
        "colab_type": "text"
      },
      "source": [
        "**Reflexión:**\n",
        "\n",
        "qué vemos en los gráficos?\n",
        "\n",
        "*Nota: más adelante veremos en detalle las visualizaciones*\n"
      ]
    },
    {
      "cell_type": "markdown",
      "metadata": {
        "id": "ss3JDkNrmoRy",
        "colab_type": "text"
      },
      "source": [
        "#B) **Estadistica**"
      ]
    },
    {
      "cell_type": "markdown",
      "metadata": {
        "id": "xPW0EFuFYcFG",
        "colab_type": "text"
      },
      "source": [
        "## 1) Población\n",
        "Población:\n",
        "Colección completa de todos los individuos de interés para el investigador.\n",
        "\n",
        "A continuación crearemos una población, compuesta por personas, donde estudiaremos una característica común de ellos. Esta variable es el peso, la que exhibe una distribución Normal con media $\\mu = 70$ y sigma $\\sigma = 5$\n",
        "\n",
        "Las distribuciones normales se aplican a variables continuas, donde la gráfica de su función densidad de proabilidad tiene una forma acampanada y simétrica. Representan más del 50% de los fenomenos industriales estudiados. Sin embargo, hay otras distribuciones que estudiaremos más adelante."
      ]
    },
    {
      "cell_type": "code",
      "metadata": {
        "id": "LI931SjuYlOM",
        "colab_type": "code",
        "colab": {
          "base_uri": "https://localhost:8080/",
          "height": 318
        },
        "outputId": "60a5ea28-f664-4cb2-a478-b114e5b36c76"
      },
      "source": [
        "# Creamos la población de 100 personas utilizando los parámetros comentados\n",
        "media = 70\n",
        "sigma = 5.0\n",
        "size = 100\n",
        "\n",
        "poblacion = np.random.RandomState(seed=2).normal(media, sigma, size)\n",
        "print(poblacion)\n",
        "\n",
        "#Si queremos dejar fijo datos creados, usar semilla:\n",
        "#RandomState(seed=2)"
      ],
      "execution_count": 11,
      "outputs": [
        {
          "output_type": "stream",
          "text": [
            "[67.91621076 69.71866586 59.31901952 78.20135404 61.03282207 65.79126317\n",
            " 72.51440709 63.77355957 64.71023891 65.45496193 72.75727022 81.46104006\n",
            " 70.20769696 64.41037277 72.6952916  67.0192015  69.90434752 75.8750061\n",
            " 66.26064525 70.04512625 65.60946053 69.21782915 71.28285226 65.05610476\n",
            " 68.30589017 68.81907985 66.81172494 64.06193857 62.89391386 69.23252402\n",
            " 68.6547152  81.15683394 57.82616212 70.56363252 71.85222268 76.79816931\n",
            " 72.50928603 65.77893148 70.00004881 72.71176286 68.43245902 73.85505869\n",
            " 60.65954673 78.65592333 77.33839005 68.32161331 73.0567039  70.23985296\n",
            " 65.85432355 70.43855109 75.00182943 68.09453741 68.12165288 69.62764619\n",
            " 72.16748165 76.39189615 66.82660347 72.54198121 71.08058003 60.70693807\n",
            " 67.90341759 69.33835551 69.8021488  71.63001717 59.79838476 70.23127762\n",
            " 66.61162211 62.80280487 72.62148215 73.67639788 66.73374866 74.21228141\n",
            " 68.09241759 70.33244505 64.50630527 77.92243528 56.70275272 69.54273689\n",
            " 73.47559803 59.83266727 69.05265368 69.61390667 74.12351503 76.2410646\n",
            " 67.98053865 63.07740667 76.83617712 76.08942817 67.68997326 71.75444247\n",
            " 71.90933117 72.83137721 71.02103989 77.03348121 61.31020248 75.20411977\n",
            " 71.90235985 68.91432366 75.86765749 58.28198405]\n"
          ],
          "name": "stdout"
        }
      ]
    },
    {
      "cell_type": "markdown",
      "metadata": {
        "id": "8qLl1M8YYkhZ",
        "colab_type": "text"
      },
      "source": [
        "Otra distribución puede ser la **Distribución Uniforme**, por ejemplo la aplicaremos para simular que la edad de una población de personas sigue este tipo de distribución"
      ]
    },
    {
      "cell_type": "code",
      "metadata": {
        "id": "4YXM0ZdOb6O8",
        "colab_type": "code",
        "colab": {
          "base_uri": "https://localhost:8080/",
          "height": 176
        },
        "outputId": "2870b9f9-8a00-458f-bc48-138eff44c6cc"
      },
      "source": [
        "#Para distribución uniforme continua es\n",
        "min= 22\n",
        "max= 78\n",
        "size= 50\n",
        "\n",
        "edad = np.random.uniform(min, max, size)\n",
        "print(edad)\n"
      ],
      "execution_count": 87,
      "outputs": [
        {
          "output_type": "stream",
          "text": [
            "[43.2561135  24.71765503 64.78837491 24.84318456 64.07097084 65.00178782\n",
            " 52.74582602 36.73434116 43.14809192 40.9695752  23.84688003 38.97666495\n",
            " 23.84297999 33.13181238 44.47448246 55.26562702 48.26857835 22.4209776\n",
            " 57.96975992 46.58616298 24.74403522 28.3364714  67.62380447 42.65279409\n",
            " 33.28465143 69.81488046 71.35721602 74.86401143 65.00253534 56.89434935\n",
            " 24.84528032 77.82398388 48.56781426 61.07522356 37.23957027 63.84341249\n",
            " 64.15802223 27.21136134 27.32523922 42.39958674 49.24897011 50.56508369\n",
            " 42.84252795 74.352788   27.13980751 56.30645612 24.38113785 36.2621185\n",
            " 64.45080099 47.3383242 ]\n"
          ],
          "name": "stdout"
        }
      ]
    },
    {
      "cell_type": "code",
      "metadata": {
        "id": "q9Ilts3bTLcH",
        "colab_type": "code",
        "colab": {
          "base_uri": "https://localhost:8080/",
          "height": 70
        },
        "outputId": "e0f80121-d5bc-4a25-b384-6103798a1305"
      },
      "source": [
        "#Si queremos una distribucion uniforme discreta\n",
        "\n",
        "edad2 = np.random.RandomState(seed=1).randint(min, max, size)\n",
        "print(' edad discreta: ', edad2)"
      ],
      "execution_count": 24,
      "outputs": [
        {
          "output_type": "stream",
          "text": [
            " edad discreta:  [59 65 34 30 31 33 27 37 22 38 23 34 29 67 28 47 72 42 59 40 42 33 64 50\n",
            " 51 36 72 26 45 45 63 71 77 52 54 44 35 63 31 29 44 23 22 39 30 46 35 73\n",
            " 69 64]\n"
          ],
          "name": "stdout"
        }
      ]
    },
    {
      "cell_type": "markdown",
      "metadata": {
        "id": "b6Y_IwEQjF9B",
        "colab_type": "text"
      },
      "source": [
        "## 2) Muestra\n",
        "Subconjunto de la población, y que es representativa de esta.\n",
        "Es importante escoger la muestra en forma aleatoria (al azar), para que sea representativa y en consecuencia se puedan obtener conclusiones más a fines acerca de las características de la población\n"
      ]
    },
    {
      "cell_type": "code",
      "metadata": {
        "id": "hBqB06Voj-3N",
        "colab_type": "code",
        "colab": {
          "base_uri": "https://localhost:8080/",
          "height": 34
        },
        "outputId": "2d003cb4-b78f-4d6c-c941-cf22b62d68aa"
      },
      "source": [
        "# 1) Haremos un muestreo de la población creada anteriormente de tamaño =4. Tomaremos los cuatro últimos elementos de la población\n",
        "muestra1 = poblacion[96:]\n",
        "print(muestra1)"
      ],
      "execution_count": 12,
      "outputs": [
        {
          "output_type": "stream",
          "text": [
            "[71.90235985 68.91432366 75.86765749 58.28198405]\n"
          ],
          "name": "stdout"
        }
      ]
    },
    {
      "cell_type": "code",
      "metadata": {
        "id": "kihTN7GMkV60",
        "colab_type": "code",
        "colab": {
          "base_uri": "https://localhost:8080/",
          "height": 52
        },
        "outputId": "b0d3ad98-ac43-4bd2-c40f-56331dea17e3"
      },
      "source": [
        "# 2) Haremos un muestreo de la población creada anteriormente de tamaño =10. Tomaremos los diez primeros elementos de la población\n",
        "muestra2 = poblacion[0:10]\n",
        "print(muestra2)"
      ],
      "execution_count": 13,
      "outputs": [
        {
          "output_type": "stream",
          "text": [
            "[67.91621076 69.71866586 59.31901952 78.20135404 61.03282207 65.79126317\n",
            " 72.51440709 63.77355957 64.71023891 65.45496193]\n"
          ],
          "name": "stdout"
        }
      ]
    },
    {
      "cell_type": "code",
      "metadata": {
        "id": "1LKGthDslAj1",
        "colab_type": "code",
        "colab": {
          "base_uri": "https://localhost:8080/",
          "height": 105
        },
        "outputId": "16a16027-1ad0-4f24-a36e-88a622fcf428"
      },
      "source": [
        "# 3) Haremos un muestreo de la población creada anteriormente de tamaño =30. Tomaremos elementos de la población de forma \"ALEATORIA\"\n",
        "muestra3 = np.random.RandomState(seed=1).choice(poblacion, 30)\n",
        "print(muestra3)"
      ],
      "execution_count": 14,
      "outputs": [
        {
          "output_type": "stream",
          "text": [
            "[65.77893148 70.20769696 68.09241759 65.45496193 77.92243528 65.79126317\n",
            " 59.83266727 59.79838476 69.90434752 69.71866586 56.70275272 74.21228141\n",
            " 72.51440709 68.81907985 75.00182943 65.60946053 66.26064525 67.98053865\n",
            " 81.46104006 62.89391386 69.23252402 72.6952916  75.00182943 72.62148215\n",
            " 76.08942817 76.08942817 61.31020248 71.90235985 76.83617712 64.41037277]\n"
          ],
          "name": "stdout"
        }
      ]
    },
    {
      "cell_type": "markdown",
      "metadata": {
        "id": "Wn1LS70-lwWN",
        "colab_type": "text"
      },
      "source": [
        "El anterior es un estilo de muestreo llamado \"aleatorio simple\", el cual, junto con su tamaño, aseguran representatividad, garantizando así que la muestra sea una imagen confiable de la población.\n",
        "\n",
        "Existe otro llamado \"Muestreo Estratìficado aleatorio simple\": buscar y explicar sus características.\n",
        "\n",
        "**Conclusión**\n",
        "Un buen muestreo aleatorio evita el sesgo muestral, el cual es la tendencia a favorecer la selección de determinados individuos de la población.\n",
        "\n",
        "\n",
        "**Reflexión**\n",
        "¿Por qué muestrear?\n",
        "¿Por qué no usar la población completa (el censo) si es que disponemos de él?"
      ]
    },
    {
      "cell_type": "markdown",
      "metadata": {
        "id": "cMM7tF_QSv7B",
        "colab_type": "text"
      },
      "source": [
        "## 3) Variables\n",
        "\n",
        "Todo estudio estadístico debe considerar diferentes tipos de variables:\n",
        "\n",
        "* **Variables cualitativas:** Relacionadas con características no numéricas de un individuo (por ejemplo: atributos de una persona, nacionalidad, color de la piel, sexo).\n",
        "  * Nominal (no se pueden ordenar)\n",
        "  * Ordinal (se pueden ordenar por algún criterio)\n",
        "\n",
        "* **Variables cuantitativas:** Relacionadas con características numéricas del individuo por ejemplo: edad, precio de un producto, ingresos anuales. Las variables cuantitativas se dividen en:\n",
        "\n",
        " * Discretas: aquellas que pueden tomar solo algunos valores en un intervalo y no valores intermedio, ejemplo: edad, número de hermanos que puede ser 1, 2, 3....,etc, pero, por ejemplo, nunca podrá ser 3,45, y \n",
        "  * Continuas: aquellas que pueden tomar cualquier valor en un intervalo real, ejemplo: alturas, la velocidad de un vehículo puede ser 80,3 km/h, 94,57 km/h...etc.).\n"
      ]
    },
    {
      "cell_type": "code",
      "metadata": {
        "id": "4eTJrNxFLvWU",
        "colab_type": "code",
        "colab": {
          "base_uri": "https://localhost:8080/",
          "height": 251
        },
        "outputId": "c82cb9ed-3243-4614-e319-b0a224ae7447"
      },
      "source": [
        "#crear un tabla resumen de datos cualitativos, por ejemplo asociado a la probabilidad de recomendar de 90 personas encuestadas\n",
        "\n",
        "personas = [20,10,60]\n",
        "NPS = [\"detractor\",\"neutro\",\"promotor\"]\n",
        "\n",
        "\n",
        "plt.pie(personas, labels=NPS, autopct=\"%0.3f %%\")\n",
        "plt.axis(\"equal\")\n",
        "plt.show()\n"
      ],
      "execution_count": 15,
      "outputs": [
        {
          "output_type": "display_data",
          "data": {
            "image/png": "[encoded data removed]",
            "text/plain": [
              "<Figure size 432x288 with 1 Axes>"
            ]
          },
          "metadata": {
            "tags": []
          }
        }
      ]
    },
    {
      "cell_type": "markdown",
      "metadata": {
        "id": "OqrFWULvmbPP",
        "colab_type": "text"
      },
      "source": [
        "##4) Parámetros\n"
      ]
    },
    {
      "cell_type": "markdown",
      "metadata": {
        "id": "xxawJ_VAnffc",
        "colab_type": "text"
      },
      "source": [
        "**Parámetro:**  corresponde a un valor que caracteriza un aspecto de la población. Ej.: proporción poblacional, media poblacional, mediana poblacional, desviación estándar poblacional, etc.\n",
        "\n",
        "Procedamos a analizar los parámetros de la población creada inicialmente, llamada \"poblacion\"."
      ]
    },
    {
      "cell_type": "code",
      "metadata": {
        "id": "hCjdsb-In2Lb",
        "colab_type": "code",
        "colab": {
          "base_uri": "https://localhost:8080/",
          "height": 87
        },
        "outputId": "e6baa17a-cdf1-4d86-a4c5-216a7562bc21"
      },
      "source": [
        "#calcular la media, mediana y la desviacion estandar\n",
        "N_pob = np.size(poblacion)\n",
        "media_pob = np.mean(poblacion)\n",
        "mediana_pob = np.median(poblacion)\n",
        "desv_pob= np.std(poblacion)\n",
        "\n",
        "print(\"tamaño: \", N_pob)\n",
        "print(\"media: \", media_pob)\n",
        "print(\"mediana: \", mediana_pob)\n",
        "print(\"desv. std: \", desv_pob)\n"
      ],
      "execution_count": 16,
      "outputs": [
        {
          "output_type": "stream",
          "text": [
            "tamaño:  100\n",
            "media:  69.48129433058702\n",
            "mediana:  69.67315602469922\n",
            "desv. std:  5.185179052849423\n"
          ],
          "name": "stdout"
        }
      ]
    },
    {
      "cell_type": "code",
      "metadata": {
        "id": "aZu04JUZryd0",
        "colab_type": "code",
        "colab": {}
      },
      "source": [
        "#Ahora calular mismos parámetros anteriores para la población a la cual le creamos la\"Edad\"\n",
        "\n"
      ],
      "execution_count": null,
      "outputs": []
    },
    {
      "cell_type": "markdown",
      "metadata": {
        "id": "mIRAXpC6sEUr",
        "colab_type": "text"
      },
      "source": [
        "## 5) Estadísticos\n",
        "\n",
        "Estadístico:  Medida descriptiva de la muestra que se utiliza para estimar al respectivo parámetro poblacional. \n",
        "El estadístico es básicamente lo mismo que el parámetro poblacional, pero se diferencia en que se calcula a partir de la muestra y no de la población, teniendo consigo un error (el cual se minimiza si la muestra es aleatoria y suficientemente grande).\n",
        "\n",
        "Ejemplos de estadísticos: media muestral, mediana muestral, moda muestral, desv. std muestral... proporción muestral"
      ]
    },
    {
      "cell_type": "code",
      "metadata": {
        "id": "WnCkIE41shBX",
        "colab_type": "code",
        "colab": {
          "base_uri": "https://localhost:8080/",
          "height": 87
        },
        "outputId": "fdb2fdf8-84f4-4f72-d6f0-a548523d8099"
      },
      "source": [
        "# Calculemos el Estadístico \"Media muestral\" y \"Desv std muestral\" de la muestra aleatoria llamada \"muestra3\"\n",
        "media_muestra3 = np.mean(muestra3)\n",
        "desv_muestra3 = np.std(muestra3)\n",
        "\n",
        "print(\"media muestral: \", media_muestra3)\n",
        "print(\"desv. std muestral: \", desv_muestra3)\n",
        "\n",
        "# La desviación estándar para muestras se denomina \"desviación estándar insesgada\" ya que se calcula dividiendo por (n - 1)\n",
        "print(\"desv. std muestral insesgada: \", desv_muestra3 * ((len(muestra3))**(1/2)/(len(muestra3)-1)**(1/2)))\n",
        "\n",
        "#la forma simple con numpy (n-1 grados de libertad):\n",
        "otra = np.std(muestra3, ddof=(1))\n",
        "print (otra)"
      ],
      "execution_count": 17,
      "outputs": [
        {
          "output_type": "stream",
          "text": [
            "media muestral:  69.33822721475356\n",
            "desv. std muestral:  5.872344678405996\n",
            "desv. std muestral insesgada:  5.972733910663487\n",
            "5.972733910663486\n"
          ],
          "name": "stdout"
        }
      ]
    },
    {
      "cell_type": "markdown",
      "metadata": {
        "id": "Jw_TLk41yCZE",
        "colab_type": "text"
      },
      "source": [
        "## 6) Error muestral\n",
        "El error muestral: \n",
        "En estadística, error muestral o error de estimación es el error que surge a causa de observar una muestra de la población completa.Es la diferencia entre el valor del parámetro poblacional y el producido por el estadístico muestral.\n",
        "\n",
        "Se concluye fácilmente que una buena técnica de muestreo y una cantidad suficientemente grande reducen el error muestral del estimador."
      ]
    },
    {
      "cell_type": "code",
      "metadata": {
        "id": "obtoNlBUyowv",
        "colab_type": "code",
        "colab": {
          "base_uri": "https://localhost:8080/",
          "height": 141
        },
        "outputId": "816f89a9-5d0f-438e-998e-e31e70dcfdc8"
      },
      "source": [
        "#mostremos las medias calculadas para poblacion y las muestras\n",
        "print(\"media poblacional: \", media_pob)\n",
        "\n",
        "media_muestra1= np.mean(muestra1)\n",
        "media_muestra2= np.mean(muestra2)\n",
        "\n",
        "print(\"media muestra 1: \", media_muestra1)\n",
        "print(\"media muestra 2: \", media_muestra2)\n",
        "print(\"media muestra 3: \", media_muestra3)\n",
        "\n",
        "error_muestra_1 = abs((media_pob) - (media_muestra1))\n",
        "error_muestra_2 = abs((media_pob) - (media_muestra2))\n",
        "error_muestra_3 = abs((media_pob) - (media_muestra3))\n",
        "\n",
        "\n",
        "print(\"error muestra1: \", error_muestra_1)\n",
        "print(\"error muestra2: \", error_muestra_2)\n",
        "print(\"error muestra3: \", error_muestra_3)"
      ],
      "execution_count": null,
      "outputs": [
        {
          "output_type": "stream",
          "text": [
            "media poblacional:  69.21864059071814\n",
            "media muestra 1:  66.99743924762983\n",
            "media muestra 2:  70.69192589890604\n",
            "media muestra 3:  70.52370939735064\n",
            "error muestra1:  2.2212013430883104\n",
            "error muestra2:  1.4732853081878972\n",
            "error muestra3:  1.3050688066325051\n"
          ],
          "name": "stdout"
        }
      ]
    },
    {
      "cell_type": "markdown",
      "metadata": {
        "id": "7NAtWTHCFn6m",
        "colab_type": "text"
      },
      "source": [
        "Ahora grafiquemos las medias para ver el error del estimador"
      ]
    },
    {
      "cell_type": "code",
      "metadata": {
        "id": "VsE54RRZFlrk",
        "colab_type": "code",
        "colab": {
          "base_uri": "https://localhost:8080/",
          "height": 350
        },
        "outputId": "8a867019-9a0a-4c4a-8de1-7b306a79ca0d"
      },
      "source": [
        "# Declara lista1 con 3 valores de medias\n",
        "lista1 = [np.mean(poblacion),np.mean(muestra1),np.mean(muestra2),np.mean(muestra3)]  \n",
        "# Declara lista2 con 3 nombres\n",
        "lista2 = ['Media Poblacional','Media Muestra 1','Media Muestra 2', 'Media Muestra 3'] \n",
        "plt.figure(figsize=(10, 5))\n",
        "plt.plot_date(lista2, lista1, color='g')   # Dibuja el gráfico\n",
        "plt.title(\"Error muestral\")   # Establece el título del gráfico\n",
        "plt.xlabel(\"Grupo\")   # Establece el título del eje x \n",
        "plt.ylabel(\"Valor de la media\")   # Establece el título del eje y\n",
        "plt.show()"
      ],
      "execution_count": null,
      "outputs": [
        {
          "output_type": "display_data",
          "data": {
            "image/png": "[encoded data removed]",
            "text/plain": [
              "<Figure size 720x360 with 1 Axes>"
            ]
          },
          "metadata": {
            "tags": [],
            "needs_background": "light"
          }
        }
      ]
    },
    {
      "cell_type": "markdown",
      "metadata": {
        "id": "yxxIg7MGF0zR",
        "colab_type": "text"
      },
      "source": [
        "**Reflexión:**\n",
        "De qué forma podemos producir un estimador de parámetro (Estadístico) más confiable??\n",
        "\n",
        "\n",
        "En la eventualidad de que no tengamos a ciencia cierta el dato del parámetro, y sólo contamos con una muestra, el error muestral se calcula de la siguiente forma para universos infinitos (se desconoce el tamaño o es N> 10.000):\n",
        "\n",
        "```\n",
        "# error = Z a/2 * Sigma pob / raiz(n)\n",
        "```\n",
        "\n",
        "con esta formula, podriamos determinar la cantidad elementos a muestrear, por ejemplo quiero estimar la media de la longitud de las piezas que se producen para un cliente, y quiero tener un error absoluto de 0,4 centimetros, se sabe que la desv. std de pilotos o muestreos anteriores es de 3,2 y quiero tener un nivel de confianza del 95% (Z= 1,96).\n",
        " n = 1,96^2 * 3,2^2  / 2^2  \n",
        " n= 116,20\n",
        " "
      ]
    },
    {
      "cell_type": "code",
      "metadata": {
        "id": "Fw0Zxdyhk2uH",
        "colab_type": "code",
        "colab": {}
      },
      "source": [
        "#Calcula aquí con código el tamaño de la muestra, e investiga qué pasaría si la población es menor a 10.000?\n",
        "\n",
        "\n"
      ],
      "execution_count": null,
      "outputs": []
    },
    {
      "cell_type": "markdown",
      "metadata": {
        "id": "5LJQF_J3SIZY",
        "colab_type": "text"
      },
      "source": [
        "## 7) Distribuciones\n",
        "\n",
        "Las variables cuantitativas siguen distintas distribuciones estadísticas, en esta sección veremos:\n",
        "\n",
        "Para variables aleatorias continuas:\n",
        "*   Normal\n",
        "*   Triangular \n",
        "*   Gamma\n",
        "\n",
        "Para variables aleatorias discretas:\n",
        "*   Poisson\n",
        "*   Binomial\n",
        "\n",
        "\n"
      ]
    },
    {
      "cell_type": "markdown",
      "metadata": {
        "id": "dHIEqB1lsVfu",
        "colab_type": "text"
      },
      "source": [
        "###7.1) Normal\n",
        "Las distribuciones normales representan más del 50% de los fenomenos industriales estudiados. Esta distribución es de carácter continuo (no discreta).\n",
        "\n",
        "Los parámetros de media, mediana y moda en una distribución normal son iguales.\n",
        "\n",
        "La media corresponde al punto en la curva en el cual la pendiente (primera derivada) es cero, y la desviación estándar corresponde a la diferencia de los valores entre el punto de la media y el punto en la curva en los cuales la pendiente cambia de dirección (segunda derivada es 0).\n",
        "\n",
        "A considerar:\n",
        "Entre el primer sigma ($\\sigma$) positivo y el primer sigma negativo se encuentra el 68% de los casos.\n",
        "Entre el segundo sigma positivo y el segundo sigma negativo se encuentra el 95,5% de los casos.\n",
        "Entre el tercer sigma positivo y el tercer sigma negativo se encuentra el 99,73% de los casos."
      ]
    },
    {
      "cell_type": "code",
      "metadata": {
        "id": "a97fSZiaXhxz",
        "colab_type": "code",
        "colab": {
          "base_uri": "https://localhost:8080/",
          "height": 52
        },
        "outputId": "eb485cdd-9326-4911-cca0-adb5dc770b99"
      },
      "source": [
        "#Volvamos a generar una poblacion de 1000 personas, donde la variable peso sigue una dist. normal\n",
        "# usando numpy: np.random.normal(media, sigma, size)\n",
        "media= 75\n",
        "sigma= 2\n",
        "n= 1000\n",
        "\n",
        "peso = np.random.normal(media, sigma, n) \n",
        "\n",
        "#Muestra los primeros 10 valores de la poblacion\n",
        "print(peso[:10])\n"
      ],
      "execution_count": 19,
      "outputs": [
        {
          "output_type": "stream",
          "text": [
            "[74.1219277  74.49670958 71.69445138 73.09757935 77.2770135  77.45355762\n",
            " 76.85944721 74.02248285 74.45579942 75.08679011]\n"
          ],
          "name": "stdout"
        }
      ]
    },
    {
      "cell_type": "code",
      "metadata": {
        "id": "ozPHEAidYdbk",
        "colab_type": "code",
        "colab": {
          "base_uri": "https://localhost:8080/",
          "height": 52
        },
        "outputId": "21d25353-2222-466e-eb93-63dc067928a6"
      },
      "source": [
        "#Ahora calculemos los parámetros\n",
        "media_peso = np.mean(peso)\n",
        "sigma_peso = np.std(peso)\n",
        "\n",
        "\n",
        "print (\"media: \", media_peso)\n",
        "print (\"desv std: \", sigma_peso)"
      ],
      "execution_count": 99,
      "outputs": [
        {
          "output_type": "stream",
          "text": [
            "media:  75.0270664833884\n",
            "desv std:  1.967112740364562\n"
          ],
          "name": "stdout"
        }
      ]
    },
    {
      "cell_type": "code",
      "metadata": {
        "id": "IFx8I_wwY5LE",
        "colab_type": "code",
        "colab": {
          "base_uri": "https://localhost:8080/",
          "height": 264
        },
        "outputId": "d806d6ab-2f9d-45ae-cc8f-ea6643558e00"
      },
      "source": [
        "#Ahora vamos a graficar un histograma (gráfica de frecuencias) donde: \n",
        "# Eje X: las clases de la variable estudiada\n",
        "# Eje Y: la frecuencia absoluta de cada clase\n",
        "\n",
        "plt.figure(figsize=(10, 4)) #tamaño grafico\n",
        "plt.hist(peso, 20, density=False, cumulative=False, color='b') #con 50 clases y color rojo\n",
        "plt.show()\n"
      ],
      "execution_count": 100,
      "outputs": [
        {
          "output_type": "display_data",
          "data": {
            "image/png": "[encoded data removed]",
            "text/plain": [
              "<Figure size 720x288 with 1 Axes>"
            ]
          },
          "metadata": {
            "tags": [],
            "needs_background": "light"
          }
        }
      ]
    },
    {
      "cell_type": "code",
      "metadata": {
        "id": "93Idu-E5kjF7",
        "colab_type": "code",
        "colab": {
          "base_uri": "https://localhost:8080/",
          "height": 264
        },
        "outputId": "8bdad3ac-ef23-42e3-a4eb-34b382da2d92"
      },
      "source": [
        "#Si queremos incoporar el histograma del peso creado inicialmente, variable que llamamos \"poblacion\"\n",
        "#en este caso para hacerlas comparables debemos trabajar con la frecuencia relativa (density=True)\n",
        "\n",
        "plt.figure(figsize=(10, 4)) #tamaño grafico\n",
        "plt.hist(peso, 50, density=True, cumulative=False, color='r', alpha=0.5, label=\"nuevos\") #con 50 clases y color rojo\n",
        "#Incorporar poblacion inicial\n",
        "plt.hist(poblacion, 50, density=True, color='b', alpha=0.5,label=\"antiguos\") \n",
        "plt.legend()\n",
        "plt.show()\n"
      ],
      "execution_count": 20,
      "outputs": [
        {
          "output_type": "display_data",
          "data": {
            "image/png": "[encoded data removed]",
            "text/plain": [
              "<Figure size 720x288 with 1 Axes>"
            ]
          },
          "metadata": {
            "tags": [],
            "needs_background": "light"
          }
        }
      ]
    },
    {
      "cell_type": "markdown",
      "metadata": {
        "id": "9_IIsIwRk8pJ",
        "colab_type": "text"
      },
      "source": [
        "**Reflexión:** \n",
        "Qué vemos en los gráficos?"
      ]
    },
    {
      "cell_type": "markdown",
      "metadata": {
        "id": "bhIiPHQardbe",
        "colab_type": "text"
      },
      "source": [
        "###7.2) Test de Normalidad\n",
        "Para comprobar si los datos de nuestra población o muestra siguen una distribución normal, utilizaremos un test de normalidad denominado Anderson-Darling, el cual evalúa la hipótesis (y su correspondiente hipótesis nula) de que los datos siguen una distribuión normal:\n",
        "\n",
        "H$_0$ :: los datos siguen una distribución normal\n",
        "\n",
        "H$_1$ :: los datos NO siguen una distribución normal\n",
        "\n",
        "\n",
        "Si el valor arrojado (Test estadístico de Anderson-Darling) es menor al valor crítico dado para un cierto nivel de significanci (e.g.: 5%), se acepta la hipótesis H$_0$, i.e., los datos tienen una distribución normal."
      ]
    },
    {
      "cell_type": "code",
      "metadata": {
        "id": "H4-Vy8Dwsugx",
        "colab_type": "code",
        "colab": {
          "base_uri": "https://localhost:8080/",
          "height": 54
        },
        "outputId": "da6d2914-c8ee-4322-8365-6c8d9c42f8ae"
      },
      "source": [
        "# Ejecutemos el Test de normalidad de Anderson Darling usaremos libreria Scipy Stats\n",
        "stats.anderson(peso, dist='norm')"
      ],
      "execution_count": null,
      "outputs": [
        {
          "output_type": "execute_result",
          "data": {
            "text/plain": [
              "AndersonResult(statistic=0.18556871219948334, critical_values=array([0.574, 0.653, 0.784, 0.914, 1.088]), significance_level=array([15. , 10. ,  5. ,  2.5,  1. ]))"
            ]
          },
          "metadata": {
            "tags": []
          },
          "execution_count": 62
        }
      ]
    },
    {
      "cell_type": "markdown",
      "metadata": {
        "id": "QlRbPI3It1Mr",
        "colab_type": "text"
      },
      "source": [
        "En este caso en valor arrojado es 0,27244, el cual es menor al 0,784 para un nivel de significancia del 5%. Por tanto aceptamos la hipotesis de que los datos siguen una distribución normal.\n"
      ]
    },
    {
      "cell_type": "markdown",
      "metadata": {
        "id": "IJoEFNA0uWa5",
        "colab_type": "text"
      },
      "source": [
        "Dado que los datos son normales, podemos realizar algunos cálculos de probabilidad, como por ejemplo:\n",
        "\n",
        "Calcular la probabilidad de que tomemos a una persona al azar y esta tenga un peso menor que 72 kg.\n",
        "\n",
        "\n",
        "Para responder esto usaremos la Tabla Z (normal) acumulada, aplicando la siguiente fórmula:\n",
        "\n",
        "`Z = (X - mu) /sigma`\n",
        "\n",
        "\n",
        "donde X es el valor buscado, en este ejemplo 72 kg.\n"
      ]
    },
    {
      "cell_type": "code",
      "metadata": {
        "id": "fHmeQtTKvo8p",
        "colab_type": "code",
        "colab": {
          "base_uri": "https://localhost:8080/",
          "height": 52
        },
        "outputId": "ac96e04d-579c-4b56-baf3-68adc5b5bfea"
      },
      "source": [
        "#Calcular la prob de que una persona de la población pese menos de 72 kg\n",
        "\n",
        "x = 72 # Valor al que queremos calcular su probabilidad acumulada\n",
        "mu = np.mean(peso) \n",
        "sigma = np.std(peso)\n",
        "\n",
        "Z = (x - mu) / sigma\n",
        "\n",
        "prob72= stats.norm.cdf(Z) # Probabilidad acumulada de infinito negativo al valor buscado\n",
        "print('prob pesar menos de 72 kg: ', prob72)\n",
        "\n",
        "#Otra forma sin aplicar Z, es usar libreria Scipy\n",
        "prob72b = stats.norm(mu, sigma).cdf(x)\n",
        "print('otra forma: ',prob72b)\n"
      ],
      "execution_count": null,
      "outputs": [
        {
          "output_type": "stream",
          "text": [
            "prob pesar menos de 72 kg:  0.06507326500588363\n",
            "otra forma:  0.06507326500588363\n"
          ],
          "name": "stdout"
        }
      ]
    },
    {
      "cell_type": "code",
      "metadata": {
        "id": "jYV2VXwwxZu0",
        "colab_type": "code",
        "colab": {}
      },
      "source": [
        "#Calcular la probabilidad de que una persona pese entre 73 y 79 kilogramos\n",
        "\n"
      ],
      "execution_count": null,
      "outputs": []
    },
    {
      "cell_type": "markdown",
      "metadata": {
        "id": "VV-z0J9LYNBg",
        "colab_type": "text"
      },
      "source": [
        "Nota:  Esta distribución y sus aplicaciones de probabilidad son comunmente utilizadas en el método Six Sigma, para inferir no conformidades, porcentajes de defectuosos, y niveles de capacidad de procesos."
      ]
    },
    {
      "cell_type": "markdown",
      "metadata": {
        "id": "A5Lv-kPAxpqT",
        "colab_type": "text"
      },
      "source": [
        "###7.3) Triangular\n",
        "\n",
        "Esta distribución es muy simple de utilizar (es continua), y la podemos aplicar cuando tenemos pocos datos y quisieramos simular la distribución de la variable de estudio.  En este caso debemos hablamos con los expertos y preguntamos 3 parametros:\n",
        "*   valor mínimo\n",
        "*   Valor más probable\n",
        "*   valor más alto"
      ]
    },
    {
      "cell_type": "code",
      "metadata": {
        "id": "wsd3E76DgEL6",
        "colab_type": "code",
        "colab": {
          "base_uri": "https://localhost:8080/",
          "height": 602
        },
        "outputId": "526c6ff1-f967-46e1-cfd6-8278f80961b7"
      },
      "source": [
        "#Ejemplo queremos simular el tiempo de que esperan los clientes en el proceso de atención de una sucursal\n",
        "min= 12\n",
        "mp = 44 #mas probable\n",
        "max= 58\n",
        "size= 100\n",
        "\n",
        "tiempo = np.random.triangular(min, mp, max, size)\n",
        "print(tiempo)\n",
        "\n",
        "#luego graficamos un histograma\n",
        "plt.hist(tiempo, range(5, 70, 5)) #incoporamos rango\n",
        "plt.show\n",
        "\n",
        "#calcular media y sigma\n",
        "media= np.mean(tiempo)\n",
        "sigma= np.std(tiempo)\n",
        "\n",
        "print('media: ', media)\n",
        "print('desv std: ', sigma)"
      ],
      "execution_count": 35,
      "outputs": [
        {
          "output_type": "stream",
          "text": [
            "[46.22174876 33.17585872 47.27536522 35.74060042 51.61262792 21.0424\n",
            " 46.59915403 45.94389953 36.33840884 18.05656003 23.44944791 41.36194145\n",
            " 30.87858189 41.1666006  16.68801507 18.60829426 48.8056399  45.0513651\n",
            " 34.17354467 34.08837782 39.2269036  20.8840123  42.55903484 35.77021495\n",
            " 37.55145483 44.43521952 31.78225474 49.85825492 54.0355771  48.17534222\n",
            " 26.18589417 42.68486184 39.44492605 28.06226165 51.5281055  46.93512027\n",
            " 45.31439639 40.67608752 41.53916904 46.320143   14.20731764 43.75480648\n",
            " 47.18637898 33.44817499 38.90445484 23.47020154 35.33362498 43.98283822\n",
            " 40.17457538 28.87062333 40.21709506 40.62011685 30.46361526 40.44412228\n",
            " 44.90264205 26.14081442 36.86932944 45.22920911 14.35724417 29.24008116\n",
            " 35.4667515  39.88740155 33.18409983 26.00320687 40.98070313 51.55210615\n",
            " 24.78759639 25.88445306 46.56340043 46.91176284 18.35982966 55.43736162\n",
            " 49.14177736 38.51285827 31.36739708 47.0882286  41.87796527 32.06916386\n",
            " 57.04923296 42.63732138 48.20050885 34.60834528 39.56348111 39.06192837\n",
            " 40.84904588 33.53590628 40.29050238 25.25933751 36.98598977 41.7585082\n",
            " 38.96592744 35.86210448 23.3809667  37.58881407 32.40816033 24.14903916\n",
            " 30.09714673 30.77661872 34.81692601 33.67361726]\n",
            "media:  37.136604250952416\n",
            "desv std:  9.556177584774286\n"
          ],
          "name": "stdout"
        },
        {
          "output_type": "display_data",
          "data": {
            "image/png": "[encoded data removed]",
            "text/plain": [
              "<Figure size 432x288 with 1 Axes>"
            ]
          },
          "metadata": {
            "tags": [],
            "needs_background": "light"
          }
        }
      ]
    },
    {
      "cell_type": "markdown",
      "metadata": {
        "id": "R2SSfJhwKpqf",
        "colab_type": "text"
      },
      "source": [
        "###7.4) Gamma\n",
        "La distribución Gamma se utiliza con variables continuas (no discretas) que siguen una forma asimétrica (no normales). Ejemplos de fenómenos que se describen con esta distribución son: tiempo de duración de procesos o ciclos productivos, vida útil de baterías y componentes eléctricos, vida de los seres vivos, caducidad de bienes perecibles, tiempo entre llegadas de pedidos de clientes, tiempo entre un despiegue a producción y otro, etc.\n",
        "\n",
        "Crearemos una distribución del tipo Gamma aleatoria en la cual se utilizan dos parámetros:\n",
        "\n",
        "$\\color{red} \\alpha$ : representa el parámetro de la forma\n",
        "$\\color{red} \\beta$ : representa el parámetro de la escala\n",
        "$\\color{red}n$ : tamaño de la población o muetra según el caso\n",
        "\n",
        "\n",
        "Nota:\n",
        "\n",
        "La media de una distribución Gamma se calcula $\\color{red}{\\alpha * \\beta}$\n",
        "La desviación estándar es $\\color{red}{\\sqrt{\\alpha} * \\beta}$"
      ]
    },
    {
      "cell_type": "code",
      "metadata": {
        "id": "zCsfe4HDM6JP",
        "colab_type": "code",
        "colab": {
          "base_uri": "https://localhost:8080/",
          "height": 282
        },
        "outputId": "8226edd8-2793-4606-ff00-1f9f44f18b38"
      },
      "source": [
        "#Crear un distribucion gamma para estudiar el tiempo de ciclo de un proceso de desarrollo de sw, que tiene media = 4.2 días\n",
        "#definimos los parámetros\n",
        "a= 1.5\n",
        "b= 2.8\n",
        "size= 100\n",
        "\n",
        "tiempo_sw = np.random.gamma(a, b, size)\n",
        "\n",
        "plt.hist(tiempo_sw)\n",
        "plt.show\n",
        "\n",
        "media= np.mean(tiempo_sw)\n",
        "\n",
        "print('media: ', media)\n"
      ],
      "execution_count": 22,
      "outputs": [
        {
          "output_type": "stream",
          "text": [
            "media:  3.7761499310833617\n"
          ],
          "name": "stdout"
        },
        {
          "output_type": "display_data",
          "data": {
            "image/png": "[encoded data removed]",
            "text/plain": [
              "<Figure size 432x288 with 1 Axes>"
            ]
          },
          "metadata": {
            "tags": [],
            "needs_background": "light"
          }
        }
      ]
    },
    {
      "cell_type": "code",
      "metadata": {
        "id": "27lksci8RcZA",
        "colab_type": "code",
        "colab": {
          "base_uri": "https://localhost:8080/",
          "height": 264
        },
        "outputId": "ff857fac-cfa1-4ac9-9ad8-f4ac591d83ab"
      },
      "source": [
        "#Distribucion Gamma.  creamos otras gammas, variando a y b\n",
        "\n",
        "alfa = 1\n",
        "beta = 2\n",
        "alfa2 = 2\n",
        "beta2 = 2\n",
        "alfa3 = 8\n",
        "beta3 = 2\n",
        "size= 100\n",
        "\n",
        "gamma1= np.random.gamma(alfa, beta, size)\n",
        "gamma2= np.random.gamma(alfa2, beta2, size)\n",
        "gamma3= np.random.gamma(alfa3, beta3, size)\n",
        "\n",
        "plt.hist(gamma1, label=\"a=1\")\n",
        "plt.hist(gamma2, label=\"a=2\")\n",
        "plt.hist(gamma3, label=\"a=8\")\n",
        "plt.legend()\n",
        "plt.show()"
      ],
      "execution_count": null,
      "outputs": [
        {
          "output_type": "display_data",
          "data": {
            "image/png": "[encoded data removed]",
            "text/plain": [
              "<Figure size 432x288 with 1 Axes>"
            ]
          },
          "metadata": {
            "tags": [],
            "needs_background": "light"
          }
        }
      ]
    },
    {
      "cell_type": "code",
      "metadata": {
        "id": "zoUqUYkSi4w4",
        "colab_type": "code",
        "colab": {
          "base_uri": "https://localhost:8080/",
          "height": 371
        },
        "outputId": "9ff6a97d-c73c-44db-850f-7942025fbe7c"
      },
      "source": [
        "#Crear un distribucion gamma para estudiar el tiempo de ciclo de un proceso de desarrollo de sw, que tiene media = 4.2 días\n",
        "#definimos los parámetros primer grupo (con mayor alfa que beta) llamado cola duck\n",
        "a1= 3\n",
        "b1= 1.4\n",
        "size= 10000\n",
        "\n",
        "tiempo_sw_duck = np.random.gamma(a1, b1, size)\n",
        "\n",
        "#definimos los parámetros segundo grupo (con mayor beta que alfa) llamado cola cat\n",
        "a2= 1\n",
        "b2= 4.19\n",
        "size= 10000\n",
        "\n",
        "tiempo_sw_cat = np.random.gamma(a2, b2, size)\n",
        "\n",
        "plt.hist(tiempo_sw_duck, bins=30, range=[0, 26], alpha=0.5, density=\"true\", label=\"duck\")\n",
        "plt.hist(tiempo_sw_cat, bins=30, range=[0, 26], alpha=0.3, density=\"true\", label=\"cat\")\n",
        "plt.legend()\n",
        "plt.show\n",
        "\n",
        "media1= np.mean(tiempo_sw_duck)\n",
        "percent85_1 = np.percentile(tiempo_sw_duck, 50)\n",
        "media2= np.mean(tiempo_sw_cat)\n",
        "percent85_2 = np.percentile(tiempo_sw_cat, 50)\n",
        "\n",
        "print('mean duck: ', media1)\n",
        "print('percentile 85 duck: ', percent85_1)\n",
        "print('mean cat: ', media2)\n",
        "print('percentile 85 cat: ', percent85_2)\n",
        "\n",
        "#SLA is >7\n",
        "SL_duck = stats.gamma(a1, b1).cdf(5)\n",
        "SL_cat = stats.gamma(a2, b2).cdf(5)\n",
        "\n",
        "print('Service level <5 days duck: ', SL_duck)\n",
        "print('Service level <5 days cat: ', SL_cat)"
      ],
      "execution_count": 37,
      "outputs": [
        {
          "output_type": "stream",
          "text": [
            "mean duck:  4.1818469359094435\n",
            "percentile 85 duck:  3.724375916270377\n",
            "mean cat:  4.188885158416391\n",
            "percentile 85 cat:  2.8760242948885573\n",
            "Service level <5 days duck:  0.6972531552839984\n",
            "Service level <5 days cat:  0.5551419337770586\n"
          ],
          "name": "stdout"
        },
        {
          "output_type": "display_data",
          "data": {
            "image/png": "[encoded data removed]",
            "text/plain": [
              "<Figure size 432x288 with 1 Axes>"
            ]
          },
          "metadata": {
            "tags": [],
            "needs_background": "light"
          }
        }
      ]
    },
    {
      "cell_type": "markdown",
      "metadata": {
        "id": "BlguPFHsTF69",
        "colab_type": "text"
      },
      "source": [
        "###7.5) Poisson\n",
        " \n",
        "La distribución Poisson se utiliza para contar de forma \"discreta\". Por ejemplo: cantidad de hijos, personas en una fila, camiones entrando a puerto, DPU (defector por unidad), pérdida de maletas por vuelo, cantidad de producción diaria, etc.\n",
        "\n",
        "Crearemos una distribución del tipo Poisson aleatoria en la cual se utilizan dos parámetros:\n",
        "\n",
        "$\\color{red}{\\lambda}$ (lambda) :: representa a la media de la población o muestra (e.g.: cantidad de personas promedio que llegana una cola de un banco por unidad de tiempo (hora)\n",
        "$\\color{red}n$ :: tamaño de la población o muetra según el caso\n",
        "Nota:\n",
        "\n",
        "* La media de una distribución Poisson es $\\color{red}{\\lambda}$\n",
        "\n",
        "\n",
        "* La desviación estándar es $\\color{red}{\\sqrt{\\lambda}}$"
      ]
    },
    {
      "cell_type": "code",
      "metadata": {
        "id": "WiKSDfvcTzVn",
        "colab_type": "code",
        "colab": {
          "base_uri": "https://localhost:8080/",
          "height": 52
        },
        "outputId": "8d29ff17-cda1-4e46-93f1-de00ecbf1ced"
      },
      "source": [
        "# Generemos una simulacion de la velocidad de un equipo de desarrollo de SW, quienes implementan en \n",
        "#promedio 3,3 funcionalidades por semana\n",
        "\n",
        "lambd = 3.3\n",
        "size = 100\n",
        "\n",
        "velocidad = np.random.poisson(lambd, size)\n",
        "\n",
        "#calcular media\n",
        "media= np.mean(velocidad)\n",
        "sigma= np.std(velocidad)\n",
        "\n",
        "print('media: ', media)\n",
        "print('desv std: ', sigma)\n"
      ],
      "execution_count": null,
      "outputs": [
        {
          "output_type": "stream",
          "text": [
            "media:  3.38\n",
            "desv std:  1.93277003288027\n"
          ],
          "name": "stdout"
        }
      ]
    },
    {
      "cell_type": "code",
      "metadata": {
        "id": "Xk8D4nvkq1Qb",
        "colab_type": "code",
        "colab": {
          "base_uri": "https://localhost:8080/",
          "height": 334
        },
        "outputId": "e5f06ad5-2a9a-4b22-8044-5cbcad1cdf72"
      },
      "source": [
        "#Graficar histograma\n",
        "plt.hist(velocidad)\n",
        "plt.show\n",
        "\n",
        "#Calculemos percentiles, con base en los datos simulados, buscar el valor mínimo que garantiza un 80% de seguridad de entrega semanal\n",
        "percentil20= np.percentile(velocidad, 20)\n",
        "print('p20: ', percentil20)\n",
        "print('con un 80% de seguridad el equipo entregará al menos 2,0 features por semana')\n",
        "\n",
        "\n",
        "#Cual es la probabilidad de entregar entre 0 y 4 funcionalidades\n",
        "#usar probabilidad de funcion cuantia/masa : .pmf\n",
        "\n",
        "cero = stats.poisson(lambd).pmf(0)  \n",
        "una = stats.poisson(lambd).pmf(1) \n",
        "dos= stats.poisson(lambd).pmf(2)\n",
        "tres = stats.poisson(lambd).pmf(3)     \n",
        "cuatro = stats.poisson(lambd).pmf(4)  \n",
        "print ('prob entre 0 y 4 es: ', (cero + una + dos + tres + cuatro))\n",
        "\n",
        "#Otra forma es usar la funcion de dist. acumulada:  .cdf\n",
        "otra= stats.poisson(lambd).cdf(4)\n",
        "print('otra forma; ', otra)"
      ],
      "execution_count": null,
      "outputs": [
        {
          "output_type": "stream",
          "text": [
            "p20:  2.0\n",
            "con un 80% de seguridad el equipo entregará al menos 2,0 features por semana\n",
            "prob entre 0 y 4 es:  0.7625903756733358\n",
            "otra forma;  0.7625903756733357\n"
          ],
          "name": "stdout"
        },
        {
          "output_type": "display_data",
          "data": {
            "image/png": "[encoded data removed]",
            "text/plain": [
              "<Figure size 432x288 with 1 Axes>"
            ]
          },
          "metadata": {
            "tags": [],
            "needs_background": "light"
          }
        }
      ]
    },
    {
      "cell_type": "markdown",
      "metadata": {
        "id": "xApcUsRErtqS",
        "colab_type": "text"
      },
      "source": [
        "####7.5.1) Montecarlo\n",
        "Qué ocurre si dado el lambda anterior, nos preguntarán cúantas funcionalidades se podrían crear en 10 semanas?..\n",
        "\n",
        "Seguramente responderíamos el lambdax10 = 33.  Pero este valor tiene cierta probabilidad de ocurrencia, al igual que los valores menores y mayores a ese. En este caso lo mejor aplicar un método llamado montecarlo."
      ]
    },
    {
      "cell_type": "code",
      "metadata": {
        "id": "INSoCA9zs9dD",
        "colab_type": "code",
        "colab": {
          "base_uri": "https://localhost:8080/",
          "height": 317
        },
        "outputId": "af2ef614-1d5e-4a7c-85c4-804502326bc8"
      },
      "source": [
        "#Montecarlo\n",
        "semanas = 10\n",
        "media = lambd\n",
        "#simular 10 semanas y sumar\n",
        "a = np.random.poisson(lambd, 10)\n",
        "atotal= sum(a)\n",
        "print(atotal)\n",
        "\n",
        "#ahora replicar estos 10.000 veces y hacer histograma con las sumas de cada simulacion\n",
        "X=10 #es la cantidad de ciclos a simular\n",
        "m=10000 #es la cantidad de simulaciones a realizar de X ciclos\n",
        "totales=[] #Crearemos una Lista para almacenar la suma de las simulaciones de X ciclos\n",
        "for k in range(0, m):\n",
        "    suma=0\n",
        "    for i in range(0, X):\n",
        "        suma=sum(np.random.poisson(lambd, 10))\n",
        "    totales.append(suma)\n",
        "\n",
        "#hacemos histograma de las 10.000 semanas simuladas\n",
        "plt.hist(totales)\n",
        "plt.show\n",
        "\n",
        "#Calcular la prob de entregar exactamente 33 funcionalidades en 10 semanas\n",
        "prob33 = totales.count(33)\n",
        "print('probabilidad de entregar 33: ', prob33/len(totales))\n",
        "\n",
        "#es mejor calcular un valor que nos entregue un 85% de seguridad de cumplirse\n",
        "p15= np.percentile(totales, 15)\n",
        "print('percentil 15: ',p15)"
      ],
      "execution_count": null,
      "outputs": [
        {
          "output_type": "stream",
          "text": [
            "35\n",
            "probabilidad de entregar 33:  0.0709\n",
            "percentil 15:  27.0\n"
          ],
          "name": "stdout"
        },
        {
          "output_type": "display_data",
          "data": {
            "image/png": "[encoded data removed]",
            "text/plain": [
              "<Figure size 432x288 with 1 Axes>"
            ]
          },
          "metadata": {
            "tags": [],
            "needs_background": "light"
          }
        }
      ]
    },
    {
      "cell_type": "code",
      "metadata": {
        "id": "iqUd77RVqBIQ",
        "colab_type": "code",
        "colab": {
          "base_uri": "https://localhost:8080/",
          "height": 54
        },
        "outputId": "4042a8a8-806d-45a0-f957-e3dbd75e6ab1"
      },
      "source": [
        "# Ejecutar Test de normalidad\n",
        "stats.anderson(velocidad, dist='norm')"
      ],
      "execution_count": null,
      "outputs": [
        {
          "output_type": "execute_result",
          "data": {
            "text/plain": [
              "AndersonResult(statistic=2.1270568966909877, critical_values=array([0.555, 0.632, 0.759, 0.885, 1.053]), significance_level=array([15. , 10. ,  5. ,  2.5,  1. ]))"
            ]
          },
          "metadata": {
            "tags": []
          },
          "execution_count": 90
        }
      ]
    },
    {
      "cell_type": "markdown",
      "metadata": {
        "id": "N7Aw1X5tqQhF",
        "colab_type": "text"
      },
      "source": [
        "En test anterior el valor arrojado es 1,9814, como este valor no es menor a 0,759 (para alfa=5%), se puede concluir que los datos No siguen una distribucón normal con 95% de seguridad.\n",
        "\n",
        "\n",
        "Qué pasa si el lamba es grande?"
      ]
    },
    {
      "cell_type": "code",
      "metadata": {
        "id": "zHP_I2C-qiQi",
        "colab_type": "code",
        "colab": {
          "base_uri": "https://localhost:8080/",
          "height": 337
        },
        "outputId": "df2e44a5-6380-43ad-be21-7e38e6af7930"
      },
      "source": [
        "#Crear distribucion poisson con lambda = 121\n",
        "\n",
        "lambd2 = 121\n",
        "size = 100\n",
        "velocidad = np.random.poisson(lambd2, size)\n",
        "\n",
        "#calcular media\n",
        "media= np.mean(velocidad)\n",
        "sigma= np.std(velocidad)\n",
        "\n",
        "print('media: ', media)\n",
        "print('desv std: ', sigma)\n",
        "\n",
        "#Graficar histograma\n",
        "plt.hist(velocidad)\n",
        "plt.show\n",
        "\n",
        "\n",
        "#aplicar test de normalidad\n",
        "stats.anderson(velocidad, dist='norm')"
      ],
      "execution_count": null,
      "outputs": [
        {
          "output_type": "stream",
          "text": [
            "media:  121.77\n",
            "desv std:  11.419154959978432\n"
          ],
          "name": "stdout"
        },
        {
          "output_type": "execute_result",
          "data": {
            "text/plain": [
              "AndersonResult(statistic=0.4148245585426622, critical_values=array([0.555, 0.632, 0.759, 0.885, 1.053]), significance_level=array([15. , 10. ,  5. ,  2.5,  1. ]))"
            ]
          },
          "metadata": {
            "tags": []
          },
          "execution_count": 91
        },
        {
          "output_type": "display_data",
          "data": {
            "image/png": "[encoded data removed]",
            "text/plain": [
              "<Figure size 432x288 with 1 Axes>"
            ]
          },
          "metadata": {
            "tags": [],
            "needs_background": "light"
          }
        }
      ]
    },
    {
      "cell_type": "markdown",
      "metadata": {
        "id": "JIRp-aSLrd5a",
        "colab_type": "text"
      },
      "source": [
        "**qué podemos concluir?**\n",
        "\n",
        "la evidencia práctica y la visualización anterior del histograma de forma de campana gaussiana, demuestra que las distribuciones Poisson cuando exhiben un lambda grande, tienden a una Distribución Normal.\n",
        "\n",
        "Cuando el lambda es muy pequeño, tiende a una distribución Binomial.\n"
      ]
    },
    {
      "cell_type": "code",
      "metadata": {
        "id": "Eyn2gCkevacS",
        "colab_type": "code",
        "colab": {
          "base_uri": "https://localhost:8080/",
          "height": 335
        },
        "outputId": "7a085b2b-22ee-4f8e-ce8b-9694af80858c"
      },
      "source": [
        "#AHora imaginemos que tenemos que estudiar la cantidad de defectos que existe en cada producto construido\n",
        "#y tenemos que la media es 0,51 defectos por unidad\n",
        "#en este caso tambien aplica la distribucion de Poisson, simulemos 100 productos y sus defectos\n",
        "\n",
        "dpu= 0.51 #Defectos por unidad\n",
        "\n",
        "productos= np.random.poisson(dpu, 100)\n",
        "print(productos)\n",
        "plt.hist(productos)\n",
        "plt.show\n",
        "\n",
        "#calular la probabilidad de que un producto tenga 0 defecto, usar Scipy\n",
        "prob0 = stats.poisson(dpu).cdf(0)\n",
        "\n",
        "print('probabilidad de tener 0 defecto: ', prob0)\n",
        "\n",
        "\n",
        "\n"
      ],
      "execution_count": null,
      "outputs": [
        {
          "output_type": "stream",
          "text": [
            "[0 0 2 0 0 0 2 1 1 0 0 0 1 1 1 1 0 1 0 1 0 1 0 0 1 0 0 1 0 2 0 0 0 1 0 0 1\n",
            " 0 0 1 1 1 1 1 1 1 1 0 0 0 1 1 0 1 1 0 0 1 1 0 0 1 1 0 2 1 0 0 0 0 0 0 1 0\n",
            " 2 0 0 2 0 1 0 0 0 0 0 2 0 0 2 0 0 1 1 2 0 0 0 0 1 0]\n",
            "probabilidad de tener 0 defecto:  0.6004955788122661\n"
          ],
          "name": "stdout"
        },
        {
          "output_type": "display_data",
          "data": {
            "image/png": "[encoded data removed]",
            "text/plain": [
              "<Figure size 432x288 with 1 Axes>"
            ]
          },
          "metadata": {
            "tags": [],
            "needs_background": "light"
          }
        }
      ]
    },
    {
      "cell_type": "markdown",
      "metadata": {
        "id": "frYmhuWfm5RN",
        "colab_type": "text"
      },
      "source": [
        "En este último ejemplo vimos la aplicación de poisson al control estadístico de procesos, la probabilidad de encontrar 0 defectos en un producto es 60%, este porcentaje se puede convertir a Z y luego calcular el Nivel Sigma del proceso."
      ]
    },
    {
      "cell_type": "markdown",
      "metadata": {
        "id": "u3eALlK1YknB",
        "colab_type": "text"
      },
      "source": [
        "###7.6) Binomial\n",
        "\n",
        "La distribución binomial es una distribución de probabilidad discreta, que cuenta el número de éxitos en una secuencia de **n** ensayos de Bernoulli independientes entre sí, con una probabilidad fija **p** de ocurrencia del éxito entre los ensayos. Un experimento de Bernoulli se caracteriza por ser dicotómico, esto es, solo dos resultados son posibles. A uno de estos se denomina «éxito» y tiene una probabilidad de ocurrencia p y al otro, «fracaso», con una probabilidad2​ q = 1 - p.\n",
        "\n",
        "Parámetros n y p.\n",
        "\n",
        "Media= n*p\n",
        "\n",
        "desv. std =  Raiz (n * p * q)\n"
      ]
    },
    {
      "cell_type": "code",
      "metadata": {
        "id": "Ohi5LWujv9mR",
        "colab_type": "code",
        "colab": {
          "base_uri": "https://localhost:8080/",
          "height": 424
        },
        "outputId": "e2497b14-0cde-4e9d-ae1f-8830109e0e4b"
      },
      "source": [
        "#la probabilidad de que un producto sea defectuoso es 10%, y en una caja se encuentran 50 productos, \n",
        "#hacer un histograma con la cantidad de defectuosos que tendrían 100 cajas fabricadas\n",
        "n = 50\n",
        "p = 0.1\n",
        "\n",
        "caja = np.random.binomial(n, p, 100)\n",
        "print(caja)\n",
        "\n",
        "plt.hist(caja, density='true')\n",
        "plt.show\n",
        "\n",
        "\n",
        "#ahora calcular la probabilidad de que una caja tenga 6 o más productos no conformes\n",
        "#usar la funcion de dist. acumulada:  .cdf\n",
        "prob_6_o_mas = 1 - stats.binom(n, p).cdf(5)\n",
        "print('prob 6 o mas: ', prob_6_o_mas)\n",
        "\n",
        "\n",
        "#prob indiviudales\n",
        "cero = stats.binom(n, p).pmf(0)  \n",
        "una = stats.binom(n, p).pmf(1)\n",
        "ocho = stats.binom(n, p).pmf(8)\n",
        "\n",
        "print('cero defectuoso:', cero)\n",
        "print('un defectuoso:', una)\n",
        "print('ocho defectuoso:', ocho)\n"
      ],
      "execution_count": 160,
      "outputs": [
        {
          "output_type": "stream",
          "text": [
            "[ 6  4  5  3  4  8  9  1  6  5  4  3  3  2  8  2  6  3  6  3  4  6  1  4\n",
            "  4  6  4  3  3 10  4  5  1  6  6  5  7  4  6  3  4  6  3  3  6  4  4  7\n",
            "  2  6 10  5  4  5  3  5  0  5  3  5  6  5  8  8  3  4  5  7  7  4  7  4\n",
            "  4  4  5  3  3  5  7  2  9  5  8  5  6  4  6  4  7  8  6  7  4  5  8  2\n",
            "  5  3  3 10]\n",
            "prob 6 o mas:  0.38387699227572314\n",
            "cero defectuoso: 0.0051537752073201135\n",
            "un defectuoso: 0.02863208448511195\n",
            "ocho defectuoso: 0.0642778778831849\n"
          ],
          "name": "stdout"
        },
        {
          "output_type": "display_data",
          "data": {
            "image/png": "[encoded data removed]",
            "text/plain": [
              "<Figure size 432x288 with 1 Axes>"
            ]
          },
          "metadata": {
            "tags": [],
            "needs_background": "light"
          }
        }
      ]
    },
    {
      "cell_type": "code",
      "metadata": {
        "id": "bdjzVKU3CduK",
        "colab_type": "code",
        "colab": {
          "base_uri": "https://localhost:8080/",
          "height": 294
        },
        "outputId": "9d6bd3c9-f409-4d3e-83e4-0515076287e2"
      },
      "source": [
        "# Graficando Binomial\n",
        "n = 50\n",
        "p = 0.1\n",
        "\n",
        "\n",
        "binomial = stats.binom(n, p) # Distribución\n",
        "x = np.arange(binomial.ppf(0.01),\n",
        "              binomial.ppf(0.99))\n",
        "fmp = binomial.pmf(x) # Función de Masa de Probabilidad\n",
        "plt.plot(x, fmp, '--')\n",
        "plt.vlines(x, 0, fmp, colors='b', lw=10, alpha=0.5)\n",
        "plt.title('Distribución Binomial')\n",
        "plt.ylabel('probabilidad')\n",
        "plt.xlabel('valores')\n",
        "plt.show()"
      ],
      "execution_count": 157,
      "outputs": [
        {
          "output_type": "display_data",
          "data": {
            "image/png": "[encoded data removed]",
            "text/plain": [
              "<Figure size 432x288 with 1 Axes>"
            ]
          },
          "metadata": {
            "tags": [],
            "needs_background": "light"
          }
        }
      ]
    },
    {
      "cell_type": "markdown",
      "metadata": {
        "id": "n_XLf__59bCz",
        "colab_type": "text"
      },
      "source": [
        "**Ejercicio:** en cada una de las diferentes competencias, jin tiene un 60% de posibilidades de ganar. Suponiendo que las competiciones sean independientes entre sí, ¿cuál es la probabilidad de que: Jin gane al menos 1 carrera?"
      ]
    },
    {
      "cell_type": "code",
      "metadata": {
        "id": "z--TM2N99XGc",
        "colab_type": "code",
        "colab": {
          "base_uri": "https://localhost:8080/",
          "height": 52
        },
        "outputId": "859db669-942e-4624-85c2-712d085281cd"
      },
      "source": [
        "#Cual es la probabilidad de ganar al menos 1 competencia\n",
        "\n",
        "n = 4\n",
        "p = 0.6\n",
        "\n",
        "#usar probabilidad de funcion cuantia/masa : .pmf\n",
        "\n",
        "cero = stats.binom(n, p).pmf(0)  \n",
        "una = stats.binom(n, p).pmf(1)\n",
        "dos= stats.binom(n, p).pmf(2)\n",
        "tres = stats.binom(n, p).pmf(3)    \n",
        "cuatro = stats.binom(n, p).pmf(4)  \n",
        "\n",
        "prob = (1 - cero)\n",
        "\n",
        "print('probabilidad es: ', prob)\n",
        "\n",
        "#Otra forma es usar la funcion de dist. acumulada:  .cdf\n",
        "otra= stats.binom(n, p).cdf(0)\n",
        "print('otra forma; ', 1- otra)"
      ],
      "execution_count": 126,
      "outputs": [
        {
          "output_type": "stream",
          "text": [
            "probabilidad es:  0.9744\n",
            "otra forma;  0.9744\n"
          ],
          "name": "stdout"
        }
      ]
    },
    {
      "cell_type": "markdown",
      "metadata": {
        "id": "XkSM5JRCMiak",
        "colab_type": "text"
      },
      "source": [
        "## 8)Visualizaciones\n",
        "\n",
        "crearemos gráficos aplicando la librería Matplotlib"
      ]
    },
    {
      "cell_type": "code",
      "metadata": {
        "id": "17kRsZEhM0gM",
        "colab_type": "code",
        "colab": {
          "base_uri": "https://localhost:8080/",
          "height": 282
        },
        "outputId": "08222870-e8d2-498d-8f21-4cbe57392d42"
      },
      "source": [
        "#contamos con el tiempo de espera de clientes en el nuevo canal digital\n",
        "\n",
        "b=(100, 60, 55, 46, 27, 95, 55, 120, 41, 39, 80, 50, 71, 98, 66, 51)\n",
        "\n",
        "#hacer histograma\n",
        "plt.hist(b)\n",
        "plt.show"
      ],
      "execution_count": 23,
      "outputs": [
        {
          "output_type": "execute_result",
          "data": {
            "text/plain": [
              "<function matplotlib.pyplot.show>"
            ]
          },
          "metadata": {
            "tags": []
          },
          "execution_count": 23
        },
        {
          "output_type": "display_data",
          "data": {
            "image/png": "[encoded data removed]",
            "text/plain": [
              "<Figure size 432x288 with 1 Axes>"
            ]
          },
          "metadata": {
            "tags": [],
            "needs_background": "light"
          }
        }
      ]
    },
    {
      "cell_type": "code",
      "metadata": {
        "id": "2_wadvSZOo7a",
        "colab_type": "code",
        "colab": {
          "base_uri": "https://localhost:8080/",
          "height": 282
        },
        "outputId": "8caca0dc-a986-4a1f-d1b2-bc08264d2668"
      },
      "source": [
        "#grafico de linea\n",
        "plt.plot(b)\n",
        "plt.show\n"
      ],
      "execution_count": 24,
      "outputs": [
        {
          "output_type": "execute_result",
          "data": {
            "text/plain": [
              "<function matplotlib.pyplot.show>"
            ]
          },
          "metadata": {
            "tags": []
          },
          "execution_count": 24
        },
        {
          "output_type": "display_data",
          "data": {
            "image/png": "[encoded data removed]",
            "text/plain": [
              "<Figure size 432x288 with 1 Axes>"
            ]
          },
          "metadata": {
            "tags": [],
            "needs_background": "light"
          }
        }
      ]
    },
    {
      "cell_type": "code",
      "metadata": {
        "id": "N1L7gA2ROr5g",
        "colab_type": "code",
        "colab": {
          "base_uri": "https://localhost:8080/",
          "height": 282
        },
        "outputId": "b6362d69-c38a-4884-95c2-83bd3a6cc588"
      },
      "source": [
        "#gràfico box plot\n",
        "plt.boxplot(b)\n",
        "plt.show\n"
      ],
      "execution_count": 25,
      "outputs": [
        {
          "output_type": "execute_result",
          "data": {
            "text/plain": [
              "<function matplotlib.pyplot.show>"
            ]
          },
          "metadata": {
            "tags": []
          },
          "execution_count": 25
        },
        {
          "output_type": "display_data",
          "data": {
            "image/png": "[encoded data removed]",
            "text/plain": [
              "<Figure size 432x288 with 1 Axes>"
            ]
          },
          "metadata": {
            "tags": [],
            "needs_background": "light"
          }
        }
      ]
    },
    {
      "cell_type": "code",
      "metadata": {
        "id": "vLC2Ga6R-19F",
        "colab_type": "code",
        "colab": {
          "base_uri": "https://localhost:8080/",
          "height": 316
        },
        "outputId": "8234bb42-4c7b-47b5-ccd6-9a1cb2ab8c44"
      },
      "source": [
        "#Relacion entre Lealtad clientes (a) y tiempo esperando en el canal digital para ser atendido (b)\n",
        "a=(3, 5, 5, 7, 7, 4, 6, 3, 7, 7, 4, 6, 5, 3, 5, 5)\n",
        "\n",
        "\n",
        "plt.scatter(b, a)\n",
        "plt.title('Scatter Plot - relacion entre tiempo de atención y lealtad')\n",
        "plt.show()\n",
        "\n",
        "r=np.corrcoef(a, b)[0,1]\n",
        "r2=r*r\n",
        "print(\"coef correlacion: \", r)\n",
        "print(\"coef determinacion: \",r2)"
      ],
      "execution_count": 26,
      "outputs": [
        {
          "output_type": "display_data",
          "data": {
            "image/png": "[encoded data removed]",
            "text/plain": [
              "<Figure size 432x288 with 1 Axes>"
            ]
          },
          "metadata": {
            "tags": [],
            "needs_background": "light"
          }
        },
        {
          "output_type": "stream",
          "text": [
            "coef correlacion:  -0.934783962235835\n",
            "coef determinacion:  0.873821056053327\n"
          ],
          "name": "stdout"
        }
      ]
    },
    {
      "cell_type": "code",
      "metadata": {
        "id": "_BG-VkRZPyvU",
        "colab_type": "code",
        "colab": {
          "base_uri": "https://localhost:8080/",
          "height": 282
        },
        "outputId": "5a68b6b6-61fc-45cd-8fb2-0cfd0177595f"
      },
      "source": [
        "#se aplica mejora y se obtienen nuevos tiempos\n",
        "\n",
        "b1 = (27, 28, 28, 31, 34, 31, 67, 56, 21, 19, 31, 27, 32, 31, 42, 29)\n",
        "\n",
        "data=(b, b1)\n",
        "#comparar con boxplots\n",
        "plt.boxplot(data)\n",
        "plt.show\n"
      ],
      "execution_count": 27,
      "outputs": [
        {
          "output_type": "execute_result",
          "data": {
            "text/plain": [
              "<function matplotlib.pyplot.show>"
            ]
          },
          "metadata": {
            "tags": []
          },
          "execution_count": 27
        },
        {
          "output_type": "display_data",
          "data": {
            "image/png": "[encoded data removed]",
            "text/plain": [
              "<Figure size 432x288 with 1 Axes>"
            ]
          },
          "metadata": {
            "tags": [],
            "needs_background": "light"
          }
        }
      ]
    },
    {
      "cell_type": "code",
      "metadata": {
        "id": "hT3mlcmjG9TR",
        "colab_type": "code",
        "colab": {}
      },
      "source": [
        "#http://scikit-learn.org/stable/modules/generated/sklearn.linear_model.LinearRegression.html#sklearn.linear_model.LinearRegression.fit\n",
        "from sklearn import linear_model\n",
        "from sklearn.metrics import mean_squared_error, r2_score"
      ],
      "execution_count": 29,
      "outputs": []
    },
    {
      "cell_type": "code",
      "metadata": {
        "id": "_MLqesAPHfyM",
        "colab_type": "code",
        "colab": {
          "base_uri": "https://localhost:8080/",
          "height": 34
        },
        "outputId": "22e46dab-2bfd-449b-8b9b-1ff2e82736a2"
      },
      "source": [
        "data=pd.read_csv('http://people.sc.fsu.edu/~jburkardt/datasets/regression/x03.txt',skiprows=(36),delimiter='\\s+',header=None)\n",
        "# Existe algún NaN?\n",
        "data.isnull().values.any()"
      ],
      "execution_count": 30,
      "outputs": [
        {
          "output_type": "execute_result",
          "data": {
            "text/plain": [
              "False"
            ]
          },
          "metadata": {
            "tags": []
          },
          "execution_count": 30
        }
      ]
    },
    {
      "cell_type": "code",
      "metadata": {
        "id": "tI56hc8LHscO",
        "colab_type": "code",
        "colab": {
          "base_uri": "https://localhost:8080/",
          "height": 197
        },
        "outputId": "8818a799-43b9-4bb1-a865-da97445cc4e9"
      },
      "source": [
        "data=data.drop([0,1],axis=1)\n",
        "data.head()"
      ],
      "execution_count": 31,
      "outputs": [
        {
          "output_type": "execute_result",
          "data": {
            "text/html": [
              "<div>\n",
              "<style scoped>\n",
              "    .dataframe tbody tr th:only-of-type {\n",
              "        vertical-align: middle;\n",
              "    }\n",
              "\n",
              "    .dataframe tbody tr th {\n",
              "        vertical-align: top;\n",
              "    }\n",
              "\n",
              "    .dataframe thead th {\n",
              "        text-align: right;\n",
              "    }\n",
              "</style>\n",
              "<table border=\"1\" class=\"dataframe\">\n",
              "  <thead>\n",
              "    <tr style=\"text-align: right;\">\n",
              "      <th></th>\n",
              "      <th>2</th>\n",
              "      <th>3</th>\n",
              "    </tr>\n",
              "  </thead>\n",
              "  <tbody>\n",
              "    <tr>\n",
              "      <th>0</th>\n",
              "      <td>39</td>\n",
              "      <td>144</td>\n",
              "    </tr>\n",
              "    <tr>\n",
              "      <th>1</th>\n",
              "      <td>47</td>\n",
              "      <td>220</td>\n",
              "    </tr>\n",
              "    <tr>\n",
              "      <th>2</th>\n",
              "      <td>45</td>\n",
              "      <td>138</td>\n",
              "    </tr>\n",
              "    <tr>\n",
              "      <th>3</th>\n",
              "      <td>47</td>\n",
              "      <td>145</td>\n",
              "    </tr>\n",
              "    <tr>\n",
              "      <th>4</th>\n",
              "      <td>65</td>\n",
              "      <td>162</td>\n",
              "    </tr>\n",
              "  </tbody>\n",
              "</table>\n",
              "</div>"
            ],
            "text/plain": [
              "    2    3\n",
              "0  39  144\n",
              "1  47  220\n",
              "2  45  138\n",
              "3  47  145\n",
              "4  65  162"
            ]
          },
          "metadata": {
            "tags": []
          },
          "execution_count": 31
        }
      ]
    },
    {
      "cell_type": "code",
      "metadata": {
        "id": "9JodcwnUH9vv",
        "colab_type": "code",
        "colab": {
          "base_uri": "https://localhost:8080/",
          "height": 197
        },
        "outputId": "bcb7318d-3f4c-4f94-a9bf-819a7bb7095a"
      },
      "source": [
        "data.tail()"
      ],
      "execution_count": 32,
      "outputs": [
        {
          "output_type": "execute_result",
          "data": {
            "text/html": [
              "<div>\n",
              "<style scoped>\n",
              "    .dataframe tbody tr th:only-of-type {\n",
              "        vertical-align: middle;\n",
              "    }\n",
              "\n",
              "    .dataframe tbody tr th {\n",
              "        vertical-align: top;\n",
              "    }\n",
              "\n",
              "    .dataframe thead th {\n",
              "        text-align: right;\n",
              "    }\n",
              "</style>\n",
              "<table border=\"1\" class=\"dataframe\">\n",
              "  <thead>\n",
              "    <tr style=\"text-align: right;\">\n",
              "      <th></th>\n",
              "      <th>2</th>\n",
              "      <th>3</th>\n",
              "    </tr>\n",
              "  </thead>\n",
              "  <tbody>\n",
              "    <tr>\n",
              "      <th>25</th>\n",
              "      <td>53</td>\n",
              "      <td>158</td>\n",
              "    </tr>\n",
              "    <tr>\n",
              "      <th>26</th>\n",
              "      <td>63</td>\n",
              "      <td>144</td>\n",
              "    </tr>\n",
              "    <tr>\n",
              "      <th>27</th>\n",
              "      <td>29</td>\n",
              "      <td>130</td>\n",
              "    </tr>\n",
              "    <tr>\n",
              "      <th>28</th>\n",
              "      <td>25</td>\n",
              "      <td>125</td>\n",
              "    </tr>\n",
              "    <tr>\n",
              "      <th>29</th>\n",
              "      <td>69</td>\n",
              "      <td>175</td>\n",
              "    </tr>\n",
              "  </tbody>\n",
              "</table>\n",
              "</div>"
            ],
            "text/plain": [
              "     2    3\n",
              "25  53  158\n",
              "26  63  144\n",
              "27  29  130\n",
              "28  25  125\n",
              "29  69  175"
            ]
          },
          "metadata": {
            "tags": []
          },
          "execution_count": 32
        }
      ]
    },
    {
      "cell_type": "code",
      "metadata": {
        "id": "jDZgUkwDIy1o",
        "colab_type": "code",
        "colab": {
          "base_uri": "https://localhost:8080/",
          "height": 881
        },
        "outputId": "97a18a36-434f-4daf-a38f-54cc5db6df95"
      },
      "source": [
        "data.plot(x=2,y=3,kind='scatter')\n",
        "\n",
        "data.plot(x=2,kind='hist')\n",
        "data.plot(x=3,kind='hist')\n",
        "\n",
        "print(data.mean(axis=0))\n",
        "print(data.median(axis=0))"
      ],
      "execution_count": 33,
      "outputs": [
        {
          "output_type": "stream",
          "text": [
            "2     45.133333\n",
            "3    142.533333\n",
            "dtype: float64\n",
            "2     45.5\n",
            "3    141.0\n",
            "dtype: float64\n"
          ],
          "name": "stdout"
        },
        {
          "output_type": "display_data",
          "data": {
            "image/png": "[encoded data removed]",
            "text/plain": [
              "<Figure size 432x288 with 1 Axes>"
            ]
          },
          "metadata": {
            "tags": [],
            "needs_background": "light"
          }
        },
        {
          "output_type": "display_data",
          "data": {
            "image/png": "[encoded data removed]",
            "text/plain": [
              "<Figure size 432x288 with 1 Axes>"
            ]
          },
          "metadata": {
            "tags": [],
            "needs_background": "light"
          }
        },
        {
          "output_type": "display_data",
          "data": {
            "image/png": "[encoded data removed]",
            "text/plain": [
              "<Figure size 432x288 with 1 Axes>"
            ]
          },
          "metadata": {
            "tags": [],
            "needs_background": "light"
          }
        }
      ]
    },
    {
      "cell_type": "code",
      "metadata": {
        "id": "HihTBHY6zxjO",
        "colab_type": "code",
        "colab": {}
      },
      "source": [
        "t1= np.random.normal(5, 2, 100)\n",
        "t2= np.random.normal(10, 2, 100)\n",
        "t3= np.random.normal (5, 2 , 100)\n",
        "\n",
        "total = (t1 + t2 +t3)\n",
        "print (t1)\n",
        "print (total)\n",
        "\n",
        "plt.hist(total)\n",
        "plt.show\n",
        "\n",
        "sigma = np.std(total)\n",
        "sigma_p1 = np.std(t1)\n",
        "sigma_p2 = np.std(t2)\n",
        "sigma_p3 = np.std(t3)\n",
        "\n",
        "print('sigma global:', sigma)\n",
        "print('sigma proceso 1 :', sigma_p1)\n",
        "print('sigma proceso 2 :', sigma_p2)\n",
        "print('sigma proceso 3 :', sigma_p3)\n"
      ],
      "execution_count": null,
      "outputs": []
    },
    {
      "cell_type": "code",
      "metadata": {
        "id": "mm6tAdUdZdJy",
        "colab_type": "code",
        "colab": {
          "base_uri": "https://localhost:8080/",
          "height": 54
        },
        "outputId": "cb518f20-c048-43d5-aae6-4739de626d94"
      },
      "source": [
        "from google.colab import drive\n",
        "drive.mount('/content/drive/')\n"
      ],
      "execution_count": 38,
      "outputs": [
        {
          "output_type": "stream",
          "text": [
            "Drive already mounted at /content/drive/; to attempt to forcibly remount, call drive.mount(\"/content/drive/\", force_remount=True).\n"
          ],
          "name": "stdout"
        }
      ]
    }
  ]
}