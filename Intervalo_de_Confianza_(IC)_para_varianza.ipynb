{
  "nbformat": 4,
  "nbformat_minor": 0,
  "metadata": {
    "colab": {
      "name": "Intervalo de Confianza (IC) para varianza.ipynb",
      "provenance": [],
      "authorship_tag": "ABX9TyNhpQONF/Gv4SiZWurKIgvd",
      "include_colab_link": true
    },
    "kernelspec": {
      "name": "python3",
      "display_name": "Python 3"
    },
    "language_info": {
      "name": "python"
    }
  },
  "cells": [
    {
      "cell_type": "markdown",
      "metadata": {
        "id": "view-in-github",
        "colab_type": "text"
      },
      "source": [
        "<a href=\"https://colab.research.google.com/github/robertomoragad/Estadistica/blob/master/Intervalo_de_Confianza_(IC)_para_varianza.ipynb\" target=\"_parent\"><img src=\"https://colab.research.google.com/assets/colab-badge.svg\" alt=\"Open In Colab\"/></a>"
      ]
    },
    {
      "cell_type": "code",
      "execution_count": 2,
      "metadata": {
        "id": "R18aTLJvvcpa"
      },
      "outputs": [],
      "source": [
        "import numpy as np # importando numpy\n",
        "from scipy import stats # importando scipy.stats\n",
        "import matplotlib.pyplot as plt #importando matplotlib"
      ]
    },
    {
      "cell_type": "markdown",
      "source": [
        "**Intervalo de Confianza (IC) para varianzas**\n",
        "\n",
        "Para estimar un intervalo de confianza para la varianza, nos ayudaremos de la distribución Chi-Cuadrado ${ \\mbox{$\\chi$ } }^2$.\n",
        "Esto debido a que si tomáramos todas las muestras posibles de una población normal y a cada muestra se le calculará su varianza, se obtendría la distribución muestral de varianzas de acuerdo a la distribución ${ \\mbox{$\\chi$ } }^2$.\n",
        "\n",
        "\n",
        "Si se elige una muestra de tamaño n de una población normal con varianza ${ \\mbox{$\\sigma$ } }^2$,  el estadístico que nos resulta útil se denota X2 o ${ \\mbox{$\\chi$ } }^2$ y tiene una distribución muestral que es una distribución chi-cuadrado con gl=n-1 grados de libertad:\n",
        "\n",
        "<img src='https://drive.google.com/uc?export=view&id=1wlRkn89EpIEStk5IRO51XVRVU9mqxzCr' width=\"500\" align=\"center\" style=\"margin-right: 20px\"> \n",
        "<br>\n",
        "donde n es el tamaño de la muestra, S2 la varianza muestral y ${ \\mbox{$\\sigma$ } }^2$ la varianza de la población de donde se extrajo la muestra.\n",
        "\n",
        "\n",
        "\n",
        "Si consideramos 2 cuantiles para esta distribución Chi-Cuadrado, que nos entregue una probabilidad $1-\\alpha $ en la parte central de la distribución, tendríamos:\n",
        "\n",
        "<img src='https://drive.google.com/uc?export=view&id=1-HpE_VSuuKjSyORfdmm6AFJa55vc29Yt' width=\"800\" align=\"center\" style=\"margin-right: 20px\"> \n",
        "<br>\n",
        "\n",
        "\n",
        "Por tanto un Intervalo de Confianza (IC) con un nivel de confianza $1-\\alpha$ para la varianza de una población normal (distribución gaussiana) y cuyos parámetros son desconocidos, se obtendrá teniendo en cuenta que existe una probabilidad $1-\\alpha $ de que:\n",
        "\n",
        "<img src='https://drive.google.com/uc?export=view&id=10GKVBCoKFWcwzZFR6V5AMgXeluU_tFwx' width=\"600\" align=\"center\" style=\"margin-right: 20px\"> \n",
        "<br>\n",
        " \n",
        "\n",
        "\n",
        "Y por lo tanto el Intervalode Confianza que necesitamos es: \n",
        "\n",
        "<img src='https://drive.google.com/uc?export=view&id=1PVvCADg9J3Msfp6EwN8ywRIXRTmObEpl' width=\"400\" align=\"center\" style=\"margin-right: 20px\"> \n",
        "<br>"
      ],
      "metadata": {
        "id": "bZbfnLox4Ccb"
      }
    },
    {
      "cell_type": "markdown",
      "source": [
        "\n",
        "\n",
        "---\n",
        "\n",
        "\n",
        "**Ejemplo**\n",
        "\n",
        "Se cuenta con una muestra con la altura de los individuos de una ciudad.\n",
        "\n",
        "Datos: (181, 172, 199, 167,  171, 185, 160, 164, 171, 166, 158, 167, 166, 176, 153, 162, 181, 188, 154, 176, 160, 161, 161, 165, 179)\n",
        "\n",
        "obteniéndose para dicha muestra de 25 individuos los siguientes estadísticos:\n",
        "\n",
        "\n",
        "\\begin{eqnarray*}\\overline{x}&=& 169.72 \\mbox{ cm}\n",
        "\\\\\n",
        "{\\cal S}&=& 10.98 \\mbox{ cm}\n",
        "\\end{eqnarray*}\n",
        "\n",
        "Se necesita calcular un intervalo de confianza con $\\alpha=0,05$ para la varianza $\\sigma ^2$ de la altura de los individuos de dicha ciudad."
      ],
      "metadata": {
        "id": "XWH1qjAlvyaE"
      }
    },
    {
      "cell_type": "markdown",
      "source": [
        "**Solución**:\n",
        "\n",
        "Como hemos visto anteriormente, para estimar un Intervalo de Confianza para $\\sigma ^2$ (varianza poblacional) el estadístico que nos resulta útil es:\n",
        "\n",
        "![Estadísticos de prueba](https://drive.google.com/uc?export=view&id=1hdlUIXEBk6Nv0dJYCJNuXifaFPpNlShP)\n",
        "\n",
        "\n",
        "\n",
        "Entonces el intervalo de confianza que buscamos lo obtendremos mediante los percentiles alpha/2  (cola izquierda) y 1-alpha/2 (cola derecha), para la Distribución $\\chi _{24}^2$\n",
        "\n",
        "---\n",
        "Procedamos a realizar el análisis aplicando python:"
      ],
      "metadata": {
        "id": "ULlfGGNU1WlP"
      }
    },
    {
      "cell_type": "code",
      "source": [
        "#Cargar data set\n",
        "data = (181, 172, 199, 167,  171, 185, 160, 164, 171, 166, 158, 167, 166, 176, 153, 162, 181, 188, 154, 176, 160, 161, 161, 165, 179 )\n",
        "\n",
        "#Calcular estadísticos\n",
        "n = np.size(data) #tamaño muestra\n",
        "xbar = np.mean(data) #media muestral\n",
        "sigma = np.std(data) # Desv. std muestra no insesgada\n",
        "s = np.std(data, ddof=1) #Desv. std muestral \"insesgada\"\n",
        "#otra forma para insesgar:\n",
        "#s = sigma * (np.sqrt(n) / np.sqrt(n-1)) #Desv. std muestral \"insesgada\"\n",
        "s2 = np.power(s, 2) #varianza muestral insesgada\n",
        "\n",
        "\n",
        "# IC con NC 95%\n",
        "NC = 0.95 #nivel de confianza\n",
        "alpha = 1 - NC #nivel de significancia\n",
        "alpha_medio = alpha / 2\n",
        "\n",
        "# Calcular Chi2 con la función de distribucion X2 acumulada inversa (ppf) para ambas colas\n",
        "#esto dado que Chi2 no es simétrica (como si lo es la dist. normal estandarizada o T-student utilzada para Medias)\n",
        "Chi_izq = stats.chi2.ppf(alpha_medio, n-1) # cola izquierda con n-1 grados de libertad\n",
        "Chi_der = stats.chi2.ppf(1-alpha_medio, n-1) # cola izquierda con n-1 grados de libertad\n",
        "\n",
        "LI = (n-1)*s2 / Chi_der\n",
        "LS = (n-1)*s2 / Chi_izq\n",
        "\n",
        "print(f'Intervalo de Confianza (IC) al {NC} para varianza poblacional: {LI:4.2f}, {LS:4.2f}')\n",
        "\n",
        "#calcular desv. std poblacional\n",
        "print(f'Intervalo de Confianza (IC) al {NC} para desv. estándar poblacional: {np.sqrt(LI):4.2f}, {np.sqrt(LS):4.2f}')"
      ],
      "metadata": {
        "colab": {
          "base_uri": "https://localhost:8080/"
        },
        "id": "4o90eWaywGWB",
        "outputId": "c6e16435-b7fa-466b-c51b-61a61fe5a7bb"
      },
      "execution_count": 5,
      "outputs": [
        {
          "output_type": "stream",
          "name": "stdout",
          "text": [
            "Intervalo de Confianza (IC) al 0.95 para varianza poblacional: 76.59, 243.13\n",
            "Intervalo de Confianza (IC) al 0.95 para desv. estándar poblacional: 8.75, 15.59\n"
          ]
        }
      ]
    },
    {
      "cell_type": "markdown",
      "source": [
        "Conclusión:  \n",
        "* con un 95% de confianza, la varianza de la población se encuentra entre 76,59 cm y 243,13 cm.\n",
        "* con un 95% de confianza, la desviación estándar de la población se encuentra en 8,75 cm y 15,59 cm."
      ],
      "metadata": {
        "id": "v5B4X8tekwpS"
      }
    },
    {
      "cell_type": "code",
      "source": [
        "#Forma simple con Scipy, para obtener 2 valores Chi2 en funcion de alpha y n\n",
        "IC95 = stats.chi2.interval(NC, loc = 0, scale = 1, df=n-1)\n",
        "print(IC95)"
      ],
      "metadata": {
        "colab": {
          "base_uri": "https://localhost:8080/"
        },
        "id": "bFS_2V_uApts",
        "outputId": "db857ba4-d2ce-468a-f268-9a66425da44b"
      },
      "execution_count": 9,
      "outputs": [
        {
          "output_type": "stream",
          "name": "stdout",
          "text": [
            "(12.401150217444439, 39.36407702660391)\n"
          ]
        }
      ]
    },
    {
      "cell_type": "code",
      "source": [
        "#Graficando la distribucion Chi-cuadrado\n",
        "\n",
        "# proyectar distribución Chi2 con n=25\n",
        "varianzas = stats.chi2(n-1)\n",
        "x_m = np.linspace(varianzas.ppf(0.0001), varianzas.ppf(0.9999), 100)\n",
        "pdf_m = varianzas.pdf(x_m) # función densidad probabilidad\n",
        "\n",
        "plt.figure(figsize=(10, 5)) # tamaño gráfico\n",
        "plt.plot(x_m, pdf_m,\"b\", ) # medias fit\n",
        "plt.vlines(ymin=0, ymax=0.07, x=Chi_izq)# LI IC\n",
        "plt.vlines(ymin=0, ymax=0.07, x=Chi_der)# LI IC\n",
        "plt.legend(['Chi-2 n=25','Límite inf', 'Límite sup'])\n",
        "plt.show()"
      ],
      "metadata": {
        "colab": {
          "base_uri": "https://localhost:8080/",
          "height": 320
        },
        "id": "1_n5yL7Sra1M",
        "outputId": "c270089a-fb94-4e61-e8d4-8b86e5ce9717"
      },
      "execution_count": 10,
      "outputs": [
        {
          "output_type": "display_data",
          "data": {
            "image/png": "[encoded data removed]",
            "text/plain": [
              "<Figure size 720x360 with 1 Axes>"
            ]
          },
          "metadata": {
            "needs_background": "light"
          }
        }
      ]
    },
    {
      "cell_type": "code",
      "source": [
        "# proyectar distribución varianzas n=25\n",
        "chi2_score = stats.chi2(n-1).rvs(1000000)\n",
        "var = (n-1)*s2 / chi2_score\n",
        "\n",
        "\n",
        "plt.figure(figsize=(10, 5)) # tamaño gráfico\n",
        "plt.hist(var, bins=400, density=\"True\", range=(10, 400))\n",
        "\n",
        "plt.vlines(ymin=0, ymax=0.012, x=LI)# LI IC\n",
        "plt.vlines(ymin=0, ymax=0.012, x=LS)# LS IC\n",
        "plt.legend(['Límite inferior IC','Límite superior IC', 'Distribucion varianzas muestrales'])\n",
        "plt.show()\n",
        "\n",
        "#calcular percentiles 2.5 y 97.5\n",
        "per_a = np.percentile(var, (alpha_medio)*100)\n",
        "per_b = np.percentile(var, (1-alpha_medio)*100)\n",
        "\n",
        "print(\"Percentil 2.5: \", per_a)\n",
        "print(\"Percentil 97.5: \", per_b)"
      ],
      "metadata": {
        "colab": {
          "base_uri": "https://localhost:8080/",
          "height": 355
        },
        "id": "ql7Lnn5u7aCM",
        "outputId": "e6fb6277-36c1-4f9a-ac88-7f5a2ca9ecb8"
      },
      "execution_count": 11,
      "outputs": [
        {
          "output_type": "display_data",
          "data": {
            "image/png": "[encoded data removed]",
            "text/plain": [
              "<Figure size 720x360 with 1 Axes>"
            ]
          },
          "metadata": {
            "needs_background": "light"
          }
        },
        {
          "output_type": "stream",
          "name": "stdout",
          "text": [
            "Percentil 2.5:  76.61806669841883\n",
            "Percentil 97.5:  243.32701469513896\n"
          ]
        }
      ]
    },
    {
      "cell_type": "markdown",
      "source": [
        "----\n",
        "**Otro ejemplo:**\n",
        "Se quiere estimar la Varianza de una población (normal), para lo cual se toma una muestra aleatoria de tamaño 5, obteniendo de ella una media de 4,8 y una desviación std. de 1,2."
      ],
      "metadata": {
        "id": "hND6rU0uqT82"
      }
    },
    {
      "cell_type": "code",
      "source": [
        "#datos\n",
        "xbarra= 4.8  #media muestral\n",
        "sigma = 1.2 #desv. std muestral\n",
        "s2= np.power(sigma, 2)\n",
        "n= 5\n",
        "\n",
        "#Nivel de confianza del intervalo\n",
        "NC=0.95\n",
        "\n",
        "# IC con NC 95%\n",
        "NC = 0.95 #nivel de confianza\n",
        "alpha = 1 - NC #nivel de significancia\n",
        "alpha_medio = alpha / 2\n",
        "\n",
        "# Calcular Chi2 con la función de distribucion X2 acumulada inversa (ppf) para ambas colas\n",
        "#esto dado que Chi2 no es simétrica (como si lo es la dist. normal estandarizada o T-student utilzada para Medias)\n",
        "Chi_izq = stats.chi2.ppf(alpha_medio, n-1) # cola izquierda con n-1 grados de libertad\n",
        "Chi_der = stats.chi2.ppf(1-alpha_medio, n-1) # cola izquierda con n-1 grados de libertad\n",
        "\n",
        "LI = (n-1)*s2 / Chi_der\n",
        "LS = (n-1)*s2 / Chi_izq\n",
        "\n",
        "print(f'Intervalo de Confianza (IC) al {NC} para varianza poblacional: {LI:4.2f}, {LS:4.2f}')\n",
        "\n",
        "#calcular desv. std poblacional\n",
        "print(f'Intervalo de Confianza (IC) al {NC} para desv. estándar poblacional: {np.sqrt(LI):4.2f}, {np.sqrt(LS):4.2f}')\n"
      ],
      "metadata": {
        "colab": {
          "base_uri": "https://localhost:8080/"
        },
        "id": "hNum_YgIo201",
        "outputId": "9b226984-c190-4e7f-d4fb-fe2492741f42"
      },
      "execution_count": 8,
      "outputs": [
        {
          "output_type": "stream",
          "name": "stdout",
          "text": [
            "Intervalo de Confianza (IC) al 0.95 para varianza poblacional: 0.52, 11.89\n",
            "Intervalo de Confianza (IC) al 0.95 para desv. estándar poblacional: 0.72, 3.45\n"
          ]
        }
      ]
    },
    {
      "cell_type": "code",
      "source": [
        "#Forma simple con Scipy, para obtener 2 valores Chi2 en funcion de alpha y n\n",
        "IC95 = stats.chi2.interval(NC, loc = 0, scale = 1, df=n-1)\n",
        "print(IC95)"
      ],
      "metadata": {
        "colab": {
          "base_uri": "https://localhost:8080/"
        },
        "id": "VJY2tZmIp59o",
        "outputId": "93309f21-6cce-4c9e-eec8-3d506349b701"
      },
      "execution_count": 9,
      "outputs": [
        {
          "output_type": "stream",
          "name": "stdout",
          "text": [
            "(0.48441855708793014, 11.143286781877796)\n"
          ]
        }
      ]
    }
  ]
}