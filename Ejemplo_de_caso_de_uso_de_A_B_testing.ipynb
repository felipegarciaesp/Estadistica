{
  "nbformat": 4,
  "nbformat_minor": 0,
  "metadata": {
    "colab": {
      "provenance": [],
      "authorship_tag": "ABX9TyONnD3YfXUNZESYUPIdY7HS",
      "include_colab_link": true
    },
    "kernelspec": {
      "name": "python3",
      "display_name": "Python 3"
    },
    "language_info": {
      "name": "python"
    }
  },
  "cells": [
    {
      "cell_type": "markdown",
      "metadata": {
        "id": "view-in-github",
        "colab_type": "text"
      },
      "source": [
        "<a href=\"https://colab.research.google.com/github/robertomoragad/Estadistica/blob/master/Ejemplo_de_caso_de_uso_de_A_B_testing.ipynb\" target=\"_parent\"><img src=\"https://colab.research.google.com/assets/colab-badge.svg\" alt=\"Open In Colab\"/></a>"
      ]
    },
    {
      "cell_type": "markdown",
      "source": [
        "#Ejemplo de caso de uso de las pruebas A/B\n",
        "\n",
        "En este notebook vamos a trabajar un ejemplo de caso de uso de las pruebas A/B (A/B testing) en un servicio digital.\n",
        "\n",
        "##Antecedentes\n",
        "Imaginemos que trabajamos en un banco digital, que actualmente tiene problemas con el engagement y la retención de sus clientes.\n",
        "\n",
        "Los indicadores que maneja la empresa respecto al uso de su servicio digital por parte de sus clientes son:\n",
        "\n",
        "* Tráfico:  cuenta con una promedio de visitas mensuales de 13.8 Millones\n",
        "* Engagement: las visitas al servicio tienen una duración promedio de 5:18 minutos\n",
        "* Rebote: la tasa de rebote del servicio es de 25.91%\n",
        "\n",
        "<img src='https://drive.google.com/uc?export=view&id=1oS4n7RdWI-Vv26_qUn8XSBbwglbl2oNF' width=\"800\" align=\"center\" style=\"margin-right: 20px\"> \n",
        "<br>\n",
        "\n",
        "<p style=\"font-size:8pt\" align=\"center\" > \n",
        "Imagen gentileza de: Roberto Moraga (workshop A/B testing) </p>\n"
      ],
      "metadata": {
        "id": "c_nE5EI78m0N"
      }
    },
    {
      "cell_type": "markdown",
      "source": [
        "Se ha formado un equipo de Growth hacking, cuyo primer desafío a trabajar es el aumento del **engagement de clientes**.\n",
        "\n",
        "### Análisis exploratorios\n",
        "\n",
        "El equipo ha realizado distintos análisis exploratorios y ha encontrado correlaciones entre el tiempo de duración de las visitas al servicio y la tasa de conversión del producto estrella de la compañía (ej: crédito de consumo).\n",
        "\n",
        "Adicionalmente han encontrado una correlación negativa en el tiempo de duración de las visitas al servicio y el churn de clientes.\n",
        "\n",
        "Veamos estos análisis y sus conclusiones:\n",
        "\n",
        "<img src='https://drive.google.com/uc?export=view&id=1QaAfn3vhkDeR1PnLrScfuslKHvKcsCLJ' width=\"800\" align=\"center\" style=\"margin-right: 20px\"> \n",
        "<br>\n",
        "\n",
        "<p style=\"font-size:8pt\"> \n",
        "Imagen gentileza de: Roberto Moraga (workshop A/B testing) </p>\n",
        "\n",
        "\n",
        "<img src='https://drive.google.com/uc?export=view&id=1h4u2Ivo1goTkAFI2yYfKz4C105aK_8YF' width=\"800\" align=\"center\" style=\"margin-right: 20px\"> \n",
        "<br>\n",
        "\n",
        "<p style=\"font-size:8pt\" align=\"center\" > \n",
        "Imagen gentileza de: Roberto Moraga (workshop A/B testing) </p>\n"
      ],
      "metadata": {
        "id": "piZaupSW-FTH"
      }
    },
    {
      "cell_type": "markdown",
      "source": [
        "Se puede concluir de estos análisis que al aumentar el tiempo de duración de las visitas, esto tendrá un impacto positivo en el Revenue de la compañía ya que aumenta la conversión del producto estrella, y adicionalmente controlará o miniminizará el ratio de fuga de clientes \"churn\" impactando positivamente en la Retención y con ello en el aumento de clientes y posiblemente en la dismunución de costos de adquisición de nuevos clientes.\n",
        "\n",
        "### Análisis de rendimiento y tráfico del competidor\n",
        "\n",
        "Sumado a lo anterior se cuenta con un estudio de inteligencia digital del principal competidor. Las analíticas web reportadas en este estudio indican que este competidor tiene un tráfico promedio mensual de 14.9 millones de visitas (un 7% más que nuestra compañía), con un engagement traducido en tiempo de duración de visitas de 7:01 minutos (casí 2 minutos más que nosotros), y una tasa de rebote de 13.80% (casí la mitad de la actual nuestra).\n",
        "\n",
        "Veamos la comparativa:\n",
        "\n",
        "<img src='https://drive.google.com/uc?export=view&id=12a2LGSn_ebh-pMkaF6F7RWIS5CW9EIq4' width=\"800\" align=\"center\" style=\"margin-right: 20px\"> \n",
        "<br>\n",
        "\n",
        "<p style=\"font-size:6pt\" align=\"center\" > \n",
        "Imagen gentileza de: Roberto Moraga\n",
        "</p>\n"
      ],
      "metadata": {
        "id": "9WqFvh9FHTvP"
      }
    },
    {
      "cell_type": "markdown",
      "source": [
        "En suma, el equipo ha acordado trabajar ideas para aumentar el tiempo promedio de visitas, moviendo la métrica global de engagemente a un valor promedio cercano a los 7 minutos."
      ],
      "metadata": {
        "id": "AFeJBLOvKIzL"
      }
    },
    {
      "cell_type": "markdown",
      "source": [
        "## Experimentos\n",
        "\n",
        "Para optimizar el engagement el equipo de trabajo puede aplicar un ciclo experimentación como el que se presenta en el siguiente diagrama:\n",
        "\n",
        "\n",
        "<img src='https://drive.google.com/uc?export=view&id=188DgjXaFbW8PrONuIxpAmVEH8luDsY0e' width=\"800\" align=\"center\" style=\"margin-right: 20px\"> \n",
        "<br>\n",
        "\n",
        "<p style=\"font-size:6pt\" align=\"center\" > \n",
        "Imagen gentileza de: Roberto Moraga\n",
        "</p>\n",
        "\n",
        "\n",
        "El punto 0 consiste en escoger el Desafío de Negocio, en este caso: *Aumentar el engagement de clientes*.\n",
        "\n",
        "El siguiente paso tiene que ver con identificar ideas que podrían generar una:\n",
        "\n",
        "* mejor experiencia de navegación\n",
        "* mayor simplicidad de los pasos para conseguir lo que busca el cliente\n",
        "* mayor personalización de la plataforma\n",
        "* etc, etc, etc\n",
        "\n",
        "y así hacer que los clientes disfruten el servicio y consigan lo que están buscando, y por cierto vuelvan la próxima vez y hagan Referral del banco (nos promuevan en sus redes).\n"
      ],
      "metadata": {
        "id": "5yYdp10t0Yzk"
      }
    },
    {
      "cell_type": "markdown",
      "source": [
        "###Definir la Hipótesis\n",
        "Ejemplo de una hipótesis:\n",
        "\n",
        "*un cambio del orden de las funciones del **menú principal** hará que los clientes no se desconecten del servicio y consigan activar lo que necesitan del banco. Esto lo mediremos con el tiempo de duración de su visita.*\n",
        "\n",
        "En este caso el equipo podría aplicar al menos 2 experimentos:\n",
        "\n",
        "1.   Desarrollar 1 nueva versión de menú (distinta a la actual productiva) y presentarla a un grupo de clientes,  para luego comparar los resultados contra el rendimiento actual del servicio (5.3 minutos promedio). Lo que se ejecuta aquí es un análisis post-hoc para determinar la efectividad del tratamiento (nueva versión).  \n",
        "\n",
        "2.   Desarrollar 2 nuevas versiones de menú (distintas a la actual productiva) y presentarla a 2 grupos de clientes mutuamente excluyentes, para luego comparar los resultados de los 2 grupos por medio de una análisis Post-hoc para determinar la efectividad de ambos tratamientos (2 versiones)."
      ],
      "metadata": {
        "id": "0xNs28btTpyN"
      }
    },
    {
      "cell_type": "markdown",
      "source": [
        "### Caso 1\n",
        "Para el primer caso, se podría aplicar un Test de Hipótesis de 1 muestra contra un target, donde el target podría ser la línea base del servicio utilizando la media de 5.3 minutos o en la eventualidad de rechazar la hipótesis nula proceder a calcular el tamaño del efecto y la potencia de la prueba con la media obtenida en el grupo de clientes con la nueva versión. Este estudio puede ser aplicado por medio de la prueba Z de 1 muestra o la prueba T Student de 1 muestra, ambas para Test de hipótesis para medias.\n",
        "\n",
        "Una alternativa sería calcular la proporción actual de visitas que tienen una duración mayor o igual al umbral de 7 minutos,  y considerar esta proporción como el indicador a maximizar.  Esta opción es mucho más simple, ya que no es necesario considerar los supuestos de normalidad de la variable, que como fue visto en el primer gráfico su distribución no es normal, más bien es asimétrica con una aproximación a una distribución continua tipo Gamma.\n",
        "\n",
        "\n",
        "\n",
        "<img src='https://drive.google.com/uc?export=view&id=1Lq1fgKVBvSUHd05t22aJtKkMDHnNIGVO' width=\"1000\" align=\"center\" style=\"margin-right: 20px\"> \n",
        "<br>\n",
        "\n",
        "<p style=\"font-size:6pt\" align=\"center\" > \n",
        "Imagen gentileza de: Roberto Moraga\n",
        "</p>\n",
        "\n",
        "\n",
        "\n",
        "\n",
        "\n",
        "\n"
      ],
      "metadata": {
        "id": "zE3pOtZ71rB-"
      }
    },
    {
      "cell_type": "markdown",
      "source": [
        "###Caso 2\n",
        "\n",
        "Para el segundo caso, se podría aplicar un Test de hipótesis de diferencia de medias, aplciando la prueba T Student de 2 muestras independientes. El problema aquí es nuevamente la normalidad de los datos, como hemos visto en este ejemplo la variable 'tiempo de duración' no es normal. En este caso podríamos recomendar 2 alternativas:\n",
        "\n",
        "* a) Una prueba no paramétrica de diferencia de medianas de muestras, como la prueba U Mann-Whitney.\n",
        "* b) A cada muestra calcular el porcentaje de visitas con duración mayor o igual a 7 minutos, y luego aplicar una prueba Z de diferencia de 2 proporciones.\n",
        "\n",
        "\n",
        "Creo que en este caso es mucho más simple trabajar con las proporciones, el problema aquí es identificar el umbral de corte. \n",
        "\n",
        "\n",
        "<img src='https://drive.google.com/uc?export=view&id=1dWYGAGaMpK_GkdSa43ou8TYlrfWll2VY' width=\"1200\" align=\"center\" style=\"margin-right: 20px\"> \n",
        "<br>\n",
        "\n",
        "<p style=\"font-size:6pt\" align=\"center\" > \n",
        "Imagen gentileza de: Roberto Moraga\n",
        "</p>\n",
        "\n",
        "\n"
      ],
      "metadata": {
        "id": "-tSloTR0K41m"
      }
    },
    {
      "cell_type": "markdown",
      "source": [
        "### Umbral de corte\n",
        "**¿Cómo encontrar el umbral para medir el KPI?**\n",
        "\n",
        "Para responder esta pregunta, los análisis exploratorios son de gran ayuda, y pueden resultar clave para determinar el umbral, en este caso los 7 minutos, ya que como se observó en el análisis los clientes que exhiben una duración igual o mayor a dicho umbral tienen mayor probabilidad de convertir y menor probabilidad de abandonar el servicio.\n",
        "\n",
        "\n",
        "Otra forma de determinar este umbral podría ser por medio de un Benchmark, tal como lo hicimos en este ejemplo observando al principal competidor o líder del mercado. Otra forma es siguiendo la definición de clase mundial de un Cuerpo de conocimiento de la industria donde operamos o una definición normativa (legislación), o por supuesto lo exigido por un cliente si es el caso de un servicio B2B."
      ],
      "metadata": {
        "id": "7QOEh867Qu-P"
      }
    },
    {
      "cell_type": "markdown",
      "source": [
        "## Cierre\n",
        "En este documento he querido dejar unas ideas que tenía en mente sobre 2 formas de aplicar pruebas A/B. Seguiré puliendo el documento, incorporando más información y datasets con los cuales haré los análisis de distribución, umbrales y las pruebas de hipótesis con python."
      ],
      "metadata": {
        "id": "629krKRZVNWz"
      }
    },
    {
      "cell_type": "markdown",
      "source": [
        "##Referencias\n",
        "\n",
        "\n",
        "\n",
        "* Quieres aprender más sobre Análisis de umbrales, puedes revisar esta publicación: https://www.linkedin.com/pulse/an%C3%A1lisis-de-umbrales-roberto-moraga-diaz-lean-agile-coach/\n",
        "\n",
        "* más sobre pruebas A/B:  https://www.linkedin.com/pulse/introducci%25C3%25B3n-al-m%25C3%25A9todo-ab-testing-roberto-moraga-diaz/\n",
        "------\n",
        "\n",
        "* Cohen J.  Things I have learned (so far) Am Psychol, 1990.\n",
        "\n",
        "* Gail M. Sullivan, Richard Feinn.   Using Effect Size—or Why the P Value Is Not Enough, 2012.\n",
        "\n",
        "* Geoff Cumming.  Understanding The New Statistics (Multivariate Applications Series), 2012.\n",
        "\n",
        "* https://en.wikipedia.org/wiki/Effect_size\n",
        "\n",
        "* https://github.com/robertomoragad/Estadistica/blob/master/Tama%C3%B1o_del_Efecto_y_Potencia_Estad%C3%ADstica_en_la_prueba_de_T_de_Student_para_dos_grupos.ipynb\n",
        "\n",
        "* https://github.com/robertomoragad/Estadistica/blob/master/Calculo_de_poder_Experimento_01.ipynb"
      ],
      "metadata": {
        "id": "4810CZWIU18w"
      }
    }
  ]
}