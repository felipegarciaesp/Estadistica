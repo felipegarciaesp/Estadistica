{
  "nbformat": 4,
  "nbformat_minor": 0,
  "metadata": {
    "colab": {
      "provenance": [],
      "toc_visible": true,
      "authorship_tag": "ABX9TyNKQLeepdmptAZswU2Ytc3u",
      "include_colab_link": true
    },
    "kernelspec": {
      "name": "python3",
      "display_name": "Python 3"
    },
    "language_info": {
      "name": "python"
    }
  },
  "cells": [
    {
      "cell_type": "markdown",
      "metadata": {
        "id": "view-in-github",
        "colab_type": "text"
      },
      "source": [
        "<a href=\"https://colab.research.google.com/github/robertomoragad/Estadistica/blob/master/Ejemplo_de_caso_de_uso_de_A_B_testing.ipynb\" target=\"_parent\"><img src=\"https://colab.research.google.com/assets/colab-badge.svg\" alt=\"Open In Colab\"/></a>"
      ]
    },
    {
      "cell_type": "markdown",
      "source": [
        "#Ejemplo de caso de uso de las pruebas A/B\n",
        "\n",
        "\n",
        "En este notebook vamos a trabajar un ejemplo de caso de uso de las pruebas A/B (A/B testing) en un servicio digital."
      ],
      "metadata": {
        "id": "cVtnncc66csl"
      }
    },
    {
      "cell_type": "markdown",
      "source": [
        "\n",
        "\n",
        "##Antecedentes\n",
        "Imaginemos que trabajamos en un banco digital, que actualmente tiene problemas con el engagement y la retención de sus clientes.\n",
        "\n",
        "Los indicadores que maneja la empresa respecto al uso de su servicio digital por parte de sus clientes son:\n",
        "\n",
        "* Tráfico:  cuenta con una promedio de visitas mensuales de 13.8 Millones\n",
        "* Engagement: las visitas al servicio tienen una duración promedio de 5:18 minutos\n",
        "* Rebote: la tasa de rebote del servicio es de 25.91%\n",
        "\n",
        "<img src='https://drive.google.com/uc?export=view&id=1oS4n7RdWI-Vv26_qUn8XSBbwglbl2oNF' width=\"800\" align=\"center\" style=\"margin-right: 20px\"> \n",
        "<br>\n",
        "\n",
        "<p style=\"font-size:8pt\" align=\"center\" > \n",
        "Imagen gentileza de: Roberto Moraga (workshop A/B testing) </p>\n",
        "\n",
        "Se ha formado un equipo de Growth hacking, cuyo primer desafío a trabajar es el aumento del **engagement de clientes**.\n"
      ],
      "metadata": {
        "id": "c_nE5EI78m0N"
      }
    },
    {
      "cell_type": "markdown",
      "source": [
        "\n",
        "\n",
        "### Análisis exploratorios\n",
        "\n",
        "El equipo ha realizado distintos análisis exploratorios y ha encontrado correlaciones entre el tiempo de duración de las visitas al servicio y la tasa de conversión del producto estrella de la compañía (ej: crédito de consumo).\n",
        "\n",
        "Adicionalmente han encontrado una correlación negativa en el tiempo de duración de las visitas al servicio y el churn de clientes.\n",
        "\n",
        "Veamos estos análisis y sus conclusiones:\n",
        "\n",
        "<img src='https://drive.google.com/uc?export=view&id=1QaAfn3vhkDeR1PnLrScfuslKHvKcsCLJ' width=\"800\" align=\"center\" style=\"margin-right: 20px\"> \n",
        "<br>\n",
        "\n",
        "<p style=\"font-size:8pt\"> \n",
        "Imagen gentileza de: Roberto Moraga (workshop A/B testing) </p>\n",
        "\n",
        "\n",
        "<img src='https://drive.google.com/uc?export=view&id=1h4u2Ivo1goTkAFI2yYfKz4C105aK_8YF' width=\"800\" align=\"center\" style=\"margin-right: 20px\"> \n",
        "<br>\n",
        "\n",
        "<p style=\"font-size:8pt\" align=\"center\" > \n",
        "Imagen gentileza de: Roberto Moraga (workshop A/B testing) </p>\n"
      ],
      "metadata": {
        "id": "piZaupSW-FTH"
      }
    },
    {
      "cell_type": "markdown",
      "source": [
        "Se puede concluir de estos análisis que al aumentar el tiempo de duración de las visitas, esto tendrá un impacto positivo en el Revenue de la compañía ya que aumenta la conversión del producto estrella, y adicionalmente controlará o miniminizará el ratio de fuga de clientes \"churn\" impactando positivamente en la Retención y con ello en el aumento de clientes y posiblemente en la dismunución de costos de adquisición de nuevos clientes.\n"
      ],
      "metadata": {
        "id": "VuM-KQjR7IOn"
      }
    },
    {
      "cell_type": "markdown",
      "source": [
        "### Análisis de rendimiento y tráfico del competidor\n",
        "\n",
        "Sumado a lo anterior se cuenta con un estudio de inteligencia digital del principal competidor. Las analíticas web reportadas en este estudio indican que este competidor tiene un tráfico promedio mensual de 14.9 millones de visitas (un 7% más que nuestra compañía), con un engagement traducido en tiempo de duración de visitas de 7:01 minutos (casí 2 minutos más que nosotros), y una tasa de rebote de 13.80% (casí la mitad de la actual nuestra).\n",
        "\n",
        "Veamos la comparativa:\n",
        "\n",
        "<img src='https://drive.google.com/uc?export=view&id=12a2LGSn_ebh-pMkaF6F7RWIS5CW9EIq4' width=\"800\" align=\"center\" style=\"margin-right: 20px\"> \n",
        "<br>\n",
        "\n",
        "<p style=\"font-size:6pt\" align=\"center\" > \n",
        "Imagen gentileza de: Roberto Moraga\n",
        "</p>\n"
      ],
      "metadata": {
        "id": "0oj0tuWP7GMG"
      }
    },
    {
      "cell_type": "markdown",
      "source": [
        "En suma, con base en los análisis anteriores, el equipo de trabajo ha acordado desarrollar ideas que apunten a aumentar el tiempo promedio de visitas en la página del banco, esto con el objetivo de mover la métrica global de engagement.\n",
        "\n",
        "La métrica global de engagement podrá ser medida por:\n",
        "\n",
        "* Promedio de tiempo de las visitas. Si se toma este indicador lo que se buscará es aumentar el actual promedio que es de 5.30 minutos, moviéndolo a valores cercanos a los de la competencia. \n",
        " \n",
        " Por ejmplo aquí la dirección del negocio podría definir un efecto mínimo a alcanzar por un tratamiento igual a 30 segundos, es dedir, 0.5 minutos más del actual tiempo promedio.\n",
        "\n",
        "* Proporción de visitas con tiempo mayor o gual a 7 minutos. Si se toma este indicador lo que se buscará será aumentar el rendimiento actual que es de 25%.\n",
        "\n",
        " Por ejmplo aquí la dirección del negocio podría definir un efecto mínimo a alcanzar por un tratamiento igual a 500 puntos base, es dedir, 5 puntos porcentuales adicionales al actual rendimiento.\n",
        " \n",
        " \n",
        "A continuación vamos a simular la data de las visitas del mes de junio de nuestra compañía:"
      ],
      "metadata": {
        "id": "AFeJBLOvKIzL"
      }
    },
    {
      "cell_type": "code",
      "source": [
        "#Importamos librerias\n",
        "import numpy as np #\n",
        "from scipy import stats \n",
        "import matplotlib.pyplot as plt "
      ],
      "metadata": {
        "id": "ENM7OTBwQFqt"
      },
      "execution_count": 1,
      "outputs": []
    },
    {
      "cell_type": "code",
      "source": [
        "#crear data set Distribucion tiempos de visitas\n",
        "#parametros\n",
        "media = 5.30\n",
        "N = 13800000\n",
        "\n",
        "#descomponer y calcular alpha y beta para proyectar Distribucion Gamma\n",
        "alpha= 2.4\n",
        "beta = alpha/media\n",
        "\n",
        "print('beta: ', beta)\n",
        "print('alpha: ', alpha)\n",
        "print('media: ', alpha/beta)\n",
        "print('sigma: ', np.sqrt(alpha)/beta)\n",
        "\n",
        "#simular data set con Distribucion gamma\n",
        "data = np.random.RandomState(seed=1).gamma(alpha, 1/beta, N)\n",
        "#print(data)\n",
        "\n",
        "#calcular estadisticos data set\n",
        "xbar= np.average(data)\n",
        "s= np.std(data, ddof=1)\n",
        "print('media muestra: ', xbar)\n",
        "print('sigma muestra: ', s)\n",
        "\n"
      ],
      "metadata": {
        "colab": {
          "base_uri": "https://localhost:8080/"
        },
        "id": "zpYOlNfTPyYc",
        "outputId": "af56d00b-2063-4a4f-864c-20ebef36fb6b"
      },
      "execution_count": 6,
      "outputs": [
        {
          "output_type": "stream",
          "name": "stdout",
          "text": [
            "beta:  0.4528301886792453\n",
            "alpha:  2.4\n",
            "media:  5.3\n",
            "sigma:  3.421135289149885\n",
            "media muestra:  5.301812470454885\n",
            "sigma muestra:  3.4219780697944824\n"
          ]
        }
      ]
    },
    {
      "cell_type": "code",
      "source": [
        "#Umbral Target service time\n",
        "k = 7 #minutes\n",
        "\n",
        "#Momento 1\n",
        "data = data\n",
        "\n",
        "#Contador cumplimiento Umbral  \n",
        "count = 0\n",
        "for i in data : \n",
        "    if i <= k : \n",
        "        count = count + 1\n",
        "\n",
        "#calculo estadistica descriptiva\n",
        "muestra_a = np.size(data)\n",
        "media_a = np.mean(data)\n",
        "mediana_a = np.median(data)\n",
        "per75_a = np.percentile(data, 75)\n",
        "sigma_a = np.std(data, ddof=1)\n",
        "\n",
        "#calculo indicador negocio SLA\n",
        "q_target_a = count\n",
        "sla_a = 1- (count/muestra_a)\n",
        "\n",
        "#Graficar\n",
        "plt.figure(figsize=(10, 5)) #tamaño grafico\n",
        "plt.hist(data, bins=15, range=[0, 19], alpha=0.6, density=\"true\")\n",
        "plt.vlines(ymin=0, ymax=0.15, x=k, colors='r')#Z critico\n",
        "plt.legend(['Target', 'duracion de visita'],bbox_to_anchor=(1.1,1.05))\n",
        "plt.show()\n",
        "\n",
        "\n",
        "print('muestra: ', muestra_a)\n",
        "print(\"Cantidad en target: \", q_target_a)\n",
        "print(\"Cumplimiento target: \", sla_a)\n",
        "print('media: ', media_a)\n",
        "print('mediana: ', mediana_a)\n",
        "print('cuartil 3: ', per75_a)\n",
        "print('desv. std: ', sigma_a)"
      ],
      "metadata": {
        "colab": {
          "base_uri": "https://localhost:8080/",
          "height": 453
        },
        "id": "IwgOXXCaSoZY",
        "outputId": "e8a69c43-b985-42aa-bb44-de9bc670d533"
      },
      "execution_count": 9,
      "outputs": [
        {
          "output_type": "display_data",
          "data": {
            "text/plain": [
              "<Figure size 720x360 with 1 Axes>"
            ],
            "image/png": "[encoded data removed]"
          },
          "metadata": {
            "needs_background": "light"
          }
        },
        {
          "output_type": "stream",
          "name": "stdout",
          "text": [
            "muestra:  13800000\n",
            "Cantidad en target:  10300689\n",
            "Cumplimiento target:  0.2535732608695652\n",
            "media:  5.301812470454885\n",
            "mediana:  4.587107060960095\n",
            "cuartil 3:  7.046656308038324\n",
            "desv. std:  3.4219780697944824\n"
          ]
        }
      ]
    },
    {
      "cell_type": "markdown",
      "source": [
        "## Experimentos\n",
        "\n",
        "Para optimizar el engagement el equipo de trabajo puede aplicar un ciclo experimentación como el que se presenta en el siguiente diagrama:\n",
        "\n",
        "\n",
        "<img src='https://drive.google.com/uc?export=view&id=188DgjXaFbW8PrONuIxpAmVEH8luDsY0e' width=\"800\" align=\"center\" style=\"margin-right: 20px\"> \n",
        "<br>\n",
        "\n",
        "<p style=\"font-size:6pt\" align=\"center\" > \n",
        "Imagen gentileza de: Roberto Moraga\n",
        "</p>\n",
        "\n",
        "\n",
        "\n"
      ],
      "metadata": {
        "id": "5yYdp10t0Yzk"
      }
    },
    {
      "cell_type": "markdown",
      "source": [
        "### 0.- Selecciona el desafío de negocio\n",
        "El punto 0 consiste en escoger el Desafío de Negocio, en este caso: *Aumentar el engagement de clientes*.\n",
        "\n",
        "El siguiente paso tiene que ver con identificar ideas que podrían generar una:\n",
        "\n",
        "* mejor experiencia de navegación\n",
        "* mayor simplicidad de los pasos para que el cliente consiga lo que busca\n",
        "* mayor personalización de la plataforma\n",
        "* etc, etc, etc\n",
        "\n",
        "y gracias a ello hacer que los clientes disfruten el servicio y consigan lo que están buscando, y por cierto vuelvan la próxima vez a consumir el servicio digital, y hagan Referral del banco (nos promuevan en sus redes)."
      ],
      "metadata": {
        "id": "sDCUeJ9g8PWL"
      }
    },
    {
      "cell_type": "markdown",
      "source": [
        "### 1.- Definir la Hipótesis\n",
        "Ejemplo de una hipótesis:\n",
        "\n",
        ">*un cambio del orden de las funciones del **menú principal** hará que los clientes no se desconecten del servicio y consigan activar lo que necesitan del banco. Esto lo mediremos con el tiempo de duración de su visita.*\n",
        "\n",
        "\n",
        "* Métrica de éxito: aquí podríamos tener 2 opciones:\n",
        "  * Tiempo promedio de duración de la visita en minutos\n",
        "  * Proporción de visitas que tienen una duración mayor o igual a **7** minutos.\n",
        "\n",
        "\n",
        "\n",
        "Para esta Hipótesis el equipo de trabajo podría aplicar al menos los siguientes experimentos:\n",
        "\n",
        "1.   **Experimento no controlado de 1 muestra**\n",
        "\n",
        " Desarrollar 1 nueva versión de menú (distinta a la actual productiva) y presentarla a un grupo de clientes (muestra),  para luego comparar los resultados contra el rendimiento del último mes (línea base de 5.3 minutos promedio de Junio). Esto puede ser aplicado en el caso de que la empresa si tenga la capacidad de medir el 100% de las interacciones de sus clientes y por tanto cuenta con la línea base del total de visitas.\n",
        " \n",
        " Lo que se aplica aquí es un \"Test de hipótesis de 1 muestra V/S target\" para determinar la efectividad del tratamiento (nueva versión). \n",
        "\n",
        " >Nota: Esto no es un Experimento controlado del tipo A/B Testing.\n",
        "\n",
        "\n",
        "2.   **Experimento no controlado de 2 muestras**\n",
        "\n",
        " Desarrollar 1 nueva versión de menú (distinta a la actual productiva) y presentarla a un grupo de clientes (muestra),  para luego comparar los resultados contra el rendimiento exhibido por una muestra anterior de clientes en el último mes (Junio). Esto se aplica en el caso de que la empresa no tenga la capacidad de medir el 100% de las interacciones de sus clientes, pero si puede tomar muestras cada mes.\n",
        "  \n",
        "  Lo que se aplica aquí es un \"Test de hipótesis de 2 muestras\" para determinar la efectividad del tratamiento (nueva versión). \n",
        "\n",
        " >Nota: Esto no es un Experimento controlado del tipo A/B Testing. Este tipo de experimento se llama Pre-Post Testing.\n",
        "\n",
        "\n",
        "3. **Experimento controlado de 2 muestras**\n",
        "\n",
        " Desarrollar 1 nueva versión de menú (distintas a la actual productiva) y presentarla a un grupo de clientes (muestra experimental). De forma paralela a otro grupo de clientes (muestra de control) se le presenta la actual versión productiva.  Al finalizar el experimento se comparan los resultados de los 2 grupos para determinar la efectividad de ambas variantes (2 versiones: la actual y la nueva). Esto puede ser aplicado tanto si la empresa puede medir el 100% de las interacciones, como si puede aplicar muestreos de ellas.\n",
        "\n",
        " Lo que se aplica aquí es un \"Test de hipótesis de 2 muestras\" para determinar la efectividad del tratamiento (nueva versión). \n",
        "\n",
        " >Nota: Esto si es un Experimento controlado del tipo A/B Testing, y es el estándar dorado en ciencia para evaluar el efecto de un tratamiento. \n",
        "\n",
        " El caso 3 es la mejor alternativa si se quiere evaluar correctamente la casualidad de los tratamientos.\n",
        "\n",
        " Recordemos que un **Experimento controlado** es una prueba científica hecha bajo condiciones controladas, esto es, que solo uno (o algunos) factores cambian en un momento dado, mientras que el resto se mantiene constante.\n"
      ],
      "metadata": {
        "id": "0xNs28btTpyN"
      }
    },
    {
      "cell_type": "markdown",
      "source": [
        "### Caso 1\n",
        "Para el primer caso, se podría aplicar un Test de Hipótesis de 1 muestra contra un target, donde el target podría ser la línea base del servicio utilizando la media de 5.3 minutos, y en la eventualidad de rechazar la hipótesis nula proceder a calcular el tamaño del efecto y la potencia de la prueba con la media obtenida en el grupo de clientes con la nueva versión. \n",
        "\n",
        "Este estudio puede ser aplicado por medio de la prueba Z de 1 muestra o la prueba T Student de 1 muestra, ambas para Test de hipótesis para medias.\n",
        "\n",
        "Una alternativa sería calcular la proporción actual de visitas que tienen una duración mayor o igual al umbral de 7 minutos,  y considerar esta proporción como el indicador a maximizar.  Esta opción es mucho más simple, ya que no es necesario considerar los supuestos de normalidad de la variable, que como fue visto en el primer gráfico su distribución no es normal, más bien es asimétrica con una aproximación a una distribución continua tipo Gamma.\n",
        "\n",
        "\n",
        "\n",
        "<img src='https://drive.google.com/uc?export=view&id=1Lq1fgKVBvSUHd05t22aJtKkMDHnNIGVO' width=\"1000\" align=\"center\" style=\"margin-right: 20px\"> \n",
        "<br>\n",
        "\n",
        "<p style=\"font-size:6pt\" align=\"center\" > \n",
        "Imagen gentileza de: Roberto Moraga\n",
        "</p>\n",
        "\n",
        "\n",
        "\n",
        "\n",
        "\n",
        "\n"
      ],
      "metadata": {
        "id": "zE3pOtZ71rB-"
      }
    },
    {
      "cell_type": "markdown",
      "source": [
        "###Caso 2\n",
        "\n",
        "Para el segundo caso, se podría aplicar un Test de hipótesis de diferencia de medias, aplicando la prueba T Student de 2 muestras independientes. El problema aquí es nuevamente la normalidad de los datos, como hemos visto en este ejemplo la variable 'tiempo de duración' no es normal. En este caso podríamos recomendar 2 alternativas:\n",
        "\n",
        "* a) Una prueba no paramétrica de diferencia de medianas de muestras, como la prueba U Mann-Whitney.\n",
        "* b) A cada muestra calcular el porcentaje de visitas con duración mayor o igual a 7 minutos, y luego aplicar una prueba Z de diferencia de 2 proporciones.\n",
        "\n",
        "\n",
        "Creo que en este caso es mucho más simple trabajar con las proporciones, el problema aquí es identificar el umbral de corte. \n",
        "\n",
        "\n",
        "<img src='https://drive.google.com/uc?export=view&id=1dWYGAGaMpK_GkdSa43ou8TYlrfWll2VY' width=\"1200\" align=\"center\" style=\"margin-right: 20px\"> \n",
        "<br>\n",
        "\n",
        "<p style=\"font-size:6pt\" align=\"center\" > \n",
        "Imagen gentileza de: Roberto Moraga\n",
        "</p>\n",
        "\n",
        "\n"
      ],
      "metadata": {
        "id": "-tSloTR0K41m"
      }
    },
    {
      "cell_type": "markdown",
      "source": [
        "### Umbral de corte\n",
        "**¿Cómo encontrar el umbral para medir el KPI?**\n",
        "\n",
        "Para responder esta pregunta, los análisis exploratorios son de gran ayuda, y pueden resultar clave para determinar el umbral, en este caso los 7 minutos, ya que como se observó en el análisis los clientes que exhiben una duración igual o mayor a dicho umbral tienen mayor probabilidad de convertir y menor probabilidad de abandonar el servicio.\n",
        "\n",
        "\n",
        "Otra forma de determinar este umbral podría ser por medio de un Benchmark, tal como lo hicimos en este ejemplo observando al principal competidor o líder del mercado. Otra forma es siguiendo la definición de clase mundial de un Cuerpo de conocimiento de la industria donde operamos o una definición normativa (legislación), o por supuesto lo exigido por un cliente si es el caso de un servicio B2B.\n",
        ".\n",
        "\n",
        "------"
      ],
      "metadata": {
        "id": "7QOEh867Qu-P"
      }
    },
    {
      "cell_type": "markdown",
      "source": [
        "## Cierre\n",
        "En este documento he querido dejar unas ideas que tenía en mente sobre 2 formas de aplicar pruebas A/B. Seguiré puliendo el documento, incorporando más información y datasets con los cuales haré los análisis de distribución, umbrales y las pruebas de hipótesis con python."
      ],
      "metadata": {
        "id": "629krKRZVNWz"
      }
    },
    {
      "cell_type": "markdown",
      "source": [
        "##Referencias\n",
        "\n",
        "\n",
        "\n",
        "* Quieres aprender más sobre Análisis de umbrales, puedes revisar esta publicación: https://www.linkedin.com/pulse/an%C3%A1lisis-de-umbrales-roberto-moraga-diaz-lean-agile-coach/\n",
        "\n",
        "* más sobre pruebas A/B:  https://www.linkedin.com/pulse/introducci%25C3%25B3n-al-m%25C3%25A9todo-ab-testing-roberto-moraga-diaz/\n",
        "------\n",
        "\n",
        "* Cohen J.  Things I have learned (so far) Am Psychol, 1990.\n",
        "\n",
        "* Gail M. Sullivan, Richard Feinn.   Using Effect Size—or Why the P Value Is Not Enough, 2012.\n",
        "\n",
        "* Geoff Cumming.  Understanding The New Statistics (Multivariate Applications Series), 2012.\n",
        "\n",
        "* https://en.wikipedia.org/wiki/Effect_size\n",
        "\n",
        "* https://github.com/robertomoragad/Estadistica/blob/master/Tama%C3%B1o_del_Efecto_y_Potencia_Estad%C3%ADstica_en_la_prueba_de_T_de_Student_para_dos_grupos.ipynb\n",
        "\n",
        "* https://github.com/robertomoragad/Estadistica/blob/master/Calculo_de_poder_Experimento_01.ipynb"
      ],
      "metadata": {
        "id": "4810CZWIU18w"
      }
    }
  ]
}