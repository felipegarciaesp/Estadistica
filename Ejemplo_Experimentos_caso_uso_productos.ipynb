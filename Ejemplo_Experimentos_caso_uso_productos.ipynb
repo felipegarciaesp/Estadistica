{
  "nbformat": 4,
  "nbformat_minor": 0,
  "metadata": {
    "colab": {
      "provenance": [],
      "authorship_tag": "ABX9TyMwNoLGmufwXUENXYt3as7M",
      "include_colab_link": true
    },
    "kernelspec": {
      "name": "python3",
      "display_name": "Python 3"
    },
    "language_info": {
      "name": "python"
    }
  },
  "cells": [
    {
      "cell_type": "markdown",
      "metadata": {
        "id": "view-in-github",
        "colab_type": "text"
      },
      "source": [
        "<a href=\"https://colab.research.google.com/github/robertomoragad/Estadistica/blob/master/Ejemplo_Experimentos_caso_uso_productos.ipynb\" target=\"_parent\"><img src=\"https://colab.research.google.com/assets/colab-badge.svg\" alt=\"Open In Colab\"/></a>"
      ]
    },
    {
      "cell_type": "code",
      "execution_count": 1,
      "metadata": {
        "id": "PBaL3RlAtpNR"
      },
      "outputs": [],
      "source": [
        "#Importamos librerias\n",
        "import numpy as np #\n",
        "from scipy import stats \n",
        "import matplotlib.pyplot as plt \n"
      ]
    },
    {
      "cell_type": "markdown",
      "source": [
        "#Ejemplo de experimentos\n",
        "\n",
        "En el presente notebook voy a desarrollar a modo de ejemplo un set de pruebas estadísticas con el fin de compartir ideas sobre como desarrollar un experimento.\n",
        "\n",
        "He tomado como base un video en youtube de una marca de pisco.  Los datos y la forma de plantear mis ejemlos son invenciones propias, que no representan los datasets de dicha marca.\n",
        "\n",
        "\n",
        "[Ver aquí video con el estudio](https://www.youtube.com/watch?v=P4iFsx0l7uY)\n",
        "\n",
        "<img src='https://drive.google.com/uc?export=view&id=1dwMXa6MEa8_99oo1020MO4KLIZRSGERZ' width=\"400\" align=\"center\" style=\"margin-right: 20px\"> \n",
        "<br>\n"
      ],
      "metadata": {
        "id": "K4MsHbHVtuVI"
      }
    },
    {
      "cell_type": "markdown",
      "source": [
        "##Problema\n",
        "\n",
        "Existe una mala percepción del Producto por parte de los consumidores.\n",
        "\n",
        "##Antecedentes\n",
        "Imaginemos que contamos con información de estudios de mercado sobre la calidad del producto.\n",
        "\n",
        "####Nuestro Producto:\n",
        "<img src='https://drive.google.com/uc?export=view&id=1dJTnwdmIeV_PiwJgJc8fY3HeR2LoOS_g' width=\"100\" align=\"center\" style=\"margin-right: 20px\"> \n",
        "<br>\n",
        "En una escala de 1 a 7 la percepción de calidad del Producto es de 4.95 en promedio, y la proporción de notas 6 o 7 es de 22%.\n",
        "n: 500\n",
        "\n",
        "####La Competencia:\n",
        "En una escala de 1 a 7 la percepción de calidad del Producto es de 6.11 en promedio, y la proporción de notas 6 o 7 es de 44%.\n",
        "n: 500\n",
        "\n"
      ],
      "metadata": {
        "id": "YyQV2DctyJOU"
      }
    },
    {
      "cell_type": "markdown",
      "source": [
        "##Hipótesis\n",
        "\n",
        "Un cambio de imagen del Producto aumentará la percepción de calidad del mismo por parte de los consumidores.\n",
        "\n",
        "Cambio de imagen inluye:\n",
        "* nuevo nombre e logotipo\n",
        "* nueva etiqueta\n",
        "* nueva botella\n",
        "* nueva caja\n",
        "\n",
        "<img src='https://drive.google.com/uc?export=view&id=1AgMUKtK-DnDrsBFyXiJ3b-bOg6t2044z' width=\"130\" align=\"center\" style=\"margin-right: 20px\"> \n",
        "<br>\n",
        "\n",
        "\n",
        "\n",
        "\n",
        " Para probar esta Hipótesis se pueden aplicar diferentes experimentos, en esta oportunidad voy a mostrar 2 modos de ejemplo:\n",
        "\n",
        "\n",
        "\n",
        "\n",
        "\n",
        "\n"
      ],
      "metadata": {
        "id": "a5_W68u5yUIQ"
      }
    },
    {
      "cell_type": "markdown",
      "source": [
        "##1) Diseño de experimento básico (1 muestra)\n",
        "Se desarrolla un experimento donde se toma el valor histórico de percepción de calidad de los estudios de mercado como una línea base o target (media o proporción), y luego se selecciona una muestra aleatoria de clientes a la cual se le entregará la nueva versión del Producto para conocer la percepción de calidad del mismo por parte de los usuarios.\n",
        "\n",
        "Para conocer la percepción de calidad, se aplicará el mismo instrumento utilizado en los estudios de mercado, que es una encuesta con una pregunta que evalua la percepción de calidad del producto, en una escala de 1 a 7, donde:\n",
        "* Nota 1 significa muy baja calidad\n",
        "* Nota 7 significa muy alta calidad\n",
        "\n",
        "Con los datos que se obtengan del estudio de percepción, obtendremos una media y también la proporción de usuarios que ponen nota 6 o 7, este indicador se llama Top 2 Box, que corresponde al porcentaje de clientes que valoran el producto como uno de alta calidad.\n",
        "\n",
        "Con este indicador \"proporción\" se desarrollará la prueba de hipótesis estadística.\n",
        "\n",
        "\n",
        "###Define Hipótesis\n",
        "La prueba de hipótesis estadística aquí sería:\n",
        "* Hipótesis nula (H0): la proporción de consumidores que evaluan con nota 6 o 7 la calidad de la nueva versión de Producto es **igual** a la del actual Producto, es decir, un 22%.\n",
        "* Hipótesis alternativa (H1): la proporción de consumidores que evaluan con nota 6 o 7 la calidad de la nueva versión de Producto es **mayor** a la del actual Producto, es decir, sobre un 22%.\n",
        "Planteamiento estadístico:\n",
        "* Hipótesis nula (H0): p = 0.22\n",
        "* Hipótesis alternativa (H1): p > 0.22\n",
        "\n",
        "###Determina la muestra\n",
        "En este paso haremos un análisis A priori, para determinar el tamaño correcto de la muestra donde aplicaremos el expermento. Para esto es necesario contar con los siguientes indicadores:\n",
        "\n",
        "* Nivel de significancia (alpha)\n",
        "* Potencia de prueba (1- beta)\n",
        "* Tamaño del efecto\n",
        "\n",
        "Normalmente se presetea el alpha en un 0.05 y el beta en 0.20, y con ello la Potencia en 0.80.\n",
        "\n",
        "Para determinar el tamaño del efecto, aquí es necesario hablar con el cuerpo experto en esta materia o con los directores del negocio donde estamos operando. Para este ejemplo vamos a suponer que un tamaño de efecto mínimo a lograr con este cambio de versión de producto debería ser de 10 puntos porcentuales brutos, de tal forma que con la nueva versión el porcentaje de clientes que ponen nota 6 o 7 se de al menos un 32% (0.32).\n",
        "\n",
        "Otro tamaño de efecto podría ser:\n",
        "*  llegar al valor exhibido por la competencia, es decir, a 44%, de tal forma que el tamaño del efecto debiese ser de 22 puntos porcentuales brutos.\n",
        "\n",
        "\n",
        "Entonces imaginemos que para el negocio es crítico aumentar en términos absolutos 1000 puntos base (10%).\n",
        "\n",
        "Recordar que este análisis se llama __análisis A priori__, ya que primero se diseña el experimento y luego se ejecuta, y esto se realiza con base en el _alpha_, _beta_, _Sigma población_ y _tamaño del efecto_ mínimo a detectar, y desde allí se obtiene el tamaño de la muestra mínima a la cuál se aplicará el experimento o tratamiento. \n",
        "\n",
        "Datos:\n",
        "* Efecto mínimo a determinar: 0.20\n",
        "* Nivel de significancia: 0.05 (pre-seteado por defecto)\n",
        "* Beta: 0.20 (pre-seteado por defecto)\n",
        "* Potencia o Poder: 0.80. (recordar que poder = 1 - Beta)\n",
        "* Variabilidad: se aplicará la variabilidad de la línea base (Raíz cuadrada de p*1-p).\n",
        "* Tipo de prueba: 2 colas (two-sided). Esta prueba es más conservadora entregando un mayor tamaño muestral. También se puede utilizar la prueba de 1 cola (larger = mayor que) dado que lo que se busca es aumentar la proporción de alta percepción (notas 6 y 7).\n",
        "\n",
        "\n",
        "A continuación calcularemos el tamaño mínimo de la muestra con la siguiente ecuación:\n",
        "\n",
        "<img src='https://drive.google.com/uc?export=view&id=1oeiGQtUnaXkkGRi-DGodsyH8MzzDJ0BG' width=\"300\" align=\"center\" style=\"margin-right: 20px\"> \n",
        "<br>\n",
        "\n",
        "* p0 = proportion of population\n",
        "* p1 = proportion of study group\n",
        "* N = sample size for study group\n",
        "* α = probability of type I error (usually 0.05)\n",
        "* β = probability of type II error (usually 0.2)\n",
        "* Z = critical Z value for a given α or β\n",
        "\n"
      ],
      "metadata": {
        "id": "cGoy7PnShqj3"
      }
    },
    {
      "cell_type": "code",
      "source": [
        "#datos para la ecuacion\n",
        "\n",
        "p0 = 0.22 # linea base de proporcion de notas 6 y 7\n",
        "efecto_bruto = 0.10 #valor minimo a detectar como mejora del estudio\n",
        "p1 = p0 + efecto_bruto\n",
        "alpha = 0.05\n",
        "beta = 0.20\n",
        "\n",
        "N = ( p0*(1-p0)*( stats.norm.ppf(1-alpha/2) + stats.norm.ppf(1-beta)* np.sqrt( (p1*(1-p1)) / (p0*(1-p0)) ) )**2 ) / (p1 - p0)**2\n",
        "\n",
        "print('tamaño mínimo muestra: ', N)\n"
      ],
      "metadata": {
        "colab": {
          "base_uri": "https://localhost:8080/"
        },
        "id": "v7-yV3wxMMiQ",
        "outputId": "4ae312b6-9df8-4c40-b53d-2dab48abfd82"
      },
      "execution_count": 2,
      "outputs": [
        {
          "output_type": "stream",
          "name": "stdout",
          "text": [
            "tamaño mínimo muestra:  145.0830054181437\n"
          ]
        }
      ]
    },
    {
      "cell_type": "markdown",
      "source": [
        "A continuación se desarrollará un código python utilizando la librería **Stats Models** (aplicaremos la prueba de 1 muestra de Student, la cual funciona bien con muestras menores a 30, y entrega resultados muy similares a la prueba $Z$ cuando la muestra es superior a 30).\n",
        "\n",
        "*Nota: esta es una alternativa, pero se recomienda utilizar la fórmula anterior.*"
      ],
      "metadata": {
        "id": "lJ91nZGkSJey"
      }
    },
    {
      "cell_type": "code",
      "source": [
        "# cargar Liberia Stats Model\n",
        "from statsmodels.stats.power import tt_solve_power\n",
        "\n",
        "# definir datos de la prueba\n",
        "p0 = 0.22 # linea base de prop de notas 6 y 7\n",
        "efecto_bruto = 0.1\n",
        "p1 = p0 + efecto_bruto\n",
        "\n",
        "sigma = np.sqrt(p0 * (1- p0))\n",
        "\n",
        "alpha = 0.05\n",
        "beta = 0.20\n",
        "poder = 1 - beta\n",
        "\n",
        "# calcular el tamaño muestral\n",
        "tt_solve_power(effect_size=efecto_bruto/sigma, nobs=None, alpha=alpha, power=poder, alternative='two-sided')"
      ],
      "metadata": {
        "colab": {
          "base_uri": "https://localhost:8080/"
        },
        "id": "WjYRC51oKT8O",
        "outputId": "73a0e99e-180f-4129-c05c-517647048619"
      },
      "execution_count": 3,
      "outputs": [
        {
          "output_type": "execute_result",
          "data": {
            "text/plain": [
              "136.6196247009021"
            ]
          },
          "metadata": {},
          "execution_count": 3
        }
      ]
    },
    {
      "cell_type": "markdown",
      "source": [
        "###Ejecutar el experimento\n",
        "En este caso, tomaremos el valor de 146, se deberá aplicar el tratamiento (nueva versión del Producto) al menos a 146 clientes escogidos de forma aleatora.\n",
        "\n",
        "Se entrega a cada cliente la nueva versión del Producto y luego que este es consumido se le pide a las personas que lo evaluen en una escala de 1 a 7, siendo 1 muy malo y el 7 muy bueno.\n",
        "\n",
        "###Analisis de resultados\n",
        "\n",
        "Imaginemos que se pudo aplicar el experimento en solo 90 clientes, y los resultados fueron los siguientes:\n",
        "* n= 90\n",
        "* media= 6.01\n",
        "* proporción de notas 6 y 7= 35%\n",
        "\n",
        "A continuación se desarrollará un análisis Post hoc para determinar la significancia estadística y práctica del efecto creado."
      ],
      "metadata": {
        "id": "K9jgo_HaWMba"
      }
    },
    {
      "cell_type": "code",
      "source": [
        "# Pasos\n",
        "# 1) Cargamos data línea base (población)\n",
        "p = 0.22\n",
        "Sigma = np.sqrt(p* (1-p))\n",
        "\n",
        "# 2) Cargar datos de la muestra\n",
        "n = 90\n",
        "p_muestra = 0.35 # Prop 6 y 7\n",
        "Sigma_muestra = np.sqrt( p_muestra * (1 - p_muestra))\n",
        "\n",
        "# 3) Determinar el nivel de significancia de la prueba\n",
        "alpha = 0.05\n",
        "\n",
        "# 4) Definir hipótesis a contrastar (prueba unilateral - cola derecha)\n",
        " # H0:   p = 0.22\n",
        " # H1:   p > 0.22 \n",
        "\n",
        "# regla decision (1 cola)\n",
        " # no rechazar H0 si: Z prueba <= Z crítico\n",
        " # rechazar HO si: Z prueba > Zcritico\n",
        "\n",
        "# 5) Determinar el valor crítico de Z\n",
        "Zcritico = stats.norm.ppf(1-alpha)# 1 cola derecha\n",
        "print(f'Z crítico: {Zcritico: 4.3f}')\n",
        "\n",
        "# 5.1) Calcular el valor en porcentaje correspondiente al Z crítico\n",
        "valor_proporcion_zcritico= stats.norm(p, Sigma/np.sqrt(n)).ppf(1-alpha) # buscar valor cola derecha\n",
        "print(f\"Valor media para Z crítico: {valor_proporcion_zcritico: 4.3f}\")"
      ],
      "metadata": {
        "colab": {
          "base_uri": "https://localhost:8080/"
        },
        "id": "SJgsXDHZYT6X",
        "outputId": "3a63942a-7533-42a8-9183-062ab96c1218"
      },
      "execution_count": 4,
      "outputs": [
        {
          "output_type": "stream",
          "name": "stdout",
          "text": [
            "Z crítico:  1.645\n",
            "Valor media para Z crítico:  0.292\n"
          ]
        }
      ]
    },
    {
      "cell_type": "code",
      "source": [
        "# visualizando la distribución de las proprociones muestrales cuando el n=90 y el límite crítico de Rechazo H0\n",
        "\n",
        "# proyectar distribución H0\n",
        "muestral_z = stats.norm(p, Sigma / np.sqrt(n))\n",
        "x_z = np.linspace(muestral_z.ppf(0.0001), muestral_z.ppf(0.9999), 100)\n",
        "pdf_z = muestral_z.pdf(x_z) # función densidad probabilidad\n",
        "\n",
        "plt.figure(figsize=(10, 5)) # tamaño gráfico\n",
        "plt.plot(x_z, pdf_z,\"b\") # medias H0\n",
        "plt.vlines(ymin=0, ymax=17, x=valor_proporcion_zcritico,  colors='r')\n",
        "plt.legend(['$H_0$', '$p_{95}$'])\n",
        "plt.show()"
      ],
      "metadata": {
        "colab": {
          "base_uri": "https://localhost:8080/",
          "height": 320
        },
        "id": "dx1rEcBMZApI",
        "outputId": "5e92ab72-0d06-4964-b479-12cae85c8cb5"
      },
      "execution_count": 5,
      "outputs": [
        {
          "output_type": "display_data",
          "data": {
            "text/plain": [
              "<Figure size 720x360 with 1 Axes>"
            ],
            "image/png": "[encoded data removed]"
          },
          "metadata": {
            "needs_background": "light"
          }
        }
      ]
    },
    {
      "cell_type": "markdown",
      "source": [
        "Para esta prueba de Hipótesis, como el valor de proporción muestral obtenido con los 90 clientes fue de \"Prop 6 y 7= 35%\", cifra mayor al límite de 0.292, se puede concluir que la proporción de notas 6 y 7 obtenido con la nueva versión ha aumentado de forma estadísticamente significativa, esto al comparar con su línea base de 0.22.\n",
        "\n",
        "Otra forma de evaluar este paso es calculando el valor-p (p-value), si este valor es menor al Nivel de significancia establecido, se procede a Rechazar la H0 (Hipótesis Nula), de lo contrario no se puede rechazar la H0."
      ],
      "metadata": {
        "id": "3EWRZLQ0ZSan"
      }
    },
    {
      "cell_type": "code",
      "source": [
        "## 6 ) Calcular el estadístico Z de prueba.\n",
        "Z = ( p_muestra - p) / (Sigma /np.sqrt( n ))\n",
        "print('Z prueba: ', Z)\n",
        "\n",
        "## 7) Calcular el p-value y comparar con el nivel de significancia establecido.\n",
        "# calcular p-value\n",
        "pvalue = 1- stats.norm.cdf(Z) # Z de prueba se encuentra en cola derecha\n",
        "print('p-value (significancia estadística): ', pvalue) # 1 cola\n",
        "\n",
        "# Otra forma usando Scipy\n",
        "pvalue2 = 1 - stats.norm(p, Sigma /np.sqrt( n )).cdf(p_muestra)\n",
        "print('p-value con scipy: ', pvalue2)"
      ],
      "metadata": {
        "colab": {
          "base_uri": "https://localhost:8080/"
        },
        "id": "JZkUT5kbZMS1",
        "outputId": "5c949ffc-ee2e-4956-addb-18b9b26dab6d"
      },
      "execution_count": 6,
      "outputs": [
        {
          "output_type": "stream",
          "name": "stdout",
          "text": [
            "Z prueba:  2.9771859806932386\n",
            "p-value (significancia estadística):  0.0014545374097558739\n",
            "p-value con scipy:  0.0014545374097558739\n"
          ]
        }
      ]
    },
    {
      "cell_type": "markdown",
      "source": [
        "**Concluir prueba de hipótesis:**\n",
        "como el Z prueba (2.977) es mayor al Zcritico (1.645), o como el valor-p (p-value= 0.001) es menor al Nivel de signficancia \"alpha\" establecido en 0.05, se rechaza H0. Por tanto se concluye que existe una diferencia estadísticamente significativa entre la Proporción de notas 6 y 7 exhibida en la versión experimental (nueva) y la proporción tomada de la línea base.\n",
        "\n",
        "\n",
        "Una vez finalizada esta parte de la prueba, y siempre que se haya rechazado la H0, se procede a realizar el cálculo del tamaño del efecto real y el Poder de la prueba (potencia estadística).  En caso contrario no es necesario continuar, ya que el resultado obtenido en la versión B no sería mayor a la línea base de la organización."
      ],
      "metadata": {
        "id": "wgoWqwiiaNpf"
      }
    },
    {
      "cell_type": "code",
      "source": [
        "# Ahora tendremos las siguientes hipótesis\n",
        "  # H0: p = 0.22\n",
        "  # H1: p = 0.35\n",
        "H1= p_muestra\n",
        "\n",
        "## 8) Calcular el tamaño del efecto\n",
        "efecto = (p_muestra - p) # Diferencia bruta\n",
        "dCohen = efecto/Sigma # d de Cohen \n",
        "print(f'd Cohen: {dCohen: 4.3f}')\n",
        "print(f'tamaño del efecto: {efecto: 4.3f}')\n",
        "\n",
        "## 9) Calcular la potencia de la prueba (1 - beta)\n",
        "# Calcular Beta (error tipo II)\n",
        "# Forma simple con Scipy\n",
        "beta = stats.norm(H1, Sigma/np.sqrt(n)).cdf(valor_proporcion_zcritico)\n",
        "print(f'Beta: {beta: 5.3f}')\n",
        "\n",
        "# Calcular Potencia estadística (1- beta)\n",
        "print(f'Potencia de la prueba: {1 - beta: 5.3f}')"
      ],
      "metadata": {
        "colab": {
          "base_uri": "https://localhost:8080/"
        },
        "id": "AW7FDQrqa0JE",
        "outputId": "d06a8e02-b6e4-44dd-92ea-624531f5f91e"
      },
      "execution_count": 12,
      "outputs": [
        {
          "output_type": "stream",
          "name": "stdout",
          "text": [
            "d Cohen:  0.314\n",
            "tamaño del efecto:  0.130\n",
            "Beta:  0.091\n",
            "Potencia de la prueba:  0.909\n"
          ]
        }
      ]
    },
    {
      "cell_type": "code",
      "source": [
        "# Visualizando\n",
        "# Proyectar distribucion H0\n",
        "h0_z = stats.norm(p, Sigma / np.sqrt(n))\n",
        "x0_z = np.linspace(h0_z.ppf(0.0001), h0_z.ppf(0.9999), 100)\n",
        "pdf0_z = h0_z.pdf(x0_z) # Función densidad probabilidad\n",
        "\n",
        "# proyectar distribucion H1\n",
        "h1_z = stats.norm(H1, Sigma / np.sqrt(n))\n",
        "x1_z = np.linspace(h1_z.ppf(0.0001), h1_z.ppf(0.9999), 100)\n",
        "pdf1_z = h1_z.pdf(x1_z) # Función densidad probabilidad\n",
        "\n",
        "plt.figure(figsize=(10, 5)) # Tamaño gráfico\n",
        "plt.plot(x0_z, pdf0_z,\"b\") # medias H0\n",
        "plt.plot(x1_z, pdf1_z,\"r\") # medias H1\n",
        "plt.vlines(ymin=0, ymax=17, x=valor_proporcion_zcritico,  colors='y')# valor_proporcion_zcritico\n",
        "plt.legend(['$H_0$', '$H_1$','$p_95$'])\n",
        "plt.show()"
      ],
      "metadata": {
        "colab": {
          "base_uri": "https://localhost:8080/",
          "height": 320
        },
        "id": "ff4V-j0_lUVx",
        "outputId": "be85a575-4580-405a-e2b1-5c2a6efe6845"
      },
      "execution_count": 13,
      "outputs": [
        {
          "output_type": "display_data",
          "data": {
            "text/plain": [
              "<Figure size 720x360 with 1 Axes>"
            ],
            "image/png": "[encoded data removed]"
          },
          "metadata": {
            "needs_background": "light"
          }
        }
      ]
    },
    {
      "cell_type": "markdown",
      "source": [
        "**Conclusión final**\n",
        "\n",
        "El nuevo tratamiento aplicado versión B del Producto en 90 consumidores aleatorios durante 1 semana, demuestra que la Proporción de notas 6 o 7 (Top 2 box) de 35% exhibida es estadísticamente menor que el actual, esto con un nivel de confianza del 0.95. \n",
        "\n",
        "También se aprecia que la diferencia (tamaño del efecto bruto) obtenida es relevante desde el punto de vista de negocio, ya que es de 1300 puntos base. Al evaluar su potencia, el análisis arrojó un Poder por sobre el mínimo recomendable de 0.80, es decir, el efecto si tiene una potencia aceptable para respaldar la H1 (Hipótesis alternativa).\n",
        "\n",
        "Se puede afirmar que el tratamiento (cambio de imagen de Producto) si funciona mejorando la percepción de calidad del Producto.\n",
        "\n",
        "Dicho de otra manera, si se rechaza la Hipótesis nula (H0) existe una baja probabilidad de cometer Error Tipo II (beta = 0.091)."
      ],
      "metadata": {
        "id": "wOWggBxTlkrs"
      }
    },
    {
      "cell_type": "code",
      "source": [
        "#Otra forma de calular Poder es utilizando STATS de la prueba TStudent\n",
        "#modificando los parametros con los resultados obtenidos\n",
        "\n",
        "# calcular el Poder\n",
        "tt_solve_power(effect_size=efecto/sigma, nobs=90, alpha=alpha, power=None, alternative='larger')"
      ],
      "metadata": {
        "colab": {
          "base_uri": "https://localhost:8080/"
        },
        "id": "Uc-7IPLHcdqA",
        "outputId": "f553a608-bab2-45e0-93d9-7a468d739849"
      },
      "execution_count": 8,
      "outputs": [
        {
          "output_type": "execute_result",
          "data": {
            "text/plain": [
              "0.9048310914930515"
            ]
          },
          "metadata": {},
          "execution_count": 8
        }
      ]
    },
    {
      "cell_type": "markdown",
      "source": [
        "*Nota:  nótese que el cálculo de poder ha sido aplicado con una prueba de 1 cola, si se aplica con 2 colas el valor del Poder será menor.*\n",
        "\n",
        "---"
      ],
      "metadata": {
        "id": "KYzSuytMpONM"
      }
    },
    {
      "cell_type": "markdown",
      "source": [
        "##Diseño de experimento controlado (2 muestras)\n",
        "se desarrollará un experimento controlado, donde a una muestra aleatoria de consumidores se entregará la versión actual del Producto (Grupo de control) y a otra muestra \n",
        "\n",
        "Test de hipótesis estadístico:\n",
        "* H0: p = 0.53\n",
        "* H1: p < 0.53\n"
      ],
      "metadata": {
        "id": "lbrtSNvuhtsi"
      }
    },
    {
      "cell_type": "markdown",
      "source": [
        "##Analisis Apriorí para determinar el tamaño de la muestra\n",
        "\n"
      ],
      "metadata": {
        "id": "mQmfMHSK8w-w"
      }
    },
    {
      "cell_type": "code",
      "source": [
        "# estimar tamaño de muestra con analisis de Potencia\n",
        "# cargar Stats Model\n",
        "from statsmodels.stats.power import NormalIndPower\n",
        "\n",
        "# definir parametros para el analisis\n",
        "efecto_bruto = 0.10 # criterio relevancia experto\n",
        "p1 = 0.22 # Aqui incorporar el ratio histórico o un bench de referencia\n",
        "p2 = p1 + efecto_bruto\n",
        "\n",
        "sigma = np.sqrt( ((p1*(1-p1)) + (p2*(1-p2)))/2) # s pooled\n",
        "tamano_efecto = (efecto_bruto / sigma) # efecto estandarizado d Cohen\n",
        "print('Tamaño del efecto d Cohen: ', tamano_efecto)\n",
        "alpha = 0.05\n",
        "potencia = 0.8\n",
        "\n",
        "# ejecuta con Z\n",
        "analysis2 = NormalIndPower()\n",
        "result2 = analysis2.solve_power(effect_size=tamano_efecto, nobs1=None, alpha=alpha, power=potencia, ratio=1.0, alternative='two-sided')\n",
        "print('Sample Size con Normal: %.3f' % result2)\n",
        "\n",
        "print(p2)"
      ],
      "metadata": {
        "colab": {
          "base_uri": "https://localhost:8080/"
        },
        "id": "5ZTwgwCs9UZ_",
        "outputId": "40d007fc-0277-45ad-b142-4f799fe5ce79"
      },
      "execution_count": 9,
      "outputs": [
        {
          "output_type": "stream",
          "name": "stdout",
          "text": [
            "Tamaño del efecto d Cohen:  0.22668802672263905\n",
            "Sample Size con Normal: 305.478\n",
            "0.32\n"
          ]
        }
      ]
    },
    {
      "cell_type": "markdown",
      "source": [
        "##Prueba #1 - Blindtest\n",
        "focalizado en un solo lugar\n",
        "\n",
        "   \n",
        "\n",
        "xbar = 6.6\n",
        "Prop 6 o 7 = 47%\n",
        "n = 450\n",
        "\n"
      ],
      "metadata": {
        "id": "iMWXIdhvt7dA"
      }
    },
    {
      "cell_type": "markdown",
      "source": [
        "##Prueba #2 - Tele-testing\n",
        "\n",
        "gente de todas las edades y lugares\n",
        "\n",
        "n= 800\n",
        "6, 6.5, 7, 7, 7, 7, 6.5"
      ],
      "metadata": {
        "id": "4iumKSPVuFLG"
      }
    }
  ]
}