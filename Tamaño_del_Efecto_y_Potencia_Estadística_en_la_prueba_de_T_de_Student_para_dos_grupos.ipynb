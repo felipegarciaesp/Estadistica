{
  "nbformat": 4,
  "nbformat_minor": 0,
  "metadata": {
    "colab": {
      "name": "Tamaño del Efecto y Potencia Estadística en la prueba de T de Student para dos grupos.ipynb",
      "provenance": [],
      "authorship_tag": "ABX9TyPvNIYTte1oRc2xXLvfFAq8",
      "include_colab_link": true
    },
    "kernelspec": {
      "name": "python3",
      "display_name": "Python 3"
    }
  },
  "cells": [
    {
      "cell_type": "markdown",
      "metadata": {
        "id": "view-in-github",
        "colab_type": "text"
      },
      "source": [
        "<a href=\"https://colab.research.google.com/github/robertomoragad/Estadistica/blob/master/Tama%C3%B1o_del_Efecto_y_Potencia_Estad%C3%ADstica_en_la_prueba_de_T_de_Student_para_dos_grupos.ipynb\" target=\"_parent\"><img src=\"https://colab.research.google.com/assets/colab-badge.svg\" alt=\"Open In Colab\"/></a>"
      ]
    },
    {
      "cell_type": "markdown",
      "metadata": {
        "id": "TzYu_pQxulpe"
      },
      "source": [
        "##Tamaño del Efecto y Potencia Estadística en la prueba de T de Student para dos grupos\n",
        "\n"
      ]
    },
    {
      "cell_type": "code",
      "metadata": {
        "colab": {
          "base_uri": "https://localhost:8080/"
        },
        "id": "6dP7UFaWZWte",
        "outputId": "c9c3906c-2726-4ccc-ded4-f526d723830a"
      },
      "source": [
        "#aqui mis coordenadas\n",
        "name = 'Roberto Andres Moraga Diaz'\n",
        "role = 'Lean-Agile Coach'\n",
        "mission = 'Business 4.0'\n",
        "organization = 'TCS latam'\n",
        "\n",
        "\n",
        "print(f'Saludos cordiales! \\t | {name} \\n \\n Soy un {role} ayudando a crecer y transformar negocios con {mission} de {organization[0:3:1]}')\n",
        "print(f'conversemos en lkdn o por el correo {name[0:7:1]}.{name[15:21:1]}@{organization[0:3:1]}.com .')"
      ],
      "execution_count": 166,
      "outputs": [
        {
          "output_type": "stream",
          "text": [
            "Saludos cordiales! \t | Roberto Andres Moraga Diaz \n",
            " \n",
            " Soy un Lean-Agile Coach ayudando a crecer y transformar negocios con Business 4.0 de TCS\n",
            "conversemos en lkdn o por el correo Roberto.Moraga@TCS.com .\n"
          ],
          "name": "stdout"
        }
      ]
    },
    {
      "cell_type": "markdown",
      "metadata": {
        "id": "cDkm_f2X1lgH"
      },
      "source": [
        "\n",
        "### Introducción\n",
        "\n",
        "En muchas investigaciones (ensayos clínicos, mejora de procesos, marketing, desarrollo de productos, otros) es necesario comparar ciertas características en dos o más grupos de personas o elementos (transacciones, productos, operaciones, etc).  Por ejemplo, si pensamos que un tratamiento nuevo puede tener un porcentaje de mejoría mayor que otro estándar, o cuando nos planteamos si las personas de distintas localidades tienen o no el mismo consumo monetario en  determinados productos o campañas comerciales.\n",
        "\n",
        "Lo anterior se desarrolla como un trabajo de investigación para comprobar una hipótesis. Tal sería el caso, por ejemplo medir:\n",
        "*   el efecto de la suplementación de lecitina de soja sobre el perfil lipídico.\n",
        "*   el efecto de una nuevo modelo de servicio sobre la experiencia del cliente.\n",
        "*   el efecto de una nueva campaña comercial sobre la tasa de conversión.\n",
        "*   el efecto de una nueva funcionalidad de producto en la ventas.\n",
        "*   otras...\n",
        "\n",
        "\n",
        "\n",
        "Para esto es común diseñar un experimento donde se realice una comparación de 2 grupos para verificar si existen diferencias en la variable objeto de estudio. Estos grupos son:\n",
        "\n",
        "* A)  Grupo de experimental (al que aplicamos el tratamiento)\n",
        "* B)  Grupo de control (no reciben ningún tratamiento)\n",
        "\n",
        "En este caso la Hipótesis nula (H0) planteará que el efecto del tratamiento experimental es similar a cuando no se recibe ningún tratamiento.\n",
        "\n",
        "\n",
        "\n",
        "```\n",
        "#nota: En este artículo se analizará únicamente el problema de la comparación de dos grupos independientes con 'test t Student'. \n",
        "La comparación de muestras pareadas con 't Student' y la comparación de varios grupos (>= 3) con 'ANOVA' se verá en otro documento.\n",
        "```\n",
        "\n",
        "\n"
      ]
    },
    {
      "cell_type": "markdown",
      "metadata": {
        "id": "uNg8Mk7IE_iU"
      },
      "source": [
        "\n",
        "\n",
        "###Reporte en un Trabajo de investigación\n",
        "\n",
        "Hasta aquí nada nuevo, lo que ocurre es que generalmente cuando se presentan los resultados de una investigación sólo se informa el intervalo de confianza de las diferencias de medias, las respectivas medias y desviaciones estandar de las muestras de los grupos y finalmente si el valor-p (p-value) obtenido en la prueba de hipótesis fue menor al nivel de significancia escogido. \n",
        "\n",
        "Muchas asociaciones internacionales* de investigación han recomendado que para presentar un trabajo de investigación completo se cumplan 5 requisitos:\n",
        "\n",
        "1.  el cálculo de intervalos de confianza 'IC' de la diferencia (límites probables entre los que se encuentra la verdadera diferencia entre dos medias), \n",
        "2.  la exposición de los valores de las medias y desviaciones estandar de cada grupo,\n",
        "3.  la entrega de los valores exactos de probabilidad (p-value), \n",
        "4.  informar la potencia estadística de la prueba utilizada, y \n",
        "5.  calcular el tamaño del efecto que cuantifica la magnitud de la diferencia entre dos medias.\n",
        "\n",
        "\n",
        "** American Psychological Association (APA, 1994, 2008, 2011), Journal of Graduate Medical Education*\n",
        "\n",
        "Las omisiones de los puntos 4 y 5 ponen en duda la credibilidad de los estudios y sus hallazgos, ya que son esenciales para que los lectores comprendan el impacto total de la investigación desarrollada. Se recomienda que la potencia estadística y el tamaño del efecto sean reportadas tanto en las secciones de Resumen como de Resultados de la investigación.\n",
        "\n",
        "\n",
        "\n",
        "Para comprender como calcular estas medidas se desarrollarán unos ejemplos,  los que serán ejecutados en python para calcular los 5 requisitos anteriormente mencionados.  Es importante mencionar que estos ejemplos serán calculados en principio en modo *Post Hoc análisis*.  Aunque esta técnica ha sido cuestionada ya que no permite diseñar y planear de antemano un estudio, al menos permite comprender adecuadamente los resultados de dichas investigaciones.\n",
        "\n",
        "En la última sección del documento se presentará como aplicar un análisis *A Priori*, para determinar el tamaño de la muestra cuando se diseña un nuevo estudio sujeto a ciertas exigencias estadísticas."
      ]
    },
    {
      "cell_type": "markdown",
      "metadata": {
        "id": "oNB_7ZUeLTZQ"
      },
      "source": [
        "###¿Qué es el tamaño del efecto?\n",
        "\n",
        "El tamaño del efecto es el principal hallazgo de un estudio cuantitativo y debe ser informado junto con la significancia estadística 'valor-p', esto debido a que el valor-p puede informar si existe un efecto, pero no revelará el tamaño de dicho efecto (significancia sustantiva).\n",
        "\n",
        "Una prueba estadística con una muestra suficientemente grande, casi siempre reportará una diferencia estadísticamente significativa (p-value < alpha), sin embargo, las diferencias muy pequeñas, incluso significativas, a menudo carecen de sentido práctico (significancia sustantiva). Por lo tanto, informar sólo el valor-p de la investigación sin el 'tamaño del efecto' resulta incompleto para que la audiencia comprenda adecuadamente los resultados y/o posteriormente se pueda realizar meta-análisis.\n",
        "\n",
        "\n",
        "\n",
        "\n",
        "```\n",
        "El referente Geoff Cumming en su libro 'Entendiendo la nueva estadística' indica:\n",
        "\n",
        "\" A veces, un resultado se informa mejor tanto en unidades originales, para facilitar la comprensión \n",
        "de los lectores, como en alguna medida estandarizada para facilitar su inclusión en futuros meta-análisis.\"\n",
        "```\n",
        "\n",
        "\n",
        "\n",
        "El tamaño del efecto absoluto es la diferencia (magnitud) entre los resultados promedios en dos grupos de intervención diferentes (por ejemplo: Control y Experimentación). También se pueden utilizar medidas estandarizadas del efecto, que se calculan para transformar el efecto en una escala fácilmente comprensible.  Los tamaños del efecto estandarizados son útiles para comparar cuantitativamente los resultados de diferentes estudios, a esto se le llama meta-análisis.\n",
        "\n",
        "\n"
      ]
    },
    {
      "cell_type": "markdown",
      "metadata": {
        "id": "Y7CxPll-fgeb"
      },
      "source": [
        "###¿Cómo calcular el tamaño del efecto?\n",
        "Para calcular el tamaño del efecto en los siguientes ejemplos aplicaremos la diferencia estandarizada mediante el índice 'd  de Cohen', que fue desarrollado por el Psicólogo y Estadístico Jacob Cohen. Este índice es apropiado para pruebas de 't Student' y representa el grado de separación entre la hipótesis nula y la hipótesis alternativa. \n",
        "\n",
        " El índice 'd de Cohen', que se obtiene de la siguiente forma:  \n",
        "\n",
        "\n",
        "```\n",
        "# d Cohen = media (grupo 1) - media (grupo 2) / desviación estándar.\n",
        "```\n",
        "\n",
        "La 'd de Cohen' nos informa de cuántas desviaciones estandar de diferencia hay entre los resultados de los dos grupos que se comparan (grupo experimental y grupo de control).  Cohen clasificó los tamaños del efecto como:\n",
        "*  pequeño    ( d  = 0.2) \n",
        "*  mediano    ( d  = 0.5) \n",
        "*  grande     ( d  = 0.8)\n",
        "*  muy grande ( d  ≥ 1.3)\n",
        "\n",
        "```\n",
        "Nota:  Adicional a 'd Cohen' existen otras medidas estandarizadas para comparar grupos, como: Odds ratio (OR) y risk ratio (RR).\n",
        "```\n",
        "\n",
        "*''El producto principal de una investigación es una o más medidas del tamaño del efecto, no los valores P (p-value) '' - J. Cohen*\n",
        "\n",
        "<img src='https://drive.google.com/uc?export=view&id=1bU3MxwkrB62RQRj_l4oRLMMKUbPTz4nP' width=\"300\" align=\"left\" style=\"margin-right: 20px\"> \n",
        "<br>\n",
        "\n",
        "<p style=\"font-size:4pt\"> \n",
        "Imagen gentileza de: Roberto Moraga</p>"
      ]
    },
    {
      "cell_type": "markdown",
      "metadata": {
        "id": "QCFyEC5-oOhk"
      },
      "source": [
        "###¿Qué es el poder estadístico o potencia de la prueba?\n",
        "\n",
        "Es la probabilidad de que una investigación encuentre una diferencia estadísticamente significativa entre los grupos cuando existe una diferencia real. La potencia es 1-β, donde β es la probabilidad de concluir que no existe efecto cuando realmente existe. Este error se llama **Error de tipo II**. \n",
        "\n",
        "Al igual que la significación estadística, la potencia estadística depende del tamaño del efecto y del tamaño de la muestra. Si el tamaño del efecto de la intervención es grande, será posible detectar dicho efecto con muestras más pequeñas, mientras que un tamaño de efecto más pequeño requeriría tamaños de muestra más grandes.  Como se mencionó anteriormente las muestra de tamaños enormes pueden detectar diferencias que son bastante pequeñas, pero posiblemente triviales. Para determinar que tan importante es la diferencia encontrada dependerá de criterios de relevancia asociados al campo de la investigación (industrial, clínico, científico, etc ).\n",
        "\n",
        "**Error de tipo I:**\n",
        "Es la probabilidad de rechazar la hipótesis nula (H0) cuando es realmente cierta. La probabilidad de cometer un error de tipo I es α, que es el nivel de significancia que estableces para la prueba de hipótesis.\n",
        "\n",
        "\n",
        "**Tipos de errores**\n",
        "<img src='https://drive.google.com/uc?export=view&id=1oNsX7umPtZ6yZeGw3XBL_g-TbAPGRIQF' width=\"900\" align=\"left\" style=\"margin-right: 20px\"> \n",
        "<br>\n",
        "\n",
        "\n",
        "<p style=\"font-size:8pt\"> \n",
        "Imagen gentileza de: Roberto Moraga</p>"
      ]
    },
    {
      "cell_type": "markdown",
      "metadata": {
        "id": "p9GA5Wejjhea"
      },
      "source": [
        "###Prueba t de Student de 2 muestras\n",
        "\n",
        "Fundamentalmente, cuando se comparan dos grupos de observaciones para probar si las medias poblacionales desconocidas de dos grupos son iguales o no, se utiliza la prueba t de 2 muestras o también conocida como el test 't de Student'. Aquí podemos encontrar dos tipos de diseño del test: \n",
        "\n",
        "* **Muestras independientes:** aquel en el que las observaciones se refieren a dos grupos independientes de individuos, o\n",
        "* **Muestras pareadas:** el caso en el que cada serie de datos se recoge en los mismos individuos(personas/elementos) bajo condiciones diferentes. \n",
        "\n",
        "**¿Es lo mismo que una prueba A / B?**  Sí, se utiliza una prueba t de dos muestras para analizar los resultados de las pruebas A / B.\n",
        "\n",
        "\n",
        "Para el caso de  'muestras independientes' este método paramétrico requiere que las observaciones en cada grupo sean tomadas al azar, provengan de una distribución normal o aproximadamente normal con una variabilidad semejante. Para comprobar normalidad de los datos existen pruebas estadísticas (test Anderson Darling, test de Kolmogorov-Smirnov, test de Shapiro-Wilks) y para comprobar semejanza de varianzas existe el test de fisher (f-test).\n",
        "\n",
        "Para los ejemplos a presentar se desarrollará el test t de Student asumiendo que ambas condiciones se cumplen.    \n",
        "\n",
        "**¿Qué pasa si no existe igualdad de varianza?**\n",
        "Adicionalmente se desarrollará un ejemplo *(ver ejemplo 3)* para abordar formalmente el caso en el que las varianzas no sean similares.\n",
        "\n",
        "\n"
      ]
    },
    {
      "cell_type": "markdown",
      "metadata": {
        "id": "5_XG4v3muuG1"
      },
      "source": [
        "###Pasos para una prueba t de 2 muestras\n",
        "\n",
        "Los pasos a seguir para realizar un t-test de medias independientes en modo Post Hoc son:\n",
        "\n",
        "1. Obtener estadísticos de las muestras (n, media, sigma).\n",
        "2. Determinar el nivel de significancia α.\n",
        "3. Estimar el intervalo de confianza de la diferencia de medias.\n",
        "4. Plantear las hipótesis.\n",
        "5. Calcular el estadístico T crítico a emplear.\n",
        "6. Determinar el tipo de test, una o dos colas.\n",
        "7. Calcular el estadístico T de prueba.\n",
        "8. Calcular el p-value y comparación con el nivel de significancia establecido.\n",
        "9. Concluir prueba de hipótesis\n",
        "10. Calcular la potencia de la prueba (1 - β)\n",
        "11. Calcular el tamaño del efecto.\n",
        "12. Conclusiones finales\n",
        "\n"
      ]
    },
    {
      "cell_type": "markdown",
      "metadata": {
        "id": "yziy-p6_Ao6e"
      },
      "source": [
        "###Ejemplos para 2 grupos con varianzas desconocidas pero iguales"
      ]
    },
    {
      "cell_type": "markdown",
      "metadata": {
        "id": "d8dyBx3u38xB"
      },
      "source": [
        "####Ejemplo 1.1\n",
        "\n",
        "Se desarrolla un estudio para medir la 'Lealtad con la Marca' en dos grupos de personas (clientes) afectadas por corte de suministro en los últimos seis meses. A estas personas se les pedía que evaluaran su percepción de la probabilidad de recomendar la Marca a otras personas (en una escala que va de 0 a 10). \n",
        "\n",
        "Grupo Experimental:\n",
        "Personas que recibieron un nuevo modelo de servicio de atención (n= 160; Media= 6.21 y Sigma= 0.94) \n",
        "\n",
        "Grupo Control:\n",
        "Personas que recibieron el normal servicio de atención (n=190; Media= 5.89; y Sigma= 0.94)\n",
        "\n",
        "**Planteamiento experimento**\n",
        "<img src='https://drive.google.com/uc?export=view&id=1TDsxXWJ5OL598VPvfTg3q7wyagvYdIK_' width=\"900\" align=\"left\" style=\"margin-right: 20px\"> \n",
        "<br>\n",
        "\n",
        "\n",
        "<p style=\"font-size:8pt\"> \n",
        "Imagen gentileza de: Roberto Moraga</p>\n",
        "\n",
        "\n",
        "\n",
        "---\n"
      ]
    },
    {
      "cell_type": "markdown",
      "metadata": {
        "id": "0h-4qL-s7xve"
      },
      "source": [
        "*Nota: En este ejemplo lo ideal es que se tenga una medición inicial de los 2 grupos (pre-test) para tener un adecuado grado de certeza de que no exhiben diferencia de medias (p-value > alpha) y además conocer sus varianzas.   Este estudio pre-test puede servir como piloto para cuando se quiera diseñar una investigación y aplicar análisis A Priori.*\n",
        "\n",
        "\n",
        "Veamos en el siguiente paso a paso el cálculo con python:"
      ]
    },
    {
      "cell_type": "code",
      "metadata": {
        "id": "Zc5vN8A8k0BT"
      },
      "source": [
        "#Primero importamos librerias estadisticas con las que vamos a trabajar, esto de la siguiente forma: \n",
        "import numpy as np # importando numpy\n",
        "from scipy import stats # importando scipy.stats\n",
        "import matplotlib.pyplot as plt #importando matplotlib"
      ],
      "execution_count": null,
      "outputs": []
    },
    {
      "cell_type": "code",
      "metadata": {
        "id": "LReqcN053zBN"
      },
      "source": [
        "#Analisis post hoc utilizando t Student, suponiendo igual varianza pero desconocida\n",
        "\n",
        "## 1) cargar datos muestras: tamaño (n), media (xbarra) y sigma (S)\n",
        "#muestra 1\n",
        "n_1 = 160\n",
        "xbarra_1 = 6.21\n",
        "S_1 = 0.94\n",
        "\n",
        "#muestra 2\n",
        "n_2 = 190\n",
        "xbarra_2 = 5.89\n",
        "S_2 = 0.94\n",
        "\n",
        "\n",
        "## 2) Determinar Nivel de Significancia\n",
        "alpha = 0.05\n"
      ],
      "execution_count": null,
      "outputs": []
    },
    {
      "cell_type": "markdown",
      "metadata": {
        "id": "WROsnxXhFYwE"
      },
      "source": [
        "**Pasos 1 a 3**\n",
        "\n",
        "\n",
        "<img src='https://drive.google.com/uc?export=view&id=1-Zqo1PwpY32Yg3pvDat0B0jlc9oB9JTp' width=\"900\" align=\"left\" style=\"margin-right: 20px\"> \n",
        "<br>\n",
        "\n",
        "\n",
        "<p style=\"font-size:8pt\"> \n",
        "Imagen gentileza de: Roberto Moraga</p>"
      ]
    },
    {
      "cell_type": "code",
      "metadata": {
        "colab": {
          "base_uri": "https://localhost:8080/"
        },
        "id": "uIKc6U08FNI9",
        "outputId": "d6f97b14-76c2-47d5-dcab-73362d53ba3c"
      },
      "source": [
        "## 3) Estimar el IC de la diferencia de medias\n",
        "#calcular T critico 2 colas con Scipy\n",
        "Tcritico = stats.t.ppf(1 - (alpha/2), df=(n_1 + n_2 - 2))\n",
        "print ('T critico: ',Tcritico)\n",
        "\n",
        "#Estimar mancomunado de la varianza poblacional\n",
        "# S**2 = ( S1**2 *(n1 - 1) + S2**2 *(n2 - 1)) / ( n1 + n2 - 2)\n",
        "var = ( S_1**2 *(n_1 - 1) + S_2**2 *(n_2 - 1)) / (n_1 + n_2 - 2)\n",
        "S = np.sqrt(var)\n",
        "print('Varianza mancomunada: ',var)\n",
        "print('Sigma poblacion :', S)\n",
        "\n",
        "#calcular Sigma de diferencia de medias\n",
        "S_dif = np.sqrt( (S**2 / n_1) + (S**2 / n_2) )\n",
        "print('S diferencia medias: ',S_dif)\n",
        "\n",
        "#IC diferencia medias al 1-alpha:\n",
        "LI = (xbarra_1 - xbarra_2) - Tcritico * S_dif\n",
        "LS = (xbarra_1 - xbarra_2) + Tcritico * S_dif\n",
        "print('IC diferencia medias al', 1-alpha, 'NC : ', LI, LS)\n",
        "\n",
        "#otra forma con Scipy\n",
        "IC = stats.t.interval(1-alpha, loc=xbarra_1 - xbarra_2, scale=S_dif, df=(n_1 + n_2 -2))\n",
        "print('IC diferencia medias al', 1-alpha, 'NC : ', IC)"
      ],
      "execution_count": null,
      "outputs": [
        {
          "output_type": "stream",
          "text": [
            "T critico:  1.9668042230481182\n",
            "Varianza mancomunada:  0.8835999999999999\n",
            "Sigma poblacion : 0.94\n",
            "S diferencia medias:  0.10086142134527687\n",
            "IC diferencia medias al 0.95 NC :  0.12162533055547411 0.5183746694445265\n",
            "IC diferencia medias al 0.95 NC :  (0.12162533055547411, 0.5183746694445265)\n"
          ],
          "name": "stdout"
        }
      ]
    },
    {
      "cell_type": "code",
      "metadata": {
        "colab": {
          "base_uri": "https://localhost:8080/"
        },
        "id": "G7GDfeSS8EG1",
        "outputId": "bea5a8a0-8ebe-4519-e6a8-4b6c993e1e51"
      },
      "source": [
        "## 4) plantear hipotesis\n",
        " # H0:  Mu 1 = Mu 2\n",
        " # H1:  Mu 1 ≠ Mu 2\n",
        "\n",
        "#regla decision (2 colas)\n",
        " # no rechazar H0 si: -Tcritico <= T <= Tcritico\n",
        " # rechazar HO si: T < -Tcritico o T > Tcritico\n",
        "\n",
        "\n",
        "## 5) Calcular el estadístico T crítico a emplear\n",
        "Tcritico = Tcritico #fue obtenido en paso anterior\n",
        "\n",
        "\n",
        "## 6) Determinar el tipo de test, una o dos colas.\n",
        "#como la hipotesis alternativa es del tipo “diferente de” se trata de un test de dos colas\n",
        "#Nota: Se recomienda utilizar el contraste bilateral para estos análisis dado que éstos \n",
        "#requieren una mayor diferencia para detectar una misma potencia\n",
        "\n",
        "\n",
        "## 7 ) Calcular el estadístico T de prueba.\n",
        "T = ( xbarra_1 - xbarra_2 - 0) / S_dif\n",
        "print('T prueba: ', T)\n",
        "\n",
        "## 8) Calcular el p-value y comparación con el nivel de significancia establecido.\n",
        "#calcular p-value\n",
        "pvalue = 1 - (stats.t.cdf(T, df=(n_1 + n_2 -2))) #T prueba se encuentra en cola derecha\n",
        "print('p-value (significancia estadística): ', pvalue*2) #2 colas multiplicar por 2\n",
        "\n",
        "## 9) Concluir prueba de hipotesis:"
      ],
      "execution_count": 37,
      "outputs": [
        {
          "output_type": "stream",
          "text": [
            "T prueba:  3.1726699438881667\n",
            "p-value (significancia estadística):  0.0016449096397932461\n"
          ],
          "name": "stdout"
        }
      ]
    },
    {
      "cell_type": "markdown",
      "metadata": {
        "id": "AS71rZgwMC-s"
      },
      "source": [
        "9) Concluir resultados de la prueba de hipotesis:\n",
        "\n",
        "Como T prueba > Tcritico o como p-value menor a alpha, se rechaza H0, las medias son diferentes."
      ]
    },
    {
      "cell_type": "markdown",
      "metadata": {
        "id": "zWKwuL9JFUFK"
      },
      "source": [
        "\n",
        "\n",
        "**Pasos 4 a 11**\n",
        "\n",
        "\n",
        "<img src='https://drive.google.com/uc?export=view&id=11kB-ZuwHs-LoKwQ1EOXeTP7aSek13zfd' width=\"900\" align=\"left\" style=\"margin-right: 20px\"> \n",
        "<br>\n",
        "\n",
        "\n",
        "<p style=\"font-size:8pt\"> \n",
        "Imagen gentileza de: Roberto Moraga</p>"
      ]
    },
    {
      "cell_type": "code",
      "metadata": {
        "colab": {
          "base_uri": "https://localhost:8080/"
        },
        "id": "HGhy1ZwJ_wtJ",
        "outputId": "773c5759-5c3e-48e2-dd3d-22a4a6b82e62"
      },
      "source": [
        "## 10) Calcular la potencia de la prueba (1 - beta)\n",
        "\n",
        "#buscar el valor en puntos correspondiente al T critico\n",
        "x = 0 + (Tcritico * S_dif)# por la derecha\n",
        "#print('X promedio para T=',Tcritico,': ',x)\n",
        "\n",
        "#otra forma mas simple con Scipy usando ppf\n",
        "x_b = stats.t.ppf((1-alpha/2), df=n_1 + n_2 - 2 , loc=0, scale=S_dif)\n",
        "#print('X promedio para T=',Tcritico,': ',x_b)\n",
        "\n",
        "\n",
        "#Calcular Beta (error tipo II)\n",
        "#forma simple con Scipy\n",
        "beta = stats.t.cdf(x, df=n_1 + n_2 -2, loc=xbarra_1-xbarra_2, scale=S_dif)\n",
        "print('Beta: ',beta)\n",
        "\n",
        "#otra forma simple con Scipy\n",
        "beta1 = stats.t.cdf(Tcritico-T, df= n_1 + n_2 - 2)\n",
        "print('otra forma beta: ', beta1)\n",
        "\n",
        "#Calcular Potencia estadística (1- beta)\n",
        "print('Potencia de la prueba: ', 1-beta)\n",
        "\n",
        "\n",
        "## 11) Calcular el tamaño del efecto\n",
        "#d de Cohen para T-TEST INDEPENDIENTES: (diferencia medias grupos / S mancomunada)\n",
        "dif_bruta = (xbarra_1 - xbarra_2)\n",
        "dCohen = (xbarra_1 - xbarra_2) / S\n",
        "print('d Cohen: ', dCohen)\n",
        "print('diferencia bruta: ', dif_bruta)"
      ],
      "execution_count": 38,
      "outputs": [
        {
          "output_type": "stream",
          "text": [
            "Beta:  0.11434424603074098\n",
            "otra forma beta:  0.11434424603074096\n",
            "Potencia de la prueba:  0.885655753969259\n",
            "d Cohen:  0.34042553191489394\n",
            "diferencia bruta:  0.3200000000000003\n"
          ],
          "name": "stdout"
        }
      ]
    },
    {
      "cell_type": "code",
      "metadata": {
        "colab": {
          "base_uri": "https://localhost:8080/",
          "height": 327
        },
        "id": "CWPe0Y5f9ZMo",
        "outputId": "1e1f3320-cc73-422d-c983-f0ab2c672c1e"
      },
      "source": [
        "#graficar\n",
        "#Graficando la distribucion de las diferencias de medias\n",
        "n= n_1 + n_2\n",
        "xbar = xbarra_1 - xbarra_2\n",
        "S_dif = S_dif\n",
        "\n",
        "#proyectar distribucion diferencias medias (H1)\n",
        "dif_medias_H1 = stats.t(loc=xbar, scale=S_dif, df=(n-1))\n",
        "x = np.linspace(dif_medias_H1.ppf(0.01), dif_medias_H1.ppf(0.99), 100)\n",
        "pdf = dif_medias_H1.pdf(x) #funcion densidad probabilidad\n",
        "\n",
        "#proyectar distribucion H0\n",
        "dif_medias_H0 = stats.t(loc=0, scale=S_dif, df=(n-1))\n",
        "x_m = np.linspace(dif_medias_H0.ppf(0.01), dif_medias_H0.ppf(0.99), 100)\n",
        "pdf_m = dif_medias_H0.pdf(x_m) #funcion densidad probabilidad\n",
        "\n",
        "plt.figure(figsize=(10, 5)) #tamaño grafico\n",
        "plt.plot(x, pdf,\"r\") #dif medias H1 fit\n",
        "plt.plot(x_m, pdf_m,\"b\", ) #dif medias H0 fit\n",
        "plt.vlines(ymin=0, ymax=4, x=0 - Tcritico*S_dif)#LI IC\n",
        "plt.vlines(ymin=0, ymax=4, x= 0 + Tcritico*S_dif)#LS IC\n",
        "plt.legend(['H1','H0', 'limites criticos'],bbox_to_anchor=(1.1,1.05))\n",
        "plt.show()\n",
        "\n"
      ],
      "execution_count": 39,
      "outputs": [
        {
          "output_type": "display_data",
          "data": {
            "image/png": "[encoded data removed]",
            "text/plain": [
              "<Figure size 720x360 with 1 Axes>"
            ]
          },
          "metadata": {
            "tags": [],
            "needs_background": "light"
          }
        }
      ]
    },
    {
      "cell_type": "markdown",
      "metadata": {
        "id": "JUwvkHsWZ45r"
      },
      "source": [
        "**Conclusiones finales**\n",
        "\n",
        "\n",
        "Al realizar las pruebas de diferencia de medias, el análisis arrojó que las diferencias fueron estadísticamente significativas (t(348)=3.17; p-value= 0.002; IC diferencias al 95% [0.122 , 0.518]), es decir, las personas que recibieron un nuevo protocolo de atención puntuaron significativamente más alto que las personas con el modelo tradicional de atención.\n",
        "\n",
        "Además se aprecia que el tamaño del efecto (d Cohen=0.34) arrojado es mediano-bajo de acuerdo  a los valores definidos convencionalmente en tabla Cohen. En términos prácticos (según criterio experto en servicio al cliente) la diferencia no es relevante, ya que la diferencia bruta es pequeña (0.32).\n",
        " La potencia estadística (1-β=0.89) supera los niveles mínimos exigidos (80%), constatándose en el análisis anterior (beta) que la probabilidad de cometer un error de tipo II es del 11%. El error tipo I (alpha) es 5%.\n",
        "\n",
        " Con base en lo anterior se puede conluir que el tratamiento funciona pero su efecto es bajo."
      ]
    },
    {
      "cell_type": "markdown",
      "metadata": {
        "id": "hO3f1U4mOq8D"
      },
      "source": [
        "\n",
        "\n",
        "---\n",
        "\n"
      ]
    },
    {
      "cell_type": "markdown",
      "metadata": {
        "id": "XginWiknOsW8"
      },
      "source": [
        "####Ejemplo 2.1\n",
        "\n",
        "Se quiere estudiar el efecto de un fármaco sobre el apetito, para ello se mide la ingesta de comida (gramos) de dos grupos de personas seleccionadas al azar. En vista de los resultados ¿Se puede considerar que el fármaco funciona para un nivel de significancia del 5%?\n",
        "\n",
        "Grupo Experimental:\n",
        "Personas que recibieron el fármaco (n= 22; Media= 27.1 y Sigma= 26.4) \n",
        "\n",
        "Grupo Control:\n",
        "Personas que recibieron un placebo (n= 22; Media= 52.1; y Sigma= 45.1)\n",
        "\n",
        "\n",
        "Veamos en el siguiente paso a paso el cálculo con python:"
      ]
    },
    {
      "cell_type": "code",
      "metadata": {
        "colab": {
          "base_uri": "https://localhost:8080/"
        },
        "id": "0psiMc4uPdbK",
        "outputId": "74b164d7-4ae1-43df-f909-5e6b4ed910cb"
      },
      "source": [
        "#Analisis post hoc utilizando t Student, suponiendo igual varianza pero desconocida\n",
        "\n",
        "## 1) cargar datos muestras: tamaño (n), media (xbarra) y sigma (S)\n",
        "#muestra 1\n",
        "n_1 = 22\n",
        "xbarra_1 = 52.1 \n",
        "S_1 = 45.1\n",
        "\n",
        "#muestra 2\n",
        "n_2 = 22\n",
        "xbarra_2 = 27.1\n",
        "S_2 = 26.4\n",
        "\n",
        "\n",
        "## 2) Determinar Nivel de Significancia\n",
        "alpha = 0.05\n",
        "\n",
        "\n",
        "## 3) Estimar el IC de la diferencia de medias\n",
        "#calcular T critico 2 colas con Scipy\n",
        "Tcritico = stats.t.ppf(1 - (alpha/2), df=(n_1 + n_2 - 2))\n",
        "print ('T critico: ',Tcritico)\n",
        "\n",
        "#Estimar mancomunado de la varianza poblacional\n",
        "# S**2 = ( S1**2 *(n1 - 1) + S2**2 *(n2 - 1)) / ( n1 + n2 - 2)\n",
        "var = ( S_1**2 *(n_1 - 1) + S_2**2 *(n_2 - 1)) / (n_1 + n_2 - 2)\n",
        "S = np.sqrt(var)\n",
        "print('Varianza mancomunada: ',var)\n",
        "print('Sigma poblacion :', S)\n",
        "\n",
        "#calcular Sigma de diferencia de medias\n",
        "S_dif = np.sqrt( (S**2 / n_1) + (S**2 / n_2) )\n",
        "print('S diferencia medias: ',S_dif)\n",
        "\n",
        "#IC diferencia medias al 1-alpha:\n",
        "LI = (xbarra_1 - xbarra_2) - Tcritico * S_dif\n",
        "LS = (xbarra_1 - xbarra_2) + Tcritico * S_dif\n",
        "print('IC diferencia medias al', 1-alpha, 'NC : ', LI, LS)\n",
        "\n",
        "#otra forma con Scipy\n",
        "IC = stats.t.interval(1-alpha, loc=xbarra_1 - xbarra_2, scale=S_dif, df=(n_1 + n_2 -2))\n",
        "print('IC diferencia medias al', 1-alpha, 'NC : ', IC)"
      ],
      "execution_count": 41,
      "outputs": [
        {
          "output_type": "stream",
          "text": [
            "T critico:  2.018081697095881\n",
            "Varianza mancomunada:  1365.4850000000001\n",
            "Sigma poblacion : 36.95246947092981\n",
            "S diferencia medias:  11.14158875564881\n",
            "IC diferencia medias al 0.95 NC :  2.5153636556558645 47.48463634434414\n",
            "IC diferencia medias al 0.95 NC :  (2.5153636556558645, 47.48463634434414)\n"
          ],
          "name": "stdout"
        }
      ]
    },
    {
      "cell_type": "code",
      "metadata": {
        "colab": {
          "base_uri": "https://localhost:8080/"
        },
        "id": "jF1B53lGQKcj",
        "outputId": "e1db2e43-edcb-4ce4-d18e-77396e855adb"
      },
      "source": [
        "## 4) plantear hipotesis\n",
        " # H0:  Mu 1 = Mu 2\n",
        " # H1:  Mu 1 ≠ Mu 2\n",
        "\n",
        "#regla decision (2 colas)\n",
        " # no rechazar H0 si: -Tcritico <= T <= Tcritico\n",
        " # rechazar HO si: T < -Tcritico o T > Tcritico\n",
        "\n",
        "\n",
        "## 5) Calcular el estadístico T crítico a emplear\n",
        "Tcritico = Tcritico #fue obtenido en paso anterior\n",
        "\n",
        "\n",
        "## 6) Determinar el tipo de test, una o dos colas.\n",
        "#como la hipotesis alternativa es del tipo “diferente de” se trata de un test de dos colas\n",
        "#Nota: Se recomienda utilizar el contraste bilateral para estos análisis dado que éstos \n",
        "#requieren una mayor diferencia para detectar una misma potencia\n",
        "\n",
        "\n",
        "## 7 ) Calcular el estadístico T de prueba.\n",
        "T = ( xbarra_1 - xbarra_2 - 0) / S_dif\n",
        "print('T prueba: ', T)\n",
        "\n",
        "\n",
        "## 8) Calcular el p-value y comparación con el nivel de significancia establecido.\n",
        "#calcular p-value\n",
        "pvalue = 1 - (stats.t.cdf(T, df=(n_1 + n_2 -2))) #T prueba se encuentra en cola derecha\n",
        "print('p-value (significancia estadística): ', pvalue*2) #2 colas multiplicar por 2\n",
        "\n",
        "## 9) Concluir prueba de hipotesis:\n",
        "#como T prueba > Tcritico o como p-value menor a alpha, se rechaza H0, las medias son diferentes."
      ],
      "execution_count": 44,
      "outputs": [
        {
          "output_type": "stream",
          "text": [
            "T prueba:  2.243845159634432\n",
            "p-value (significancia estadística):  0.03017203250342604\n"
          ],
          "name": "stdout"
        }
      ]
    },
    {
      "cell_type": "code",
      "metadata": {
        "colab": {
          "base_uri": "https://localhost:8080/"
        },
        "id": "cWLljatVQlZK",
        "outputId": "754dbf28-d218-4108-a407-f0ef0a011d90"
      },
      "source": [
        "## 10) Calcular la potencia de la prueba (1 - beta)\n",
        "\n",
        "#buscar el valor en gramos correspondiente al T critico\n",
        "x = 0 + (Tcritico * S_dif)# por la derecha\n",
        "#print('X promedio para T=',Tcritico,': ',x)\n",
        "\n",
        "#otra forma mas simple con Scipy usando ppf\n",
        "x_b = stats.t.ppf((1-alpha/2), df=n_1 + n_2 - 2 , loc=0, scale=S_dif)\n",
        "#print('X promedio para T=',Tcritico,': ',x_b)\n",
        "\n",
        "\n",
        "#Calcular Beta (error tipo II)\n",
        "#forma simple con Scipy\n",
        "beta = stats.t.cdf(x, df=n_1 + n_2 -2, loc=xbarra_1-xbarra_2, scale=S_dif)\n",
        "print('Beta: ',beta)\n",
        "\n",
        "#Calcular Potencia estadística (1- beta)\n",
        "print('Potencia de la prueba: ', 1-beta)\n",
        "\n",
        "\n",
        "## 11) Calcular el tamaño del efecto\n",
        "#d de Cohen para T-TEST INDEPENDIENTES: (diferencia medias grupos / S mancomunada)\n",
        "dif_bruta = (xbarra_1 - xbarra_2)\n",
        "dCohen = (xbarra_1 - xbarra_2) / S\n",
        "print('d Cohen: ', dCohen)\n",
        "print('diferencia bruta: ', dif_bruta)"
      ],
      "execution_count": 45,
      "outputs": [
        {
          "output_type": "stream",
          "text": [
            "Beta:  0.41124021315410253\n",
            "Potencia de la prueba:  0.5887597868458975\n",
            "d Cohen:  0.6765447711056843\n",
            "diferencia bruta:  25.0\n"
          ],
          "name": "stdout"
        }
      ]
    },
    {
      "cell_type": "markdown",
      "metadata": {
        "id": "IBoTlxm7PXTt"
      },
      "source": [
        "**Conclusión:**\n",
        "\n",
        "p-value < α, hay evidencias significativas para rechazar H0 en favor de H1, siendo el tamaño del efecto (d-Cohen) medio, sin embargo la Potencia estadística no supera el umbral del 0.80, es decir, no tiene un poder aceptable para respaldar la H0.  \n",
        "No se puede afirmar que el tratamiento funciona."
      ]
    },
    {
      "cell_type": "markdown",
      "metadata": {
        "id": "SdMvz82y6Kw-"
      },
      "source": [
        "\n",
        "\n",
        "---\n",
        "\n"
      ]
    },
    {
      "cell_type": "markdown",
      "metadata": {
        "id": "W40m_Mlt6J-A"
      },
      "source": [
        "####Ejemplo 2.2\n",
        "\n",
        "Se quiere estudiar el efecto de la lecitina de soja sobre el perfil lipídco, para ello se mide el perfil lídpido de dos grupos de personas seleccionadas al azar. En vista de los resultados ¿Se puede considerar que el fármaco funciona para un nivel de significancia del 5?\n",
        "\n",
        "Grupo Experimental:\n",
        "Personas que recibieron licitina (n= 25; Media= 251.08; y Sigma= 55.928) \n",
        "\n",
        "Grupo Control:\n",
        "Personas que recibieron un placebo (n= 25; Media= 216.20; y Sigma= 41.481)\n",
        "\n",
        "\n",
        "Veamos en el siguiente paso a paso el cálculo con python:"
      ]
    },
    {
      "cell_type": "code",
      "metadata": {
        "colab": {
          "base_uri": "https://localhost:8080/"
        },
        "id": "y5IOlhvh67e0",
        "outputId": "58ccd7a9-e60f-4719-c802-9f90e225713c"
      },
      "source": [
        "#Analisis post hoc utilizando t Student, suponiendo igual varianza pero desconocida\n",
        "\n",
        "## 1) cargar datos muestras: tamaño (n), media (xbarra) y sigma (S)\n",
        "#muestra 1 (control)\n",
        "n_1 = 25\n",
        "xbarra_1 = 251.08\n",
        "S_1 = 55.928\n",
        "\n",
        "#muestra 2 (experimental)\n",
        "n_2 = 25\n",
        "xbarra_2 = 216.20\n",
        "S_2 = 41.481\n",
        "\n",
        "\n",
        "## 2) Determinar Nivel de Significancia\n",
        "alpha = 0.05\n",
        "\n",
        "\n",
        "## 3) Estimar el IC de la diferencia de medias\n",
        "#calcular T critico 2 colas con Scipy\n",
        "Tcritico = stats.t.ppf(1 - (alpha/2), df=(n_1 + n_2 - 2))\n",
        "print ('T critico: ',Tcritico)\n",
        "\n",
        "#Estimar mancomunado de la varianza poblacional\n",
        "# S**2 = ( S1**2 *(n1 - 1) + S2**2 *(n2 - 1)) / ( n1 + n2 - 2)\n",
        "var = ( S_1**2 *(n_1 - 1) + S_2**2 *(n_2 - 1)) / (n_1 + n_2 - 2)\n",
        "S = np.sqrt(var)\n",
        "print('Varianza mancomunada: ',var)\n",
        "print('Sigma poblacion :', S)\n",
        "\n",
        "#calcular Sigma de diferencia de medias\n",
        "S_dif = np.sqrt( (S**2 / n_1) + (S**2 / n_2) )\n",
        "print('S diferencia medias: ',S_dif)\n",
        "\n",
        "#IC diferencia medias al 1-alpha:\n",
        "LI = (xbarra_1 - xbarra_2) - Tcritico * S_dif\n",
        "LS = (xbarra_1 - xbarra_2) + Tcritico * S_dif\n",
        "print('IC diferencia medias al', 1-alpha, 'NC : ', LI, LS)\n",
        "\n",
        "#otra forma con Scipy\n",
        "IC = stats.t.interval(1-alpha, loc=xbarra_1 - xbarra_2, scale=S_dif, df=(n_1 + n_2 -2))\n",
        "print('IC diferencia medias al', 1-alpha, 'NC : ', IC)"
      ],
      "execution_count": 46,
      "outputs": [
        {
          "output_type": "stream",
          "text": [
            "T critico:  2.0106347546964454\n",
            "Varianza mancomunada:  2424.3072725\n",
            "Sigma poblacion : 49.237254924497975\n",
            "S diferencia medias:  13.9263987376493\n",
            "IC diferencia medias al 0.95 NC :  6.879098690321637 62.88090130967841\n",
            "IC diferencia medias al 0.95 NC :  (6.879098690321637, 62.88090130967841)\n"
          ],
          "name": "stdout"
        }
      ]
    },
    {
      "cell_type": "code",
      "metadata": {
        "colab": {
          "base_uri": "https://localhost:8080/"
        },
        "id": "Vu18c0NF67oE",
        "outputId": "2294ec1e-e7f2-4983-e5b8-c89469adb3b0"
      },
      "source": [
        "## 4) plantear hipotesis\n",
        " # H0:  Mu 1 = Mu 2\n",
        " # H1:  Mu 1 ≠ Mu 2\n",
        "\n",
        "#regla decision (2 colas)\n",
        " # no rechazar H0 si: -Tcritico <= T <= Tcritico\n",
        " # rechazar HO si: T < -Tcritico o T > Tcritico\n",
        "\n",
        "\n",
        "## 5) Calcular el estadístico T crítico a emplear\n",
        "Tcritico = Tcritico #fue obtenido en paso anterior\n",
        "\n",
        "\n",
        "## 6) Determinar el tipo de test, una o dos colas.\n",
        "#como la hipotesis alternativa es del tipo “diferente de” se trata de un test de dos colas\n",
        "#Nota: Se recomienda utilizar el contraste bilateral para estos análisis dado que éstos \n",
        "#requieren una mayor diferencia para detectar una misma potencia\n",
        "\n",
        "\n",
        "## 7 ) Calcular el estadístico T de prueba.\n",
        "T = ( xbarra_1 - xbarra_2 - 0) / S_dif\n",
        "print('T prueba: ', T)\n",
        "\n",
        "\n",
        "\n",
        "## 8) Calcular el p-value y comparación con el nivel de significancia establecido.\n",
        "#calcular p-value\n",
        "pvalue = 1 - (stats.t.cdf(T, df=(n_1 + n_2 -2))) #T prueba se encuentra en cola derecha\n",
        "print('p-value (significancia estadística): ', pvalue*2) #2 colas multiplicar por 2\n",
        "\n",
        "## 9) Concluir prueba de hipotesis:\n",
        "#como T prueba > Tcritico o como p-value menor a alpha, se rechaza H0, las medias son diferentes."
      ],
      "execution_count": 49,
      "outputs": [
        {
          "output_type": "stream",
          "text": [
            "T prueba:  2.5045958152629755\n",
            "p-value (significancia estadística):  0.015708804968280976\n"
          ],
          "name": "stdout"
        }
      ]
    },
    {
      "cell_type": "code",
      "metadata": {
        "colab": {
          "base_uri": "https://localhost:8080/"
        },
        "id": "AWnK5tvt67xN",
        "outputId": "cf870190-4298-483c-eeaa-bad556074928"
      },
      "source": [
        "## 10) Calcular la potencia de la prueba (1 - beta)\n",
        "\n",
        "#buscar el valor en puntos correspondiente al T critico\n",
        "x = 0 + (Tcritico * S_dif)# por la derecha\n",
        "#print('X promedio para T=',Tcritico,': ',x)\n",
        "\n",
        "#otra forma mas simple con Scipy usando ppf\n",
        "x_b = stats.t.ppf((1-alpha/2), df=n_1 + n_2 - 2 , loc=0, scale=S_dif)\n",
        "#print('X promedio para T=',Tcritico,': ',x_b)\n",
        "\n",
        "\n",
        "#Calcular Beta (error tipo II)\n",
        "#forma simple con Scipy\n",
        "beta = stats.t.cdf(x, df=n_1 + n_2 -2, loc=xbarra_1-xbarra_2, scale=S_dif)\n",
        "print('Beta: ',beta)\n",
        "\n",
        "#otra forma simple para calcular Beta con Scipy\n",
        "beta1 = stats.t.cdf(Tcritico-T, df= n_1 + n_2 - 2)\n",
        "print('otra forma beta: ', beta1)\n",
        "\n",
        "#Calcular Potencia estadística (1- beta)\n",
        "print('Potencia de la prueba: ', 1-beta)\n",
        "\n",
        "\n",
        "## 11) Calcular el tamaño del efecto\n",
        "#d de Cohen para T-TEST INDEPENDIENTES: (diferencia medias grupos / S mancomunada)\n",
        "dif_bruta = (xbarra_1 - xbarra_2)\n",
        "dCohen = (xbarra_1 - xbarra_2) / S\n",
        "print('d Cohen: ', dCohen)\n",
        "print('diferencia bruta: ', dif_bruta)"
      ],
      "execution_count": 51,
      "outputs": [
        {
          "output_type": "stream",
          "text": [
            "Beta:  0.3117933099132414\n",
            "otra forma beta:  0.3117933099132414\n",
            "Potencia de la prueba:  0.6882066900867586\n",
            "d Cohen:  0.7084066740415599\n",
            "diferencia bruta:  34.880000000000024\n"
          ],
          "name": "stdout"
        }
      ]
    },
    {
      "cell_type": "markdown",
      "metadata": {
        "id": "nyR2VsIX8yIx"
      },
      "source": [
        "EL grupo de  personas que recibieron la complementación con licitina de soja exhiben un nivel de colesterol total significativamente más bajo que el grupo de personas que no lo recibió. Estas diferencias fueron estadísticamente significativa (p-value=0.016).\n",
        "\n",
        "Se aprecia que el tamaño del efecto estadarizado es (d Cohen = 0.708) es mediano, sin embargo la Potencia estadística no supera los niveles mínimos exigidos (0.80), es decir, existe una alta probabilidad de cometer Error Tipo II (beta = 0.31) si se rechaza la Hipotesis nula (H0)."
      ]
    },
    {
      "cell_type": "markdown",
      "metadata": {
        "id": "rRUMni0uTAE_"
      },
      "source": [
        "\n",
        "\n",
        "---\n",
        "\n"
      ]
    },
    {
      "cell_type": "markdown",
      "metadata": {
        "id": "22L5TaKQA7g_"
      },
      "source": [
        "###Ejemplos para 2 grupos con varianzas no iguales"
      ]
    },
    {
      "cell_type": "markdown",
      "metadata": {
        "id": "g9ixDpu7PXbE"
      },
      "source": [
        "####Ejemplo 3.1 (varianzas desiguales)\n",
        "\n",
        "Se quiere estudiar el efecto de aplicar un nuevo método de trabajo (kanban) en los tiempos de entrega de los requerimientos de negocio, para ello se mide el tiempo transcurrido desde que se reciben los requerimientos hasta que estos han sido completados (en días), esto en dos grupos de trabajos seleccionados al azar. \n",
        "\n",
        "En vista de los resultados ¿Se puede considerar que el nuevo método reduce los tiempos de desarrolo y entrega, para un nivel de significancia del 5%?\n",
        "\n",
        "* Grupo Experimental:\n",
        " Grupo de requerimientos trabajados con nuevo método (n= 41; Media= 9.04; y Sigma= 5.9) \n",
        "\n",
        "* Grupo Control:\n",
        "Grupo de requerimientos trabajados en modo tradicional (n= 29; Media= 24.41; y Sigma= 19.1)\n",
        "\n",
        "\n",
        "\n",
        "```\n",
        "# Nota 1: En este ejemplo aplicaremos la prueba t Student de muestras independientes \n",
        "con varianza distintas, aquí estimaremos los grados de libertad con una fórmula en el paso 3.\n",
        "```\n",
        "\n",
        "```\n",
        "# Nota 2: Este ejemplo corresponde a un caso real desarrollado en la organización de \n",
        "Data Management & Analytics de una compañía de Telecomunicaciones - año 2018.\n",
        "```\n",
        "\n",
        "\n"
      ]
    },
    {
      "cell_type": "markdown",
      "metadata": {
        "id": "Q6TrV-xpxpiI"
      },
      "source": [
        "\n",
        "**Pasos 1 a 11 cuando varianzas no son iguales**\n",
        "\n",
        "\n",
        "<img src='https://drive.google.com/uc?export=view&id=13J1Y7UNNeY7Qs36Hqzds1v6uq2PxSAn5' width=\"1000\" align=\"left\" style=\"margin-right: 20px\"> \n",
        "<br>\n",
        "\n"
      ]
    },
    {
      "cell_type": "markdown",
      "metadata": {
        "id": "eboJK2-uyYIc"
      },
      "source": [
        "<p style=\"font-size:8pt\"> \n",
        "Imagen gentileza de: Roberto Moraga</p>\n",
        "\n",
        "\n",
        "\n",
        "Veamos en el siguiente paso a paso el cálculo con python:"
      ]
    },
    {
      "cell_type": "code",
      "metadata": {
        "colab": {
          "base_uri": "https://localhost:8080/"
        },
        "id": "qEXbnchtUWN-",
        "outputId": "b8ef2623-8c86-4404-f176-d91575f64f38"
      },
      "source": [
        "#Analisis post hoc utilizando t Student, con desigual varianza***\n",
        "\n",
        "## 1) cargar datos muestras: tamaño (n), media (xbarra) y sigma (S)\n",
        "#muestra 1 (control)\n",
        "n_1 = 29\n",
        "xbarra_1 = 24.41\n",
        "S_1 = 19.1\n",
        "\n",
        "#muestra 2 (experimental)\n",
        "n_2 = 41\n",
        "xbarra_2 = 9.04\n",
        "S_2 = 5.9\n",
        "\n",
        "\n",
        "## 2) Determinar Nivel de Significancia\n",
        "alpha = 0.05\n",
        "\n",
        "\n",
        "## 3) Estimar el IC de la diferencia de medias\n",
        "\n",
        "\n",
        "#Estimar grados de libertad cuando varianzas poblacionales no son iguales\n",
        "# gl = (S1**2 /n1 + S2**2 /n2)**2 / ( ( (S1**2/n1)**2 / (n1-1) ) + ( (S2**2/n2)**2 / (n2-1) ) )\n",
        "gl = (S_1**2 /n_1 + S_2**2 /n_2)**2  /  ( ( (S_1**2/n_1)**2 / (n_1-1) ) + ( (S_2**2/n_2)**2 / (n_2-1) ) )\n",
        "print('estimacion gl: ', gl)\n",
        "\n",
        "#calcular T critico 2 colas con Scipy\n",
        "Tcritico = stats.t.ppf(1 - (alpha/2), df=gl)\n",
        "print ('T critico: ',Tcritico)\n",
        "\n",
        "\n",
        "#Estimar mancomunado de la varianza poblacional (S pooled) =>  #NO APLICA para calcular IC ya que Varianzas son diferentes\n",
        "#Se aplica la varianza mancomunada para calcular 'd Cohen' en el ultimo paso, por esta razon se calcula aqui:\n",
        "var = ( S_1**2 *(n_1 - 1) + S_2**2 *(n_2 - 1)) / (n_1 + n_2 - 2)\n",
        "S = np.sqrt(var)\n",
        "print('Varianza mancomunada: ',var)\n",
        "print('Sigma poblacion :', S)\n",
        "\n",
        "\n",
        "#como las varianzas son diferentes, el calculo del 'Sigma diferencias  medias' es de la siguiente forma:\n",
        "S_dif = np.sqrt( (S_1**2 / n_1) + (S_2**2 / n_2) )\n",
        "print('S diferencia medias: ',S_dif)\n",
        "\n",
        "#IC diferencia medias al 1-alpha:\n",
        "LI = (xbarra_1 - xbarra_2) - Tcritico * S_dif\n",
        "LS = (xbarra_1 - xbarra_2) + Tcritico * S_dif\n",
        "print('IC diferencia medias al', 1-alpha, 'NC : ', LI, LS)\n",
        "\n",
        "#otra forma con Scipy\n",
        "IC = stats.t.interval(1-alpha, loc=xbarra_1 - xbarra_2, scale=S_dif, df=gl)\n",
        "print('IC diferencia medias al', 1-alpha, 'NC : ', IC)"
      ],
      "execution_count": 53,
      "outputs": [
        {
          "output_type": "stream",
          "text": [
            "estimacion gl:  31.805672930052623\n",
            "T critico:  2.0374215469488908\n",
            "Varianza mancomunada:  170.6923529411765\n",
            "Sigma poblacion : 13.064928355761332\n",
            "S diferencia medias:  3.664516279491428\n",
            "IC diferencia medias al 0.95 NC :  7.903835573019181 22.836164426980822\n",
            "IC diferencia medias al 0.95 NC :  (7.903835573019181, 22.836164426980822)\n"
          ],
          "name": "stdout"
        }
      ]
    },
    {
      "cell_type": "code",
      "metadata": {
        "colab": {
          "base_uri": "https://localhost:8080/"
        },
        "id": "FVtwaISnYXnk",
        "outputId": "99ceb389-8dcd-47f2-f3af-ab58b00501cb"
      },
      "source": [
        "#otra forma de estimar grados de libertad con varianzas desiguales es con la la ecuación Welch–Satterthwaite. \n",
        "#Nótese que la verdadera distribución de este estadístico de hecho depende (ligeramente) de dos varianzas desconocidas.\n",
        " #gl = (S1**2 /n1 + S2**2 /n2)**2 / ( ( (S1**2/n1)**2 / (n1-1) ) + ( (S2**2/n2)**2 / (n2-1) ) ) - 2\n",
        "gll = (S_1**2 /n_1 + S_2**2 /n_2)**2  /  ( ( (S_1**2/n_1)**2 / (n_1-1) ) + ( (S_2**2/n_2)**2 / (n_2-1) ) ) -2\n",
        "print(gll)"
      ],
      "execution_count": 54,
      "outputs": [
        {
          "output_type": "stream",
          "text": [
            "29.805672930052623\n"
          ],
          "name": "stdout"
        }
      ]
    },
    {
      "cell_type": "code",
      "metadata": {
        "colab": {
          "base_uri": "https://localhost:8080/"
        },
        "id": "I-dQ050_UW29",
        "outputId": "22728f91-6f54-436f-adb2-2de1187b26cf"
      },
      "source": [
        "## 4) plantear hipotesis\n",
        " # H0:  Mu 1 = Mu 2\n",
        " # H1:  Mu 1 ≠ Mu 2\n",
        "\n",
        "#regla decision (2 colas)\n",
        " # no rechazar H0 si: -Tcritico <= T <= Tcritico\n",
        " # rechazar HO si: T < -Tcritico o T > Tcritico\n",
        "\n",
        "\n",
        "## 5) Calcular el estadístico T crítico a emplear\n",
        "Tcritico = Tcritico #fue obtenido en paso anterior\n",
        "\n",
        "\n",
        "## 6) Determinar el tipo de test, una o dos colas.\n",
        "#como la hipotesis alternativa es del tipo “diferente de” se trata de un test de dos colas\n",
        "#Nota: Se recomienda utilizar el contraste bilateral para estos análisis dado que éstos \n",
        "#requieren una mayor diferencia para detectar una misma potencia\n",
        "\n",
        "\n",
        "## 7 ) Calcular el estadístico T de prueba\n",
        "#como varianzas no son iguales, aqui el denominador es el sigma de diferencias calculado en paso #3\n",
        "T = ( xbarra_1 - xbarra_2 - 0) / S_dif\n",
        "print('T prueba: ', T)\n",
        "\n",
        "## 8) Calcular el p-value y comparación con el nivel de significancia establecido.\n",
        "#calcular p-value\n",
        "pvalue = 1 - (stats.t.cdf(T, df=(n_1 + n_2 -2))) #T prueba se encuentra en cola derecha\n",
        "print('p-value (significancia estadística): ', pvalue*2) #2 colas multiplicar por 2\n",
        "\n",
        "## 9) Concluir prueba de hipotesis:\n",
        "#como T prueba > Tcritico o como p-value menor a alpha, se rechaza H0, las medias son diferentes."
      ],
      "execution_count": 56,
      "outputs": [
        {
          "output_type": "stream",
          "text": [
            "T prueba:  4.19427799680374\n",
            "p-value (significancia estadística):  8.106533047613773e-05\n"
          ],
          "name": "stdout"
        }
      ]
    },
    {
      "cell_type": "code",
      "metadata": {
        "colab": {
          "base_uri": "https://localhost:8080/"
        },
        "id": "6pnvSFHyUXCU",
        "outputId": "c7cad979-dd21-4267-d5c2-c5c29a42eb3d"
      },
      "source": [
        "## 10) Calcular la potencia de la prueba (1 - beta)\n",
        "\n",
        "#buscar el valor en días correspondiente al T critico\n",
        "x = 0 + (Tcritico * S_dif)# por la derecha\n",
        "#print('X promedio para T=',Tcritico,': ',x)\n",
        "\n",
        "#otra forma mas simple con Scipy usando ppf\n",
        "x_b = stats.t.ppf((1-alpha/2), df=n_1 + n_2 - 2 , loc=0, scale=S_dif)\n",
        "#print('X promedio para T=',Tcritico,': ',x_b)\n",
        "\n",
        "\n",
        "#Calcular Beta (error tipo II)\n",
        "#forma simple con Scipy\n",
        "beta = stats.t.cdf(x, df=n_1 + n_2 -2, loc=xbarra_1-xbarra_2, scale=S_dif)\n",
        "print('Beta: ',beta)\n",
        "\n",
        "#otra forma simple para calcular Beta con Scipy\n",
        "beta1 = stats.t.cdf(Tcritico-T, df= n_1 + n_2 - 2)\n",
        "print('otra forma beta: ', beta1)\n",
        "\n",
        "#Calcular Potencia estadística (1- beta)\n",
        "print('Potencia de la prueba: ', 1-beta)\n",
        "\n",
        "\n",
        "## 11) Calcular el tamaño del efecto\n",
        "#aqui utilizaremos la desv. mancomunada (S pooled)\n",
        "#d de Cohen para T-TEST INDEPENDIENTES: (diferencia medias grupos / S medias 2 sigmas)\n",
        "\n",
        "dif_bruta = (xbarra_1 - xbarra_2)\n",
        "dCohen = (xbarra_1 - xbarra_2) / S\n",
        "print('d Cohen: ', dCohen)\n",
        "print('diferencia bruta: ', dif_bruta)"
      ],
      "execution_count": 58,
      "outputs": [
        {
          "output_type": "stream",
          "text": [
            "Beta:  0.01727755878826268\n",
            "otra forma beta:  0.017277558788262707\n",
            "Potencia de la prueba:  0.9827224412117374\n",
            "d Cohen:  1.176432015658332\n",
            "diferencia bruta:  15.370000000000001\n"
          ],
          "name": "stdout"
        }
      ]
    },
    {
      "cell_type": "markdown",
      "metadata": {
        "id": "8xLvoZV3_XoZ"
      },
      "source": [
        "**Conclusión:**\n",
        "\n",
        "Las diferencias son estadísticamente significativas (p-value: 0.00), el uso del método kanban en el desarrollo de requerimientos tiene un efecto relevante (d Cohen grande) en los tiempos de procesamiento y la potencia estadística es alta (0.98). \n",
        "\n",
        "Por tanto se puede afirmar que el tratamiento reduce de forma sustantiva los tiempos de desarrollo.\n"
      ]
    },
    {
      "cell_type": "markdown",
      "metadata": {
        "id": "1AHTORkxrthZ"
      },
      "source": [
        "\n",
        "\n",
        "---\n",
        "\n"
      ]
    },
    {
      "cell_type": "markdown",
      "metadata": {
        "id": "43lrNO0X3hHS"
      },
      "source": [
        "####Ejemplo 3.2 (varianzas desiguales)\n",
        "Se quiere estudiar el efecto de aplicar un nuevo método de trabajo (kanban) en los tiempos de entrega de los requerimientos de negocio, para ello se mide el tiempo transcurrido desde que se reciben los requerimientos hasta que estos han sido completados (en días), esto en dos grupos de trabajos seleccionados al azar.\n",
        "\n",
        "En vista de los resultados ¿Se puede considerar que el nuevo método reduce los tiempos de desarrolo y entrega, para un nivel de significancia del 5%?\n",
        "\n",
        "Grupo Experimental: Grupo de requerimientos trabajados con nuevo método (n= 76; Media= 5.802; y Sigma= 7.674)\n",
        "\n",
        "Grupo Control: Grupo de requerimientos trabajados en modo tradicional (n= 70; Media= 9.271; y Sigma= 13.424)\n",
        "\n",
        "\n",
        "\n",
        "```\n",
        "Nota 1: En este ejemplo aplicaremos la prueba t Student de muestras independientes \n",
        "con varianza distintas, aquí estimaremos los grados de libertad con una fórmula en el paso 3.\n",
        "```\n",
        "```\n",
        "Nota 2: Este ejemplo corresponde a un caso real desarrollado en la organización de \n",
        "Gestión de Ambientes (infraestructura TI) de una compañía Financiera - año 2020.\n",
        "```"
      ]
    },
    {
      "cell_type": "code",
      "metadata": {
        "colab": {
          "base_uri": "https://localhost:8080/"
        },
        "id": "4Z66JylM8knu",
        "outputId": "7be6d4b8-45d9-431b-990d-4a6cba7332be"
      },
      "source": [
        "#Analisis post hoc utilizando t Student, con desigual varianza***\n",
        "\n",
        "## 1) cargar datos muestras: tamaño (n), media (xbarra) y sigma (S)\n",
        "#muestra 1 (control)\n",
        "n_1 = 70\n",
        "xbarra_1 = 9.271\n",
        "S_1 = 11.424\n",
        "\n",
        "#muestra 2 (experimental)\n",
        "n_2 = 76\n",
        "xbarra_2 = 5.802\n",
        "S_2 = 7.674\n",
        "\n",
        "\n",
        "## 2) Determinar Nivel de Significancia\n",
        "alpha = 0.05\n",
        "\n",
        "\n",
        "## 3) Estimar el IC de la diferencia de medias\n",
        "\n",
        "\n",
        "#Estimar grados de libertad cuando varianzas poblacionales no son iguales\n",
        "# gl = (S1**2 /n1 + S2**2 /n2)**2 / ( ( (S1**2/n1)**2 / (n1-1) ) + ( (S2**2/n2)**2 / (n2-1) ) )\n",
        "gl = (S_1**2 /n_1 + S_2**2 /n_2)**2  /  ( ( (S_1**2/n_1)**2 / (n_1-1) ) + ( (S_2**2/n_2)**2 / (n_2-1) ) )\n",
        "print('estimacion gl: ', gl)\n",
        "\n",
        "#calcular T critico 2 colas con Scipy\n",
        "Tcritico = stats.t.ppf(1 - (alpha/2), df=gl)\n",
        "print ('T critico: ',Tcritico)\n",
        "\n",
        "\n",
        "#Estimar mancomunado de la varianza poblacional (S pooled) =>  #NO APLICA para calcular IC ya que Varianzas son diferentes\n",
        "#Se aplica la varianza mancomunada para calcular 'd Cohen' en el ultimo paso, por esta razon se calcula aqui:\n",
        "var = ( S_1**2 *(n_1 - 1) + S_2**2 *(n_2 - 1)) / (n_1 + n_2 - 2)\n",
        "S = np.sqrt(var)\n",
        "print('Varianza mancomunada: ',var)\n",
        "print('Sigma poblacion :', S)\n",
        "\n",
        "\n",
        "#como las varianzas son diferentes, el calculo del 'Sigma diferencias  medias' es de la siguiente forma:\n",
        "S_dif = np.sqrt( (S_1**2 / n_1) + (S_2**2 / n_2) )\n",
        "print('S diferencia medias: ',S_dif)\n",
        "\n",
        "#IC diferencia medias al 1-alpha:\n",
        "LI = (xbarra_1 - xbarra_2) - Tcritico * S_dif\n",
        "LS = (xbarra_1 - xbarra_2) + Tcritico * S_dif\n",
        "print('IC diferencia medias al', 1-alpha, 'NC : ', LI, LS)\n",
        "\n",
        "#otra forma con Scipy\n",
        "IC = stats.t.interval(1-alpha, loc=xbarra_1 - xbarra_2, scale=S_dif, df=gl)\n",
        "print('IC diferencia medias al', 1-alpha, 'NC : ', IC)"
      ],
      "execution_count": 101,
      "outputs": [
        {
          "output_type": "stream",
          "text": [
            "estimacion gl:  119.31284988709228\n",
            "T critico:  1.9800465489234276\n",
            "Varianza mancomunada:  93.20699474999999\n",
            "Sigma poblacion : 9.654376973684009\n",
            "S diferencia medias:  1.6245826702976918\n",
            "IC diferencia medias al 0.95 NC :  0.25225069023625 6.685749309763752\n",
            "IC diferencia medias al 0.95 NC :  (0.25225069023625, 6.685749309763752)\n"
          ],
          "name": "stdout"
        }
      ]
    },
    {
      "cell_type": "code",
      "metadata": {
        "colab": {
          "base_uri": "https://localhost:8080/"
        },
        "id": "nsqLS4FU9Ujq",
        "outputId": "7bf05bf7-9293-436b-acf4-68792dd6eef6"
      },
      "source": [
        "#otra forma de estimar grados de libertad con varianzas desiguales es con la la ecuación Welch–Satterthwaite. \n",
        "#Nótese que la verdadera distribución de este estadístico de hecho depende (ligeramente) de dos varianzas desconocidas.\n",
        " #gl = (S1**2 /n1 + S2**2 /n2)**2 / ( ( (S1**2/n1)**2 / (n1-1) ) + ( (S2**2/n2)**2 / (n2-1) ) ) - 2\n",
        "gll = (S_1**2 /n_1 + S_2**2 /n_2)**2  /  ( ( (S_1**2/n_1)**2 / (n_1-1) ) + ( (S_2**2/n_2)**2 / (n_2-1) ) ) -2\n",
        "print(gll)"
      ],
      "execution_count": 84,
      "outputs": [
        {
          "output_type": "stream",
          "text": [
            "105.80353481895833\n"
          ],
          "name": "stdout"
        }
      ]
    },
    {
      "cell_type": "code",
      "metadata": {
        "colab": {
          "base_uri": "https://localhost:8080/"
        },
        "id": "BNjWRSmJ9c6G",
        "outputId": "8a522c69-e3d9-45c9-e04b-b42adb34e1c8"
      },
      "source": [
        "## 4) plantear hipotesis\n",
        " # H0:  Mu 1 = Mu 2\n",
        " # H1:  Mu 1 ≠ Mu 2\n",
        "\n",
        "#regla decision (2 colas)\n",
        " # no rechazar H0 si: -Tcritico <= T <= Tcritico\n",
        " # rechazar HO si: T < -Tcritico o T > Tcritico\n",
        "\n",
        "\n",
        "## 5) Calcular el estadístico T crítico a emplear\n",
        "Tcritico = Tcritico #fue obtenido en paso anterior\n",
        "\n",
        "\n",
        "## 6) Determinar el tipo de test, una o dos colas.\n",
        "#como la hipotesis alternativa es del tipo “diferente de” se trata de un test de dos colas\n",
        "#Nota: Se recomienda utilizar el contraste bilateral para estos análisis dado que éstos \n",
        "#requieren una mayor diferencia para detectar una misma potencia\n",
        "\n",
        "\n",
        "## 7 ) Calcular el estadístico T de prueba\n",
        "#como varianzas no son iguales, aqui el denominador es el sigma de diferencias calculado en paso #3\n",
        "T = ( xbarra_1 - xbarra_2 - 0) / S_dif\n",
        "print('T prueba: ', T)\n",
        "\n",
        "## 8) Calcular el p-value y comparación con el nivel de significancia establecido.\n",
        "#calcular p-value\n",
        "pvalue = 1 - (stats.t.cdf(T, df=(n_1 + n_2 -2))) #T prueba se encuentra en cola derecha\n",
        "print('p-value (significancia estadística): ', pvalue*2) #2 colas multiplicar por 2\n",
        "\n",
        "## 9) Concluir prueba de hipotesis:\n",
        "#como T prueba > Tcritico o como p-value menor a alpha, se rechaza H0, las medias son diferentes."
      ],
      "execution_count": 102,
      "outputs": [
        {
          "output_type": "stream",
          "text": [
            "T prueba:  2.135317619363953\n",
            "p-value (significancia estadística):  0.03442713983854184\n"
          ],
          "name": "stdout"
        }
      ]
    },
    {
      "cell_type": "code",
      "metadata": {
        "colab": {
          "base_uri": "https://localhost:8080/"
        },
        "id": "nSXk9bK09UwY",
        "outputId": "08a55700-6862-41c8-b056-ffeb5e0427bc"
      },
      "source": [
        "## 10) Calcular la potencia de la prueba (1 - beta)\n",
        "\n",
        "#buscar el valor en días correspondiente al T critico\n",
        "x = 0 + (Tcritico * S_dif)# por la derecha\n",
        "#print('X promedio para T=',Tcritico,': ',x)\n",
        "\n",
        "#otra forma mas simple con Scipy usando ppf\n",
        "x_b = stats.t.ppf((1-alpha/2), df=n_1 + n_2 - 2 , loc=0, scale=S_dif)\n",
        "#print('X promedio para T=',Tcritico,': ',x_b)\n",
        "\n",
        "\n",
        "#Calcular Beta (error tipo II)\n",
        "#forma simple con Scipy\n",
        "beta = stats.t.cdf(x, df=n_1 + n_2 -2, loc=xbarra_1-xbarra_2, scale=S_dif)\n",
        "print('Beta: ',beta)\n",
        "\n",
        "#otra forma simple para calcular Beta con Scipy\n",
        "beta1 = stats.t.cdf(Tcritico-T, df= n_1 + n_2 - 2)\n",
        "print('otra forma beta: ', beta1)\n",
        "\n",
        "#Calcular Potencia estadística (1- beta)\n",
        "print('Potencia de la prueba: ', 1-beta)\n",
        "\n",
        "\n",
        "## 11) Calcular el tamaño del efecto\n",
        "#aqui utilizaremos la desv. mancomunada (S pooled)\n",
        "#d de Cohen para T-TEST INDEPENDIENTES: (diferencia medias grupos / S medias 2 sigmas)\n",
        "\n",
        "dif_bruta = (xbarra_1 - xbarra_2)\n",
        "dCohen = (xbarra_1 - xbarra_2) / S\n",
        "print('d Cohen: ', dCohen)\n",
        "print('diferencia bruta: ', dif_bruta)"
      ],
      "execution_count": 103,
      "outputs": [
        {
          "output_type": "stream",
          "text": [
            "Beta:  0.438412528941905\n",
            "otra forma beta:  0.438412528941905\n",
            "Potencia de la prueba:  0.561587471058095\n",
            "d Cohen:  0.35931888815361507\n",
            "diferencia bruta:  3.469000000000001\n"
          ],
          "name": "stdout"
        }
      ]
    },
    {
      "cell_type": "markdown",
      "metadata": {
        "id": "VVsid_se-0VZ"
      },
      "source": [
        "Conclusión:\n",
        "\n",
        "Las diferencias son estadísticamente significativas (p-value: 0.03), el uso del método kanban en el desarrollo de requerimientos tiene un efecto bajo (d Cohen pequeño-mediano) en los tiempos de procesamiento y la potencia estadística baja (0.56).\n",
        "\n",
        "Por tanto no se puede afirmar que el tratamiento reduce de forma sustantiva los tiempos de desarrollo."
      ]
    },
    {
      "cell_type": "markdown",
      "metadata": {
        "id": "lmL7E0E9_xHI"
      },
      "source": [
        "\n",
        "\n",
        "---\n",
        "\n",
        "\n",
        "\n",
        "---\n",
        "\n"
      ]
    },
    {
      "cell_type": "markdown",
      "metadata": {
        "id": "9VElPhMUrDQt"
      },
      "source": [
        "###Aplicando Análisis a priori\n",
        "\n",
        "Generalmente se necesita una estimación del tamaño del efecto antes de comenzar una investigación, con el fin de calcular el número de personas o elementos necesarios para evitar un error de tipo II o β. Por tanto antes de iniciar una investigación se debe determinar la cantidad de personas que será suficiente para garantizar (con un grado particular de certeza) que el estudio tiene un poder aceptable para respaldar la hipótesis nula.\n",
        "\n",
        "\n",
        "\n",
        "\n",
        "**¿Cómo calcular el tamaño de la muestra antes de un estudio?**\n",
        "\n",
        "Lo primero es calcular la 'potencia del estudio' con un tamaño de efecto estimado. Cohen eligió un error β de 0.2 (él postuló que un error α era más grave que un error β, por esta razón estimó el error β en 4 veces el α, obteniendo β = 0.20), por tanto una potencia estadística (1-β) >= 0.80 es una buena medida.\n",
        "\n",
        "Luego se debe estimar el 'tamaño del efecto' esto con el objeto de calcular un tamaño de muestra razonable. El tamaño del efecto se puede estimar según la diferencia mínima que los expertos considerarían importante, o mediante los resultados de un trabajo similar publicado o utilizando la tabla de referencia de 'd de Cohen' en la eventualidad de que no se esté familiarizado con la variable de estudio. \n",
        "\n",
        "Existen varios sitios donde calcular en línea esto, acá pueden ver una para estimar tamaño muestras para una prueba de diferencia de proporciones:\n",
        "https://www.evanmiller.org/ab-testing/sample-size.html#!40;80;5;5;0   (en la sección bonus será propuesta una forma de abordarlo)."
      ]
    },
    {
      "cell_type": "markdown",
      "metadata": {
        "id": "JPoXUjMkQ5oe"
      },
      "source": [
        "####Ejemplo 4\n",
        "Adaptado del libro «R in Action» de Robert Kabacoff (2011).\n",
        "\n",
        "Un organización mide el tiempo de reacción de las personas ante unos cambios que se producen en un simulador de manejo de automovil. Se cuenta con dos grupos de personas, uno en los cuales los sujetos están hablando por teléfono y otros que no.\n",
        "\n",
        "**A priori.** Se quiere comparar el tiempo medio de reacción de los participantes en ambos grupos. Se conoce por bibliografía que el tiempo de reacción tiene una desviación estándar (Sigma) de 1.25 segundos y que una diferencia en 1 segundo en el tiempo de reacción se considera una diferencia importante (según criterio de relevancia experto). Para una potencia del 90% y un nivel de confianza del 95%, ¿cuántos participantes necesitamos en nuestro estudio?\n",
        "\n",
        "Para resolver utilizaremos la libreria STATSMODELS y luego aplicaremos un análisis Post Hoc con los pasos vistos anteriormente."
      ]
    },
    {
      "cell_type": "code",
      "metadata": {
        "colab": {
          "base_uri": "https://localhost:8080/"
        },
        "id": "yIK0I5OnSrCN",
        "outputId": "a6b18b43-3238-4d0a-dc46-d9c5e1cb52d2"
      },
      "source": [
        "#estimar tamaño de muestra con analisis de Potencia\n",
        "from statsmodels.stats.power import TTestIndPower\n",
        "\n",
        "\n",
        "#definir parametros para el analisis\n",
        "sigma = 1.25\n",
        "efecto_bruto = 1 #criterio relevancia experto\n",
        "tamano_efecto = (efecto_bruto / sigma) #efecto estandarizado d Cohen\n",
        "print('Tamaño del efecto d Cohen: ', tamano_efecto)\n",
        "alpha = 0.05\n",
        "potencia = 0.9\n",
        "\n",
        "#ejecuta analisis\n",
        "analysis = TTestIndPower()\n",
        "result = analysis.solve_power(tamano_efecto, power=potencia, nobs1=None, ratio=1.0, alpha=alpha, alternative='two-sided')\n",
        "print('Sample Size: %.3f' % result)"
      ],
      "execution_count": 60,
      "outputs": [
        {
          "output_type": "stream",
          "text": [
            "Tamaño del efecto d Cohen:  0.8\n",
            "Sample Size: 33.826\n"
          ],
          "name": "stdout"
        }
      ]
    },
    {
      "cell_type": "markdown",
      "metadata": {
        "id": "HlIhPgk5gvpY"
      },
      "source": [
        "**Conclusión:**\n",
        "En este caso necesitamos en cada grupo 34 personas (en total 68) para detectar un tamaño de efecto estandarizado de 0.8 (grande según Cohen), con una potencia estadística del 90% y un nivel de confianza del 95%."
      ]
    },
    {
      "cell_type": "markdown",
      "metadata": {
        "id": "VisO0IMZWITj"
      },
      "source": [
        "\n",
        "\n",
        "Ahora ejecutemos un análisis Post Hoc con los resultados anteriores (supondremos medias que arrojen una diferencia bruta de 1 segundo), para comprobar resultados:\n",
        "\n",
        "\n",
        "\n",
        "```\n",
        "Grupo Experimental (hablan por telefono): n= 34; Media= 11 y Sigma= 1.25\n",
        "\n",
        "Grupo Control: n= 34; Media= 10 y Sigma= 1.25\n",
        "```\n",
        "\n",
        "\n"
      ]
    },
    {
      "cell_type": "code",
      "metadata": {
        "colab": {
          "base_uri": "https://localhost:8080/"
        },
        "id": "8OJtTWy0XDkX",
        "outputId": "0d19f0dd-dd2b-411a-ab51-8aaf3ff93c18"
      },
      "source": [
        "#Analisis post hoc utilizando t Student, suponiendo igual varianza pero desconocida\n",
        "\n",
        "## 1) cargar datos muestras: tamaño (n), media (xbarra) y sigma (S)\n",
        "#muestra 1\n",
        "n_1 = 34\n",
        "xbarra_1 = 11.0\n",
        "S_1 = 1.25\n",
        "\n",
        "#muestra 2\n",
        "n_2 = 34\n",
        "xbarra_2 = 10.0\n",
        "S_2 = 1.25\n",
        "\n",
        "\n",
        "## 2) Determinar Nivel de Significancia\n",
        "alpha = 0.05\n",
        "\n",
        "\n",
        "## 3) Estimar el IC de la diferencia de medias\n",
        "#calcular T critico 2 colas con Scipy\n",
        "Tcritico = stats.t.ppf(1 - (alpha/2), df=(n_1 + n_2 - 2))\n",
        "print ('T critico: ',Tcritico)\n",
        "\n",
        "#Estimar mancomunado de la varianza poblacional\n",
        "# S**2 = ( S1**2 *(n1 - 1) + S2**2 *(n2 - 1)) / ( n1 + n2 - 2)\n",
        "var = ( S_1**2 *(n_1 - 1) + S_2**2 *(n_2 - 1)) / (n_1 + n_2 - 2)\n",
        "S = np.sqrt(var)\n",
        "print('Varianza mancomunada: ',var)\n",
        "print('Sigma poblacion :', S)\n",
        "\n",
        "#calcular Sigma de diferencia de medias\n",
        "S_dif = np.sqrt( (S**2 / n_1) + (S**2 / n_2) )\n",
        "print('S diferencia medias: ',S_dif)\n",
        "\n",
        "#IC diferencia medias al 1-alpha:\n",
        "LI = (xbarra_1 - xbarra_2) - Tcritico * S_dif\n",
        "LS = (xbarra_1 - xbarra_2) + Tcritico * S_dif\n",
        "print('IC diferencia medias al', 1-alpha, 'NC : ', LI, LS)\n",
        "\n",
        "#otra forma con Scipy\n",
        "IC = stats.t.interval(1-alpha, loc=xbarra_1 - xbarra_2, scale=S_dif, df=(n_1 + n_2 -2))\n",
        "print('IC diferencia medias al', 1-alpha, 'NC : ', IC)"
      ],
      "execution_count": 61,
      "outputs": [
        {
          "output_type": "stream",
          "text": [
            "T critico:  1.9965644183594744\n",
            "Varianza mancomunada:  1.5625\n",
            "Sigma poblacion : 1.25\n",
            "S diferencia medias:  0.30316953129541624\n",
            "IC diferencia medias al 0.95 NC :  0.39470250108485283 1.6052974989151472\n",
            "IC diferencia medias al 0.95 NC :  (0.39470250108485283, 1.6052974989151472)\n"
          ],
          "name": "stdout"
        }
      ]
    },
    {
      "cell_type": "code",
      "metadata": {
        "colab": {
          "base_uri": "https://localhost:8080/"
        },
        "id": "X9XACu59XDtb",
        "outputId": "7ed8b297-c8d6-400e-df53-f7585c9d64ca"
      },
      "source": [
        "## 4) plantear hipotesis\n",
        " # H0:  Mu 1 = Mu 2\n",
        " # H1:  Mu 1 ≠ Mu 2\n",
        "\n",
        "#regla decision (2 colas)\n",
        " # no rechazar H0 si: -Tcritico <= T <= Tcritico\n",
        " # rechazar HO si: T < -Tcritico o T > Tcritico\n",
        "\n",
        "\n",
        "## 5) Calcular el estadístico T crítico a emplear\n",
        "Tcritico = Tcritico #fue obtenido en paso anterior\n",
        "\n",
        "\n",
        "## 6) Determinar el tipo de test, una o dos colas.\n",
        "#como la hipotesis alternativa es del tipo “diferente de” se trata de un test de dos colas\n",
        "#Nota: Se recomienda utilizar el contraste bilateral para estos análisis dado que éstos \n",
        "#requieren una mayor diferencia para detectar una misma potencia\n",
        "\n",
        "\n",
        "## 7 ) Calcular el estadístico T de prueba.\n",
        "T = ( xbarra_1 - xbarra_2 - 0) / S_dif\n",
        "print('T prueba: ', T)\n",
        "\n",
        "## 8) Calcular el p-value y comparación con el nivel de significancia establecido.\n",
        "#calcular p-value\n",
        "pvalue = 1 - (stats.t.cdf(T, df=(n_1 + n_2 -2))) #T prueba se encuentra en cola derecha\n",
        "print('p-value (significancia estadística): ', pvalue*2) #2 colas multiplicar por 2\n",
        "\n",
        "## 9) Concluir prueba de hipotesis:\n",
        "#como T prueba > Tcritico o como p-value menor a alpha, se rechaza H0, las medias son diferentes."
      ],
      "execution_count": 65,
      "outputs": [
        {
          "output_type": "stream",
          "text": [
            "T prueba:  3.298484500494128\n",
            "p-value (significancia estadística):  0.0015688292365501066\n"
          ],
          "name": "stdout"
        }
      ]
    },
    {
      "cell_type": "code",
      "metadata": {
        "colab": {
          "base_uri": "https://localhost:8080/"
        },
        "id": "7y_Hv0bSXD1C",
        "outputId": "e142e7c5-14b4-4735-e88b-78ce1d69d5cf"
      },
      "source": [
        "## 10) Calcular la potencia de la prueba (1 - beta)\n",
        "\n",
        "#buscar el valor en segundos correspondiente al T critico\n",
        "x = 0 + (Tcritico * S_dif)# por la derecha\n",
        "#print('X promedio para T=',Tcritico,': ',x)\n",
        "\n",
        "#otra forma mas simple con Scipy usando ppf\n",
        "x_b = stats.t.ppf((1-alpha/2), df=n_1 + n_2 - 2 , loc=0, scale=S_dif)\n",
        "#print('X promedio para T=',Tcritico,': ',x_b)\n",
        "\n",
        "\n",
        "#Calcular Beta (error tipo II)\n",
        "#forma simple con Scipy\n",
        "beta = stats.t.cdf(x, df=n_1 + n_2 -2, loc=xbarra_1-xbarra_2, scale=S_dif)\n",
        "print('Beta: ',beta)\n",
        "\n",
        "#Calcular Potencia estadística (1- beta)\n",
        "print('Potencia de la prueba: ', 1-beta)\n",
        "\n",
        "\n",
        "## 11) Calcular el tamaño del efecto\n",
        "#d de Cohen para T-TEST INDEPENDIENTES: (diferencia medias grupos / S mancomunada)\n",
        "dif_bruta = (xbarra_1 - xbarra_2)\n",
        "dCohen = (xbarra_1 - xbarra_2) / S\n",
        "print('d Cohen: ', dCohen)\n",
        "print('diferencia bruta: ', dif_bruta)"
      ],
      "execution_count": 66,
      "outputs": [
        {
          "output_type": "stream",
          "text": [
            "Beta:  0.09873467292248794\n",
            "Potencia de la prueba:  0.9012653270775121\n",
            "d Cohen:  0.8\n",
            "diferencia bruta:  1.0\n"
          ],
          "name": "stdout"
        }
      ]
    },
    {
      "cell_type": "markdown",
      "metadata": {
        "id": "lFz1cMs1Xq3j"
      },
      "source": [
        "**Conclusión:** Aplicando el análisis post hoc se comprueba el Beta y Potencia planificada."
      ]
    },
    {
      "cell_type": "markdown",
      "metadata": {
        "id": "lN506xlTaVH_"
      },
      "source": [
        "\n",
        "\n",
        "---\n",
        "\n"
      ]
    },
    {
      "cell_type": "markdown",
      "metadata": {
        "id": "mlZcjMN_YOgh"
      },
      "source": [
        "####Ejemplo 5\n",
        "Manteniendo el ejemplo inicial del simulador, ahora supongamos que la realidad de la investigación fue otra:\n",
        "\n",
        "Se detectó un efecto bruto de 0.625 segundos (diferencia entre las medias), que la desviación estandar es la misma que la informada en la bibliografía (sigma = 1.25), que se incluyeron 40 participantes (20 en cada grupo) en el estudio y que se utilizó un nivel de confianza del 99%.\n",
        "\n",
        "```\n",
        "Grupo Experimental (hablan por telefono): n= 20; Media= 10.5 y Sigma= 1.25\n",
        "\n",
        "Grupo Control: n= 20; Media= 10 y Sigma= 1.25\n",
        "```\n",
        "\n",
        "\n",
        "Con base en esta realidad:\n",
        "¿cuál es la probabilidad de detectar diferencias entre las medias poblacionales? (esta corresponde a la potencia).\n",
        "\n",
        "Aplicaremos un análisis Post Hoc para calcular esta pregunta:"
      ]
    },
    {
      "cell_type": "code",
      "metadata": {
        "colab": {
          "base_uri": "https://localhost:8080/"
        },
        "id": "N19WIEIqZt9-",
        "outputId": "76e919ea-0972-4e86-c561-b17551c62e6e"
      },
      "source": [
        "#Analisis post hoc utilizando t Student, suponiendo igual varianza pero desconocida\n",
        "\n",
        "## 1) cargar datos muestras: tamaño (n), media (xbarra) y sigma (S)\n",
        "#muestra 1\n",
        "n_1 = 20\n",
        "xbarra_1 = 10.625\n",
        "S_1 = 1.25\n",
        "\n",
        "#muestra 2\n",
        "n_2 = 20\n",
        "xbarra_2 = 10.0\n",
        "S_2 = 1.25\n",
        "\n",
        "\n",
        "## 2) Determinar Nivel de Significancia\n",
        "alpha = 0.01\n",
        "\n",
        "\n",
        "## 3) Estimar el IC de la diferencia de medias\n",
        "#calcular T critico 2 colas con Scipy\n",
        "Tcritico = stats.t.ppf(1 - (alpha/2), df=(n_1 + n_2 - 2))\n",
        "print ('T critico: ',Tcritico)\n",
        "\n",
        "#Estimar mancomunado de la varianza poblacional\n",
        "# S**2 = ( S1**2 *(n1 - 1) + S2**2 *(n2 - 1)) / ( n1 + n2 - 2)\n",
        "var = ( S_1**2 *(n_1 - 1) + S_2**2 *(n_2 - 1)) / (n_1 + n_2 - 2)\n",
        "S = np.sqrt(var)\n",
        "print('Varianza mancomunada: ',var)\n",
        "print('Sigma poblacion :', S)\n",
        "\n",
        "#calcular Sigma de diferencia de medias\n",
        "S_dif = np.sqrt( (S**2 / n_1) + (S**2 / n_2) )\n",
        "print('S diferencia medias: ',S_dif)\n",
        "\n",
        "#IC diferencia medias al 1-alpha:\n",
        "LI = (xbarra_1 - xbarra_2) - Tcritico * S_dif\n",
        "LS = (xbarra_1 - xbarra_2) + Tcritico * S_dif\n",
        "print('IC diferencia medias al', 1-alpha, 'NC : ', LI, LS)\n",
        "\n",
        "#otra forma con Scipy\n",
        "IC = stats.t.interval(1-alpha, loc=xbarra_1 - xbarra_2, scale=S_dif, df=(n_1 + n_2 -2))\n",
        "print('IC diferencia medias al', 1-alpha, 'NC : ', IC)"
      ],
      "execution_count": 67,
      "outputs": [
        {
          "output_type": "stream",
          "text": [
            "T critico:  2.7115576019130625\n",
            "Varianza mancomunada:  1.5625\n",
            "Sigma poblacion : 1.25\n",
            "S diferencia medias:  0.39528470752104744\n",
            "IC diferencia medias al 0.99 NC :  -0.44683725359867776 1.6968372535986778\n",
            "IC diferencia medias al 0.99 NC :  (-0.44683725359867776, 1.6968372535986778)\n"
          ],
          "name": "stdout"
        }
      ]
    },
    {
      "cell_type": "code",
      "metadata": {
        "colab": {
          "base_uri": "https://localhost:8080/"
        },
        "id": "qnsXu3jkZuIF",
        "outputId": "3d1fca8d-fbd8-4467-c147-d8308477cfb0"
      },
      "source": [
        "## 4) plantear hipotesis\n",
        " # H0:  Mu 1 = Mu 2\n",
        " # H1:  Mu 1 ≠ Mu 2\n",
        "\n",
        "#regla decision (2 colas)\n",
        " # no rechazar H0 si: -Tcritico <= T <= Tcritico\n",
        " # rechazar HO si: T < -Tcritico o T > Tcritico\n",
        "\n",
        "\n",
        "## 5) Calcular el estadístico T crítico a emplear\n",
        "Tcritico = Tcritico #fue obtenido en paso anterior\n",
        "\n",
        "\n",
        "## 6) Determinar el tipo de test, una o dos colas.\n",
        "#como la hipotesis alternativa es del tipo “diferente de” se trata de un test de dos colas\n",
        "#Nota: Se recomienda utilizar el contraste bilateral para estos análisis dado que éstos \n",
        "#requieren una mayor diferencia para detectar una misma potencia\n",
        "\n",
        "\n",
        "## 7 ) Calcular el estadístico T de prueba.\n",
        "T = ( xbarra_1 - xbarra_2 - 0) / S_dif\n",
        "print('T prueba: ', T)\n",
        "\n",
        "## 8) Calcular el p-value y comparación con el nivel de significancia establecido.\n",
        "#calcular p-value\n",
        "pvalue = 1 - (stats.t.cdf(T, df=(n_1 + n_2 -2))) #T prueba se encuentra en cola derecha\n",
        "print('p-value (significancia estadística): ', pvalue*2) #2 colas multiplicar por 2\n",
        "\n",
        "## 9) Concluir prueba de hipotesis:\n",
        "#como T prueba > Tcritico o como p-value menor a alpha, se rechaza H0, las medias son diferentes."
      ],
      "execution_count": 68,
      "outputs": [
        {
          "output_type": "stream",
          "text": [
            "T prueba:  1.5811388300841895\n",
            "p-value (significancia estadística):  0.1221351574481615\n"
          ],
          "name": "stdout"
        }
      ]
    },
    {
      "cell_type": "code",
      "metadata": {
        "colab": {
          "base_uri": "https://localhost:8080/"
        },
        "id": "HDmUJ-ihZuOb",
        "outputId": "fe22956e-9e69-4a7c-f867-c81eddc13c39"
      },
      "source": [
        "## 10) Calcular la potencia de la prueba (1 - beta)\n",
        "\n",
        "#buscar el valor en segundos correspondiente al T critico\n",
        "x = 0 + (Tcritico * S_dif)# por la derecha\n",
        "#print('X promedio para T=',Tcritico,': ',x)\n",
        "\n",
        "#otra forma mas simple con Scipy usando ppf\n",
        "x_b = stats.t.ppf((1-alpha/2), df=n_1 + n_2 - 2 , loc=0, scale=S_dif)\n",
        "#print('X promedio para T=',Tcritico,': ',x_b)\n",
        "\n",
        "\n",
        "#Calcular Beta (error tipo II)\n",
        "#forma simple con Scipy\n",
        "beta = stats.t.cdf(x, df=n_1 + n_2 -2, loc=xbarra_1-xbarra_2, scale=S_dif)\n",
        "print('Beta: ',beta)\n",
        "\n",
        "#Calcular Potencia estadística (1- beta)\n",
        "print('Potencia de la prueba: ', 1-beta)\n",
        "\n",
        "\n",
        "## 11) Calcular el tamaño del efecto\n",
        "#d de Cohen para T-TEST INDEPENDIENTES: (diferencia medias grupos / S mancomunada)\n",
        "dif_bruta = (xbarra_1 - xbarra_2)\n",
        "dCohen = (xbarra_1 - xbarra_2) / S\n",
        "print('d Cohen: ', dCohen)\n",
        "print('diferencia bruta: ', dif_bruta)"
      ],
      "execution_count": 69,
      "outputs": [
        {
          "output_type": "stream",
          "text": [
            "Beta:  0.8673077824373767\n",
            "Potencia de la prueba:  0.13269221756262328\n",
            "d Cohen:  0.5\n",
            "diferencia bruta:  0.625\n"
          ],
          "name": "stdout"
        }
      ]
    },
    {
      "cell_type": "markdown",
      "metadata": {
        "id": "p9gnFl2Ma6WW"
      },
      "source": [
        "**Conclusión:** Con base en el análisis Post Hoc el estudio tiene menos de un 14% de probabilidad de encontrar diferencias de 0.625 segundos o menos (d=0.5=0.625/1.25) con 20 participantes en cada grupo, y un nivel de significación del 0.01. \n",
        "\n",
        "Es decir, existe un 86.7% de probabilidad de no detectar el efecto que se está buscando. Esto hace replantear la investigación."
      ]
    },
    {
      "cell_type": "code",
      "metadata": {
        "colab": {
          "base_uri": "https://localhost:8080/"
        },
        "id": "qk7UUbee1aCR",
        "outputId": "60989778-6263-4a75-acf5-3ddfdd020715"
      },
      "source": [
        "#Otra forma para calcular Potencia con paquete de STATSMODELS\n",
        "from statsmodels.stats.power import TTestIndPower\n",
        "analysis = TTestIndPower()\n",
        "\n",
        "#Calcular la Potencia de un t-test para 2 muestras independientes\n",
        "analysis.power(effect_size=0.5, nobs1=20, alpha=0.01, ratio=1, df=38, alternative='two-sided')"
      ],
      "execution_count": 111,
      "outputs": [
        {
          "output_type": "execute_result",
          "data": {
            "text/plain": [
              "0.14395508286023562"
            ]
          },
          "metadata": {
            "tags": []
          },
          "execution_count": 111
        }
      ]
    },
    {
      "cell_type": "markdown",
      "metadata": {
        "id": "LK4Zp1nFisEp"
      },
      "source": [
        "\n",
        "\n",
        "---\n",
        "\n"
      ]
    },
    {
      "cell_type": "markdown",
      "metadata": {
        "id": "XkjAeeGdBWfx"
      },
      "source": [
        "###Bonus: pruebas 2 proporciones, estimado con T student\n",
        "\n",
        "\n",
        "Cuando se necesita comparar proporciones de poblaciones diferentes, por ejemplo: porcentaje de productos defectuosos, tasa de conversión, nivel de servicio, tasa de abandono, proporción personas que sufren ataques al corazón, y un largo etc..\n",
        "\n",
        "Ejemplo:\n",
        "Un organización mide el porcentaje de clientes que compran el producto luego de una campaña comercial, a este indicador le la organización le llama \"tasa de conversion\".\n",
        "La organización historicamente ha tenido una tasa de conversion del 40%. Un equipo de innovación se encuentra diseñando un nuevo modelo de campañas, para ser probado en una muestra de clientes. Se cree que con esta innovación mejorarán las ventas (tasa de conversión actual).  \n",
        "\n",
        "**Análisis A priori.** Se quiere comparar la tasa de conversion en ambos grupos. La gerencia de Marketing ha definido que si se logra una diferencia absoluta de 500 puntos base en la tasa de conversión se considera una diferencia importante (según criterio de relevancia experto). Para una potencia del 80% y un nivel de confianza del 95%, ¿cuántos participantes se necesitarán en este estudio?\n",
        "\n",
        "\n",
        "Para resolver utilizaremos la libreria STATSMODELS con Studen y Normal. Luego aplicaremos un análisis Post Hoc con los pasos vistos anteriormente.\n"
      ]
    },
    {
      "cell_type": "code",
      "metadata": {
        "colab": {
          "base_uri": "https://localhost:8080/"
        },
        "id": "1j8O0g5GEwmH",
        "outputId": "1f7c586b-1b09-4c42-e0c2-850f3e998afb"
      },
      "source": [
        "#estimar tamaño de muestra con analisis de Potencia\n",
        "from statsmodels.stats.power import TTestIndPower\n",
        "from statsmodels.stats.power import NormalIndPower\n",
        "\n",
        "#definir parametros para el analisis\n",
        "\n",
        "efecto_bruto = 0.05 #criterio relevancia experto\n",
        "p1 = 0.40\n",
        "p2 = p1 + efecto_bruto\n",
        "\n",
        "sigma = np.sqrt( ((p1*(1-p1)) + (p2*(1-p2)))/2) #s pooled\n",
        "tamano_efecto = (efecto_bruto / sigma) #efecto estandarizado d Cohen\n",
        "print('Tamaño del efecto d Cohen: ', tamano_efecto)\n",
        "alpha = 0.05\n",
        "potencia = 0.8\n",
        "\n",
        "#ejecuta analisis con T\n",
        "analysis = TTestIndPower()\n",
        "result = analysis.solve_power(effect_size=tamano_efecto, power=potencia, nobs1=None, ratio=1.0, alpha=alpha, alternative='two-sided')\n",
        "print('Sample Size: %.3f' % result)\n",
        "\n",
        "\n",
        "#ejecuta con Z\n",
        "analysis2 = NormalIndPower()\n",
        "result2 = analysis.solve_power(effect_size=tamano_efecto, nobs1=None, alpha=alpha, power=potencia, ratio=1.0, alternative='two-sided')\n",
        "print('Sample Size: %.3f' % result2)"
      ],
      "execution_count": 142,
      "outputs": [
        {
          "output_type": "stream",
          "text": [
            "Tamaño del efecto d Cohen:  0.10127393670836665\n",
            "Sample Size: 1531.489\n",
            "Sample Size: 1531.489\n"
          ],
          "name": "stdout"
        }
      ]
    },
    {
      "cell_type": "markdown",
      "metadata": {
        "id": "eHAeBPTTQMog"
      },
      "source": [
        "Conclusión: se necesitan al menos 1.532 personas en cada grupo."
      ]
    },
    {
      "cell_type": "code",
      "metadata": {
        "colab": {
          "base_uri": "https://localhost:8080/"
        },
        "id": "dK8YnpU3Qr2o",
        "outputId": "8efe05d7-449d-452b-d9ea-ef0a1ac69331"
      },
      "source": [
        "#Analisis post hoc utilizando t Student, suponiendo igual varianza pero desconocida\n",
        "\n",
        "## 1) cargar datos muestras: tamaño (n), media (xbarra) y sigma (S)\n",
        "#muestra 2\n",
        "n_1 = 1532\n",
        "xbarra_1 = 0.45 #proporcion2\n",
        "S_1 = np.sqrt(xbarra_1*(1-xbarra_1))\n",
        "\n",
        "#muestra 1\n",
        "n_2 = 1532\n",
        "xbarra_2 = 0.40 #proporcion1\n",
        "S_2 = np.sqrt(xbarra_2*(1-xbarra_2))\n",
        "\n",
        "\n",
        "## 2) Determinar Nivel de Significancia\n",
        "alpha = 0.05\n",
        "\n",
        "\n",
        "## 3) Estimar el IC de la diferencia de medias\n",
        "#calcular T critico 2 colas con Scipy\n",
        "Tcritico = stats.t.ppf(1 - (alpha/2), df=(n_1 + n_2 - 2))\n",
        "print ('T critico: ',Tcritico)\n",
        "\n",
        "#Estimar mancomunado de la varianza poblacional, para calcular luego d cohen\n",
        "# S**2 = ( S1**2 *(n1 - 1) + S2**2 *(n2 - 1)) / ( n1 + n2 - 2)\n",
        "var = ( S_1**2 *(n_1 - 1) + S_2**2 *(n_2 - 1)) / (n_1 + n_2 - 2)\n",
        "S = np.sqrt(var)\n",
        "print('Varianza mancomunada: ',var)\n",
        "print('Sigma poblacion :', S)\n",
        "\n",
        "#calcular Sigma de diferencia de medias\n",
        "S_dif = np.sqrt( (S_1**2 / n_1) + (S_2**2 / n_2) )\n",
        "print('S diferencia medias: ',S_dif)\n",
        "\n",
        "#IC diferencia medias al 1-alpha:\n",
        "LI = (xbarra_1 - xbarra_2) - Tcritico * S_dif\n",
        "LS = (xbarra_1 - xbarra_2) + Tcritico * S_dif\n",
        "print('IC diferencia medias al', 1-alpha, 'NC : ', LI, LS)\n",
        "\n",
        "#otra forma con Scipy\n",
        "IC = stats.t.interval(1-alpha, loc=xbarra_1 - xbarra_2, scale=S_dif, df=(n_1 + n_2 -2))\n",
        "print('IC diferencia medias al', 1-alpha, 'NC : ', IC)"
      ],
      "execution_count": 161,
      "outputs": [
        {
          "output_type": "stream",
          "text": [
            "T critico:  1.9607390313348445\n",
            "Varianza mancomunada:  0.24375\n",
            "Sigma poblacion : 0.49371044145328746\n",
            "S diferencia medias:  0.01783848335062857\n",
            "IC diferencia medias al 0.95 NC :  0.015023389434605773 0.08497661056539421\n",
            "IC diferencia medias al 0.95 NC :  (0.015023389434605773, 0.08497661056539421)\n"
          ],
          "name": "stdout"
        }
      ]
    },
    {
      "cell_type": "code",
      "metadata": {
        "colab": {
          "base_uri": "https://localhost:8080/"
        },
        "id": "B3YG26NfSc4f",
        "outputId": "59a03995-0c1e-41b4-cee0-0c72cc19152a"
      },
      "source": [
        "## 4) plantear hipotesis\n",
        " # H0:  p 1 = p 2\n",
        " # H1:  p 1 ≠ p 2\n",
        "\n",
        "#regla decision (2 colas)\n",
        " # no rechazar H0 si: -Tcritico <= T <= Tcritico\n",
        " # rechazar HO si: T < -Tcritico o T > Tcritico\n",
        "\n",
        "\n",
        "## 5) Calcular el estadístico T crítico a emplear\n",
        "Tcritico = Tcritico #fue obtenido en paso anterior\n",
        "\n",
        "\n",
        "## 6) Determinar el tipo de test, una o dos colas.\n",
        "#como la hipotesis alternativa es del tipo “diferente de” se trata de un test de dos colas\n",
        "#Nota: Se recomienda utilizar el contraste bilateral para estos análisis dado que éstos \n",
        "#requieren una mayor diferencia para detectar una misma potencia\n",
        "\n",
        "\n",
        "## 7 ) Calcular el estadístico T de prueba.\n",
        "T = ( xbarra_1 - xbarra_2 - 0) / S_dif\n",
        "print('T prueba: ', T)\n",
        "\n",
        "## 8) Calcular el p-value y comparación con el nivel de significancia establecido.\n",
        "#calcular p-value\n",
        "pvalue = 1 - (stats.t.cdf(T, df=(n_1 + n_2 -2))) #T prueba se encuentra en cola derecha\n",
        "print('p-value (significancia estadística): ', pvalue*2) #2 colas multiplicar por 2\n",
        "\n",
        "## 9) Concluir prueba de hipotesis:\n",
        "#como T prueba > Tcritico o como p-value menor a alpha, se rechaza H0, las medias son diferentes."
      ],
      "execution_count": 162,
      "outputs": [
        {
          "output_type": "stream",
          "text": [
            "T prueba:  2.8029288710936378\n",
            "p-value (significancia estadística):  0.005095954997420771\n"
          ],
          "name": "stdout"
        }
      ]
    },
    {
      "cell_type": "code",
      "metadata": {
        "colab": {
          "base_uri": "https://localhost:8080/"
        },
        "id": "-AAEJQzJSpnE",
        "outputId": "12158d4a-65e9-4a69-f8af-d9e1f449c21f"
      },
      "source": [
        "## 10) Calcular la potencia de la prueba (1 - beta)\n",
        "\n",
        "#buscar el valor en segundos correspondiente al T critico\n",
        "x = 0 + (Tcritico * S_dif)# por la derecha\n",
        "#print('X promedio para T=',Tcritico,': ',x)\n",
        "\n",
        "#otra forma mas simple con Scipy usando ppf\n",
        "x_b = stats.t.ppf((1-alpha/2), df=n_1 + n_2 - 2 , loc=0, scale=S_dif)\n",
        "#print('X promedio para T=',Tcritico,': ',x_b)\n",
        "\n",
        "\n",
        "#Calcular Beta (error tipo II)\n",
        "#forma simple con Scipy\n",
        "beta = stats.t.cdf(x, df=n_1 + n_2 -2, loc=xbarra_1-xbarra_2, scale=S_dif)\n",
        "print('Beta: ',beta)\n",
        "\n",
        "#Calcular Potencia estadística (1- beta)\n",
        "print('Potencia de la prueba: ', 1-beta)\n",
        "\n",
        "\n",
        "## 11) Calcular el tamaño del efecto\n",
        "#d de Cohen para T-TEST INDEPENDIENTES: (diferencia medias grupos / S mancomunada)\n",
        "dif_bruta = (xbarra_1 - xbarra_2)\n",
        "dCohen = (xbarra_1 - xbarra_2) / S\n",
        "print('d Cohen: ', dCohen)\n",
        "print('diferencia bruta: ', dif_bruta)"
      ],
      "execution_count": 164,
      "outputs": [
        {
          "output_type": "stream",
          "text": [
            "Beta:  0.1998737366088259\n",
            "Potencia de la prueba:  0.8001262633911741\n",
            "d Cohen:  0.10127393670836664\n",
            "diferencia bruta:  0.04999999999999999\n"
          ],
          "name": "stdout"
        }
      ]
    },
    {
      "cell_type": "markdown",
      "metadata": {
        "id": "OvVbw43IS4nK"
      },
      "source": [
        "Análisis Post Hoc arroja que con n=1.532 por grupo se obtiene:\n",
        "\n",
        "* alpha= 0,05\n",
        "* beta= 0.20\n",
        "* potencia = 0.80"
      ]
    },
    {
      "cell_type": "markdown",
      "metadata": {
        "id": "YgnKy7xwBfGz"
      },
      "source": [
        "\n",
        "\n",
        "---\n",
        "\n"
      ]
    },
    {
      "cell_type": "markdown",
      "metadata": {
        "id": "p51jhriSlIG0"
      },
      "source": [
        "###Resumen\n",
        "\n",
        "El objetivo de este documento era explicar la importancia de presentar tanto la potencia estadística como el tamaño del efecto en las investigaciones desarrolladas, de tal forma que los lectores se puedan informar y tomar mejores decisiones con sus resultados.   \n",
        "\n",
        "Además es recomendable que cuando se quiera diseñar una investigación, las hipótesis a comprobar deben considerar desde un inicio estas medidas para detectar efectos significativos.\n",
        "\n",
        "Se espera que cuando se vayan a revisar resultados de estudios que indican ser significativos (valor-p), comprobemos con estas medidas 'potencia' y 'tamaño de efecto' si realmente son tan positivos, o ¿será que el experimento sobreestima los efectos del tratamiento implementado?.\n",
        "\n",
        "---\n",
        "\n",
        "¿Tienes alguna pregunta o sugerencia?\n",
        "Déjame comentarios en https://www.linkedin.com/in/robertomoragad/  y haré todo lo posible para responder."
      ]
    },
    {
      "cell_type": "markdown",
      "metadata": {
        "id": "2vgdJ1h1is68"
      },
      "source": [
        "###Referencias:\n",
        "\n",
        "* https://www.statsmodels.org/dev/index.html\n",
        "\n",
        "* https://docs.scipy.org/doc/scipy/reference/index.html\n",
        "\n",
        "* Cohen J.  Things I have learned (so far) Am Psychol, 1990.\n",
        "\n",
        "* Gail M. Sullivan, Richard Feinn.   Using Effect Size—or Why the P Value Is Not Enough, 2012.\n",
        "\n",
        "* Geoff Cumming.  Understanding The New Statistics (Multivariate Applications Series), 2012.\n",
        "\n",
        "* https://en.wikipedia.org/wiki/Effect_size"
      ]
    }
  ]
}