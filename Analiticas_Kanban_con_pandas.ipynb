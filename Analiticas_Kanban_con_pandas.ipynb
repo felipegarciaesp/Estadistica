{
  "nbformat": 4,
  "nbformat_minor": 0,
  "metadata": {
    "colab": {
      "name": "Analiticas Kanban con pandas.ipynb",
      "provenance": [],
      "authorship_tag": "ABX9TyPJfd2QNrF1hl3FD1DKbwlG",
      "include_colab_link": true
    },
    "kernelspec": {
      "name": "python3",
      "display_name": "Python 3"
    }
  },
  "cells": [
    {
      "cell_type": "markdown",
      "metadata": {
        "id": "view-in-github",
        "colab_type": "text"
      },
      "source": [
        "<a href=\"https://colab.research.google.com/github/robertomoragad/Estadistica/blob/master/Analiticas_Kanban_con_pandas.ipynb\" target=\"_parent\"><img src=\"https://colab.research.google.com/assets/colab-badge.svg\" alt=\"Open In Colab\"/></a>"
      ]
    },
    {
      "cell_type": "markdown",
      "metadata": {
        "id": "s-ZswYGt8Ci6"
      },
      "source": [
        "Objetivo: reforzar conocimientos de estadísticas aplicadas al análisis de datos, aplicando herramientas de programación y computación en la nube (Python y Google Colab)\n",
        "\n",
        "autor: Roberto Moraga Diaz - Lean Agile Coach\n",
        "\n",
        "puedes encontrar más info de notebooks aquí: https://github.com/robertomoragad/Estadistica"
      ]
    },
    {
      "cell_type": "markdown",
      "metadata": {
        "id": "VqPSjUadbnGb"
      },
      "source": [
        "#**Analíticas kanban con Pandas**\n",
        "\n",
        "Desde el año 2018 que he realizado diferentes talleres de Lean para enseñar sus principios, el mindset y junto con ello algunas herramientas para practicar y aprender haciendo.  Una simulación que me gusta mucho es desarrollar un flujo de valor (con 6 etapas) y luego comenzar a realizar distintos escenarios de acuerdo al 'cap wip' del sistema de trabajo. Con este simulación las personas pueden experimentar primero un sistema Push, y luego un sistema Pull con diferentes límites WIP a nivel sistema. Aquí los escenarios:\n",
        "\n",
        "\n",
        "\n",
        "1.   Sistema Push\n",
        "2.   Sistema Pull con cap wip = 15\n",
        "3.   Sistema Pull con cap wip = 3\n",
        "4.   Sistema Pull con cap wip = 6\n",
        "\n",
        "<img src='https://drive.google.com/uc?export=view&id=1qUCXegv_3AoOJ3gmsJxAzwAOebXiFhIz' width=\"800\" align=\"left\" style=\"margin-right: 20px\"> \n",
        "<br>\n",
        " \n",
        "<p style=\"font-size:8pt\"> \n",
        "Imagen gentileza de: Roberto Moraga</p>\n",
        "\n"
      ]
    },
    {
      "cell_type": "markdown",
      "metadata": {
        "id": "083hOEQ3d6F-"
      },
      "source": [
        "En cada escenario las personas deben registrar para cada producto algunas métricas como:\n",
        "\n",
        "\n",
        "*   leadtime\n",
        "*   cantidad de defectos\n",
        "\n",
        "Y luego en terminados agregados las siguientes para el escenario trabajado:\n",
        "*   cantidad de productos terminados\n",
        "*   utilización \n",
        "*   cantidad de productos semi-terminados \n",
        "\n",
        "<img src='https://drive.google.com/uc?export=view&id=1_4p_GxGHBG8HoXNsH-RuTtX-Kxecbrnp' width=\"600\" align=\"left\" style=\"margin-right: 20px\"> \n",
        "<br>\n",
        " \n",
        "<p style=\"font-size:8pt\"> \n",
        "Imagen gentileza de: Roberto Moraga</p>\n",
        "\n",
        "\n"
      ]
    },
    {
      "cell_type": "markdown",
      "metadata": {
        "id": "FNpj1Vf3ff2B"
      },
      "source": [
        "Luego con los datos obtenidos con los equipos se procede a realizar una visualización, análisis y conclusiones compartidas.  En esta sección comprobamos la ley de little, vemos la relación entre el WIP del sistema V/S el leadtime, throughtput, la utilización y la tasa de defectos.\n",
        "También hacemos histogramas con los leadtime utnitarios para observar como se reduce la varianza al minimizar el cap WIP, entre varias otras...\n",
        "\n",
        "<img src='https://drive.google.com/uc?export=view&id=1SEnN6nnTwT9_8MVxOSvPR-ut-QRlJsFx' width=\"600\" align=\"left\" style=\"margin-right: 20px\"> \n",
        "<br>\n",
        " \n",
        "<p style=\"font-size:8pt\"> \n",
        "Imagen gentileza de: Roberto Moraga</p>\n"
      ]
    },
    {
      "cell_type": "markdown",
      "metadata": {
        "id": "l0Dla-rLhZAV"
      },
      "source": [
        "Con los registros de varias simulaciones que he realizado (5 equipos distintos, cada uno de ellos con 4 escenarios anteriormente mencionados) voy a compartir como desarrollar esos mismos análisis ahora con Pandas en python.\n",
        "\n",
        "Arranquemos. Primero cargar las librerias necesarias y leer la base de datos donde tengo los registros a nivel de cada producto construido por los equipos:"
      ]
    },
    {
      "cell_type": "code",
      "metadata": {
        "id": "7AZxj4MBZwCL"
      },
      "source": [
        "#Importamos librerias de la siguiente forma: \n",
        "import numpy as np # importando numpy\n",
        "from scipy import stats # importando scipy.stats\n",
        "import matplotlib.pyplot as plt #importando matplotlib\n",
        "import pandas as pd #pandas\n"
      ],
      "execution_count": 7,
      "outputs": []
    },
    {
      "cell_type": "code",
      "metadata": {
        "id": "V2bAafm7Z2vs"
      },
      "source": [
        "#lectura de la 'base de datos' de los equipos agile\n",
        "df = pd.read_csv('https://docs.google.com/spreadsheets/d/e/2PACX-1vRSPG8gag3XFi7Cd4z6lBZYgXY1K5_wFFHTlo8fO4WKnOrUE5WfcISpTzhzoTqYCtmC5unjXZ7XlmmB/pub?gid=0&single=true&output=csv')"
      ],
      "execution_count": 8,
      "outputs": []
    },
    {
      "cell_type": "code",
      "metadata": {
        "colab": {
          "base_uri": "https://localhost:8080/",
          "height": 334
        },
        "id": "AY2WTGkMZ7zK",
        "outputId": "e0688628-1686-47e9-c4a8-ae55a590749c"
      },
      "source": [
        "#limpiar registros sin leadtime\n",
        "#visualizar base de datos\n",
        "base = df.dropna(subset=['Lead time'])\n",
        "\n",
        "#reemplazar registros con NAN por cero (0)\n",
        "base = base.fillna(0)\n",
        "\n",
        "base.tail()"
      ],
      "execution_count": 9,
      "outputs": [
        {
          "output_type": "execute_result",
          "data": {
            "text/html": [
              "<div>\n",
              "<style scoped>\n",
              "    .dataframe tbody tr th:only-of-type {\n",
              "        vertical-align: middle;\n",
              "    }\n",
              "\n",
              "    .dataframe tbody tr th {\n",
              "        vertical-align: top;\n",
              "    }\n",
              "\n",
              "    .dataframe thead th {\n",
              "        text-align: right;\n",
              "    }\n",
              "</style>\n",
              "<table border=\"1\" class=\"dataframe\">\n",
              "  <thead>\n",
              "    <tr style=\"text-align: right;\">\n",
              "      <th></th>\n",
              "      <th>Equipo</th>\n",
              "      <th>Fecha</th>\n",
              "      <th>Ciclo/experimento</th>\n",
              "      <th>WIP</th>\n",
              "      <th>Producto terminado</th>\n",
              "      <th>t inicio</th>\n",
              "      <th>t fin</th>\n",
              "      <th>LT min</th>\n",
              "      <th>Minuto del ciclo</th>\n",
              "      <th>Lead time</th>\n",
              "      <th>Q semiterminado</th>\n",
              "      <th>q Defecto</th>\n",
              "      <th>utilizacion</th>\n",
              "    </tr>\n",
              "  </thead>\n",
              "  <tbody>\n",
              "    <tr>\n",
              "      <th>570</th>\n",
              "      <td>Team B Summit</td>\n",
              "      <td>6-11-2018</td>\n",
              "      <td>4</td>\n",
              "      <td>6</td>\n",
              "      <td>13</td>\n",
              "      <td>0:02:47</td>\n",
              "      <td>0:03:56</td>\n",
              "      <td>0:01:09</td>\n",
              "      <td>3.0</td>\n",
              "      <td>69.0</td>\n",
              "      <td>0.0</td>\n",
              "      <td>0.0</td>\n",
              "      <td>0.0</td>\n",
              "    </tr>\n",
              "    <tr>\n",
              "      <th>571</th>\n",
              "      <td>Team B Summit</td>\n",
              "      <td>6-11-2018</td>\n",
              "      <td>4</td>\n",
              "      <td>6</td>\n",
              "      <td>14</td>\n",
              "      <td>0:03:02</td>\n",
              "      <td>0:04:09</td>\n",
              "      <td>0:01:07</td>\n",
              "      <td>4.0</td>\n",
              "      <td>67.0</td>\n",
              "      <td>0.0</td>\n",
              "      <td>0.0</td>\n",
              "      <td>0.0</td>\n",
              "    </tr>\n",
              "    <tr>\n",
              "      <th>572</th>\n",
              "      <td>Team B Summit</td>\n",
              "      <td>6-11-2018</td>\n",
              "      <td>4</td>\n",
              "      <td>6</td>\n",
              "      <td>15</td>\n",
              "      <td>0:03:16</td>\n",
              "      <td>0:04:21</td>\n",
              "      <td>0:01:05</td>\n",
              "      <td>4.0</td>\n",
              "      <td>65.0</td>\n",
              "      <td>0.0</td>\n",
              "      <td>0.0</td>\n",
              "      <td>0.0</td>\n",
              "    </tr>\n",
              "    <tr>\n",
              "      <th>573</th>\n",
              "      <td>Team B Summit</td>\n",
              "      <td>6-11-2018</td>\n",
              "      <td>4</td>\n",
              "      <td>6</td>\n",
              "      <td>16</td>\n",
              "      <td>0:03:30</td>\n",
              "      <td>0:04:40</td>\n",
              "      <td>0:01:10</td>\n",
              "      <td>4.0</td>\n",
              "      <td>70.0</td>\n",
              "      <td>0.0</td>\n",
              "      <td>0.0</td>\n",
              "      <td>0.0</td>\n",
              "    </tr>\n",
              "    <tr>\n",
              "      <th>574</th>\n",
              "      <td>Team B Summit</td>\n",
              "      <td>6-11-2018</td>\n",
              "      <td>4</td>\n",
              "      <td>6</td>\n",
              "      <td>17</td>\n",
              "      <td>0:03:48</td>\n",
              "      <td>0:04:48</td>\n",
              "      <td>0:01:00</td>\n",
              "      <td>4.0</td>\n",
              "      <td>60.0</td>\n",
              "      <td>0.0</td>\n",
              "      <td>0.0</td>\n",
              "      <td>0.0</td>\n",
              "    </tr>\n",
              "  </tbody>\n",
              "</table>\n",
              "</div>"
            ],
            "text/plain": [
              "            Equipo      Fecha  ...  q Defecto  utilizacion\n",
              "570  Team B Summit  6-11-2018  ...        0.0          0.0\n",
              "571  Team B Summit  6-11-2018  ...        0.0          0.0\n",
              "572  Team B Summit  6-11-2018  ...        0.0          0.0\n",
              "573  Team B Summit  6-11-2018  ...        0.0          0.0\n",
              "574  Team B Summit  6-11-2018  ...        0.0          0.0\n",
              "\n",
              "[5 rows x 13 columns]"
            ]
          },
          "metadata": {
            "tags": []
          },
          "execution_count": 9
        }
      ]
    },
    {
      "cell_type": "code",
      "metadata": {
        "colab": {
          "base_uri": "https://localhost:8080/",
          "height": 917
        },
        "id": "QYP8TUnUaoEW",
        "outputId": "a54e2fac-198c-4f56-fff9-dcfcbed42c2a"
      },
      "source": [
        "#Creamos una vista general, para conocer por cada equipo los resultados de: \n",
        "#cantidad de productos completados (cantidad), leadtime (media), tasa de defectos (media) y utilizacion (max)\n",
        "#esto por el nivel de WIP exhibido en cada escenario de trabajo (3, 6, 15 y  push (20)\n",
        "\n",
        "table1 = pd.pivot_table(data=base,index=['Equipo', 'WIP'],values=['Producto terminado','Lead time','utilizacion', 'q Defecto'], aggfunc={'Producto terminado':np.size, 'Lead time':np.mean, 'utilizacion':np.max,'q Defecto':np.mean}, margins=False)\n",
        "table1"
      ],
      "execution_count": 10,
      "outputs": [
        {
          "output_type": "execute_result",
          "data": {
            "text/html": [
              "<div>\n",
              "<style scoped>\n",
              "    .dataframe tbody tr th:only-of-type {\n",
              "        vertical-align: middle;\n",
              "    }\n",
              "\n",
              "    .dataframe tbody tr th {\n",
              "        vertical-align: top;\n",
              "    }\n",
              "\n",
              "    .dataframe thead th {\n",
              "        text-align: right;\n",
              "    }\n",
              "</style>\n",
              "<table border=\"1\" class=\"dataframe\">\n",
              "  <thead>\n",
              "    <tr style=\"text-align: right;\">\n",
              "      <th></th>\n",
              "      <th></th>\n",
              "      <th>Lead time</th>\n",
              "      <th>Producto terminado</th>\n",
              "      <th>q Defecto</th>\n",
              "      <th>utilizacion</th>\n",
              "    </tr>\n",
              "    <tr>\n",
              "      <th>Equipo</th>\n",
              "      <th>WIP</th>\n",
              "      <th></th>\n",
              "      <th></th>\n",
              "      <th></th>\n",
              "      <th></th>\n",
              "    </tr>\n",
              "  </thead>\n",
              "  <tbody>\n",
              "    <tr>\n",
              "      <th rowspan=\"4\" valign=\"top\">Team A Mariela</th>\n",
              "      <th>3</th>\n",
              "      <td>78.125000</td>\n",
              "      <td>8</td>\n",
              "      <td>0.125000</td>\n",
              "      <td>0.65</td>\n",
              "    </tr>\n",
              "    <tr>\n",
              "      <th>6</th>\n",
              "      <td>95.428571</td>\n",
              "      <td>14</td>\n",
              "      <td>0.000000</td>\n",
              "      <td>0.70</td>\n",
              "    </tr>\n",
              "    <tr>\n",
              "      <th>15</th>\n",
              "      <td>142.071429</td>\n",
              "      <td>14</td>\n",
              "      <td>0.500000</td>\n",
              "      <td>0.95</td>\n",
              "    </tr>\n",
              "    <tr>\n",
              "      <th>20</th>\n",
              "      <td>145.083333</td>\n",
              "      <td>12</td>\n",
              "      <td>1.583333</td>\n",
              "      <td>1.00</td>\n",
              "    </tr>\n",
              "    <tr>\n",
              "      <th rowspan=\"4\" valign=\"top\">Team A Summit</th>\n",
              "      <th>3</th>\n",
              "      <td>60.333333</td>\n",
              "      <td>12</td>\n",
              "      <td>0.000000</td>\n",
              "      <td>0.63</td>\n",
              "    </tr>\n",
              "    <tr>\n",
              "      <th>6</th>\n",
              "      <td>64.142857</td>\n",
              "      <td>21</td>\n",
              "      <td>0.047619</td>\n",
              "      <td>0.75</td>\n",
              "    </tr>\n",
              "    <tr>\n",
              "      <th>15</th>\n",
              "      <td>112.846154</td>\n",
              "      <td>13</td>\n",
              "      <td>0.230769</td>\n",
              "      <td>0.95</td>\n",
              "    </tr>\n",
              "    <tr>\n",
              "      <th>20</th>\n",
              "      <td>125.666667</td>\n",
              "      <td>12</td>\n",
              "      <td>0.333333</td>\n",
              "      <td>1.00</td>\n",
              "    </tr>\n",
              "    <tr>\n",
              "      <th rowspan=\"4\" valign=\"top\">Team A masisa</th>\n",
              "      <th>3</th>\n",
              "      <td>58.142857</td>\n",
              "      <td>14</td>\n",
              "      <td>0.000000</td>\n",
              "      <td>0.60</td>\n",
              "    </tr>\n",
              "    <tr>\n",
              "      <th>6</th>\n",
              "      <td>67.217391</td>\n",
              "      <td>23</td>\n",
              "      <td>0.086957</td>\n",
              "      <td>0.75</td>\n",
              "    </tr>\n",
              "    <tr>\n",
              "      <th>15</th>\n",
              "      <td>121.083333</td>\n",
              "      <td>12</td>\n",
              "      <td>0.250000</td>\n",
              "      <td>0.93</td>\n",
              "    </tr>\n",
              "    <tr>\n",
              "      <th>20</th>\n",
              "      <td>147.000000</td>\n",
              "      <td>5</td>\n",
              "      <td>1.200000</td>\n",
              "      <td>1.00</td>\n",
              "    </tr>\n",
              "    <tr>\n",
              "      <th rowspan=\"4\" valign=\"top\">Team B Loreto</th>\n",
              "      <th>3</th>\n",
              "      <td>56.071429</td>\n",
              "      <td>14</td>\n",
              "      <td>0.000000</td>\n",
              "      <td>0.65</td>\n",
              "    </tr>\n",
              "    <tr>\n",
              "      <th>6</th>\n",
              "      <td>64.800000</td>\n",
              "      <td>20</td>\n",
              "      <td>0.000000</td>\n",
              "      <td>0.75</td>\n",
              "    </tr>\n",
              "    <tr>\n",
              "      <th>15</th>\n",
              "      <td>113.235294</td>\n",
              "      <td>17</td>\n",
              "      <td>0.000000</td>\n",
              "      <td>0.90</td>\n",
              "    </tr>\n",
              "    <tr>\n",
              "      <th>20</th>\n",
              "      <td>189.636364</td>\n",
              "      <td>11</td>\n",
              "      <td>0.181818</td>\n",
              "      <td>1.00</td>\n",
              "    </tr>\n",
              "    <tr>\n",
              "      <th rowspan=\"4\" valign=\"top\">Team B Summit</th>\n",
              "      <th>3</th>\n",
              "      <td>58.500000</td>\n",
              "      <td>14</td>\n",
              "      <td>0.000000</td>\n",
              "      <td>0.65</td>\n",
              "    </tr>\n",
              "    <tr>\n",
              "      <th>6</th>\n",
              "      <td>68.176471</td>\n",
              "      <td>17</td>\n",
              "      <td>0.000000</td>\n",
              "      <td>0.77</td>\n",
              "    </tr>\n",
              "    <tr>\n",
              "      <th>15</th>\n",
              "      <td>113.875000</td>\n",
              "      <td>8</td>\n",
              "      <td>0.750000</td>\n",
              "      <td>0.97</td>\n",
              "    </tr>\n",
              "    <tr>\n",
              "      <th>20</th>\n",
              "      <td>150.500000</td>\n",
              "      <td>6</td>\n",
              "      <td>0.833333</td>\n",
              "      <td>0.99</td>\n",
              "    </tr>\n",
              "    <tr>\n",
              "      <th rowspan=\"4\" valign=\"top\">Team B masisa</th>\n",
              "      <th>3</th>\n",
              "      <td>83.727273</td>\n",
              "      <td>11</td>\n",
              "      <td>0.090909</td>\n",
              "      <td>0.70</td>\n",
              "    </tr>\n",
              "    <tr>\n",
              "      <th>6</th>\n",
              "      <td>85.312500</td>\n",
              "      <td>16</td>\n",
              "      <td>0.125000</td>\n",
              "      <td>0.80</td>\n",
              "    </tr>\n",
              "    <tr>\n",
              "      <th>15</th>\n",
              "      <td>117.533333</td>\n",
              "      <td>15</td>\n",
              "      <td>0.333333</td>\n",
              "      <td>0.90</td>\n",
              "    </tr>\n",
              "    <tr>\n",
              "      <th>20</th>\n",
              "      <td>151.750000</td>\n",
              "      <td>8</td>\n",
              "      <td>0.750000</td>\n",
              "      <td>0.95</td>\n",
              "    </tr>\n",
              "    <tr>\n",
              "      <th rowspan=\"4\" valign=\"top\">Team C Abi</th>\n",
              "      <th>3</th>\n",
              "      <td>88.500000</td>\n",
              "      <td>8</td>\n",
              "      <td>0.000000</td>\n",
              "      <td>0.70</td>\n",
              "    </tr>\n",
              "    <tr>\n",
              "      <th>6</th>\n",
              "      <td>88.437500</td>\n",
              "      <td>16</td>\n",
              "      <td>0.062500</td>\n",
              "      <td>0.80</td>\n",
              "    </tr>\n",
              "    <tr>\n",
              "      <th>15</th>\n",
              "      <td>157.000000</td>\n",
              "      <td>6</td>\n",
              "      <td>0.333333</td>\n",
              "      <td>0.97</td>\n",
              "    </tr>\n",
              "    <tr>\n",
              "      <th>20</th>\n",
              "      <td>193.166667</td>\n",
              "      <td>6</td>\n",
              "      <td>0.166667</td>\n",
              "      <td>1.00</td>\n",
              "    </tr>\n",
              "  </tbody>\n",
              "</table>\n",
              "</div>"
            ],
            "text/plain": [
              "                     Lead time  Producto terminado  q Defecto  utilizacion\n",
              "Equipo         WIP                                                        \n",
              "Team A Mariela 3     78.125000                   8   0.125000         0.65\n",
              "               6     95.428571                  14   0.000000         0.70\n",
              "               15   142.071429                  14   0.500000         0.95\n",
              "               20   145.083333                  12   1.583333         1.00\n",
              "Team A Summit  3     60.333333                  12   0.000000         0.63\n",
              "               6     64.142857                  21   0.047619         0.75\n",
              "               15   112.846154                  13   0.230769         0.95\n",
              "               20   125.666667                  12   0.333333         1.00\n",
              "Team A masisa  3     58.142857                  14   0.000000         0.60\n",
              "               6     67.217391                  23   0.086957         0.75\n",
              "               15   121.083333                  12   0.250000         0.93\n",
              "               20   147.000000                   5   1.200000         1.00\n",
              "Team B Loreto  3     56.071429                  14   0.000000         0.65\n",
              "               6     64.800000                  20   0.000000         0.75\n",
              "               15   113.235294                  17   0.000000         0.90\n",
              "               20   189.636364                  11   0.181818         1.00\n",
              "Team B Summit  3     58.500000                  14   0.000000         0.65\n",
              "               6     68.176471                  17   0.000000         0.77\n",
              "               15   113.875000                   8   0.750000         0.97\n",
              "               20   150.500000                   6   0.833333         0.99\n",
              "Team B masisa  3     83.727273                  11   0.090909         0.70\n",
              "               6     85.312500                  16   0.125000         0.80\n",
              "               15   117.533333                  15   0.333333         0.90\n",
              "               20   151.750000                   8   0.750000         0.95\n",
              "Team C Abi     3     88.500000                   8   0.000000         0.70\n",
              "               6     88.437500                  16   0.062500         0.80\n",
              "               15   157.000000                   6   0.333333         0.97\n",
              "               20   193.166667                   6   0.166667         1.00"
            ]
          },
          "metadata": {
            "tags": []
          },
          "execution_count": 10
        }
      ]
    },
    {
      "cell_type": "markdown",
      "metadata": {
        "id": "ujZKURM9j8y9"
      },
      "source": [
        "De la tabla anterior se puede observar algunas relaciones, por ejemplo:\n",
        "\n",
        "\n",
        "*   Relación lineal: A menor WIP , menor leadtime\n",
        "*   Relación parabólica entre WIP y el Throughtput (*aquí vemos un valor cercano a WIP =6 , donde se maximiza el TP*).\n",
        "\n",
        "Veámoslo ahora con un gráfico:\n",
        "\n",
        "\n"
      ]
    },
    {
      "cell_type": "code",
      "metadata": {
        "colab": {
          "base_uri": "https://localhost:8080/",
          "height": 282
        },
        "id": "_vQs8tBdi2f_",
        "outputId": "7ff429d8-2155-4a9e-9617-b73f0e9c30e9"
      },
      "source": [
        "table2 = pd.pivot_table(data=base,index=['WIP'],values=['Producto terminado','Lead time'], aggfunc={'Producto terminado':np.size, 'Lead time':np.mean}, margins=False)\n",
        "table2\n",
        "\n",
        "table2.plot(kind='line');"
      ],
      "execution_count": 11,
      "outputs": [
        {
          "output_type": "display_data",
          "data": {
            "image/png": "[encoded data removed]",
            "text/plain": [
              "<Figure size 432x288 with 1 Axes>"
            ]
          },
          "metadata": {
            "tags": [],
            "needs_background": "light"
          }
        }
      ]
    },
    {
      "cell_type": "markdown",
      "metadata": {
        "id": "qJuyVzJVmDLv"
      },
      "source": [
        "Otras relaciones:\n",
        "\n",
        "*  Relación lineal: A menor WIP , menor utilización\n",
        "*  Relación exponencial: A mayor WIP, mayo tasa de defecto"
      ]
    },
    {
      "cell_type": "code",
      "metadata": {
        "colab": {
          "base_uri": "https://localhost:8080/",
          "height": 296
        },
        "id": "j-7Vx0HRmLJF",
        "outputId": "0332259e-18e0-4bb9-c1cc-d4530231e482"
      },
      "source": [
        "table3 = pd.pivot_table(data=base,index=['WIP'],values=['q Defecto','utilizacion'], aggfunc={'q Defecto':np.average, 'utilizacion':np.max}, margins=False)\n",
        "table3\n",
        "\n",
        "table3.plot(kind='line')"
      ],
      "execution_count": 31,
      "outputs": [
        {
          "output_type": "execute_result",
          "data": {
            "text/plain": [
              "<matplotlib.axes._subplots.AxesSubplot at 0x7fae9905ae90>"
            ]
          },
          "metadata": {
            "tags": []
          },
          "execution_count": 31
        },
        {
          "output_type": "display_data",
          "data": {
            "image/png": "[encoded data removed]",
            "text/plain": [
              "<Figure size 432x288 with 1 Axes>"
            ]
          },
          "metadata": {
            "tags": [],
            "needs_background": "light"
          }
        }
      ]
    },
    {
      "cell_type": "markdown",
      "metadata": {
        "id": "hueMECb7weOo"
      },
      "source": [
        "Con las vistas anteriores nos dimos cuenta que el leadtime disminuye al reducir el WIP, pero esa es una relación a nivel agregada, que a veces puede ocultar información y llevarnos a tomar decisiones incorrectas.  Calculemos la media y desviación estandar del tiempo de entrega por cada Nivel de WIP, y luego realicemos un histograma para cada uno de ellos."
      ]
    },
    {
      "cell_type": "code",
      "metadata": {
        "colab": {
          "base_uri": "https://localhost:8080/",
          "height": 1000
        },
        "id": "cTNYSLwlolCd",
        "outputId": "c1cf4ebc-50c5-4a1f-d139-bafb732c0b27"
      },
      "source": [
        "#Filtrando los distintos niveles de WIP\n",
        "wip3=base.query('WIP == 3')\n",
        "wip6=base.query('WIP == 6')\n",
        "wip15=base.query('WIP == 15')\n",
        "wip20=base.query('WIP == 20')\n",
        "\n",
        "#Graficar los histogramas\n",
        "wip3.plot( y='Lead time', kind='hist', bins=12, range=(0, 250), title='WIP=3', color=\"k\" )\n",
        "wip6.plot( y='Lead time', kind='hist', bins=12, range=(0, 250), title='WIP=6', color=\"b\" )\n",
        "wip15.plot( y='Lead time', kind='hist', bins=12, range=(0, 250), title='WIP=15', color=\"r\" )\n",
        "wip20.plot( y='Lead time', kind='hist', bins=12, range=(0, 250), title='WIP=20', color=\"y\" )\n",
        "\n",
        "#calcular medias y desv. std\n",
        "table3 =  pd.pivot_table(base, index = ['WIP'], values = ['Lead time'] , aggfunc = [np.average, np.std]) \n",
        "table3"
      ],
      "execution_count": 40,
      "outputs": [
        {
          "output_type": "execute_result",
          "data": {
            "text/html": [
              "<div>\n",
              "<style scoped>\n",
              "    .dataframe tbody tr th:only-of-type {\n",
              "        vertical-align: middle;\n",
              "    }\n",
              "\n",
              "    .dataframe tbody tr th {\n",
              "        vertical-align: top;\n",
              "    }\n",
              "\n",
              "    .dataframe thead tr th {\n",
              "        text-align: left;\n",
              "    }\n",
              "\n",
              "    .dataframe thead tr:last-of-type th {\n",
              "        text-align: right;\n",
              "    }\n",
              "</style>\n",
              "<table border=\"1\" class=\"dataframe\">\n",
              "  <thead>\n",
              "    <tr>\n",
              "      <th></th>\n",
              "      <th>average</th>\n",
              "      <th>std</th>\n",
              "    </tr>\n",
              "    <tr>\n",
              "      <th></th>\n",
              "      <th>Lead time</th>\n",
              "      <th>Lead time</th>\n",
              "    </tr>\n",
              "    <tr>\n",
              "      <th>WIP</th>\n",
              "      <th></th>\n",
              "      <th></th>\n",
              "    </tr>\n",
              "  </thead>\n",
              "  <tbody>\n",
              "    <tr>\n",
              "      <th>3</th>\n",
              "      <td>66.617284</td>\n",
              "      <td>18.107021</td>\n",
              "    </tr>\n",
              "    <tr>\n",
              "      <th>6</th>\n",
              "      <td>74.519685</td>\n",
              "      <td>17.725800</td>\n",
              "    </tr>\n",
              "    <tr>\n",
              "      <th>15</th>\n",
              "      <td>122.941176</td>\n",
              "      <td>45.977570</td>\n",
              "    </tr>\n",
              "    <tr>\n",
              "      <th>20</th>\n",
              "      <td>155.766667</td>\n",
              "      <td>60.424309</td>\n",
              "    </tr>\n",
              "  </tbody>\n",
              "</table>\n",
              "</div>"
            ],
            "text/plain": [
              "        average        std\n",
              "      Lead time  Lead time\n",
              "WIP                       \n",
              "3     66.617284  18.107021\n",
              "6     74.519685  17.725800\n",
              "15   122.941176  45.977570\n",
              "20   155.766667  60.424309"
            ]
          },
          "metadata": {
            "tags": []
          },
          "execution_count": 40
        },
        {
          "output_type": "display_data",
          "data": {
            "image/png": "[encoded data removed]",
            "text/plain": [
              "<Figure size 432x288 with 1 Axes>"
            ]
          },
          "metadata": {
            "tags": [],
            "needs_background": "light"
          }
        },
        {
          "output_type": "display_data",
          "data": {
            "image/png": "[encoded data removed]",
            "text/plain": [
              "<Figure size 432x288 with 1 Axes>"
            ]
          },
          "metadata": {
            "tags": [],
            "needs_background": "light"
          }
        },
        {
          "output_type": "display_data",
          "data": {
            "image/png": "[encoded data removed]",
            "text/plain": [
              "<Figure size 432x288 with 1 Axes>"
            ]
          },
          "metadata": {
            "tags": [],
            "needs_background": "light"
          }
        },
        {
          "output_type": "display_data",
          "data": {
            "image/png": "[encoded data removed]",
            "text/plain": [
              "<Figure size 432x288 with 1 Axes>"
            ]
          },
          "metadata": {
            "tags": [],
            "needs_background": "light"
          }
        }
      ]
    },
    {
      "cell_type": "markdown",
      "metadata": {
        "id": "3_RNH6-syiOm"
      },
      "source": [
        "Veamos la relación entre el tiempo de entrega y la tasa de defecto, será que al reducir el tiempo este impacta generando productos con más defectos?\n"
      ]
    },
    {
      "cell_type": "code",
      "metadata": {
        "colab": {
          "base_uri": "https://localhost:8080/",
          "height": 296
        },
        "id": "66xQo5n5k521",
        "outputId": "a9775d31-8502-458b-b758-e62d1a4636e7"
      },
      "source": [
        "#Diagrama de dispersion\n",
        "table1.plot(x='Lead time', y='q Defecto',kind='scatter')"
      ],
      "execution_count": 61,
      "outputs": [
        {
          "output_type": "execute_result",
          "data": {
            "text/plain": [
              "<matplotlib.axes._subplots.AxesSubplot at 0x7fae94249210>"
            ]
          },
          "metadata": {
            "tags": []
          },
          "execution_count": 61
        },
        {
          "output_type": "display_data",
          "data": {
            "image/png": "[encoded data removed]",
            "text/plain": [
              "<Figure size 432x288 with 1 Axes>"
            ]
          },
          "metadata": {
            "tags": [],
            "needs_background": "light"
          }
        }
      ]
    },
    {
      "cell_type": "markdown",
      "metadata": {
        "id": "wRmsrbhL1NC_"
      },
      "source": [
        "La gráfica anterior arroja que la menor tasa de defecto se observa cuando el leadtime es menor a 64 unidades de tiempo.\n",
        "\n",
        "\n",
        "Finalmente existe una relación entre la utilización de un sistema y la capacidad de producción? veamos en el siguiente gráfico su respuesta.."
      ]
    },
    {
      "cell_type": "code",
      "metadata": {
        "colab": {
          "base_uri": "https://localhost:8080/",
          "height": 296
        },
        "id": "_dU6aDjl47X-",
        "outputId": "cbd57c01-d507-410a-cb24-589ebb6ff4df"
      },
      "source": [
        "#Diagrama de dispersion \n",
        "table1.plot(x='utilizacion', y='Producto terminado',kind='scatter')"
      ],
      "execution_count": 62,
      "outputs": [
        {
          "output_type": "execute_result",
          "data": {
            "text/plain": [
              "<matplotlib.axes._subplots.AxesSubplot at 0x7fae9424ead0>"
            ]
          },
          "metadata": {
            "tags": []
          },
          "execution_count": 62
        },
        {
          "output_type": "display_data",
          "data": {
            "image/png": "[encoded data removed]",
            "text/plain": [
              "<Figure size 432x288 with 1 Axes>"
            ]
          },
          "metadata": {
            "tags": [],
            "needs_background": "light"
          }
        }
      ]
    },
    {
      "cell_type": "markdown",
      "metadata": {
        "id": "97oeenxa5QO0"
      },
      "source": [
        "El gráfico anterior nos arroja que tener un sistema con alta utilización no significa alta productividad, en este caso el óptimo se observa cuando la utilización es cercana al 75%."
      ]
    },
    {
      "cell_type": "markdown",
      "metadata": {
        "id": "ub6sFPNdvuja"
      },
      "source": [
        "\n",
        "\n",
        "---\n",
        "\n",
        "\n",
        "De lo anterior podemos concluir con estos datos que al reducir el WIP el leadtime disminuye, junto con su variabilidad, por otro lado el Throuhtput aumenta cuando se reduce el WIP, exhibiendo un máximo cuando el WIP=6, luego al seguir reduciendo el WIP el Throuhtput comienza a disminuir, esto explicado porque la utilización del sistema tiene capacidad sub-utilizada (un 30% aprox). \n",
        "\n",
        "En este caso la decisión sobre el nivel de WIP a utilizar debe impactar positivamente un KPI de negocio, por ejemplo tal vez sea adecuado trabajar con WIP=3 ya que con este escenario se obtienen los mejores tiempos de entrega, junto con una tasa de defecto muy baja, lo cual se traduce en mayor satisfacción de clientes. Por otro lado en este escenario los equipos tienen un 30% de espacio para sortear variabilidades de la demanda, innovación o mejora continua, y sin el stress de un sistema Push...\n",
        "\n",
        "Si la ecuación de valor a maximizar el Cantidad de productos terminados (=Throughtput), se debería utilizar el cap WIP = 6. \n",
        "\n",
        "\n",
        "\n",
        "Qué pasaría si el target de tiempo de entrega fuera 70 unidades de tiempo, cuál escenario es mejor, y si fuera 85 segundos?\n",
        "\n",
        "\n",
        "\n",
        "```\n",
        "escriba su código aquí...\n",
        "```\n",
        "\n",
        "\n",
        "\n",
        "Recordar que estos son solo 4 escenarios simulados, pueden haber otros y con configuraciones distintas en cada uno, donde se desarrollen formatos donde exista mayor colaboración o multi-funcionalidad.\n",
        "\n",
        "\n",
        "Espero que este documento sirva de ejemplo para comprender un sistema de flujo, junto con el análisis de sus datos de cara a la toma de mejores decisiones.\n",
        "\n",
        "---\n",
        "\n"
      ]
    },
    {
      "cell_type": "markdown",
      "metadata": {
        "id": "skkW7n4F6MJZ"
      },
      "source": [
        "#ANEXO\n",
        "\n",
        "con los siguientes análisis se puede observar lo que ocurre con los tiempos de entrega en la medida que avanza el tiempo de la simulación, por ejemplo cuando el WIP es 15 o 20, vemos que al pasar el tiempo de la simulación los leadtime tienden a aumentar, incluso en el tiempo de simulación no se alcanza estabilidad. proyectando leadtime aun mayores.\n",
        "\n",
        "Cuando el WIP es 3 o 6, a la mitad de la simulación el sistema alcanza estabilidad, proyectando incluso leadtime inferiores en caso de seguir operando en esa modalidad."
      ]
    },
    {
      "cell_type": "code",
      "metadata": {
        "colab": {
          "base_uri": "https://localhost:8080/",
          "height": 591
        },
        "id": "hW1g6AEV2hFW",
        "outputId": "d4eff77b-eca7-45bb-d635-f2b242f47134"
      },
      "source": [
        "\n",
        "\n",
        "#Filtrando los distintos niveles de WIP\n",
        "wip3=base.query('WIP == 3')\n",
        "wip6=base.query('WIP == 6')\n",
        "wip15=base.query('WIP == 15')\n",
        "wip20=base.query('WIP == 20')\n",
        "\n",
        "#Grafica de control wip 15\n",
        "wip15.plot(x='Producto terminado', y='Lead time', kind='scatter', title='WIP = 15' )\n",
        "\n",
        "#Grafica de control wip 3\n",
        "wip3.plot(x='Producto terminado', y='Lead time', kind='scatter', title='WIP = 3')"
      ],
      "execution_count": 69,
      "outputs": [
        {
          "output_type": "execute_result",
          "data": {
            "text/plain": [
              "<matplotlib.axes._subplots.AxesSubplot at 0x7fae93a0c250>"
            ]
          },
          "metadata": {
            "tags": []
          },
          "execution_count": 69
        },
        {
          "output_type": "display_data",
          "data": {
            "image/png": "[encoded data removed]",
            "text/plain": [
              "<Figure size 432x288 with 1 Axes>"
            ]
          },
          "metadata": {
            "tags": [],
            "needs_background": "light"
          }
        },
        {
          "output_type": "display_data",
          "data": {
            "image/png": "[encoded data removed]",
            "text/plain": [
              "<Figure size 432x288 with 1 Axes>"
            ]
          },
          "metadata": {
            "tags": [],
            "needs_background": "light"
          }
        }
      ]
    },
    {
      "cell_type": "markdown",
      "metadata": {
        "id": "GP1tZO9l6w7o"
      },
      "source": [
        ""
      ]
    }
  ]
}