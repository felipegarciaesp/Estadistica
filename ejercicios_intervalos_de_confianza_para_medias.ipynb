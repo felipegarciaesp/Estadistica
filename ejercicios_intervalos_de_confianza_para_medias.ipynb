{
  "nbformat": 4,
  "nbformat_minor": 0,
  "metadata": {
    "colab": {
      "name": "ejercicios intervalos de confianza para medias.ipynb",
      "provenance": [],
      "authorship_tag": "ABX9TyMoy3Hjb+MALGyFBeYyVUyE",
      "include_colab_link": true
    },
    "kernelspec": {
      "name": "python3",
      "display_name": "Python 3"
    }
  },
  "cells": [
    {
      "cell_type": "markdown",
      "metadata": {
        "id": "view-in-github",
        "colab_type": "text"
      },
      "source": [
        "<a href=\"https://colab.research.google.com/github/robertomoragad/Estadistica/blob/master/ejercicios_intervalos_de_confianza_para_medias.ipynb\" target=\"_parent\"><img src=\"https://colab.research.google.com/assets/colab-badge.svg\" alt=\"Open In Colab\"/></a>"
      ]
    },
    {
      "cell_type": "code",
      "metadata": {
        "id": "4M6HJfcn7qmR"
      },
      "source": [
        "#Importamos Librerias para nuestros ejercicios la siguiente forma: \n",
        "import numpy as np # importando numpy\n",
        "from scipy import stats # importando scipy.stats\n",
        "import matplotlib.pyplot as plt #importando matplotlib"
      ],
      "execution_count": 1,
      "outputs": []
    },
    {
      "cell_type": "markdown",
      "metadata": {
        "id": "dtIPlZsRY3G_"
      },
      "source": [
        "**Vamos a ejercitar intervalos de confianza para la media poblacional**\n",
        "\n",
        "<img src='https://drive.google.com/uc?export=view&id=1eme-xoJHHrRm4IvgDoPaAL_N7oErlLHn' width=\"800\" align=\"left\" style=\"margin-right: 20px\"> \n",
        "<br>\n",
        "\n",
        "<p style=\"font-size:8pt\"> \n",
        "Imagen gentileza de: Roberto Moraga</p>"
      ]
    },
    {
      "cell_type": "markdown",
      "metadata": {
        "id": "u4eaXj_879E4"
      },
      "source": [
        "1) Se extrajo una muestra aleatoria de 172 clientes de la nueva APP de compras \"cornerTop\", y se les pidió que recordaran  su última experiencia de compra para evaluar el servicio recibido en una escala de 1 (muy insatisfecho) a 5 (muy satisfecho).\n",
        "La satisfacción de los clientes recibió una calificación media de 4,38 con una desviación std. muestral de 0,70.\n",
        "\n",
        "a) Calcular un Intervalo de confianza del 95% para la media poblacional.\n",
        "\n",
        "b) Calcular un Intervalo de confianza del 99% para la media poblacional."
      ]
    },
    {
      "cell_type": "code",
      "metadata": {
        "colab": {
          "base_uri": "https://localhost:8080/"
        },
        "id": "KItvQi2X7yq7",
        "outputId": "ad26c936-28d3-440f-c820-d394607cc5e4"
      },
      "source": [
        "#como n >= 30 aplicaremos Z (Distribucion normal estandadarizada)\n",
        "\n",
        "#Caso NC = 0.95\n",
        "#primero registrar los datos\n",
        "\n",
        "n= 172\n",
        "xbar = 4.38\n",
        "S = 0.7\n",
        "\n",
        "# IC con NC 95%\n",
        "NC = 0.95\n",
        "alpha = 1-NC\n",
        "alpha_medio = alpha/2\n",
        "\n",
        "#Calcular Z con la función de distribucion normal acumulada inversa (ppf)\n",
        "Z = stats.norm.ppf(1 - alpha_medio)\n",
        "print(\"Z\", Z)\n",
        "\n",
        "LI = xbar - Z *(S / np.sqrt(n))\n",
        "LS = xbar + Z *(S / np.sqrt(n))\n",
        "\n",
        "print('IC al ',NC, ' para media poblacional: ',(LI,LS))\n"
      ],
      "execution_count": 2,
      "outputs": [
        {
          "output_type": "stream",
          "text": [
            "Z 1.959963984540054\n",
            "IC al  0.95  para media poblacional:  (4.275387903058986, 4.484612096941014)\n"
          ],
          "name": "stdout"
        }
      ]
    },
    {
      "cell_type": "code",
      "metadata": {
        "colab": {
          "base_uri": "https://localhost:8080/"
        },
        "id": "VWf0Lxx87QgJ",
        "outputId": "67246cde-dff5-490e-a3b4-868322f12043"
      },
      "source": [
        "#Forma simple con Scipy\n",
        "IC95 = stats.norm.interval(NC, loc = xbar, scale = S /np.sqrt(n))\n",
        "print('IC al', NC, 'para media poblacional: ', IC95)"
      ],
      "execution_count": 4,
      "outputs": [
        {
          "output_type": "stream",
          "text": [
            "IC al 0.95 para media poblacional:  (4.275387903058986, 4.484612096941014)\n"
          ],
          "name": "stdout"
        }
      ]
    },
    {
      "cell_type": "code",
      "metadata": {
        "colab": {
          "base_uri": "https://localhost:8080/",
          "height": 345
        },
        "id": "Crn96mEM7zvO",
        "outputId": "1c5cfe71-f251-4bf4-958c-4685945a9fc1"
      },
      "source": [
        "#Graficando la distribucion normal de poblacion y medias\n",
        "\n",
        "n= 172\n",
        "xbar = 4.38\n",
        "S = 0.7\n",
        "S_xbar = S / np.sqrt(n)\n",
        "\n",
        "\n",
        "#proyectar distribucion poblacion\n",
        "poblacion = stats.norm(xbar, S)\n",
        "x = np.linspace(poblacion.ppf(0.01), poblacion.ppf(0.99), 100)\n",
        "pdf = poblacion.pdf(x) #funcion densidad probabilidad\n",
        "\n",
        "#proyectar distribucion medias n=172\n",
        "medias = stats.norm(xbar, S_xbar)\n",
        "x_m = np.linspace(medias.ppf(0.01), medias.ppf(0.99), 100)\n",
        "pdf_m = medias.pdf(x_m) #funcion densidad probabilidad\n",
        "\n",
        "plt.figure(figsize=(10, 5)) #tamaño grafico\n",
        "plt.plot(x, pdf,\"r\") #poblacion fit\n",
        "plt.plot(x_m, pdf_m,\"b\", ) #medias fit\n",
        "plt.vlines(ymin=0, ymax=4, x=LI)#LI IC\n",
        "plt.vlines(ymin=0, ymax=4, x=LS)#LS IC\n",
        "plt.legend(['poblacion','muestras', 'limites'],bbox_to_anchor=(1.1,1.05))\n",
        "plt.show()\n",
        "\n",
        "\n",
        "#calcular probabilidad de tomar una muestra y esta tenga una media menor al LS del IC\n",
        "prob_acum_LS = stats.norm(xbar, S_xbar).cdf(LS)\n",
        "print(prob_acum_LS)"
      ],
      "execution_count": 6,
      "outputs": [
        {
          "output_type": "display_data",
          "data": {
            "image/png": "[encoded data removed]",
            "text/plain": [
              "<Figure size 720x360 with 1 Axes>"
            ]
          },
          "metadata": {
            "tags": [],
            "needs_background": "light"
          }
        },
        {
          "output_type": "stream",
          "text": [
            "0.9750000000000001\n"
          ],
          "name": "stdout"
        }
      ]
    },
    {
      "cell_type": "code",
      "metadata": {
        "id": "hALv80-SJyuw"
      },
      "source": [
        "#aplicar aquí para caso al 99%\n",
        "\n",
        "#su codigo aqui\n",
        "\n"
      ],
      "execution_count": null,
      "outputs": []
    },
    {
      "cell_type": "markdown",
      "metadata": {
        "id": "RRksh8eCSN8p"
      },
      "source": [
        "Su conclusión aquí: ..............."
      ]
    },
    {
      "cell_type": "markdown",
      "metadata": {
        "id": "GadFWhv3KD-L"
      },
      "source": [
        "\n",
        "\n",
        "---\n",
        "\n",
        "\n",
        "2) La empresa de transporte DUDU planea importar una flota de nuevos taxis para sus conductores. La decisión depende de si el rendimiento del auto en consideración es por lo menos 27,5 MPG (millas por galon).\n",
        "Los 36 autos que prueba la empresa reportarn una media de 25,6 MPG, con una desviación std. muestral de 3,5 MPG.\n",
        "\n",
        "a) A un nivel de confianza del 99% ¿qué aconsejaría a la empresa que hiciera?\n"
      ]
    },
    {
      "cell_type": "code",
      "metadata": {
        "colab": {
          "base_uri": "https://localhost:8080/"
        },
        "id": "UWWvQnsAKQ7Q",
        "outputId": "affb374a-c8d4-4f7b-b300-a72c9e0796c6"
      },
      "source": [
        "#como n >= 30 aplicaremos Z\n",
        "\n",
        "#Caso al 99%\n",
        "#primero registrar los datos\n",
        "\n",
        "n= 36\n",
        "xbar = 25.6\n",
        "S = 3.5\n",
        "\n",
        "# IC con NC 99%\n",
        "NC = 0.99\n",
        "alpha = 1-NC\n",
        "alpha_medio = alpha/2\n",
        "\n",
        "#Calcular Z con la función de distribucion normal acumulada inversa (ppf)\n",
        "Z = stats.norm.ppf(1 - alpha_medio)\n",
        "print('Z: ', Z)\n",
        "\n",
        "LI = xbar - Z *(S / np.sqrt(n))\n",
        "LS = xbar + Z *(S / np.sqrt(n))\n",
        "\n",
        "print('IC al ',NC, ' para media poblacional: ',(LI,LS))\n"
      ],
      "execution_count": 9,
      "outputs": [
        {
          "output_type": "stream",
          "text": [
            "Z:  2.5758293035489004\n",
            "IC al  0.99  para media poblacional:  (24.097432906263144, 27.10256709373686)\n"
          ],
          "name": "stdout"
        }
      ]
    },
    {
      "cell_type": "code",
      "metadata": {
        "colab": {
          "base_uri": "https://localhost:8080/"
        },
        "id": "OVE2Vr-X9Ifp",
        "outputId": "04732bbf-0356-45cc-b600-7a4709bbb9b0"
      },
      "source": [
        "#Forma simple con Scipy (no es necesario sacar alpha/2)\n",
        "IC95 = stats.norm.interval(NC, loc = xbar, scale = S /np.sqrt(n))\n",
        "print('IC al', NC, 'para media poblacional: ', IC95)\n"
      ],
      "execution_count": 10,
      "outputs": [
        {
          "output_type": "stream",
          "text": [
            "IC al 0.99 para media poblacional:  (24.097432906263144, 27.10256709373686)\n"
          ],
          "name": "stdout"
        }
      ]
    },
    {
      "cell_type": "markdown",
      "metadata": {
        "id": "iGIkmyI7K2Vc"
      },
      "source": [
        "Su conclusión aqui: ...................."
      ]
    },
    {
      "cell_type": "code",
      "metadata": {
        "id": "SKwiS_oe9hQD"
      },
      "source": [
        "#graficar aqui la distribucion de la poblacion y de las medias\n",
        "\n"
      ],
      "execution_count": null,
      "outputs": []
    },
    {
      "cell_type": "code",
      "metadata": {
        "id": "Q5nB2LsQ9iIe"
      },
      "source": [
        "#si nos dicen que el sigma poblacional es 0.11\n",
        "#calcular el IC con el mismo nivel de significancia anterior\n"
      ],
      "execution_count": null,
      "outputs": []
    },
    {
      "cell_type": "markdown",
      "metadata": {
        "id": "sKuzYnKVK66K"
      },
      "source": [
        "\n",
        "\n",
        "---\n",
        "\n",
        "\n",
        "3) Un artículo publicado en el Journal of Heat Transfer (Trans ASME, Ses. C, 96 1974, pag 59) describe un nuevo método para medir la conductividad térmica del hierro Armco.  Al utilizar una temperatura de 100ºF y una potencia de entrada de 550 W, se obtienen las diez mediciones siguientes de conductividad térmica (en BTU/hr-ft-ºF): \n",
        "conductividad = (41.6, 41.48, 42.34, 41.95, 41.86, 42.18, 41.72, 42.26, 41.81, 42.04)\n",
        "\n",
        "a) Se desea construir un IC del 95% para conductividad térmica promedio de ese material, se sabe que la desviación tipica es de 0,30 Btu/hr-ft-ºF"
      ]
    },
    {
      "cell_type": "code",
      "metadata": {
        "colab": {
          "base_uri": "https://localhost:8080/"
        },
        "id": "dWyccsM2K6UW",
        "outputId": "9b44cfe1-af58-4f5f-adf1-dd8318efb9a5"
      },
      "source": [
        "# n < 30, pero se conoce la desv. std poblacional, por tanto aplicar Z\n",
        "\n",
        "#Datos 10 mediciones\n",
        "conductividad = (41.6, 41.48, 42.34, 41.95, 41.86, 42.18, 41.72, 42.26, 41.81, 42.04)\n",
        "\n",
        "#primero registrar los datos\n",
        "\n",
        "n= np.size(conductividad)\n",
        "xbar = np.mean(conductividad)\n",
        "S = np.std(conductividad, ddof=1) # divide en n-1 para sacar desv. std insesgada\n",
        "sigma = 0.30 #esta es la desv. std poblacional y es conocida!!\n",
        "\n",
        "# IC con NC 95%\n",
        "NC = 0.95\n",
        "alpha = 1-NC\n",
        "alpha_medio = alpha/2\n",
        "\n",
        "#Calcular Z con la función de distribucion normal acumulada inversa (ppf)\n",
        "Z = stats.norm.ppf(1 - alpha_medio)\n",
        "print('Z: ', Z)\n",
        "\n",
        "LI = xbar - Z *(sigma / np.sqrt(n))\n",
        "LS = xbar + Z *(sigma / np.sqrt(n))\n",
        "\n",
        "print('IC al ',NC, ' para media poblacional: ',(LI,LS))\n",
        "\n"
      ],
      "execution_count": 14,
      "outputs": [
        {
          "output_type": "stream",
          "text": [
            "Z:  1.959963984540054\n",
            "IC al  0.95  para media poblacional:  (41.73806149030863, 42.10993850969137)\n"
          ],
          "name": "stdout"
        }
      ]
    },
    {
      "cell_type": "code",
      "metadata": {
        "colab": {
          "base_uri": "https://localhost:8080/"
        },
        "id": "8eRdU3MN9u6c",
        "outputId": "3947e9e0-be32-48a0-da56-f0642f37b997"
      },
      "source": [
        "#Forma simple con Scipy\n",
        "IC95 = stats.norm.interval(NC, loc = xbar, scale = sigma /np.sqrt(n))\n",
        "print('IC al', NC, 'para media poblacional: ', IC95)"
      ],
      "execution_count": 15,
      "outputs": [
        {
          "output_type": "stream",
          "text": [
            "IC al 0.95 para media poblacional:  (41.73806149030863, 42.10993850969137)\n"
          ],
          "name": "stdout"
        }
      ]
    },
    {
      "cell_type": "markdown",
      "metadata": {
        "id": "y4IS3_lcN0sQ"
      },
      "source": [
        "\n",
        "\n",
        "---\n",
        "\n",
        "\n",
        "4) Un artículo públicado en el Journal of testing and Evaluation presenta las siguientes 20 mediciones del tiempo de combustión residual (en segundos) de especimenes tratados de ropa de dormir para niños:\n",
        "\n",
        "tiempo = (9.85, 9.93, 9.75, 9.77, 9.67, 9.87, 9.67, 9.94, 9.85, 9.75, 9.83, 9.92, 9.74, 9.99, 9.88, 9.95, 9.95, 9.93, 9.92, 9.89)\n",
        "\n",
        "a) Se desea encontrar un IC del 95% para el tiempo de combustion residual promedio."
      ]
    },
    {
      "cell_type": "code",
      "metadata": {
        "colab": {
          "base_uri": "https://localhost:8080/"
        },
        "id": "VWg5vVbLOA0u",
        "outputId": "4f71e23a-cc93-4834-d1a9-ec4b5a48e0e8"
      },
      "source": [
        "# n < 30, y se desconoce la desv. std poblacional, por tanto aplicar T (distribucion de Student)\n",
        "\n",
        "#Datos 20 mediciones\n",
        "tiempo = (9.85, 9.93, 9.75, 9.77, 9.67, 9.87, 9.67, 9.94, 9.85, 9.75, 9.83, 9.92, 9.74, 9.99, 9.88, 9.95, 9.95, 9.93, 9.92, 9.89)\n",
        "\n",
        "#primero registrar los datos\n",
        "n= np.size(tiempo)\n",
        "xbar = np.mean(tiempo)\n",
        "S = np.std(tiempo, ddof=1) # divide en n-1 para sacar desv. std insesgada\n",
        "#sigma = ? # aca no la conocemos\n",
        "\n",
        "# IC con NC 95%\n",
        "NC = 0.95\n",
        "alpha = 1-NC\n",
        "alpha_medio = alpha/2\n",
        "\n",
        "#Calcular T con la función de distribucion T acumulada inversa (ppf)\n",
        "T = stats.t.ppf(1-alpha_medio, df=(n-1))# n-1 grados de libertad\n",
        "print('T: ', T)\n",
        "\n",
        "LI = xbar - T *(S / np.sqrt(n))\n",
        "LS = xbar + T *(S / np.sqrt(n))\n",
        "\n",
        "print('IC al ',NC, ' para media poblacional: ',(LI,LS))\n"
      ],
      "execution_count": 17,
      "outputs": [
        {
          "output_type": "stream",
          "text": [
            "T:  2.093024054408263\n",
            "IC al  0.95  para media poblacional:  (9.807356747695982, 9.897643252304013)\n"
          ],
          "name": "stdout"
        }
      ]
    },
    {
      "cell_type": "code",
      "metadata": {
        "colab": {
          "base_uri": "https://localhost:8080/"
        },
        "id": "9AdQA_TN-4ft",
        "outputId": "0366b93a-6ae4-4c31-d770-6515307a6574"
      },
      "source": [
        "#Forma simple con Scipy\n",
        "IC95 = stats.t.interval(NC, n-1, loc=xbar, scale=S /np.sqrt(n)) \n",
        "\n",
        "print('IC al', NC, 'para media poblacional: ', IC95)\n"
      ],
      "execution_count": 18,
      "outputs": [
        {
          "output_type": "stream",
          "text": [
            "IC al 0.95 para media poblacional:  (9.807356747695982, 9.897643252304013)\n"
          ],
          "name": "stdout"
        }
      ]
    },
    {
      "cell_type": "markdown",
      "metadata": {
        "id": "6OAyAnFUITah"
      },
      "source": [
        "**Guia para STATS**\n",
        "\n",
        "pdf: Probability Density Function\n",
        "\n",
        "cdf: Cumulative Distribution Function\n",
        "\n",
        "sf: Survival Function (1-CDF)\n",
        "\n",
        "ppf: Percent Point Function (Inverse of CDF)\n",
        "\n",
        "isf: Inverse Survival Function (Inverse of SF)\n",
        "\n",
        "https://docs.scipy.org/doc/scipy/reference/stats.html\n"
      ]
    }
  ]
}