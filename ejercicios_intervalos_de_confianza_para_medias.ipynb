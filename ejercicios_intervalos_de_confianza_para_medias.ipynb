{
  "nbformat": 4,
  "nbformat_minor": 0,
  "metadata": {
    "colab": {
      "name": "ejercicios intervalos de confianza para medias.ipynb",
      "provenance": [],
      "authorship_tag": "ABX9TyNazTrL4Z3HQdLZ5N5pNi3J",
      "include_colab_link": true
    },
    "kernelspec": {
      "name": "python3",
      "display_name": "Python 3"
    }
  },
  "cells": [
    {
      "cell_type": "markdown",
      "metadata": {
        "id": "view-in-github",
        "colab_type": "text"
      },
      "source": [
        "<a href=\"https://colab.research.google.com/github/robertomoragad/Estadistica/blob/master/ejercicios_intervalos_de_confianza_para_medias.ipynb\" target=\"_parent\"><img src=\"https://colab.research.google.com/assets/colab-badge.svg\" alt=\"Open In Colab\"/></a>"
      ]
    },
    {
      "cell_type": "code",
      "metadata": {
        "id": "4M6HJfcn7qmR"
      },
      "source": [
        "#Importamos Librerias de la siguiente forma: \n",
        "import numpy as np # importando numpy\n",
        "from scipy import stats # importando scipy.stats\n",
        "import matplotlib.pyplot as plt #importando matplotlib"
      ],
      "execution_count": 2,
      "outputs": []
    },
    {
      "cell_type": "markdown",
      "metadata": {
        "id": "u4eaXj_879E4"
      },
      "source": [
        "1) Se extrajo una muestra aleatoria de 172 clientes de la nueva APP de compras \"cornerTop\", y se les pidió que recordaran  su última experiencia de compra para evaluar el servicio recibido en una escala de 1 (muy insatisfecho) a 5 (muy satisfecho).\n",
        "La satisfacción de los clientes recibió una calificación media de 4,38 con una desviación std. muestral de 0,70.\n",
        "\n",
        "a) Calcular un Intervalo de confianza del 95% para la media poblacional.\n",
        "\n",
        "b) Calcular un Intervalo de confianza del 99% para la media poblacional."
      ]
    },
    {
      "cell_type": "code",
      "metadata": {
        "colab": {
          "base_uri": "https://localhost:8080/"
        },
        "id": "KItvQi2X7yq7",
        "outputId": "e85de5aa-4584-4e3d-b437-afdf53ae8ddb"
      },
      "source": [
        "#como n >= 30 aplicaremos Z (Distribucion normal estandadarizada)\n",
        "\n",
        "#Caso al 95%\n",
        "#primero registrar los datos\n",
        "\n",
        "n= 172\n",
        "xbar = 4.38\n",
        "S = 0.7\n",
        "\n",
        "# IC con NC 95%\n",
        "NC = 0.95\n",
        "alpha = 1-NC\n",
        "alpha_medio = alpha/2\n",
        "\n",
        "#Calcular Z con la función de distribucion normal acumulada inversa (ppf)\n",
        "Z = stats.norm.ppf(1 - alpha_medio)\n",
        "print(\"Z\", Z)\n",
        "\n",
        "LI = xbar - Z *(S / np.sqrt(n))\n",
        "LS = xbar + Z *(S / np.sqrt(n))\n",
        "\n",
        "print('IC al ',NC, ' para media poblacional: ',(LI,LS))\n",
        "\n",
        "\n",
        "#Forma simple con Stats\n",
        "IC95 = stats.norm.interval(NC, loc = xbar, scale = S /np.sqrt(n))\n",
        "print('IC al', NC, 'para media poblacional: ', IC95)\n",
        "\n",
        "\n",
        "\n"
      ],
      "execution_count": 3,
      "outputs": [
        {
          "output_type": "stream",
          "text": [
            "Z 1.959963984540054\n",
            "IC al  0.95  para media poblacional:  (4.275387903058986, 4.484612096941014)\n",
            "IC al 0.95 para media poblacional:  (4.275387903058986, 4.484612096941014)\n"
          ],
          "name": "stdout"
        }
      ]
    },
    {
      "cell_type": "code",
      "metadata": {
        "id": "hALv80-SJyuw"
      },
      "source": [
        "#aplicar aquí para caso al 99%\n",
        "\n",
        "#su codigo aqui\n",
        "\n"
      ],
      "execution_count": null,
      "outputs": []
    },
    {
      "cell_type": "markdown",
      "metadata": {
        "id": "RRksh8eCSN8p"
      },
      "source": [
        "Su conclusión aquí: ..............."
      ]
    },
    {
      "cell_type": "markdown",
      "metadata": {
        "id": "GadFWhv3KD-L"
      },
      "source": [
        "\n",
        "\n",
        "---\n",
        "\n",
        "\n",
        "2) La empresa de transporte DUDU planea importar una flota de nuevos taxis para sus conductores. La decisión depende de si el rendimiento del auto en consideración es por lo menos 27,5 MPG (millas por galon).\n",
        "Los 36 autos que prueba la empresa reportarn una media de 25,6 MPG, con una desviación std. muestral de 3,5 MPG.\n",
        "\n",
        "a) A un nivel de confianza del 99% ¿qué aconsejaría a la empresa que hiciera?\n"
      ]
    },
    {
      "cell_type": "code",
      "metadata": {
        "colab": {
          "base_uri": "https://localhost:8080/"
        },
        "id": "UWWvQnsAKQ7Q",
        "outputId": "2ed0ebba-0993-47b7-f694-3063c9882f38"
      },
      "source": [
        "#como n >= 30 aplicaremos Z\n",
        "\n",
        "#Caso al 99%\n",
        "#primero registrar los datos\n",
        "\n",
        "n= 36\n",
        "xbar = 25.6\n",
        "S = 3.5\n",
        "\n",
        "# IC con NC 99%\n",
        "NC = 0.99\n",
        "alpha = 1-NC\n",
        "alpha_medio = alpha/2\n",
        "\n",
        "#Calcular Z con la función de distribucion normal acumulada inversa (ppf)\n",
        "Z = stats.norm.ppf(1 - alpha_medio)\n",
        "print('Z: ', Z)\n",
        "\n",
        "LI = xbar - Z *(S / np.sqrt(n))\n",
        "LS = xbar + Z *(S / np.sqrt(n))\n",
        "\n",
        "print('IC al ',NC, ' para media poblacional: ',(LI,LS))\n",
        "\n",
        "\n",
        "#Forma simple con Stats\n",
        "IC95 = stats.norm.interval(NC, loc = xbar, scale = S /np.sqrt(n))\n",
        "print('IC al', NC, 'para media poblacional: ', IC95)\n"
      ],
      "execution_count": 4,
      "outputs": [
        {
          "output_type": "stream",
          "text": [
            "Z:  2.5758293035489004\n",
            "IC al  0.99  para media poblacional:  (24.097432906263144, 27.10256709373686)\n",
            "IC al 0.99 para media poblacional:  (24.097432906263144, 27.10256709373686)\n"
          ],
          "name": "stdout"
        }
      ]
    },
    {
      "cell_type": "markdown",
      "metadata": {
        "id": "iGIkmyI7K2Vc"
      },
      "source": [
        "Su conclusión aqui: ...................."
      ]
    },
    {
      "cell_type": "markdown",
      "metadata": {
        "id": "sKuzYnKVK66K"
      },
      "source": [
        "\n",
        "\n",
        "---\n",
        "\n",
        "\n",
        "3) Un artículo publicado en el Journal of Heat Transfer (Trans ASME, Ses. C, 96 1974, pag 59) describe un nuevo método para medir la conductividad térmica del hierro Armco.  Al utilizar una temperatura de 100ºF y una potencia de entrada de 550 W, se obtienen las diez mediciones siguientes de conductividad térmica (en BTU/hr-ft-ºF): \n",
        "conductividad = (41.6, 41.48, 42.34, 41.95, 41.86, 42.18, 41.72, 42.26, 41.81, 42.04)\n",
        "\n",
        "a) Se desea construir un IC del 95% para conductividad térmica promedio de ese material, se sabe que la desviación tipica es de 0,30 Btu/hr-ft-ºF"
      ]
    },
    {
      "cell_type": "code",
      "metadata": {
        "colab": {
          "base_uri": "https://localhost:8080/"
        },
        "id": "dWyccsM2K6UW",
        "outputId": "0ab823e8-9562-41cb-e7a0-6bd78ac63f06"
      },
      "source": [
        "# n < 30, pero se conoce la desv. std poblacional, por tanto aplicar Z\n",
        "\n",
        "#Datos 10 mediciones\n",
        "conductividad = (41.6, 41.48, 42.34, 41.95, 41.86, 42.18, 41.72, 42.26, 41.81, 42.04)\n",
        "\n",
        "#primero registrar los datos\n",
        "\n",
        "n= np.size(conductividad)\n",
        "xbar = np.mean(conductividad)\n",
        "S = np.std(conductividad, ddof=1) # divide en n-1 para sacar desv. std insesgada\n",
        "sigma = 0.30 #esta es la desv. std poblacional y es conocida!!\n",
        "\n",
        "# IC con NC 95%\n",
        "NC = 0.95\n",
        "alpha = 1-NC\n",
        "alpha_medio = alpha/2\n",
        "\n",
        "#Calcular Z con la función de distribucion normal acumulada inversa (ppf)\n",
        "Z = stats.norm.ppf(1 - alpha_medio)\n",
        "print('Z: ', Z)\n",
        "\n",
        "LI = xbar - Z *(sigma / np.sqrt(n))\n",
        "LS = xbar + Z *(sigma / np.sqrt(n))\n",
        "\n",
        "print('IC al ',NC, ' para media poblacional: ',(LI,LS))\n",
        "\n",
        "\n",
        "#Forma simple con Stats\n",
        "IC95 = stats.norm.interval(NC, loc = xbar, scale = sigma /np.sqrt(n))\n",
        "print('IC al', NC, 'para media poblacional: ', IC95)\n",
        "\n"
      ],
      "execution_count": 5,
      "outputs": [
        {
          "output_type": "stream",
          "text": [
            "Z:  1.959963984540054\n",
            "IC al  0.95  para media poblacional:  (41.73806149030863, 42.10993850969137)\n",
            "IC al 0.95 para media poblacional:  (41.73806149030863, 42.10993850969137)\n"
          ],
          "name": "stdout"
        }
      ]
    },
    {
      "cell_type": "markdown",
      "metadata": {
        "id": "y4IS3_lcN0sQ"
      },
      "source": [
        "\n",
        "\n",
        "---\n",
        "\n",
        "\n",
        "4) Un artículo públicado en el Journal of testing and Evaluation presenta las siguientes 20 mediciones del tiempo de combustión residual (en segundos) de especimenes tratados de ropa de dormir para niños:\n",
        "\n",
        "tiempo = (9.85, 9.93, 9.75, 9.77, 9.67, 9.87, 9.67, 9.94, 9.85, 9.75, 9.83, 9.92, 9.74, 9.99, 9.88, 9.95, 9.95, 9.93, 9.92, 9.89)\n",
        "\n",
        "a) Se desea encontrar un IC del 95% para el tiempo de combustion residual promedio."
      ]
    },
    {
      "cell_type": "code",
      "metadata": {
        "colab": {
          "base_uri": "https://localhost:8080/"
        },
        "id": "VWg5vVbLOA0u",
        "outputId": "034ccc83-f140-465b-9a83-878df33154b2"
      },
      "source": [
        "# n < 30, y se desconoce la desv. std poblacional, por tanto aplicar T (distribucion de Student)\n",
        "\n",
        "#Datos 20 mediciones\n",
        "tiempo = (9.85, 9.93, 9.75, 9.77, 9.67, 9.87, 9.67, 9.94, 9.85, 9.75, 9.83, 9.92, 9.74, 9.99, 9.88, 9.95, 9.95, 9.93, 9.92, 9.89)\n",
        "\n",
        "#primero registrar los datos\n",
        "n= np.size(tiempo)\n",
        "xbar = np.mean(tiempo)\n",
        "S = np.std(tiempo, ddof=1) # divide en n-1 para sacar desv. std insesgada\n",
        "#sigma = ? # aca no la conocemos\n",
        "\n",
        "# IC con NC 95%\n",
        "NC = 0.95\n",
        "alpha = 1-NC\n",
        "alpha_medio = alpha/2\n",
        "\n",
        "#Calcular T con la función de distribucion T acumulada inversa (ppf)\n",
        "T = stats.t.ppf(1-alpha_medio, df=(n-1))# n-1 grados de libertad\n",
        "print('T: ', T)\n",
        "\n",
        "LI = xbar - T *(S / np.sqrt(n))\n",
        "LS = xbar + T *(S / np.sqrt(n))\n",
        "\n",
        "print('IC al ',NC, ' para media poblacional: ',(LI,LS))\n",
        "\n",
        "\n",
        "#Forma simple con Stats\n",
        "\n",
        "IC95 = stats.t.interval(NC, n-1, loc=xbar, scale=S /np.sqrt(n)) \n",
        "\n",
        "print('IC al', NC, 'para media poblacional: ', IC95)\n"
      ],
      "execution_count": null,
      "outputs": [
        {
          "output_type": "stream",
          "text": [
            "T:  2.093024054408263\n",
            "IC al  0.95  para media poblacional:  (9.807356747695982, 9.897643252304013)\n",
            "IC al 0.95 para media poblacional:  (9.807356747695982, 9.897643252304013)\n"
          ],
          "name": "stdout"
        }
      ]
    },
    {
      "cell_type": "markdown",
      "metadata": {
        "id": "6OAyAnFUITah"
      },
      "source": [
        "**Guia para STATS**\n",
        "\n",
        "pdf: Probability Density Function\n",
        "\n",
        "cdf: Cumulative Distribution Function\n",
        "\n",
        "sf: Survival Function (1-CDF)\n",
        "\n",
        "ppf: Percent Point Function (Inverse of CDF)\n",
        "\n",
        "isf: Inverse Survival Function (Inverse of SF)\n"
      ]
    }
  ]
}