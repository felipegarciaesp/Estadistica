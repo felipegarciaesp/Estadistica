{
  "nbformat": 4,
  "nbformat_minor": 0,
  "metadata": {
    "colab": {
      "name": "Test hipotesis medias.ipynb",
      "provenance": [],
      "authorship_tag": "ABX9TyNgPUOsGPU5O5ur7AOazHSZ",
      "include_colab_link": true
    },
    "kernelspec": {
      "name": "python3",
      "display_name": "Python 3"
    }
  },
  "cells": [
    {
      "cell_type": "markdown",
      "metadata": {
        "id": "view-in-github",
        "colab_type": "text"
      },
      "source": [
        "<a href=\"https://colab.research.google.com/github/robertomoragad/Estadistica/blob/master/Test_hipotesis_medias.ipynb\" target=\"_parent\"><img src=\"https://colab.research.google.com/assets/colab-badge.svg\" alt=\"Open In Colab\"/></a>"
      ]
    },
    {
      "cell_type": "code",
      "metadata": {
        "id": "RYfThsT7-SDy"
      },
      "source": [
        "#Primero Importamos Librerias de la siguiente forma: \n",
        "import numpy as np # importando numpy\n",
        "from scipy import stats # importando scipy.stats\n",
        "import matplotlib.pyplot as plt #importando matplotlib"
      ],
      "execution_count": null,
      "outputs": []
    },
    {
      "cell_type": "markdown",
      "metadata": {
        "id": "RQXNhtUlBMNs"
      },
      "source": [
        "**En esta sección se encuentran ejercicios de pruebas de hipótesis para medias y proporciones**\n",
        "\n",
        "\n",
        "**intro**\n",
        "<img src='https://drive.google.com/uc?export=view&id=19_CQw0llfSlHxHBYM5VTiNZY3QyUxAAf' width=\"600\" align=\"left\" style=\"margin-right: 20px\"> \n",
        "<br>\n",
        "\n",
        "<p style=\"font-size:8pt\"> \n",
        "Imagen gentileza de: Roberto Moraga</p>\n"
      ]
    },
    {
      "cell_type": "markdown",
      "metadata": {
        "id": "3NHL_WEVCn8j"
      },
      "source": [
        "\n",
        "\n",
        "---\n",
        "\n",
        "## 1)\n",
        "**Ejercicio:  Talla de los hombres**\n",
        "Se desea contrastar con un nivel de significación del 5 % la hipótesis de que la talla media de los hombres de 18 o más años de un país es igual a 180. Suponiendo que la desviación estandar de las tallas en la población es 4, contraste dicha hipótesis frente a la alternativa de que es distinta.\n"
      ]
    },
    {
      "cell_type": "code",
      "metadata": {
        "colab": {
          "base_uri": "https://localhost:8080/"
        },
        "id": "JtT4SYJOC4Og",
        "outputId": "e4f975e5-98dd-45d3-c5fb-0af9ca2f811a"
      },
      "source": [
        "#cargar data de la muestra de 15 hombres seleccionados al azar\n",
        "\n",
        "altura= (167, 167, 168, 168, 168, 169, 171, 172, 173, 175, 175, 175, 177, 182, 195)\n",
        "\n",
        "#se conoce el sigma poblacional Sigma = 4\n",
        "sigma = 4\n",
        "\n",
        "# 0)  calcular estadisticos muestra\n",
        "xbar = np.mean(altura)\n",
        "S = np.std(altura, ddof=1) #desv. std insesgada no es necesaria utilizarla dado que se conoce Sigma\n",
        "n = np.size(altura)\n",
        "\n",
        "print('sigma poblacion: ', sigma)\n",
        "print('Xbarra: ',xbar)\n",
        "print('S: ', S)\n",
        "print('tamaño muestra: ', n)\n"
      ],
      "execution_count": null,
      "outputs": [
        {
          "output_type": "stream",
          "text": [
            "sigma poblacion:  4\n",
            "Xbarra:  173.46666666666667\n",
            "S:  7.356888576280704\n",
            "tamaño muestra:  15\n"
          ],
          "name": "stdout"
        }
      ]
    },
    {
      "cell_type": "code",
      "metadata": {
        "colab": {
          "base_uri": "https://localhost:8080/"
        },
        "id": "KNDmKBllDu9C",
        "outputId": "a44271df-21d2-4746-f9bc-8af979890017"
      },
      "source": [
        "#como n < 30 y sí se conoce Sigma, aplicaremos Z \n",
        "#asumimos que datos se distribuyen normal X-N(mu, 4)\n",
        "\n",
        "# 1) Definir hipotesis a contrastar (prueba bilateral - 2 colas)\n",
        "  #H0:   Mu = 180\n",
        "  #H1:   Mu ≠  180\n",
        "\n",
        "\n",
        "alpha = 0.05\n",
        "Mu = 180\n",
        "\n",
        "# 2) buscar valor critico de Z\n",
        "Zcritico = stats.norm.ppf(1-(alpha/2))# 2 colas\n",
        "print('Z critico: ', Zcritico)\n",
        "\n",
        "\n",
        "# 3) calcular Estadistico de prueba Z\n",
        "Z =  (xbar - Mu) / (sigma / np.sqrt(n)) #utilizar sigma poblacion\n",
        "print('Z: ',Z)\n",
        "\n",
        "\n",
        "# 4) Definir Regla decisión\n",
        "#no rechazar H0 si: -Zcritico <= Z <= Z crítico\n",
        "#rechazar H0 si:  Z < -Zcritico  o  Z > Zcritico  \n",
        "\n",
        "\n",
        "#calcular valor-p\n",
        "pvalue = (stats.norm.cdf(Z)) #Z de prueba se encuentra en cola izquierda\n",
        "print('Valor-p: ',pvalue*2)"
      ],
      "execution_count": null,
      "outputs": [
        {
          "output_type": "stream",
          "text": [
            "Z critico:  1.959963984540054\n",
            "Z:  -6.325872798805446\n",
            "Valor-p:  2.5180518554061375e-10\n"
          ],
          "name": "stdout"
        }
      ]
    },
    {
      "cell_type": "markdown",
      "metadata": {
        "id": "Fg5Q9Co4Gsy2"
      },
      "source": [
        "Conclusión:  como Z es menor que -Zcritico , se rechaza la H0.   La talla media es diferente de 180.\n",
        "\n",
        "Por otra parte al observar el valor-p este es menor a alpha=0,05, por tanto se rechaza la H0.\n",
        "\n",
        "**Desarrollo:**\n",
        "<img src='https://drive.google.com/uc?export=view&id=1B4LIDzk_s5jiihxwv3PNeBHqbhgX1TVa' width=\"800\" align=\"left\" style=\"margin-right: 20px\"> \n",
        "<br>\n",
        "\n",
        "<p style=\"font-size:8pt\"> \n",
        "Imagen gentileza de: Roberto Moraga</p>"
      ]
    },
    {
      "cell_type": "markdown",
      "metadata": {
        "id": "fTXGQslVICpS"
      },
      "source": [
        "\n",
        "\n",
        "---\n",
        "\n",
        "## 2)\n",
        "\n",
        "**Ejercicio: Rentabilidad fondos de inversión**\n",
        "\n",
        "Sea X la variable ”rentabilidad de cierto tipo de fondos de inversión tras una apreciación fuerte del marco con respecto al dólar”. Se considera que la media de esta variable es 15. Un economista afirma que dicha rentabilidad media ha variado, por lo que lleva a cabo un estudio en las condiciones reseñadas anteriormente sobre una muestra de 9 fondos cuya media muestral resulta ser de 15,308 y cuya varianza muestral es 0,193.\n",
        "\n",
        "a) Especificando las hipótesis necesarias, contrastar la afirmación del economista al 5 %. \n",
        "\n",
        "b) A partir del resultado de a), razonar si el intervalo de confianza para la media al 95 % contendrá o no al valor 15\n"
      ]
    },
    {
      "cell_type": "code",
      "metadata": {
        "colab": {
          "base_uri": "https://localhost:8080/"
        },
        "id": "ehJ1myGLGcUt",
        "outputId": "037edd3b-26cf-4a26-fe18-cbf9059d9b74"
      },
      "source": [
        "#como n < 30 y no se conoce Sigma, aplicaremos T Student\n",
        "\n",
        "# 0)  calcular estadisticos muestra\n",
        "xbar = 15.308\n",
        "S2 = 0.193 #varianza muestral\n",
        "S = np.sqrt(S2) #desv. std muestral insesgada (asumimos)\n",
        "n = 9\n",
        "\n",
        "print('Xbarra: ',xbar)\n",
        "print('S: ', S)\n",
        "print('tamaño muestra: ', n)\n",
        "\n",
        "\n",
        "# 1) Definir hipotesis a contrastar (prueba bilateral - 2 colas)\n",
        "  #H0:   Mu = 15\n",
        "  #H1:   Mu ≠ 15\n",
        "\n",
        "alpha = 0.05\n",
        "Mu = 15\n",
        "\n",
        "# 2) calcular valor critico de T\n",
        "Tcritico = stats.t.ppf(1-(alpha/2), df=(n-1))# n-1 grados de libertad y 2 colas\n",
        "print('T critico: ', Tcritico)\n",
        "\n",
        "\n",
        "# 3) calcular Estadistico de prueba T\n",
        "T =  (xbar - Mu) / (S / np.sqrt(n))\n",
        "print('T: ',T)\n",
        "\n",
        "# 4) Define Regla de decision\n",
        "  # no rechaza H0 si: -Tcritico <= T <= Tcritico\n",
        "  #rechazar H0 si:  T < -Tcritico  o  T > Tcritico  \n",
        "\n",
        "\n",
        "#calcular valor-p\n",
        "pvalue = 1 - (stats.t.cdf(T, df=(n-1)))\n",
        "print('Valor-p: ',pvalue*2) #2 colas"
      ],
      "execution_count": null,
      "outputs": [
        {
          "output_type": "stream",
          "text": [
            "Xbarra:  15.308\n",
            "S:  0.4393176527297759\n",
            "tamaño muestra:  9\n",
            "T critico:  2.3060041350333704\n",
            "T:  2.1032617156596514\n",
            "Valor-p:  0.06858862290305279\n"
          ],
          "name": "stdout"
        }
      ]
    },
    {
      "cell_type": "markdown",
      "metadata": {
        "id": "FnbikILUPnSb"
      },
      "source": [
        "Conclusión:  como T de prueba se encuentra entre +- Tcritico , no se rechaza la H0.   No existe evidencia para afirmar que la rentabilidad ha cambiado.\n",
        "\n",
        "Al observar el valor-p , este es mayor a alpha=0,05. Por tanto no se rechaza H0.\n",
        "\n",
        "**Desarrollo:**\n",
        "<img src='https://drive.google.com/uc?export=view&id=1hzwZmpR_1Gy0edg7paSYs9dOPlmbWCku' width=\"800\" align=\"left\" style=\"margin-right: 20px\"> \n",
        "<br>\n",
        "\n",
        "<p style=\"font-size:8pt\"> \n",
        "Imagen gentileza de: Roberto Moraga</p>"
      ]
    },
    {
      "cell_type": "markdown",
      "metadata": {
        "id": "hpvoZ7yOSoKg"
      },
      "source": [
        "\n",
        "---\n",
        "## 3)\n",
        "\n",
        "**Ejercicio: Control de calidad de los dulces M&M**\n",
        "\n",
        "Se adjuntan los pesos de 13 dulces M&M rojos, elegidos de una bolsa que contiene 465 M&M. A continuación se presentan los pesos (en gramos), los cuales tienen una media 𝑥 ̅=0,8635 y una desviación estándar de 𝑆=0,0576 𝑔. En el empaque se afirma que el peso neto del contenido es 396,9 g. de manera que los M&M deben tener un peso medio de al menos 396,9/465=0,8535 g. para dar la cantidad anunciada. Utilice los datos muestrales con un nivel de significancia de 0,05, para probar la aseveración que hizo un gerente de producción que los M&M tienen en realidad una media mayor que 0,8535 g. de manera que los consumidores están recibiendo más que la cantidad en la etiqueta. \n",
        "\n",
        "dulces = (0.751, 0.841, 0.856, 0.799, 0.966, 0.859, 0.857, 0.942, 0.873, 0.809, 0.890, 0.878, 0.905)\n"
      ]
    },
    {
      "cell_type": "code",
      "metadata": {
        "colab": {
          "base_uri": "https://localhost:8080/"
        },
        "id": "UNHZBPNrG-xu",
        "outputId": "fac81057-2461-49af-f027-f74823ccb843"
      },
      "source": [
        "#Cargar data de la muestra de 13 elementos\n",
        "dulces = (0.751, 0.841, 0.856, 0.799, 0.966, 0.859, 0.857, 0.942, 0.873, 0.809, 0.890, 0.878, 0.905)\n",
        "\n",
        "# 0) calcular estadisticos muestra\n",
        "xbar = np.mean(dulces)\n",
        "S = np.std(dulces, ddof=1) #desv. std insesgada\n",
        "n = np.size(dulces)\n",
        "\n",
        "print('Xbarra: ',xbar)\n",
        "print('S: ', S)\n",
        "print('tamaño muestra: ', n)"
      ],
      "execution_count": null,
      "outputs": [
        {
          "output_type": "stream",
          "text": [
            "Xbarra:  0.8635384615384615\n",
            "S:  0.057594292808424714\n",
            "tamaño muestra:  13\n"
          ],
          "name": "stdout"
        }
      ]
    },
    {
      "cell_type": "code",
      "metadata": {
        "colab": {
          "base_uri": "https://localhost:8080/"
        },
        "id": "8WXSj2AfTZpK",
        "outputId": "9046bbbe-5070-4619-bb00-4d9fdd6ff963"
      },
      "source": [
        "#como n < 30 y no se conoce Sigma, aplicaremos T Student\n",
        "#asumimos que datos se distribuyen normal\n",
        "\n",
        "# 1) Definir hipotesis a contrastar (prueba unilateral - cola derecha)\n",
        "#H0:   Mu <= 0.8535\n",
        "#H1:   Mu >  0.8535\n",
        "\n",
        "alpha = 0.05\n",
        "Mu = 0.8535\n",
        "\n",
        "# 2) buscar valor critico de T\n",
        "Tcritico = stats.t.ppf(1-alpha, df=(n-1))# n-1 grados de libertad y 1 cola\n",
        "print('T critico: ', Tcritico)\n",
        "\n",
        "\n",
        "# 3) calcular Estadistico T\n",
        "T =  (xbar - Mu) / (S / np.sqrt(n))\n",
        "print('T: ',T)\n",
        "\n",
        "# 4) Regla de decision\n",
        "  # No rechazar h0 si:   T <= Tcritico\n",
        "  # Rechazar h0 si:  T > T critico\n",
        "\n",
        "#calcular valor-p\n",
        "pvalue = 1- (stats.t.cdf(T, df=(n-1)))\n",
        "print('Valor-p: ',pvalue)#1 cola\n"
      ],
      "execution_count": null,
      "outputs": [
        {
          "output_type": "stream",
          "text": [
            "T critico:  1.782287555649159\n",
            "T:  0.6284335832386758\n",
            "Valor-p:  0.27074834066125364\n"
          ],
          "name": "stdout"
        }
      ]
    },
    {
      "cell_type": "markdown",
      "metadata": {
        "id": "k5unzaKBXgQK"
      },
      "source": [
        "**Conclusion**\n",
        "\n",
        "Como T es menor que el valor 'T critico', es decir, se encuentra dentro de la zona de no rechazo, se puede concluir que no existe suficiente evidencia para afirmar que el peso medio de los dulces supera los 0.8535.\n",
        "\n",
        "Al revisar el valor-p, como este es mayor a 0.05, no podemos rechazar la H0.\n",
        "\n",
        "**Desarrollo:**\n",
        "<img src='https://drive.google.com/uc?export=view&id=1VNj5m1wBVbZOrSL7fjSrt6K06lubS-ig' width=\"800\" align=\"left\" style=\"margin-right: 20px\"> \n",
        "<br>\n",
        "\n",
        "<p style=\"font-size:8pt\"> \n",
        "Imagen gentileza de: Roberto Moraga</p>"
      ]
    },
    {
      "cell_type": "code",
      "metadata": {
        "colab": {
          "base_uri": "https://localhost:8080/"
        },
        "id": "Bqx2pDlyVyR9",
        "outputId": "e56adad4-b632-45e6-ec45-9b2172baf2a7"
      },
      "source": [
        "#Una forma mas sencilla es utilizar el test de 1 muestra Student de Scipy (prueba de 2 colas)\n",
        "#En este caso como queremos hacer una prueba de 1 cola, el valor-p que se obtenga se debe dividir en 2.\n",
        "\n",
        "pval = stats.ttest_1samp(dulces, popmean = Mu)\n",
        "\n",
        "print(pval)\n",
        "\n",
        "pvalue=0.5414966813225072 /2\n",
        "print('Valor-p ', pvalue)"
      ],
      "execution_count": null,
      "outputs": [
        {
          "output_type": "stream",
          "text": [
            "Ttest_1sampResult(statistic=0.6284335832386759, pvalue=0.5414966813225072)\n",
            "Valor-p  0.2707483406612536\n"
          ],
          "name": "stdout"
        }
      ]
    },
    {
      "cell_type": "markdown",
      "metadata": {
        "id": "4VAWlhMsYgDr"
      },
      "source": [
        "En este caso el valor-p es el mismo que en procedimiento anterior, y se procede a concluir lo mismo."
      ]
    },
    {
      "cell_type": "markdown",
      "metadata": {
        "id": "hZ2T5eN0aa4V"
      },
      "source": [
        "\n",
        "---\n",
        "\n",
        "## 4)\n",
        "\n",
        "Ejercicio: Experimento genético de Mendel\n",
        "\n",
        "Cuando Gregor Mendel realizó sus famosos experimentos de hidrodación con guisantes, uno de ellos dio por resultado descendencia que consistía en 438 plantas de guisantes con vainas verdes y 152 plantas guisantes con vainas amarillas. Según la teoría de Mendel, ¼ de los vástagos de guisantes debían tener vainas amarillas. Utilice un nivel de significancia de un 5%, con el método tradicional y P, para probar la aseveración de que la proporción de vástagos de guisantes con vainas es igual a 1/4.\n"
      ]
    },
    {
      "cell_type": "code",
      "metadata": {
        "colab": {
          "base_uri": "https://localhost:8080/"
        },
        "id": "f-555q8XalA5",
        "outputId": "4399d16a-ed6e-44c7-f054-897942939b83"
      },
      "source": [
        "# 0) datos muestra\n",
        "n = (428 + 152)\n",
        "prop_muestra = 152 / n #prop amarillos\n",
        "\n",
        "print('proporcion muestral: ', prop_muestra)\n",
        "\n",
        "# 1) Definir hipotesis a contrastar (prueba bilateral - 2 colas)\n",
        "#H0:   P = 0.25\n",
        "#H1:   P >< 0.25\n",
        "alpha = 0.05\n",
        "P = 0.25\n",
        "\n",
        "# 2) buscar valor critico de Z\n",
        "Zcritico = stats.norm.ppf(1-(alpha/2))#  2 colas\n",
        "print('Z critico: ', Zcritico)\n",
        "\n",
        "# 3) calcular Estadistico de prueba Z\n",
        "Z =  (prop_muestra - P) / (np.sqrt((P*(1-P))/n))\n",
        "print('Z: ',Z)\n",
        "\n",
        "# 4) definir regla decision\n",
        "  #No rechazar H0 si: -Zcritico<= Z <= Zcritico\n",
        "  #Rechazar H0 si: Z <= -Zcritico  o  Z >=Zcritico \n",
        "\n",
        "#calcular valor-p\n",
        "pvalue = 1-(stats.norm.cdf(Z))\n",
        "print('Valor-p: ',pvalue*2)\n",
        "\n",
        "\n"
      ],
      "execution_count": null,
      "outputs": [
        {
          "output_type": "stream",
          "text": [
            "proporcion muestral:  0.2620689655172414\n",
            "Z critico:  1.959963984540054\n",
            "Z:  0.6712486220795392\n",
            "Valor-p:  0.5020621587898491\n"
          ],
          "name": "stdout"
        }
      ]
    },
    {
      "cell_type": "markdown",
      "metadata": {
        "id": "BwYA0Zrk0xyx"
      },
      "source": [
        "Conslusión: como Z de prueba se encuentra dentro de +- Z críticos, no podemos rechazar la H0.\n",
        "No existe evidencia suficiente para afirmar que la proporción de guisantes amarillos es distinta 1/4.\n",
        "\n",
        "\n",
        "Al observar el valor-p este es mayor a 0,05. Por tanto no rechazar H0.\n",
        "\n",
        "\n",
        "**Desarrollo:**\n",
        "<img src='https://drive.google.com/uc?export=view&id=1jU8Wn4E-RdOQZ6E4CujK18PJmrHRnU-i' width=\"800\" align=\"left\" style=\"margin-right: 20px\"> \n",
        "<br>\n",
        "\n",
        "<p style=\"font-size:8pt\"> \n",
        "Imagen gentileza de: Roberto Moraga</p>"
      ]
    },
    {
      "cell_type": "markdown",
      "metadata": {
        "id": "JygedoyJvM1A"
      },
      "source": [
        "\n",
        "\n",
        "---\n",
        "\n"
      ]
    },
    {
      "cell_type": "code",
      "metadata": {
        "colab": {
          "base_uri": "https://localhost:8080/"
        },
        "id": "NqX4jGq-2fmW",
        "outputId": "50032fa1-d269-472e-f248-269f9f6cb200"
      },
      "source": [
        "#Otra forma (alternativa) es trabajar con una prueba Z de 2 colas, transformando la variable a ceros y unos\n",
        "\n",
        "verde = 428 #crear 428 ceros\n",
        "amarillo = 152 #crear 152 unos\n",
        "n = verde + amarillo\n",
        "\n",
        "ceros = np.random.randint(0, 1, verde)\n",
        "unos = np.random.randint(1, 2, amarillo)\n",
        "\n",
        "#print(ceros)\n",
        "#print(unos)\n",
        "\n",
        "lista = [] #creamos un nuevo array para tener los guisantes\n",
        "\n",
        "for cero in ceros: #con este for agrego los datos del arreglo ceros al nuevo array\n",
        "  \n",
        "  lista.append(cero)\n",
        "\n",
        "for uno in unos: #con este for agrego los datos del arreglo unos al nuevo array\n",
        "\n",
        "  lista.append(uno)\n",
        "\n",
        "print('guisantes : ', lista)\n",
        "\n",
        "np.size(lista)"
      ],
      "execution_count": null,
      "outputs": [
        {
          "output_type": "stream",
          "text": [
            "guisantes :  [0, 0, 0, 0, 0, 0, 0, 0, 0, 0, 0, 0, 0, 0, 0, 0, 0, 0, 0, 0, 0, 0, 0, 0, 0, 0, 0, 0, 0, 0, 0, 0, 0, 0, 0, 0, 0, 0, 0, 0, 0, 0, 0, 0, 0, 0, 0, 0, 0, 0, 0, 0, 0, 0, 0, 0, 0, 0, 0, 0, 0, 0, 0, 0, 0, 0, 0, 0, 0, 0, 0, 0, 0, 0, 0, 0, 0, 0, 0, 0, 0, 0, 0, 0, 0, 0, 0, 0, 0, 0, 0, 0, 0, 0, 0, 0, 0, 0, 0, 0, 0, 0, 0, 0, 0, 0, 0, 0, 0, 0, 0, 0, 0, 0, 0, 0, 0, 0, 0, 0, 0, 0, 0, 0, 0, 0, 0, 0, 0, 0, 0, 0, 0, 0, 0, 0, 0, 0, 0, 0, 0, 0, 0, 0, 0, 0, 0, 0, 0, 0, 0, 0, 0, 0, 0, 0, 0, 0, 0, 0, 0, 0, 0, 0, 0, 0, 0, 0, 0, 0, 0, 0, 0, 0, 0, 0, 0, 0, 0, 0, 0, 0, 0, 0, 0, 0, 0, 0, 0, 0, 0, 0, 0, 0, 0, 0, 0, 0, 0, 0, 0, 0, 0, 0, 0, 0, 0, 0, 0, 0, 0, 0, 0, 0, 0, 0, 0, 0, 0, 0, 0, 0, 0, 0, 0, 0, 0, 0, 0, 0, 0, 0, 0, 0, 0, 0, 0, 0, 0, 0, 0, 0, 0, 0, 0, 0, 0, 0, 0, 0, 0, 0, 0, 0, 0, 0, 0, 0, 0, 0, 0, 0, 0, 0, 0, 0, 0, 0, 0, 0, 0, 0, 0, 0, 0, 0, 0, 0, 0, 0, 0, 0, 0, 0, 0, 0, 0, 0, 0, 0, 0, 0, 0, 0, 0, 0, 0, 0, 0, 0, 0, 0, 0, 0, 0, 0, 0, 0, 0, 0, 0, 0, 0, 0, 0, 0, 0, 0, 0, 0, 0, 0, 0, 0, 0, 0, 0, 0, 0, 0, 0, 0, 0, 0, 0, 0, 0, 0, 0, 0, 0, 0, 0, 0, 0, 0, 0, 0, 0, 0, 0, 0, 0, 0, 0, 0, 0, 0, 0, 0, 0, 0, 0, 0, 0, 0, 0, 0, 0, 0, 0, 0, 0, 0, 0, 0, 0, 0, 0, 0, 0, 0, 0, 0, 0, 0, 0, 0, 0, 0, 0, 0, 0, 0, 0, 0, 0, 0, 0, 0, 0, 0, 0, 0, 0, 0, 0, 0, 0, 0, 0, 0, 0, 0, 0, 0, 0, 0, 0, 0, 0, 0, 0, 0, 0, 0, 0, 0, 1, 1, 1, 1, 1, 1, 1, 1, 1, 1, 1, 1, 1, 1, 1, 1, 1, 1, 1, 1, 1, 1, 1, 1, 1, 1, 1, 1, 1, 1, 1, 1, 1, 1, 1, 1, 1, 1, 1, 1, 1, 1, 1, 1, 1, 1, 1, 1, 1, 1, 1, 1, 1, 1, 1, 1, 1, 1, 1, 1, 1, 1, 1, 1, 1, 1, 1, 1, 1, 1, 1, 1, 1, 1, 1, 1, 1, 1, 1, 1, 1, 1, 1, 1, 1, 1, 1, 1, 1, 1, 1, 1, 1, 1, 1, 1, 1, 1, 1, 1, 1, 1, 1, 1, 1, 1, 1, 1, 1, 1, 1, 1, 1, 1, 1, 1, 1, 1, 1, 1, 1, 1, 1, 1, 1, 1, 1, 1, 1, 1, 1, 1, 1, 1, 1, 1, 1, 1, 1, 1, 1, 1, 1, 1, 1, 1, 1, 1, 1, 1, 1, 1]\n"
          ],
          "name": "stdout"
        },
        {
          "output_type": "execute_result",
          "data": {
            "text/plain": [
              "580"
            ]
          },
          "metadata": {
            "tags": []
          },
          "execution_count": 7
        }
      ]
    },
    {
      "cell_type": "code",
      "metadata": {
        "colab": {
          "base_uri": "https://localhost:8080/"
        },
        "id": "TjDOhTt597ki",
        "outputId": "c667c3bf-8d87-4aef-cc0b-a9afff904527"
      },
      "source": [
        "#Definir hipotesis a contrastar\n",
        "#H0:   P = 0.25\n",
        "#H1:   P >< 0.25\n",
        "alpha = 0.05\n",
        "P = 0.25\n",
        "\n",
        "p = np.mean(lista)\n",
        "s = np.std(lista)\n",
        "print(p)\n",
        "\n",
        "from statsmodels.stats import weightstats as stests\n",
        "pval = stests.ztest(x1=lista, x2=None, value=P, alternative='two-sided')\n",
        "print(pval)"
      ],
      "execution_count": null,
      "outputs": [
        {
          "output_type": "stream",
          "text": [
            "0.2620689655172414\n",
            "(0.6603795916861713, 0.5090102653952864)\n"
          ],
          "name": "stdout"
        }
      ]
    },
    {
      "cell_type": "markdown",
      "metadata": {
        "id": "hjux_ZdRAsFk"
      },
      "source": [
        "Conclusión: llegamos a un resultado similar (Z de prueba = 0,66  y valor-p= 0,51). Lo bueno de este paquete de prueba es que es más sencillo de aplicar el test desde una data set de muestra directamente, sin tener que calcular paso por paso."
      ]
    }
  ]
}