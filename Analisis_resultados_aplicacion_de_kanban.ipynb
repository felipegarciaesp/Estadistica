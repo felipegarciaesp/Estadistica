{
  "nbformat": 4,
  "nbformat_minor": 0,
  "metadata": {
    "colab": {
      "name": "Analisis resultados aplicacion de kanban.ipynb",
      "provenance": [],
      "authorship_tag": "ABX9TyMADLFIN2Sn1YNzu/LxiqCe",
      "include_colab_link": true
    },
    "kernelspec": {
      "name": "python3",
      "display_name": "Python 3"
    }
  },
  "cells": [
    {
      "cell_type": "markdown",
      "metadata": {
        "id": "view-in-github",
        "colab_type": "text"
      },
      "source": [
        "<a href=\"https://colab.research.google.com/github/robertomoragad/Estadistica/blob/master/Analisis_resultados_aplicacion_de_kanban.ipynb\" target=\"_parent\"><img src=\"https://colab.research.google.com/assets/colab-badge.svg\" alt=\"Open In Colab\"/></a>"
      ]
    },
    {
      "cell_type": "markdown",
      "metadata": {
        "id": "28BydX3Hvy1F"
      },
      "source": [
        "**Analisis resultados aplicacion de kanban**\n",
        "\n",
        "\n",
        "Durante el año pasado tuve la oportunidad de guiar a un equipo que entrega el servicio de gestión de infra a diversas unidades de tecnología dentro de una organización financiera en latam.  \n",
        "\n",
        "Desarrollamos un enfoque generativo y orgánico para comprender el propósito, ciclo de valor actual, stakeholders y clientes, y co-creamos la implementación de nuevas prácticas que permitieran mejorar la coordinación, visbilidad, colaboración y autonomía de las personas.\n",
        "\n",
        "Nos guiamos con el pensamiento Lean-Agile y fuimos implementando y experimentando con diversar herramientas, como el value stream mapping, el sistema pull, límites de WIP, radiadores de información, reuniones de sincronismo, por nombrar algunas.\n",
        "\n",
        "Algunos de los resultados que se han obtenido son mejora de la velocidad, reducción de tiempos de entrega y mayor predecibilidad y consistencia de la experiencia de los clientes internos.\n",
        "\n",
        "En este documento quiero mostrar un ejemplo de como se pueden capturar datos línea base del servicio de una variable relevante (en nuestro caso el tiempo de entrega = leadtime), y luego los datos producto de los tratamientos aplicados, para verificar si existe una mejora estadisticamente significativa y si el efecto producido es sustantivo para el negocio.\n",
        "\n",
        "\n",
        "Se analizarán 3 momentos:\n",
        "\n",
        "*   Momento 1 =  situación actual, nuestra línea base (Junio), \n",
        "*   Momento 2 = medición post primer ciclo de tratamiento (Agosto)\n",
        "*   Momento 3 = medición post segundo ciclo de tratamiento (Enero)\n",
        "\n"
      ]
    },
    {
      "cell_type": "markdown",
      "metadata": {
        "id": "qxqhWPkBz0xO"
      },
      "source": [
        "A modo de ejemplo presentamos anonimizados los tiempos de entrega (leadtime) :"
      ]
    },
    {
      "cell_type": "code",
      "metadata": {
        "id": "SpuhfsXK2aGw"
      },
      "source": [
        "#Data set - Momento 1\n",
        "junio = (1.032453704, 0.336516204, 1.019085648, 0.212997685, 55.88583333, 0.081122685, 0.309884259, 0.916701389, 1.026053241, 0.234409722, 0.895960648, 0.485868056, 0.747569444, 0.749305556, 1.02880787, 0.755381944, 7.006030093, 5.217743056, 7.574050926, 8.062037037, 57.01328704, 57.09304398, 57.04, 0.018287037, 2.064155093, 3.1578125, 6.217615741, 6.219421296, 6.214768519, 5.969074074, 8.867291667, 10.72746528, 12.15907407, 12.1621412, 13.06868056, 11.89347222, 12.99181713, 14.75262731, 16.2008912, 17.06596065, 14.74576389, 0.719178241, 0.959872685, 1.861805556, 0.229270833, 0.382430556, 1.047766204, 1.09025463, 2.793425926, 4.794884259, 4.79662037, 4.0721875, 3.17306713, 6.99037037, 7.859074074,5.763912037, 12.01021991, 10.77895833, 11.32315972, 17.1071412, 0.877164352, 0.762418981, 0.032974537, 5.067118056, 3.788958333, 7.821423611, 20.77666667, 21.75533565, 24.1483912, 26.97327546)"
      ],
      "execution_count": 49,
      "outputs": []
    },
    {
      "cell_type": "code",
      "metadata": {
        "id": "yQ1oiT9B2faa"
      },
      "source": [
        "#Data set - Momento 2\n",
        "agosto = (22.95502315, 13.83863426, 13.94453704, 14.0578588, 12.02247685, 9.229791667, 6.900393519, 2.980185185, 2.918784722, 2.863055556, 6.928993056, 1.904884259, 1.235219907, 1.233611111, 0.159456019, 1.075960648, 0.096655093, 1.078958333, 44.84554398, 19.92202546, 15.07412037, 13.94685185, 11.93701389, 11.11953704, 5.303553241, 6.034641204, 0.0421875, 1.094351852, 0.218969907, 0.006018519, 0.16068287, 0.161574074, 0.884293981, 0.071828704, 1.766782407, 1.850185185, 0.899490741, 0.030798611, 28.26549769, 11.90096065, 13.90553241, 11.73510417, 8.050578704, 6.154884259, 5.87806713, 6.805532407, 5.906747685, 0.213344907, 2.816284722, 1.711863426, 0.797407407, 0.940810185, 0.122106481, 0.035555556, 0.876388889, 0.91369213, 21.49112269, 14.91744213, 6.971076389, 5.753726852, 5.776851852, 4.015300926, 4.280486111, 4.872094907, 2.727314815, 4.028101852, 0.252881944, 0.830092593, 0.914456019, 1.800613426, 1.192604167, 0.747743056, 0.993611111, 0.098622685, 0.812673611, 0.685405093)"
      ],
      "execution_count": 50,
      "outputs": []
    },
    {
      "cell_type": "code",
      "metadata": {
        "id": "_vyrkRxoc5nT"
      },
      "source": [
        "#Data set - Momento 3\n",
        "#leadtime tipologia b\n",
        "tipo_b = (0.06, 0.47, 0.47, 0.58, 1.04, 0.37, 0.11, 1.18, 0.32, 1.84, 2.11, 1.49, 0.64, 0.74, 0.74, 1.06, 0.28, 0.09, 0.92, 2.39, 2.42, 0.38, 3.51, 1.11, 1.26, 1.54, 0.01, 1.16, 0.25, 0.75, 3.60, 3.44, 4.64, 4.80, 3.14, 4.89, 5.63)\n",
        "#leadtime tipologia a\n",
        "tipo_a = (0.37, 0.09, 0.17, 1.53, 1.13, 0.01, 1.13, 1.70, 0.44, 0.65, 1.43, 0.93, 1.89, 1.94, 3.39, 3.98, 1.66, 7.00, 8.16)\n",
        "#leadtime enero\n",
        "enero = (tipo_a + tipo_b)"
      ],
      "execution_count": 51,
      "outputs": []
    },
    {
      "cell_type": "markdown",
      "metadata": {
        "id": "g9uAlokl2pSV"
      },
      "source": [
        "Visualizaciones y estadística descriptiva:"
      ]
    },
    {
      "cell_type": "code",
      "metadata": {
        "id": "dF2Cq78PdRc3"
      },
      "source": [
        "#Importamos librerias de la siguiente forma: \n",
        "import numpy as np # importando numpy\n",
        "from scipy import stats # importando scipy.stats\n",
        "import matplotlib.pyplot as plt #importando matplotlib"
      ],
      "execution_count": 4,
      "outputs": []
    },
    {
      "cell_type": "code",
      "metadata": {
        "colab": {
          "base_uri": "https://localhost:8080/",
          "height": 353
        },
        "id": "iFeLvD262yRp",
        "outputId": "8d423538-aaf2-4a23-fc55-bf4962fff381"
      },
      "source": [
        "#Momento 1\n",
        "\n",
        "plt.hist(junio, bins=20, range=[0, 31], alpha=0.5, density=\"true\", label=\"junio\")\n",
        "\n",
        "plt.legend()\n",
        "plt.show()\n",
        "\n",
        "muestra_jun = np.size(junio)\n",
        "media_jun = np.mean(junio)\n",
        "mediana_jun = np.median(junio)\n",
        "per75_jun = np.percentile(junio, 75)\n",
        "sigma_jun = np.std(junio)\n",
        "\n",
        "print('muestra junio: ', muestra_jun)\n",
        "print('media junioo: ', media_jun)\n",
        "print('mediana junio: ', mediana_jun)\n",
        "print('cuartil 3 junio: ', per75_jun)\n",
        "print('desv. std junio: ', sigma_jun)"
      ],
      "execution_count": 52,
      "outputs": [
        {
          "output_type": "display_data",
          "data": {
            "image/png": "[encoded data removed]",
            "text/plain": [
              "<Figure size 432x288 with 1 Axes>"
            ]
          },
          "metadata": {
            "tags": [],
            "needs_background": "light"
          }
        },
        {
          "output_type": "stream",
          "text": [
            "muestra junio:  70\n",
            "media junioo:  9.271111276214285\n",
            "mediana junio:  5.142430556\n",
            "cuartil 3 junio:  11.981032987499999\n",
            "desv. std junio:  13.32735528958322\n"
          ],
          "name": "stdout"
        }
      ]
    },
    {
      "cell_type": "code",
      "metadata": {
        "colab": {
          "base_uri": "https://localhost:8080/",
          "height": 353
        },
        "id": "aryzULEL3SpE",
        "outputId": "b4ea3c22-2a45-43bb-9b47-5414fc85a92f"
      },
      "source": [
        "#Momento 2\n",
        "\n",
        "plt.hist(agosto, bins=20, range=[0, 31], alpha=0.5, density=\"true\", label=\"agosto\")\n",
        "\n",
        "plt.legend()\n",
        "plt.show()\n",
        "\n",
        "muestra_ago = np.size(agosto)\n",
        "media_ago = np.mean(agosto)\n",
        "mediana_ago = np.median(agosto)\n",
        "per75_ago = np.percentile(agosto, 75)\n",
        "sigma_ago = np.std(agosto)\n",
        "\n",
        "print('muestra agosto: ', muestra_ago)\n",
        "print('media agosto: ', media_ago)\n",
        "print('mediana agosto: ', mediana_ago)\n",
        "print('cuartil 3 agosto: ', per75_ago)\n",
        "print('desv. std agosto: ', sigma_ago)"
      ],
      "execution_count": 66,
      "outputs": [
        {
          "output_type": "display_data",
          "data": {
            "image/png": "[encoded data removed]",
            "text/plain": [
              "<Figure size 432x288 with 1 Axes>"
            ]
          },
          "metadata": {
            "tags": [],
            "needs_background": "light"
          }
        },
        {
          "output_type": "stream",
          "text": [
            "muestra agosto:  76\n",
            "media agosto:  5.802467257868421\n",
            "mediana agosto:  2.7717997685\n",
            "cuartil 3 agosto:  7.24095196775\n",
            "desv. std agosto:  7.674260713774836\n"
          ],
          "name": "stdout"
        }
      ]
    },
    {
      "cell_type": "code",
      "metadata": {
        "colab": {
          "base_uri": "https://localhost:8080/",
          "height": 353
        },
        "id": "4p__nFZfhD45",
        "outputId": "66cc216d-0e18-4b45-9131-8b7ff157528f"
      },
      "source": [
        "#Momento 3\n",
        "\n",
        "plt.hist(enero, bins=20, range=[0, 31], alpha=0.5, density=\"true\", label=\"enero\")\n",
        "\n",
        "plt.legend()\n",
        "plt.show()\n",
        "\n",
        "muestra_ene = np.size(enero)\n",
        "media_ene = np.mean(enero)\n",
        "mediana_ene = np.median(enero)\n",
        "per75_ene= np.percentile(enero, 75)\n",
        "sigma_ene = np.std(enero)\n",
        "\n",
        "print('muestra enero: ', muestra_ene)\n",
        "print('media enero: ', media_ene)\n",
        "print('mediana enero: ', mediana_ene)\n",
        "print('cuartil 3 enero: ', per75_ene)\n",
        "print('desv. std enero: ', sigma_ene)\n",
        "\n"
      ],
      "execution_count": 55,
      "outputs": [
        {
          "output_type": "display_data",
          "data": {
            "image/png": "[encoded data removed]",
            "text/plain": [
              "<Figure size 432x288 with 1 Axes>"
            ]
          },
          "metadata": {
            "tags": [],
            "needs_background": "light"
          }
        },
        {
          "output_type": "stream",
          "text": [
            "muestra enero:  56\n",
            "media enero:  1.7326785714285715\n",
            "mediana enero:  1.13\n",
            "cuartil 3 enero:  2.18\n",
            "desv. std enero:  1.7904772818116608\n"
          ],
          "name": "stdout"
        }
      ]
    },
    {
      "cell_type": "markdown",
      "metadata": {
        "id": "VpCH2XQb4Kgt"
      },
      "source": [
        "Al revisar los resultados entre momento 1 y momento 2, se observa una reducción en los tiempos de entrega promedio y su desviación estandar, y con respecto a las histogramas en momento 1 se observan 2 o 3 distribuiciones superpuestas, mientras que en momento 2 la distribución de los datos comienza a tomar la forma de una distribución tipo gamma. \n",
        "\n",
        "En el siguiente apartado realizaremos un análisis estadístico aplicando prueba de T conforme a los pasos explicitados en este documento: [Tamaño del efecto y potencia estadística](https://github.com/robertomoragad/Estadistica/blob/master/Tama%C3%B1o_del_Efecto_y_Potencia_Estad%C3%ADstica_en_la_prueba_de_T_de_Student_para_dos_grupos.ipynb)\n",
        "\n"
      ]
    },
    {
      "cell_type": "markdown",
      "metadata": {
        "id": "mP21d9az0Gf6"
      },
      "source": [
        "##1) Primero vamos a comparar Momento 1 V/S Momento 2, para verificar si los resultados del primer ciclo de mejoras, son estadísticamente y clínicamente significativos."
      ]
    },
    {
      "cell_type": "markdown",
      "metadata": {
        "id": "r_P06gksfF4i"
      },
      "source": [
        "**Análisis post-hoc Prueba T muestras independientes (varianzas desiguales)**\n",
        "\n",
        "Se quiere estudiar el efecto de aplicar un nuevo método de trabajo (kanban) en los tiempos de entrega de los requerimientos de infraestructura de ambientes y datos, para ello se mide el tiempo transcurrido desde que se reciben los requerimientos hasta que estos han sido completados (en días), esto en dos grupos de trabajos seleccionados al azar.\n",
        "\n",
        "En vista de los resultados ¿Se puede considerar que el nuevo método reduce los tiempos de desarrolo y entrega, para un nivel de significancia del 5%?\n",
        "\n",
        "\n",
        "*  Grupo Experimental: Grupo de requerimientos trabajados con nuevo método (primer ciclo de mejora) (n= 76; Media= 5.802; y Sigma= 7.674)\n",
        "\n",
        "\n",
        "*  Grupo Control: Grupo de requerimientos trabajados en modo tradicional (n= 70; Media= 9.271; y Sigma= 13.424)\n",
        "\n",
        "\n",
        "\n",
        "\n",
        "```\n",
        "Nota 1: En este ejemplo aplicaremos la prueba t Student de muestras independientes \n",
        "con varianza distintas, aquí estimaremos los grados de libertad con una fórmula en el paso 3.\n",
        "```\n",
        "```\n",
        "Nota 2: Este ejemplo corresponde a un caso real desarrollado en la organización de \n",
        "Gestión de Ambientes (infraestructura TI) de una compañía Financiera - año 2020.\n",
        "```\n"
      ]
    },
    {
      "cell_type": "code",
      "metadata": {
        "colab": {
          "base_uri": "https://localhost:8080/"
        },
        "id": "-W--Pu-VfE_n",
        "outputId": "1c0659ea-08c2-4128-e742-a3aa0100d5fb"
      },
      "source": [
        "#Analisis post hoc utilizando t Student, con desigual varianza***\n",
        "\n",
        "## 1) cargar datos muestras: tamaño (n), media (xbarra) y sigma (S)\n",
        "#muestra 1 (control)\n",
        "n_1 = 70\n",
        "xbarra_1 = 9.271\n",
        "S_1 = 13.424\n",
        "\n",
        "#muestra 2 (experimental)\n",
        "n_2 = 76\n",
        "xbarra_2 = 5.802\n",
        "S_2 = 7.674\n",
        "\n",
        "\n",
        "## 2) Determinar Nivel de Significancia\n",
        "alpha = 0.05\n",
        "\n",
        "\n",
        "## 3) Estimar el IC de la diferencia de medias\n",
        "\n",
        "\n",
        "#Estimar grados de libertad cuando varianzas poblacionales no son iguales\n",
        "# gl = (S1**2 /n1 + S2**2 /n2)**2 / ( ( (S1**2/n1)**2 / (n1-1) ) + ( (S2**2/n2)**2 / (n2-1) ) )\n",
        "gl = (S_1**2 /n_1 + S_2**2 /n_2)**2  /  ( ( (S_1**2/n_1)**2 / (n_1-1) ) + ( (S_2**2/n_2)**2 / (n_2-1) ) )\n",
        "print('estimacion gl: ', gl)\n",
        "\n",
        "#calcular T critico 2 colas con Scipy\n",
        "Tcritico = stats.t.ppf(1 - (alpha/2), df=gl)\n",
        "print ('T critico: ',Tcritico)\n",
        "\n",
        "\n",
        "#Estimar mancomunado de la varianza poblacional (S pooled) =>  #NO APLICA para calcular IC ya que Varianzas son diferentes\n",
        "#Se aplica la varianza mancomunada para calcular 'd Cohen' en el ultimo paso, por esta razon se calcula aqui:\n",
        "var = ( S_1**2 *(n_1 - 1) + S_2**2 *(n_2 - 1)) / (n_1 + n_2 - 2)\n",
        "S = np.sqrt(var)\n",
        "print('Varianza mancomunada: ',var)\n",
        "print('Sigma poblacion :', S)\n",
        "\n",
        "\n",
        "#como las varianzas son diferentes, el calculo del 'Sigma diferencias  medias' es de la siguiente forma:\n",
        "S_dif = np.sqrt( (S_1**2 / n_1) + (S_2**2 / n_2) )\n",
        "print('S diferencia medias: ',S_dif)\n",
        "\n",
        "#IC diferencia medias al 1-alpha:\n",
        "LI = (xbarra_1 - xbarra_2) - Tcritico * S_dif\n",
        "LS = (xbarra_1 - xbarra_2) + Tcritico * S_dif\n",
        "print('IC diferencia medias al', 1-alpha, 'NC : ', LI, LS)\n",
        "\n",
        "#otra forma con Scipy\n",
        "IC = stats.t.interval(1-alpha, loc=xbarra_1 - xbarra_2, scale=S_dif, df=gl)\n",
        "print('IC diferencia medias al', 1-alpha, 'NC : ', IC)"
      ],
      "execution_count": 58,
      "outputs": [
        {
          "output_type": "stream",
          "text": [
            "estimacion gl:  107.80353481895833\n",
            "T critico:  1.9822144079593498\n",
            "Varianza mancomunada:  117.01966141666668\n",
            "Sigma poblacion : 10.817562637519908\n",
            "S diferencia medias:  1.8300851646233396\n",
            "IC diferencia medias al 0.95 NC :  -0.15862118110904122 7.096621181109043\n",
            "IC diferencia medias al 0.95 NC :  (-0.15862118110904122, 7.096621181109043)\n"
          ],
          "name": "stdout"
        }
      ]
    },
    {
      "cell_type": "code",
      "metadata": {
        "colab": {
          "base_uri": "https://localhost:8080/"
        },
        "id": "V2Nm6UnguIjo",
        "outputId": "9d7f1138-c802-4951-eadb-b08b40d58ea9"
      },
      "source": [
        "## 4) plantear hipotesis\n",
        " # H0:  Mu 1 = Mu 2\n",
        " # H1:  Mu 1 ≠ Mu 2\n",
        "\n",
        "#regla decision (2 colas)\n",
        " # no rechazar H0 si: -Tcritico <= T <= Tcritico\n",
        " # rechazar HO si: T < -Tcritico o T > Tcritico\n",
        "\n",
        "\n",
        "## 5) Calcular el estadístico T crítico a emplear\n",
        "Tcritico = Tcritico #fue obtenido en paso anterior\n",
        "\n",
        "\n",
        "## 6) Determinar el tipo de test, una o dos colas.\n",
        "#como la hipotesis alternativa es del tipo “diferente de” se trata de un test de dos colas\n",
        "#Nota: Se recomienda utilizar el contraste bilateral para estos análisis dado que éstos \n",
        "#requieren una mayor diferencia para detectar una misma potencia\n",
        "\n",
        "\n",
        "## 7 ) Calcular el estadístico T de prueba\n",
        "#como varianzas no son iguales, aqui el denominador es el sigma de diferencias calculado en paso #3\n",
        "T = ( xbarra_1 - xbarra_2 - 0) / S_dif\n",
        "print('T prueba: ', T)\n",
        "\n",
        "## 8) Calcular el p-value y comparación con el nivel de significancia establecido.\n",
        "#calcular p-value\n",
        "pvalue = 1 - (stats.t.cdf(T, df=(n_1 + n_2 -2))) #T prueba se encuentra en cola derecha\n",
        "print('p-value (significancia estadística): ', pvalue*2) #2 colas multiplicar por 2\n",
        "\n",
        "## 9) Concluir prueba de hipotesis:\n",
        "#como T prueba > Tcritico o como p-value menor a alpha, se rechaza H0, las medias son diferentes."
      ],
      "execution_count": 60,
      "outputs": [
        {
          "output_type": "stream",
          "text": [
            "T prueba:  1.895540200564369\n",
            "p-value (significancia estadística):  0.06002471425837541\n"
          ],
          "name": "stdout"
        }
      ]
    },
    {
      "cell_type": "code",
      "metadata": {
        "colab": {
          "base_uri": "https://localhost:8080/"
        },
        "id": "q8Xf4wS3uUvB",
        "outputId": "e393135b-c40e-4745-fc87-0733fdf7fe54"
      },
      "source": [
        "## 10) Calcular la potencia de la prueba (1 - beta)\n",
        "\n",
        "#buscar el valor en días correspondiente al T critico\n",
        "x = 0 + (Tcritico * S_dif)# por la derecha\n",
        "#print('X promedio para T=',Tcritico,': ',x)\n",
        "\n",
        "#otra forma mas simple con Scipy usando ppf\n",
        "x_b = stats.t.ppf((1-alpha/2), df=n_1 + n_2 - 2 , loc=0, scale=S_dif)\n",
        "#print('X promedio para T=',Tcritico,': ',x_b)\n",
        "\n",
        "\n",
        "#Calcular Beta (error tipo II)\n",
        "#forma simple con Scipy\n",
        "beta = stats.t.cdf(x, df=n_1 + n_2 -2, loc=xbarra_1-xbarra_2, scale=S_dif)\n",
        "print('Beta: ',beta)\n",
        "\n",
        "#otra forma simple para calcular Beta con Scipy\n",
        "beta1 = stats.t.cdf(Tcritico-T, df= n_1 + n_2 - 2)\n",
        "print('otra forma beta: ', beta1)\n",
        "\n",
        "#Calcular Potencia estadística (1- beta)\n",
        "print('Potencia de la prueba: ', 1-beta)\n",
        "\n",
        "\n",
        "## 11) Calcular el tamaño del efecto\n",
        "#aqui utilizaremos la desv. mancomunada (S pooled)\n",
        "#d de Cohen para T-TEST INDEPENDIENTES: (diferencia medias grupos / S medias 2 sigmas)\n",
        "\n",
        "dif_bruta = (xbarra_1 - xbarra_2)\n",
        "dCohen = (xbarra_1 - xbarra_2) / S\n",
        "print('d Cohen: ', dCohen)\n",
        "print('diferencia bruta: ', dif_bruta)"
      ],
      "execution_count": 61,
      "outputs": [
        {
          "output_type": "stream",
          "text": [
            "Beta:  0.53447455815925\n",
            "otra forma beta:  0.53447455815925\n",
            "Potencia de la prueba:  0.46552544184074995\n",
            "d Cohen:  0.32068221985311496\n",
            "diferencia bruta:  3.469000000000001\n"
          ],
          "name": "stdout"
        }
      ]
    },
    {
      "cell_type": "markdown",
      "metadata": {
        "id": "u4e8t10dHlVh"
      },
      "source": [
        "Conclusión:\n",
        "\n",
        "Las diferencias no son estadísticamente significativas (p-value: 0.06), el uso del método kanban en el desarrollo de requerimientos tiene un efecto bajo (d Cohen pequeño) en los tiempos de procesamiento y la potencia estadística es muy baja (0.46).\n",
        "\n",
        "Por tanto no se puede afirmar que el tratamiento aplicado en el primer ciclo de mejoras ha reducido de forma sustantiva los tiempos de desarrollo."
      ]
    },
    {
      "cell_type": "markdown",
      "metadata": {
        "id": "MX9i7triIrbM"
      },
      "source": [
        "Con base en los resultados anteriores, se siguió acompañando al equipo en el cambio de lógica de trabajo, y se formentó la aplicación y amplificación de Kanban a todo el servicio.  A continuación se presentarán los resultados."
      ]
    },
    {
      "cell_type": "markdown",
      "metadata": {
        "id": "bKw84dHfJKuE"
      },
      "source": [
        "##2) Comparación Momento 2 V/S Momento 3, para verificar si los resultados del segundo ciclo de mejoras, son estadísticamente y clínicamente significativos."
      ]
    },
    {
      "cell_type": "markdown",
      "metadata": {
        "id": "0p8muK7FJX79"
      },
      "source": [
        "**Análisis post-hoc Prueba T muestras independientes (varianzas desiguales)**\n",
        "\n",
        "Se quiere estudiar el efecto de aplicar un nuevo método de trabajo (kanban) en los tiempos de entrega de los requerimientos de infraestructura de ambientes y datos, para ello se mide el tiempo transcurrido desde que se reciben los requerimientos hasta que estos han sido completados (en días), esto en dos grupos de trabajos seleccionados al azar.\n",
        "\n",
        "En vista de los resultados ¿Se puede considerar que el nuevo método reduce los tiempos de desarrolo y entrega, para un nivel de significancia del 5%?\n",
        "\n",
        "\n",
        "*  Grupo Experimental: Grupo de requerimientos trabajados con nuevo método (segundo ciclo de mejora) (n= 56; Media= 1.73; y Sigma= 1.79)\n",
        "\n",
        "*  Grupo Control: Grupo de requerimientos trabajados con algunas prácticas kanban (n= 76; Media= 5.802; y Sigma= 7.674)\n",
        "\n",
        "\n",
        "\n",
        "\n",
        "```\n",
        "Nota 1: En este ejemplo aplicaremos la prueba t Student de muestras independientes \n",
        "con varianza distintas, aquí estimaremos los grados de libertad con una fórmula en el paso 3.\n",
        "```\n",
        "```\n",
        "Nota 2: Este ejemplo corresponde a un caso real desarrollado en la organización de \n",
        "Gestión de Ambientes (infraestructura TI) de una compañía Financiera - año 2020.\n",
        "```\n"
      ]
    },
    {
      "cell_type": "code",
      "metadata": {
        "colab": {
          "base_uri": "https://localhost:8080/"
        },
        "id": "RrdlbHTgJ6uM",
        "outputId": "549a84ad-745a-4248-b131-c223afd5c707"
      },
      "source": [
        "#Analisis post hoc utilizando t Student, con desigual varianza***\n",
        "\n",
        "## 1) cargar datos muestras: tamaño (n), media (xbarra) y sigma (S)\n",
        "#muestra 1 (control)\n",
        "n_1 = 76\n",
        "xbarra_1 = 5.802\n",
        "S_1 = 7.674\n",
        "\n",
        "#muestra 2 (experimental)\n",
        "n_2 = 56\n",
        "xbarra_2 = 1.73\n",
        "S_2 = 1.79\n",
        "\n",
        "\n",
        "## 2) Determinar Nivel de Significancia\n",
        "alpha = 0.05\n",
        "\n",
        "\n",
        "## 3) Estimar el IC de la diferencia de medias\n",
        "\n",
        "\n",
        "#Estimar grados de libertad cuando varianzas poblacionales no son iguales\n",
        "# gl = (S1**2 /n1 + S2**2 /n2)**2 / ( ( (S1**2/n1)**2 / (n1-1) ) + ( (S2**2/n2)**2 / (n2-1) ) )\n",
        "gl = (S_1**2 /n_1 + S_2**2 /n_2)**2  /  ( ( (S_1**2/n_1)**2 / (n_1-1) ) + ( (S_2**2/n_2)**2 / (n_2-1) ) )\n",
        "print('estimacion gl: ', gl)\n",
        "\n",
        "#calcular T critico 2 colas con Scipy\n",
        "Tcritico = stats.t.ppf(1 - (alpha/2), df=gl)\n",
        "print ('T critico: ',Tcritico)\n",
        "\n",
        "\n",
        "#Estimar mancomunado de la varianza poblacional (S pooled) =>  #NO APLICA para calcular IC ya que Varianzas son diferentes\n",
        "#Se aplica la varianza mancomunada para calcular 'd Cohen' en el ultimo paso, por esta razon se calcula aqui:\n",
        "var = ( S_1**2 *(n_1 - 1) + S_2**2 *(n_2 - 1)) / (n_1 + n_2 - 2)\n",
        "S = np.sqrt(var)\n",
        "print('Varianza mancomunada: ',var)\n",
        "print('Sigma poblacion :', S)\n",
        "\n",
        "\n",
        "#como las varianzas son diferentes, el calculo del 'Sigma diferencias  medias' es de la siguiente forma:\n",
        "S_dif = np.sqrt( (S_1**2 / n_1) + (S_2**2 / n_2) )\n",
        "print('S diferencia medias: ',S_dif)\n",
        "\n",
        "#IC diferencia medias al 1-alpha:\n",
        "LI = (xbarra_1 - xbarra_2) - Tcritico * S_dif\n",
        "LS = (xbarra_1 - xbarra_2) + Tcritico * S_dif\n",
        "print('IC diferencia medias al', 1-alpha, 'NC : ', LI, LS)\n",
        "\n",
        "#otra forma con Scipy\n",
        "IC = stats.t.interval(1-alpha, loc=xbarra_1 - xbarra_2, scale=S_dif, df=gl)\n",
        "print('IC diferencia medias al', 1-alpha, 'NC : ', IC)"
      ],
      "execution_count": 63,
      "outputs": [
        {
          "output_type": "stream",
          "text": [
            "estimacion gl:  85.84656602108966\n",
            "T critico:  1.9879848952506725\n",
            "Varianza mancomunada:  35.33074000000001\n",
            "Sigma poblacion : 5.943966689004911\n",
            "S diferencia medias:  0.9121886449962806\n",
            "IC diferencia medias al 0.95 NC :  2.2585827521282154 5.885417247871783\n",
            "IC diferencia medias al 0.95 NC :  (2.2585827521282154, 5.885417247871783)\n"
          ],
          "name": "stdout"
        }
      ]
    },
    {
      "cell_type": "code",
      "metadata": {
        "colab": {
          "base_uri": "https://localhost:8080/"
        },
        "id": "OyWpujAUKKg6",
        "outputId": "2ad57880-12d5-4528-91ab-4cefdbb618ed"
      },
      "source": [
        "## 4) plantear hipotesis\n",
        " # H0:  Mu 1 = Mu 2\n",
        " # H1:  Mu 1 ≠ Mu 2\n",
        "\n",
        "#regla decision (2 colas)\n",
        " # no rechazar H0 si: -Tcritico <= T <= Tcritico\n",
        " # rechazar HO si: T < -Tcritico o T > Tcritico\n",
        "\n",
        "\n",
        "## 5) Calcular el estadístico T crítico a emplear\n",
        "Tcritico = Tcritico #fue obtenido en paso anterior\n",
        "\n",
        "\n",
        "## 6) Determinar el tipo de test, una o dos colas.\n",
        "#como la hipotesis alternativa es del tipo “diferente de” se trata de un test de dos colas\n",
        "#Nota: Se recomienda utilizar el contraste bilateral para estos análisis dado que éstos \n",
        "#requieren una mayor diferencia para detectar una misma potencia\n",
        "\n",
        "\n",
        "## 7 ) Calcular el estadístico T de prueba\n",
        "#como varianzas no son iguales, aqui el denominador es el sigma de diferencias calculado en paso #3\n",
        "T = ( xbarra_1 - xbarra_2 - 0) / S_dif\n",
        "print('T prueba: ', T)\n",
        "\n",
        "## 8) Calcular el p-value y comparación con el nivel de significancia establecido.\n",
        "#calcular p-value\n",
        "pvalue = 1 - (stats.t.cdf(T, df=(n_1 + n_2 -2))) #T prueba se encuentra en cola derecha\n",
        "print('p-value (significancia estadística): ', pvalue*2) #2 colas multiplicar por 2\n",
        "\n",
        "## 9) Concluir prueba de hipotesis:\n",
        "#como T prueba > Tcritico o como p-value menor a alpha, se rechaza H0, las medias son diferentes."
      ],
      "execution_count": 64,
      "outputs": [
        {
          "output_type": "stream",
          "text": [
            "T prueba:  4.463988915381207\n",
            "p-value (significancia estadística):  1.7262930006811672e-05\n"
          ],
          "name": "stdout"
        }
      ]
    },
    {
      "cell_type": "code",
      "metadata": {
        "colab": {
          "base_uri": "https://localhost:8080/"
        },
        "id": "D8vIA4t7KQTE",
        "outputId": "decd4aae-3af8-4f32-f058-dd04d1a15f2f"
      },
      "source": [
        "## 10) Calcular la potencia de la prueba (1 - beta)\n",
        "\n",
        "#buscar el valor en días correspondiente al T critico\n",
        "x = 0 + (Tcritico * S_dif)# por la derecha\n",
        "#print('X promedio para T=',Tcritico,': ',x)\n",
        "\n",
        "#otra forma mas simple con Scipy usando ppf\n",
        "x_b = stats.t.ppf((1-alpha/2), df=n_1 + n_2 - 2 , loc=0, scale=S_dif)\n",
        "#print('X promedio para T=',Tcritico,': ',x_b)\n",
        "\n",
        "\n",
        "#Calcular Beta (error tipo II)\n",
        "#forma simple con Scipy\n",
        "beta = stats.t.cdf(x, df=n_1 + n_2 -2, loc=xbarra_1-xbarra_2, scale=S_dif)\n",
        "print('Beta: ',beta)\n",
        "\n",
        "#otra forma simple para calcular Beta con Scipy\n",
        "beta1 = stats.t.cdf(Tcritico-T, df= n_1 + n_2 - 2)\n",
        "print('otra forma beta: ', beta1)\n",
        "\n",
        "#Calcular Potencia estadística (1- beta)\n",
        "print('Potencia de la prueba: ', 1-beta)\n",
        "\n",
        "\n",
        "## 11) Calcular el tamaño del efecto\n",
        "#aqui utilizaremos la desv. mancomunada (S pooled)\n",
        "#d de Cohen para T-TEST INDEPENDIENTES: (diferencia medias grupos / S medias 2 sigmas)\n",
        "\n",
        "dif_bruta = (xbarra_1 - xbarra_2)\n",
        "dCohen = (xbarra_1 - xbarra_2) / S\n",
        "print('d Cohen: ', dCohen)\n",
        "print('diferencia bruta: ', dif_bruta)"
      ],
      "execution_count": 65,
      "outputs": [
        {
          "output_type": "stream",
          "text": [
            "Beta:  0.007285864314577631\n",
            "otra forma beta:  0.007285864314577631\n",
            "Potencia de la prueba:  0.9927141356854223\n",
            "d Cohen:  0.6850644044712335\n",
            "diferencia bruta:  4.071999999999999\n"
          ],
          "name": "stdout"
        }
      ]
    },
    {
      "cell_type": "markdown",
      "metadata": {
        "id": "IXY-Blg3KgvA"
      },
      "source": [
        "Conclusión:\n",
        "\n",
        "Las diferencias son estadísticamente significativas (p-value: 0.00), el uso del método kanban en el desarrollo de requerimientos tiene un efecto relevante (d Cohen media grande) en los tiempos de procesamiento y la potencia estadística es alta (0.99).\n",
        "\n",
        "Por tanto se puede afirmar que el tratamiento reduce de forma sustantiva los tiempos de desarrollo. Se recomienda sostener el enfoque de mejora evolutivo dentro del servicio."
      ]
    },
    {
      "cell_type": "markdown",
      "metadata": {
        "id": "fpm9F0_qK8bI"
      },
      "source": [
        "\n",
        "\n",
        "---\n",
        "Espero puedan servir de ejemplo para medir los efectos de la \n",
        "aplicación de nuevas formas de trabajo dentro de los equipos o desarrollo de productos.  En este caso también se observa que la mejora real de resultados, no siempre pueden obtenerse en corto plazo, o como en este caso que si pareceriera pero fue sólo una ilusión. Por esta razón debemos seguir trabajando en equipo con perseverancia y sacrificio para crear resultados reales y sostenibles en el tiempo.  \n",
        "\n",
        "Para cosechar primero se debe sembrar, como en este caso, donde el equipo pudo pasar de entregar en promedio en 9 días a menos 2 días en un lapso de 6 meses, esto es una reducción cercana al 80%, donde además obtuvieron un incremento de la velocidad (throughtput) del 40%.\n",
        "\n",
        "\n",
        "<img src='https://drive.google.com/uc?export=view&id=1YXEaRR2ogFvmVklJfjI12ncYszeq2xlO' width=\"1000\" align=\"left\" style=\"margin-right: 20px\"> \n",
        "<br>\n",
        "\n"
      ]
    },
    {
      "cell_type": "markdown",
      "metadata": {
        "id": "AbnvAWuITtQC"
      },
      "source": [
        "----\n",
        "¿Tienes alguna pregunta o sugerencia? Déjame comentarios en https://www.linkedin.com/in/robertomoragad/ y haré todo lo posible para responder."
      ]
    }
  ]
}