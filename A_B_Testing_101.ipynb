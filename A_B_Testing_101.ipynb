{
  "nbformat": 4,
  "nbformat_minor": 0,
  "metadata": {
    "colab": {
      "provenance": [],
      "collapsed_sections": [],
      "toc_visible": true,
      "include_colab_link": true
    },
    "kernelspec": {
      "name": "python3",
      "display_name": "Python 3"
    },
    "language_info": {
      "name": "python"
    }
  },
  "cells": [
    {
      "cell_type": "markdown",
      "metadata": {
        "id": "view-in-github",
        "colab_type": "text"
      },
      "source": [
        "<a href=\"https://colab.research.google.com/github/robertomoragad/Estadistica/blob/master/A_B_Testing_101.ipynb\" target=\"_parent\"><img src=\"https://colab.research.google.com/assets/colab-badge.svg\" alt=\"Open In Colab\"/></a>"
      ]
    },
    {
      "cell_type": "markdown",
      "source": [
        "# Introducción al método A/B Testing\n",
        "\n",
        "<img src='https://drive.google.com/uc?export=view&id=1x6fG7xzKQo3zT4NVQJ9nJj9lfF-I-IeB' width=\"600\" align=\"center\" style=\"margin-right: 20px\"> \n",
        "<br>\n"
      ],
      "metadata": {
        "id": "s_RKttmfwB8m"
      }
    },
    {
      "cell_type": "markdown",
      "source": [
        "## Introducción\n",
        "\n",
        "En este notebook se explicará un método de investigación llamado **A/B Testing** o también llamado'Pruebas A/B' en Español, el que permite a las organizaciones y sus equipos de trabajo desarrollar experimentos orientados a optimizar el estado actual de un producto/servicio, proceso o experiencia/interacción.\n",
        "\n",
        "Actualmente en los Negocios se vive la era del \"Data-Driven Decision Making\", lo que significa que las organizaciones toman decisiones estratégicas, tácticas y operativas con base en el análisis de datos y su interpretación.  Este enfoque a las organizaciones les permite:\n",
        "\n",
        "* Capturar insights (revelaciones claves) de clientes\n",
        "* Generar mayor crecimiento\n",
        "* Mejorar resultados (outcomes)\n",
        "* Optimizar operaciones\n",
        "* Obtener aprendizajes accionables\n",
        "\n",
        "Lo anterior se traduce en la capacidad de crear y capturar nuevo valor, habilitando un loop de crecimiento virtuoso y escalable.\n",
        "\n",
        "\n",
        "Las organizaciones que practican el enfoque *Data-Driven* no quieren depender de los instintos en la toma de sus decisiones, para dar respuesta a esta necesidad un método que resulta clave es el **A/B Testing**, método que es ampliamente utilizado en entornos de negocios Digitales.\n",
        "\n",
        "\n",
        "Es evidente que en los ecosistemas de negocios Digitales día a día surgen fuerzas en contra que restan velocidad a las organizaciones para crear y capturar nuevo valor, por ejemplo:\n",
        "\n",
        "* cada vez nacen más competidores en el mercado (2500 apps o sitios nacen día a día)\n",
        "* la tasa de abandono es elevada (el 95% de los usuarios a los 90 días abandona \"Android Apps\" )\n",
        "* la atención de un usuario en un Anuncio no es más de 5 segundos (estudio de Google). \n",
        "\n",
        "Ante estas fuerzas negativas las organizaciones necesitan mejorar su oferta de valor y hacerla adecuada para sus usuarios. Por lo tanto, resulta clave realizar pruebas de manera constante, para comprender de forma objetiva que funciona y que es necesario cambiar.\n",
        "\n",
        "**Andrew Ng**, ex Líder de Data Science en Google, y co-fundador de la puntera digital en edutech llamada 'Coursera', indica que una empresa digital se define por 3 atributos, donde el 'A/B testing' es uno de ellos.  \n",
        "\n",
        "\n",
        "<img src='https://drive.google.com/uc?export=view&id=1f9sA3L-C9UiAcWYwABLx85iWn6L4yP13' width=\"600\" align=\"center\" style=\"margin-right: 20px\"> \n",
        "<br>\n",
        "\n",
        "<p style=\"font-size:8pt\"> \n",
        "Imagen gentileza de: Roberto Moraga (workshop A/B testing) </p>\n",
        "\n",
        "Las punteras digitales como Google, Facebook, Amazon, Airbnb, han invertido fuertemente en la aplicación de este método para optimizar sus resultados, de hecho en un [reporte de Google,](https://www.google.com/search/howsearchworks/mission/users/) indican que el equipo de 'google search' durante el año 2020 corrieron cerca de 17.000 experimentos, lo que significaría más menos que en promedio cada día corrieron 48 A/B test.\n",
        "\n",
        "\n",
        "En Facebook crearon el primer equipo de Growth aproximadamente el año 2008, con la intención de formular hipótesis de crecimiento y realizar la mayor cantidad de experimentos para así acelerar el aprendizaje de negocio sobre lo que a los usuarios les gustaba y lo que no, aplicando ágilmente los cambios que mejor funcionaban. \n",
        "\n",
        "\n",
        "\n",
        "<img src='https://drive.google.com/uc?export=view&id=1ynqUluth9FXTDD0aT5f83xRaJHy5jAfi' width=\"500\" align=\"right\" style=\"margin-right: 20px\"> \n",
        "<br>\n",
        "\n",
        "A Jeff Bezos fundador de Amazon le gusta decir: “our success at Amazon is a function of how many experimentes we do per year, per month, per week, per day” - \n",
        "Ahora en español: \"Nuestro éxito es una función de cuántos experimentos hacemos por año, por mes, por semana, por día\". \n",
        "\n"
      ],
      "metadata": {
        "id": "iRppJu9mwaro"
      }
    },
    {
      "cell_type": "markdown",
      "source": [
        "---\n",
        "\n",
        "\n",
        "*Nota: si quieres conocer la sesión donde Andrew Ng, explica sobre la importancia de A/B testing, puedes acceder a este [link](https://www.youtube.com/watch?v=NKpuX_yzdYs) en youtube.*\n",
        "\n",
        "<img src='https://drive.google.com/uc?export=view&id=1YfcPKQSq-vhVK9-ZOwkXLVDTPrBJr2qI' width=\"350\" align=\"center\" style=\"margin-right: 20px\"> \n",
        "<br>\n"
      ],
      "metadata": {
        "id": "f025uNwSUwyz"
      }
    },
    {
      "cell_type": "markdown",
      "source": [
        "## ¿Qué es A/B testing?\n",
        "\n",
        "En simple, el A/B testing son una forma de comparar 2 versiones de algo (producto, servicio, proceso, interacción, etc.) para descubrir cuál funciona mejor.\n",
        "\n",
        "<img src='https://drive.google.com/uc?export=view&id=1Mzc_NAXTk3uTuohRn812nIIqEWGsUEZ4' width=\"500\" align=\"center\" style=\"margin-right: 20px\"> \n",
        "<br>\n",
        "\n",
        "\n",
        "Por ejemplo si pensamos en un sitio web, se podría ir testeando cambios en sus colores, logos, layout, textos, entre otros, para identificar si se crea o no efecto en un objetivo de negocio.\n",
        "\n",
        "El A/B testing puede considerarse el tipo más básico de experimento aleatorio controlado,  en su forma más simple, hay dos versiones o tratamientos, donde uno actúa como control del otro.\n",
        "\n",
        "Generalmente se asocia el A/B Testing a productos digitales, pero...\n",
        " el método tiene más de 100 años. Su origen está en la agricultura en 1920 aproximadamente de la mano de Ronald Fisher, luego en los 50's del siglo pasado se desarrolló en Medicina, en los 70's llega al Marketing, en los 90's en productos, y en 2010 toma protagonismo en el mundo de los Productos Digitales.\n",
        "\n",
        "El método como se conoce hoy, es el mismo de sus inicio, las matemáticas son las mismas de siempre, pero la diferencia es que hoy en el mundo digital las pruebas se ejecutan online, en tiempo real y a mayor escala, permitiendo obtener resultados y aprendizajes accionables en corto tiempo.\n",
        "\n",
        "----\n",
        "*Nota: La mayoría de estas pruebas en una compañía digital se realizan sin que los usuarios lo sepan, todos los días sus usuarios son parte de estos grupos de experimentación.*"
      ],
      "metadata": {
        "id": "l1hWkpE6wgVE"
      }
    },
    {
      "cell_type": "markdown",
      "source": [
        "## ¿Cómo funciona?\n",
        "\n",
        "Existen muchas formas de aplicar A/B Testing, en esta sección se explica una forma tipo, que nace de un punto 0, y luego es aplicado por medio de un loop de 5 pasos, tal como se puede observar en la siguiente gráfica:\n",
        "\n",
        "<img src='https://drive.google.com/uc?export=view&id=1qJKseS1T_itnXQGRafrtn6q056f7MUYb' width=\"800\" align=\"center\" style=\"margin-right: 20px\"> \n",
        "<br>\n",
        "\n",
        "<p style=\"font-size:8pt\"> \n",
        "Imagen gentileza de: Roberto Moraga (workshop A/B testing) </p>\n",
        "\n"
      ],
      "metadata": {
        "id": "6gi3J-tubPQP"
      }
    },
    {
      "cell_type": "markdown",
      "source": [
        "\n",
        "###  0.- Selecciona el desafío\n",
        "El método es aplicado por un equipo de trabajo con capacidades creativas, dominio de negocio, habilidades analíticas y de programación. Se ejecuta por medio de  un proceso circular que tiene su origen en la identificación del problema a mejorar.  Este problema puede estar circunscrito en el mundo de los Negocios, pero perfectamente puede provenir de una problemática de otra índole, por ejemplo Social o Medio ambiental.\n",
        "\n",
        "Los Desafío de negocio a mejorar pueden ser por ejemplo:\n",
        "* Aumentar la Satisfacción de clientes\n",
        "* Incrementar las Conversiones\n",
        "* Aumentar el Revenue o ARPU\n",
        "* Mejorar la Retención de clientes\n",
        "* Reducir costos operacionales\n",
        "* otros\n",
        "\n",
        "Cada desafío debe tener un Indicador objetivo de éxito con el cual se evaluará el desempeño del tratamiento (versión) a aplicar.\n",
        "\n",
        "---\n",
        "*Nota: ARPU es el promedio de ingresos por usuario o por unidad, abreviado en inglés ARPU es un indicador clave utilizado principalmente por compañías de telecomunicaciones, servicios y medios digitales.​*"
      ],
      "metadata": {
        "id": "9y_TNixwbdDf"
      }
    },
    {
      "cell_type": "markdown",
      "source": [
        "\n",
        "### 1.- Define una hipótesis\n",
        "Una vez seleccionado el desafío, el equipo aplica un proceso de ideación, compartiendo Ideas de cambios (ajustes sencillos de sólo un factor) que podrían generar un impacto positivo en el desafío de negocio a trabajar. Estas ideas se almacenan en un Backlog, y deben ser priorizadas de acuerdo a un modelo definido por el equipo. Por ejemplo:\n",
        "\n",
        "* Priorización de Impacto V/S esfuerzo. Esta técnica permite poner foco en las ideas que generarían un alto efecto en el desafio de negocio y que requieren bajo esfuerzo a la hora de ser testeadas.\n",
        "* ICE Score. Esta técnica evalúa de 1 a 10 cada idea en 3 dimensiones, I: Impact (impacto en el resultado), C: Confidence (confianza en que funcione), E: Ease (facilidad de implementar). Luego se genera una media, y este es el Score con el que se ordenan las ideas.\n",
        "\n",
        "Luego de priorizar las ideas el equipo debe escoger una, la que será trabajada como una Hipótesis de investigación. Por ejemplo, si lo que se quiere es aumentar la Conversiones (su Indicador es 'Tasa de conversión'), una hipótesis podría ser documentada de esta forma:\n",
        "* creemos que si cambiamos el actual color del logo de nuestra marca en el landing page, aumentaremos las conversiones de los nuevos clientes, lo cual será medido por medio del indicador \"Tasa de conversión\".\n",
        "* la conversión de clientes puede ser mejorada por medio del cambio del tamaño del botón \"Registrar\" de la landing page.\n",
        "\n",
        "Esto puede ser escrito de una forma estadística siguiendo el formato de un Test de Hipótesis. Por ejemplo si la actual Tasa de conversión es de 10%, de esta forma se escribe:\n",
        "* H0: p = 0.10\n",
        "* H1: p > 0.10\n",
        "\n",
        "Se lee así: \n",
        "* Hipótesis nula=> la proporción de clientes que convierten es igual a 10%\n",
        "* Hipótesis alternativa=> la proporción de clientes que convierten es mayor a 10%.\n",
        "\n",
        "\n",
        "---\n",
        "\n",
        "\n",
        "\n",
        "*Nota: Normalmente de antemano se puede saber que ciertas variables (aquellas que no se manipulan fácilmente), tienen un fuerte efecto en la métrica de éxito.  Ejemplo: los usuarios de Tablets de un sitio web tienden a hacer menos clic en cualquier cosa, en comparación con los usuarios Desktop.  La aleatorización puede dar como resultado que el conjunto A contenga un poco más de usuarios Tablets que el conjunto B, lo que puede causar que el conjunto A obtenga una tasa de clics más baja,  esto independiente del tamaño del botón que los usuarios estén viendo.* \n",
        "\n",
        "*Para nivelar el experimento, el equipo de trabajo al inicio debe dividir a los usuarios por dispositivos Tablets y Desktop, y luego seleccionarlos aleatoriamente a cada versión del Producto.  Esta técnica se llama blocking, véase [aquí](https://en.wikipedia.org/wiki/Blocking_(statistics)) información detallada.*"
      ],
      "metadata": {
        "id": "c5geVGKwbgum"
      }
    },
    {
      "cell_type": "markdown",
      "source": [
        "### 2.- Determinar el tamaño de la muestra\n",
        "En todos los experimentos controlados aleatorios , se debe estimar el tamaño de la muestra, para lograr una significancia estadística y potencia de prueba. Esto asegura que el resultado que se esté viendo no se deba solo al ruido o casualidad.\n",
        "\n",
        "En este paso lo que se hace es un Análisis a Priori, donde se diseña el experimento propiamente tal. Consiste en identificar las versiones o tratamientos a aplicar (generalmente 2, pero pueden ser más) junto con la determinación de las muestras donde se aplicarán los tratamientos y el tamaño de las mismas.\n",
        "\n",
        "Las muestras deben ser aleatorias, y su tamaño se obtiene en función de:\n",
        "* El tamaño del efecto mínimo que se quiera observar, para concluir que existe un efecto relevante para el negocio.\n",
        "* La variabilidad de los datos del Indicador de éxito a mejorar (varianza)\n",
        "* El Nivel de significancia (alpha o error tipo I), llamados Falsos positivos, normalmente se pre-setea en un 0.05 o menos.\n",
        "* El Poder de la prueba (potencia estadística), o también llamado el complemento de Beta (Beta es el error tipo II o son los Falsos Negativos), normalmente se trabaja con una Poder de al menos 0.80.  Lo que quiere decir, que si se obtiene un efecto, al menos tiene una seguridad del 80% de ser cierta.\n",
        "\n",
        "\n",
        "---\n",
        "\n",
        "*Nota: Si se necesita tener mayor información sobre tamaño del efecto, D de Cohen (diferencia estandarizada),  error tipo I (alpha), error tipo II (beta) y poder de la prueba, en este [notebook](https://github.com/robertomoragad/Estadistica/blob/master/Tama%C3%B1o_del_Efecto_y_Potencia_Estad%C3%ADstica_en_la_prueba_de_T_de_Student_para_dos_grupos.ipynb) en github se puede acceder a ejemplos detallados.*"
      ],
      "metadata": {
        "id": "b38uWYCKblMv"
      }
    },
    {
      "cell_type": "markdown",
      "source": [
        "### 3.- Ejecuta el experimento\n",
        "En este paso se corre el experimento, ya sea:\n",
        "\n",
        "* aplicando un tratamiento o nueva versión del producto, en una muestra, para contrastarla con la línea base o rendimiento actual (esto se llama Expermiento básico, en estadística Test de hipótesis de 1 muestra). \n",
        "\n",
        "* aplicando un tratamiento o nueva versión del producto, en una muestra llamada grupo de experimentación, para contrastarla con otra muestra llamada grupo de control en la cual se aplica la versión del producto si  camabios (esto se llama Expermiento controlado, en estadística Test de hipótesis de diferencia de 2 muestras independientes).  Este es el clásico A/B testing.\n",
        "\n",
        "\n",
        "* O también si se quiere en paralelo aplicar 2 tratamientos o versiones, para comparar sus rendimientos (Test de hipótesis de diferencia de 2 muestras independientes).\n",
        "\n",
        "La ejecución debe ser realizada en un periodo de tiempo que se considere normal, es decir, donde idealmente no existan cambios abruptos (por ejemplo fin de mes, fiestas patrias o navidad). Y se debe tener paciencia, hasta recolectar el mínimo de datos determinado para obtener resultados confiables.\n",
        "\n",
        "---\n",
        "\n",
        "*Nota: Si se necesita tener mayor información sobre las pruebas de TStudent, en este [notebook](https://github.com/robertomoragad/Estadistica/blob/master/Tama%C3%B1o_del_Efecto_y_Potencia_Estad%C3%ADstica_en_la_prueba_de_T_de_Student_para_dos_grupos.ipynb) en github se puede acceder a ejemplos detallados.*"
      ],
      "metadata": {
        "id": "bO7CAYOgbtTG"
      }
    },
    {
      "cell_type": "markdown",
      "source": [
        "### 4.- Mide el resultado\n",
        "Lo que se ejecuta aquí es un análisis post-hoc, con el objeto de Rechazar o no rechazar la Hipótesis Nula (H0), que es la suposición por defecto del experimento sobre el parámetro de la Población. En la eventualidad de que se rechace la H0, debido a que el valor-p es menor al Nivel de significancia (alpha) definido en el paso #2, se puede afirmar que el tratamiento o nueva versión, tiene una diferencia estadísticamente significativa con respecto al valor por defecto del indicador poblacional en H0. \n",
        "\n",
        "Pero, esto no significa nada desde el punto de vista práctico, para evaluar su relevancia práctica, se debe determinar el tamaño del efecto obtenido (diferencia absoluta entre el indicador en H0 y el obtenido como estadístico en la muestra de tratamiento) y si este es mayor o igual al establecido en el paso 2, se puede concluir que existe un efecto relevante desde el punto de vista del negocio, esto siempre y cuando el tamaño de las muestras con las cuales se desarrolló el experimento, tengan al menos la cantidad indicada en el análisis a priori desarrollado en paso #2. Incluso aquí se puede calcular nuevamente el Poder, con los datos reales, y si el poder es mayor o igual a 0.80,  esa será la seguridad de que el efecto obtenido es real.\n"
      ],
      "metadata": {
        "id": "zg0AJ1OObvfz"
      }
    },
    {
      "cell_type": "markdown",
      "source": [
        "\n",
        "### 5.- Toma acciones\n",
        "En este paso se pueden tomar 2 acciones:\n",
        "* 1) Si el efecto obtenido en el experimento es relevante desde el punto de vista del negocio, se procede a escalar la versión a todo el sistema o universo de clientes. Si se sigue la lógica Lean Start-up esto es llamado Perseverar.\n",
        "\n",
        "* 2) En caso contrario, es decir, no se puede rechazar la H0, y  por tanto la versión no mejora lo existente,  se debe socializar este aprendizaje en la organización.  Muchas veces esto tiene más valor, que haber encontrado un efecto real. En lógica Lean Start-up esto se asocia con pivotar.\n",
        "\n",
        "Finalmente se vuelve al paso 1, a buscar una nueva idea y su hipótesis a trabajar.\n",
        "\n",
        "----\n",
        "En el siguiente video en youtube se puede apreciar un resumen de una explicación de los 5 pasos: :\n",
        "https://youtu.be/itaLBdqs5Z4\n",
        "\n"
      ],
      "metadata": {
        "id": "eoapQQ1xxGAc"
      }
    },
    {
      "cell_type": "markdown",
      "source": [
        "## Algunos ejemplos \n",
        "\n",
        "Imaginando que se forma parte de un equipo Digital en una organización de servicios financieros B2C (business to customer), y se tiene a cargo el desarrollo y evolución del sitio web de esta organización. \n",
        "\n",
        "En los últimos meses se ha visto una disminución de tráfico (cantidad de visitas) en el sitio web, y además el indicador Tasa de rebote (bounce rate) ha superado el umbral del 50%, exhibiendo un valor de 53%.\n",
        "\n",
        "Véase gráfico adjunto para más detalle:\n",
        "\n",
        "<img src='https://drive.google.com/uc?export=view&id=1dvR1VBz01rH5ZyaocrEghb7uRyOo8jhv' width=\"600\" align=\"center\" style=\"margin-right: 20px\"> \n",
        "<br>\n",
        "\n",
        "-----\n",
        "*Nota: Los siguientes ejemplos serán desarrollados en python utilizando las librerias Numpy, Scipy, Stats Model y Matplotlib.*\n"
      ],
      "metadata": {
        "id": "GqlYFLAhapOl"
      }
    },
    {
      "cell_type": "code",
      "source": [
        "#Importamos librerias\n",
        "import numpy as np #\n",
        "from scipy import stats \n",
        "import matplotlib.pyplot as plt "
      ],
      "metadata": {
        "id": "jLnvTjVdoSoT"
      },
      "execution_count": null,
      "outputs": []
    },
    {
      "cell_type": "markdown",
      "source": [
        "\n",
        "### 0.- Selecciona un desafío de negocio\n",
        "En esta caso el desafío el engagement en el sitio web de la compañía.\n",
        "\n",
        "* **Métrica de éxito:**  Tasa de rebote (%) o Tiempo promedio visita (minutos).\n"
      ],
      "metadata": {
        "id": "cQZYVpjwa31U"
      }
    },
    {
      "cell_type": "markdown",
      "source": [
        "### 1.- Define una hipótesis\n",
        "Ideas para mejorar el engagement:\n",
        "1.  cambiar color del fondo (actual naranjo, cambiar por un celeste)\n",
        "2.  cambiar la imagen de bienvenida (actual un paisaje, cambiar por una persona sonriendo)\n",
        "3.  cambiar tipografía del sitio (actual Times, cambiar por Corbel)\n",
        "4.  cambiar el texto del CTA (call to action)\n",
        "5.  etc.\n",
        "\n",
        "A modo de ejemplo se prioriza la Idea #2.\n",
        "* Definir lo que se va a probar: la imagen de bienvenida al sitio.\n",
        "* Hipótesis: una imagen de una persona sonriendo en la bienvenida, aumentará el tiempo de uso, ya que aumenta la confianza en los visitantes.\n",
        "\n",
        "Test de hipótesis estadístico:\n",
        "* H0: p = 0.53\n",
        "* H1: p < 0.53"
      ],
      "metadata": {
        "id": "j4beCmVHa8Ye"
      }
    },
    {
      "cell_type": "markdown",
      "source": [
        "### 2.- Determina el tamaño de la muestra\n",
        "Imaginar que para el negocio es crítico bajar en términos absolutos 500 puntos base (5%).\n",
        "\n",
        "Recordar que este análisis se llama __análisis A priori__, ya que primero se diseña el experimento y luego se ejecuta, y esto se realiza con base en el _alpha_, _beta_, _Sigma población_ y _tamaño del efecto_ mínimo a detectar, y desde allí se obtiene el tamaño de la muestra mínima a la cuál se aplicará el experimento o tratamiento. \n",
        "\n",
        "Datos:\n",
        "* Efecto mínimo a determinar: 0.05\n",
        "* Nivel de significancia: 0.05 (pre-seteado por defecto)\n",
        "* Beta: 0.20\n",
        "* Poder: 0.80. (recordar que poder = 1 - Beta)\n",
        "* Variabilidad: se aplicará la variabilidad de la población (Raíz cuadrada de p*1-p).\n",
        "* Tipo de prueba: 2 colas (two-sided). Esta prueba es más conservadora entregando un mayor tamaño muestral. También se puede utilizar la prueba de 1 cola (smaller = menor que) dado que lo que se busca es disminuir el Rebote.\n",
        "\n",
        "A continuación se desarrollará un código python utilizando la librería **Stats Models** (aplicaremos la prueba de 1 muestra de Student, la cual funciona bien con muestras menores a 30, y entrega resultados muy similares a la prueba $Z$ cuando la muestra es superior a 30).\n",
        "\n",
        "\n",
        "\n",
        "Se utilizará la función __tt_solve_power__, en la cual se dejará el parámetro ``nobs = None`` (tamaño de la muestra) ya que esta es la variable de la ecuación que se necesita determinar.\n",
        "\n",
        "\n",
        "\n",
        "---\n",
        "\n",
        "\n",
        "*Nota: Se recomienda utilizar un prueba bilateral (2 colas) para estos análisis de cálculo de tamaño muestral, dado que éstos requieren una mayor diferencia para detectar una misma potencia.*\n",
        "\n",
        "\n",
        "\n",
        "\n"
      ],
      "metadata": {
        "id": "GTt2qwpexJj2"
      }
    },
    {
      "cell_type": "code",
      "source": [
        "# cargar Liberia Stats Model\n",
        "from statsmodels.stats.power import tt_solve_power\n",
        "\n",
        "# definir datos de la prueba\n",
        "p = 0.53 # Bounce rate / Tasa de rebote\n",
        "efecto = 0.05\n",
        "sigma = np.sqrt(p * (1- p))\n",
        "alpha = 0.05\n",
        "beta = 0.20\n",
        "poder = 1 - beta\n",
        "\n",
        "# calcular el tamaño muestral\n",
        "tt_solve_power(effect_size=efecto/sigma, nobs=None, alpha=alpha, power=poder, alternative='two-sided')"
      ],
      "metadata": {
        "colab": {
          "base_uri": "https://localhost:8080/"
        },
        "id": "Tscq0nOEojFf",
        "outputId": "f83593d2-0542-4d99-cd0b-9c476c0a9cff"
      },
      "execution_count": null,
      "outputs": [
        {
          "output_type": "execute_result",
          "data": {
            "text/plain": [
              "783.9833701004443"
            ]
          },
          "metadata": {},
          "execution_count": 2
        }
      ]
    },
    {
      "cell_type": "markdown",
      "source": [
        "En este caso se necesitan al menos 784 visitas al sitio web con la nueva versión.\n",
        "\n",
        "\n",
        "\n",
        "\n",
        "---\n",
        "\n",
        "\n",
        "<img src='https://drive.google.com/uc?export=view&id=1lEfYurgN91KJCc2LUH-aw01ETCC95tUt' width=\"500\" align=\"right\" style=\"margin-right: 20px\"> \n",
        "<br>\n",
        "\n",
        "Nota: Existen diversas librerias y calculadoras de tamaño de muestra. En el ejemplo anterior se ha puesto una tomando Stats Models.  Si se necesita realizar un cálculo de tamaño muestral sin programar (non code) en este [link](https://clincalc.com/stats/samplesize.aspx) se puede acceder a una herramienta online.\n",
        "\n",
        "En esta herramienta se debe seleccionar una prueba de 1 muestra, donde se comparará el resultado de la muestra experimental con la línea base del ratio de rebote poblacional (igual a 53%). Luego se debe seleccionar la opción de variable dicotómica, dado que estamos analizando una proporción que se obtiene de una variable discreta.\n",
        "\n",
        "\n",
        "\n",
        "---\n",
        "\n",
        "\n",
        "\n"
      ],
      "metadata": {
        "id": "D1PLgXqGD4WC"
      }
    },
    {
      "cell_type": "code",
      "source": [
        "# Nota si se quisiera una prueba de 1 sola cola (en este caso cola izquierda)\n",
        "# aplicar en alternative = 'one-sided', 'smaller' o 'larger'\n",
        "\n",
        "from statsmodels.stats.power import tt_solve_power\n",
        "\n",
        "# definir datos de la prueba\n",
        "p = 0.53 # Bounce rate / Tasa de rebote\n",
        "efecto = 0.05\n",
        "sigma = np.sqrt(p * (1- p))\n",
        "alpha = 0.05\n",
        "beta = 0.20\n",
        "poder = 1 - beta\n",
        "\n",
        "# calcular el tamaño muestral\n",
        "tt_solve_power(effect_size=efecto/sigma, nobs=None, alpha=alpha, power=poder, alternative='larger')"
      ],
      "metadata": {
        "colab": {
          "base_uri": "https://localhost:8080/"
        },
        "id": "3NTDuMoOGJoN",
        "outputId": "d7c7b55c-ae1e-4575-b9e2-dbc96e292d10"
      },
      "execution_count": null,
      "outputs": [
        {
          "output_type": "execute_result",
          "data": {
            "text/plain": [
              "617.3850402210663"
            ]
          },
          "metadata": {},
          "execution_count": 3
        }
      ]
    },
    {
      "cell_type": "markdown",
      "source": [
        "*Nota: Se puede apreciar que una prueba de 1 cola, requiere menos muestras para lograr cierto nivel de potencia.*\n",
        "\n",
        "\n",
        "\n",
        "Otro tipo de A/B testing, podría ocurrir cuando se quiere lanzar algo completamente nuevo, donde no existe línea base o información histórica de la población. O cuando se cuenta con algo inicial, pero es necesario probar 2 nuevas versiones nuevas, para determinar cuál funciona mejor, y luego ver si es mejor a lo actual. En este caso se contará con 2 versiones nuevas a testear para identificar cuál de ellas funciona mejor en relación al Indicador de éxito definido. Si este fuera el caso, esta prueba en el mundo estadístico se llama prueba (paramétrica) de hipótesis de 2 muestras independientes, donde una de las más populares es la prueba T-Student de 2 muestras no pareadas.\n",
        "\n",
        "En el siguiente código se hará un cálculo del tamaño de las 2 muestras, aplicando T-Student de 2 muestras y una prueba Normal de 2 muestras, ambas entregarán resultados muy similares."
      ],
      "metadata": {
        "id": "UAy5_-rOHKTG"
      }
    },
    {
      "cell_type": "code",
      "source": [
        "# estimar tamaño de muestra con analisis de Potencia\n",
        "# cargar Stats Model\n",
        "from statsmodels.stats.power import TTestIndPower\n",
        "from statsmodels.stats.power import NormalIndPower\n",
        "\n",
        "# definir parametros para el analisis\n",
        "efecto_bruto = 0.05 # criterio relevancia experto\n",
        "p1 = 0.53 # Aqui incorporar el ratio histórico o un bench de referencia\n",
        "p2 = p1 - efecto_bruto\n",
        "\n",
        "sigma = np.sqrt( ((p1*(1-p1)) + (p2*(1-p2)))/2) # s pooled\n",
        "tamano_efecto = (efecto_bruto / sigma) # efecto estandarizado d Cohen\n",
        "print('Tamaño del efecto d Cohen: ', tamano_efecto)\n",
        "alpha = 0.05\n",
        "potencia = 0.8\n",
        "\n",
        "# ejecuta analisis con T Student\n",
        "analysis = TTestIndPower()\n",
        "result = analysis.solve_power(effect_size=tamano_efecto, power=potencia, nobs1=None, ratio=1.0, alpha=alpha, alternative='two-sided')\n",
        "print('Sample Size con TStudent: %.3f' % result)\n",
        "\n",
        "\n",
        "# ejecuta con Z\n",
        "analysis2 = NormalIndPower()\n",
        "result2 = analysis2.solve_power(effect_size=tamano_efecto, nobs1=None, alpha=alpha, power=potencia, ratio=1.0, alternative='two-sided')\n",
        "print('Sample Size con Normal: %.3f' % result2)"
      ],
      "metadata": {
        "colab": {
          "base_uri": "https://localhost:8080/"
        },
        "id": "181fk64-vmMR",
        "outputId": "e2004516-9161-436e-85f1-246a20849664"
      },
      "execution_count": null,
      "outputs": [
        {
          "output_type": "stream",
          "name": "stdout",
          "text": [
            "Tamaño del efecto d Cohen:  0.10013025405050248\n",
            "Sample Size con TStudent: 1566.652\n",
            "Sample Size con Normal: 1565.691\n"
          ]
        }
      ]
    },
    {
      "cell_type": "markdown",
      "source": [
        "De acuerdo a los resultados entregados en el código anterior, se puede apreciar que tanto con Student como con Normal, se obtiene una cantidad de tamaño de muestral similar. Por tanto, se deben seleccionar 2 muestras, cada una de al menos 1.567 visitantes.\n",
        "\n",
        "\n",
        "<img src='https://drive.google.com/uc?export=view&id=1NAdSeRIjeuTvWgmbUWaSjDIxLujq-f5Y' width=\"500\" align=\"right\" style=\"margin-right: 20px\"> \n",
        "<br>\n",
        "A continuación se comparten 2 plataformas online para desarrollar este cálculo cuando se necesita estimar la cantidad de 2 muestras.\n",
        "\n",
        "* Evan miller:  https://www.evanmiller.org/ab-testing/sample-size.html#!53;80;5;5;0\n",
        "\n",
        "* Clinicalc: https://clincalc.com/stats/samplesize.aspx\n",
        "\n",
        "Aquí una imagen con el resultado para el ejemplo trabajado anteriormente:\n",
        "\n",
        "\n"
      ],
      "metadata": {
        "id": "mSVVpOJRKMDY"
      }
    },
    {
      "cell_type": "markdown",
      "source": [
        "### 3.- Ejecuta el experimento\n",
        "En esta parte el equipo digital prepara la nueva versión (B) con la nueva imagen, define los días donde se ejecutará el experimento, y comienza a dirigir tráfico de forma aleatoria, hasta completar el tiempo del experimento y la cantidad mínima de la muestra.\n",
        "\n",
        "Con los datos obtenidos, se procederá a realizar un análisis de datos en el siguiente paso.\n"
      ],
      "metadata": {
        "id": "sZrsL0GJxOBc"
      }
    },
    {
      "cell_type": "markdown",
      "source": [
        "### 4.- Mide resultados\n",
        "Se ha finalizado el periodo de experimentación de la nueva versión (B), y se procede a evaluar su efectividad.\n",
        "\n",
        "\n",
        "Se evalúan 3 escenarios hipotéticos de experimentación de 1 semana cada uno de ellos:\n",
        "\n",
        "\n",
        "\n",
        "1.   Se realiza el experimento con 350 visitantes, obteniendo una Tasa de Rebote de 47%.\n",
        "\n",
        "2.   Se realiza el experimento con 700 visitantes, obteniendo una Tasa de Rebote de 49%.\n",
        "\n",
        "3.   Se realiza el experimento con 700 visitantes, obteniendo una Tasa de Rebote de 47%.\n",
        "\n",
        "La evaluación que se realizará en esta sección también es conocida como **Análisis Post-Hoc**."
      ],
      "metadata": {
        "id": "5GF7EFaAaedj"
      }
    },
    {
      "cell_type": "markdown",
      "source": [
        "#### 1) Escenario 1\n",
        "\n",
        "En el siguiente procedimiento apoyados en Python vamos a calcular el valor de $Z$ crítico (para una prueba de 1 cola, cola izquierda con alpha de 0.05) y su valor correspondiente de proporción muestral (para la tasa de rebote).  El valor que obtendremos en esta operación corresponderá a la proporción límite hasta donde la proporción muestral que se obtenga en el experimento, será considera que cae en la zona de rechazo de la Hipótesis nula (H0).  En otras palabras, si la proporción (tasa de rebote) que se obtenga con los 350 visitantes del estudio es menor a dicho valor, estaremos rechazando la Hipótesis nula. Y Por tanto concluyendo que el resultado del experimento es estadísticamente significativo.\n",
        "Es importante mencionar que si esto sucede, este análisis  no indica nada sobre la relevancia del efecto práctico alcanzando. Esto se evaluará con el cálculo del Poder de la prueba."
      ],
      "metadata": {
        "id": "CdJcKIfBPAiI"
      }
    },
    {
      "cell_type": "code",
      "source": [
        "# Pasos\n",
        "# 1) Cargamos data línea base (población)\n",
        "p = 0.53\n",
        "Sigma = np.sqrt(p* (1-p))\n",
        "\n",
        "# 2) Cargar datos de la muestra\n",
        "n = 350\n",
        "p_muestra = 0.47 # Tasa de rebote\n",
        "Sigma_muestra = np.sqrt( p_muestra * (1 - p_muestra))\n",
        "\n",
        "# 3) Determinar el nivel de significancia de la prueba\n",
        "alpha = 0.05\n",
        "\n",
        "# 4) Definir hipótesis a contrastar (prueba unilateral - cola izquierda)\n",
        " # H0:   p = 0.53\n",
        " # H1:   p < 0.53 \n",
        "\n",
        "# regla decision (1 cola)\n",
        " # no rechazar H0 si: Z prueba >= Z crítico\n",
        " # rechazar HO si: Z prueba < Zcritico\n",
        "\n",
        "# 5) Determinar el valor crítico de Z\n",
        "Zcritico = stats.norm.ppf(alpha)# 1 cola izquierda\n",
        "print(f'Z crítico: {Zcritico: 4.3f}')\n",
        "\n",
        "# 5.1) Calcular el valor en porcentaje correspondiente al Z crítico\n",
        "valor_proporcion_zcritico= stats.norm(p, Sigma/np.sqrt(n)).ppf(alpha) # buscar valor cola izquierda\n",
        "print(f\"Valor media para Z crítico: {valor_proporcion_zcritico: 4.3f}\")"
      ],
      "metadata": {
        "colab": {
          "base_uri": "https://localhost:8080/"
        },
        "id": "MsoPcQ_jLJGM",
        "outputId": "da42762d-0875-49a6-bbcf-cc8fdc962dc1"
      },
      "execution_count": null,
      "outputs": [
        {
          "output_type": "stream",
          "name": "stdout",
          "text": [
            "Z crítico: -1.645\n",
            "Valor media para Z crítico:  0.486\n"
          ]
        }
      ]
    },
    {
      "cell_type": "code",
      "source": [
        "# visualizando la distribución de las proprociones muestrales cuando el n=350 y el límite crítico de Rechazo H0\n",
        "\n",
        "# proyectar distribución H0\n",
        "muestral_z = stats.norm(p, Sigma / np.sqrt(n))\n",
        "x_z = np.linspace(muestral_z.ppf(0.0001), muestral_z.ppf(0.9999), 100)\n",
        "pdf_z = muestral_z.pdf(x_z) # función densidad probabilidad\n",
        "\n",
        "plt.figure(figsize=(10, 5)) # tamaño gráfico\n",
        "plt.plot(x_z, pdf_z,\"b\") # medias H0\n",
        "plt.vlines(ymin=0, ymax=17, x=valor_proporcion_zcritico,  colors='r')\n",
        "plt.legend(['$H_0$', '$p_{5}$'])\n",
        "plt.show()"
      ],
      "metadata": {
        "colab": {
          "base_uri": "https://localhost:8080/",
          "height": 320
        },
        "id": "EiroRAcmOTXH",
        "outputId": "df839aaf-0222-4724-9c28-dd79bc6c3433"
      },
      "execution_count": null,
      "outputs": [
        {
          "output_type": "display_data",
          "data": {
            "text/plain": [
              "<Figure size 720x360 with 1 Axes>"
            ],
            "image/png": "[encoded data removed]"
          },
          "metadata": {
            "needs_background": "light"
          }
        }
      ]
    },
    {
      "cell_type": "markdown",
      "source": [
        "Para esta prueba de Hipótesis, como el valor de proporción muestral obtenido con los 350 visitantes fue de \"Tasa rebote= 47%\", cifra menor al límite de 0.486, se puede concluir que el rebote obtenido con la versión B ha disminuido de forma estadísticamente significativa, esto al comparar con su línea base de 0.53.\n",
        "\n",
        "Otra forma de evaluar este paso es calculando el valor-p (p-value), si este valor es menor al Nivel de significancia establecido, se procede a Rechazar la H0 (Hipótesis Nula), de lo contrario no se puede rechazar la H0.\n"
      ],
      "metadata": {
        "id": "soiFunNFQiew"
      }
    },
    {
      "cell_type": "code",
      "source": [
        "## 6 ) Calcular el estadístico Z de prueba.\n",
        "Z = ( p_muestra - p) / (Sigma /np.sqrt( n ))\n",
        "print('Z prueba: ', Z)\n",
        "\n",
        "## 7) Calcular el p-value y comparar con el nivel de significancia establecido.\n",
        "# calcular p-value\n",
        "pvalue = stats.norm.cdf(Z) # Z de prueba se encuentra en cola izquierda\n",
        "print('p-value (significancia estadística): ', pvalue) # 1 cola\n",
        "\n",
        "# Otra forma usando Scipy\n",
        "pvalue2 = stats.norm(p, Sigma /np.sqrt( n )).cdf(p_muestra)\n",
        "print('p-value con scipy: ', pvalue2)"
      ],
      "metadata": {
        "colab": {
          "base_uri": "https://localhost:8080/"
        },
        "id": "o7jAec1kRhcx",
        "outputId": "6f6961c9-a3e0-4888-ee6b-49b63ac0555e"
      },
      "execution_count": null,
      "outputs": [
        {
          "output_type": "stream",
          "name": "stdout",
          "text": [
            "Z prueba:  -2.249046365550482\n",
            "p-value (significancia estadística):  0.012254773171804281\n",
            "p-value con scipy:  0.012254773171804281\n"
          ]
        }
      ]
    },
    {
      "cell_type": "markdown",
      "source": [
        "**Concluir prueba de hipótesis:**\n",
        "como el Z prueba (-2.249) es menor al Zcritico (-1.645), o como el valor-p (p-value= 0.012) es menor al Nivel de signficancia \"alpha\" establecido en 0.05, se rechaza H0. Por tanto se concluye que existe una diferencia estadísticamente significativa entre la tasa de rebote exhibida en la versión B experimental y la tasa de rebote de la línea base.\n",
        "\n",
        "\n",
        "Una vez finalizada esta parte de la prueba, y siempre que se haya rechazado la H0, se procede a realizar el cálculo del tamaño del efecto real y el Poder de la prueba (potencia estadística).  En caso contrario no es necesario continuar, ya que el resultado obtenido en la versión B no sería menor a la línea base de la organización.\n",
        "\n"
      ],
      "metadata": {
        "id": "CdyRP3wxe6ZU"
      }
    },
    {
      "cell_type": "code",
      "source": [
        "# Ahora tendremos las siguientes hipótesis\n",
        "  # H0: p = 0.53\n",
        "  # H1: p = 0.47\n",
        "H1= p_muestra\n",
        "\n",
        "## 8) Calcular el tamaño del efecto\n",
        "efecto = (p - p_muestra) # Diferencia bruta\n",
        "dCohen = efecto/Sigma # d de Cohen \n",
        "print(f'd Cohen: {dCohen: 4.3f}')\n",
        "print(f'tamaño del efecto: {efecto: 4.3f}')\n",
        "\n",
        "## 9) Calcular la potencia de la prueba (1 - beta)\n",
        "# Calcular Beta (error tipo II)\n",
        "# Forma simple con Scipy\n",
        "beta = 1 - stats.norm(H1, Sigma/np.sqrt(n)).cdf(valor_proporcion_zcritico)\n",
        "print(f'Beta: {beta: 5.3f}')\n",
        "\n",
        "# Calcular Potencia estadística (1- beta)\n",
        "print(f'Potencia de la prueba: {1 - beta: 5.3f}')"
      ],
      "metadata": {
        "colab": {
          "base_uri": "https://localhost:8080/"
        },
        "id": "ORGa9Cabv_AB",
        "outputId": "88e70ac8-eb86-4477-9267-6e1568adb02b"
      },
      "execution_count": null,
      "outputs": [
        {
          "output_type": "stream",
          "name": "stdout",
          "text": [
            "d Cohen:  0.120\n",
            "tamaño del efecto:  0.060\n",
            "Beta:  0.273\n",
            "Potencia de la prueba:  0.727\n"
          ]
        }
      ]
    },
    {
      "cell_type": "code",
      "source": [
        "# Visualizando\n",
        "# Proyectar distribucion H0\n",
        "h0_z = stats.norm(p, Sigma / np.sqrt(n))\n",
        "x0_z = np.linspace(h0_z.ppf(0.0001), h0_z.ppf(0.9999), 100)\n",
        "pdf0_z = h0_z.pdf(x0_z) # Función densidad probabilidad\n",
        "\n",
        "# proyectar distribucion H1\n",
        "h1_z = stats.norm(H1, Sigma / np.sqrt(n))\n",
        "x1_z = np.linspace(h1_z.ppf(0.0001), h1_z.ppf(0.9999), 100)\n",
        "pdf1_z = h1_z.pdf(x1_z) # Función densidad probabilidad\n",
        "\n",
        "plt.figure(figsize=(10, 5)) # Tamaño gráfico\n",
        "plt.plot(x0_z, pdf0_z,\"b\") # medias H0\n",
        "plt.plot(x1_z, pdf1_z,\"r\") # medias H1\n",
        "plt.vlines(ymin=0, ymax=17, x=valor_proporcion_zcritico,  colors='y')# valor_proporcion_zcritico\n",
        "plt.legend(['$H_0$', '$H_1$','$p_5$'])\n",
        "plt.show()"
      ],
      "metadata": {
        "colab": {
          "base_uri": "https://localhost:8080/",
          "height": 320
        },
        "id": "g4FbsPzfA4LI",
        "outputId": "d32dbc57-0f65-4dd3-a2fb-dc5bab4b8196"
      },
      "execution_count": null,
      "outputs": [
        {
          "output_type": "display_data",
          "data": {
            "text/plain": [
              "<Figure size 720x360 with 1 Axes>"
            ],
            "image/png": "[encoded data removed]"
          },
          "metadata": {
            "needs_background": "light"
          }
        }
      ]
    },
    {
      "cell_type": "markdown",
      "source": [
        "**Conclusión final**\n",
        "\n",
        "El nuevo tratamiento aplicado versión B del sitio web en 350 usuarios aleatorios durante 1 semana, demuestra que la Tasa de Rebote de 47% exhibida es estadísticamente menor que el actual, esto con un nivel de confianza del 0.95. \n",
        "\n",
        "También se aprecia que la diferencia (tamaño del efecto bruto) obtenida es relevante desde el punto de vista de negocio, ya que es de 600 puntos base, sin embargo al evaluar su potencia, el análisis arrojó un Poder por debajo del mínimo recomendable de 0.80, es decir, el efecto no tiene una potencia aceptable para respaldar la H1 (Hipótesis alternativa).\n",
        "No se puede afirmar que el tratamiento funciona.\n",
        "\n",
        "Dicho de otra manera, si se rechaza la Hipótesis nula (H0) existe una alta probabilidad de cometer Error Tipo II (beta = 0.273).\n",
        "\n",
        "<img src='https://drive.google.com/uc?export=view&id=1v1vzzkZk7OaQKY-GYYQq5DlL5pXKcXqz' width=\"800\" align=\"left\" style=\"margin-right: 20px\"> \n",
        "<br>\n",
        "\n",
        "<p style=\"font-size:8pt\"> \n",
        "Imagen gentileza de: Roberto Moraga </p>\n",
        "\n",
        "\n",
        "\n"
      ],
      "metadata": {
        "id": "AkmFfU8atg-6"
      }
    },
    {
      "cell_type": "markdown",
      "source": [
        "#### 2) Escenario 2\n",
        "\n",
        "En el siguiente procedimiento apoyados en Python vamos a calcular el valor de $Z$ crítico (para una prueba de 1 cola, cola izquierda con alpha de 0.05) y su valor correspondiente de proporción muestral (para la tasa de rebote).  El valor que obtendremos en esta operación corresponderá a la proporción límite hasta donde la proporción muestral que se obtenga en el experimento, será considera que cae en la zona de rechazo de la Hipótesis nula (H0). "
      ],
      "metadata": {
        "id": "Yih6ECuBfwP1"
      }
    },
    {
      "cell_type": "code",
      "source": [
        "# Pasos\n",
        "# 1) Cargamos data línea base (población)\n",
        "p = 0.53\n",
        "Sigma = np.sqrt(p* (1-p))\n",
        "\n",
        "# 2) Cargar datos de la muestra\n",
        "n = 700\n",
        "p_muestra = 0.49 # Tasa de rebote\n",
        "Sigma_muestra = np.sqrt( p_muestra * (1 - p_muestra))\n",
        "\n",
        "# 3) Determinar el nivel de significancia de la prueba\n",
        "alpha = 0.05\n",
        "\n",
        "# 4) Definir hipótesis a contrastar (prueba unilateral - cola izquierda)\n",
        " # H0:   p = 0.53\n",
        " # H1:   p < 0.53 \n",
        "\n",
        "# regla decision (1 cola)\n",
        " # no rechazar H0 si: Z prueba >= Z crítico\n",
        " # rechazar HO si: Z prueba < Zcritico\n",
        "\n",
        "# 5) Determinar el valor crítico de Z\n",
        "Zcritico = stats.norm.ppf(alpha)# 1 cola izquierda\n",
        "print(f'Z crítico: {Zcritico: 4.3f}')\n",
        "\n",
        "# 5.1) Calcular el valor en porcentaje correspondiente al Z crítico\n",
        "valor_proporcion_zcritico= stats.norm(p, Sigma/np.sqrt(n)).ppf(alpha) # buscar valor cola izquierda\n",
        "print(f\"Valor media para Z crítico: {valor_proporcion_zcritico: 4.3f}\")"
      ],
      "metadata": {
        "colab": {
          "base_uri": "https://localhost:8080/"
        },
        "id": "vxto5AkhgSVI",
        "outputId": "1a00f09d-f4e0-4a1c-fe74-1f4bf4c4bd34"
      },
      "execution_count": null,
      "outputs": [
        {
          "output_type": "stream",
          "name": "stdout",
          "text": [
            "Z crítico: -1.645\n",
            "Valor media para Z crítico:  0.499\n"
          ]
        }
      ]
    },
    {
      "cell_type": "code",
      "source": [
        "# visualizando la distribución de las proprociones muestrales cuando el n=700 y el límite crítico de Rechazo H0\n",
        "\n",
        "# proyectar distribución H0\n",
        "muestral_z = stats.norm(p, Sigma / np.sqrt(n))\n",
        "x_z = np.linspace(muestral_z.ppf(0.0001), muestral_z.ppf(0.9999), 100)\n",
        "pdf_z = muestral_z.pdf(x_z) # función densidad probabilidad\n",
        "\n",
        "plt.figure(figsize=(10, 5)) # tamaño gráfico\n",
        "plt.plot(x_z, pdf_z,\"b\") # medias H0\n",
        "plt.vlines(ymin=0, ymax=17, x=valor_proporcion_zcritico,  colors='r')\n",
        "plt.legend(['$H_0$', '$p_{5}$'])\n",
        "plt.show()"
      ],
      "metadata": {
        "colab": {
          "base_uri": "https://localhost:8080/",
          "height": 320
        },
        "id": "00tqT4eVgw54",
        "outputId": "6b51572e-64f8-42ac-d101-a1df44080050"
      },
      "execution_count": null,
      "outputs": [
        {
          "output_type": "display_data",
          "data": {
            "text/plain": [
              "<Figure size 720x360 with 1 Axes>"
            ],
            "image/png": "[encoded data removed]"
          },
          "metadata": {
            "needs_background": "light"
          }
        }
      ]
    },
    {
      "cell_type": "markdown",
      "source": [
        "Para esta prueba de Hipótesis, como el valor de proporción muestral obtenido con los 700 visitantes fue de \"Tasa rebote= 49%\", cifra menor al límite de 0.499, se puede concluir que el rebote obtenido con la versión B ha disminuido de forma estadísticamente significativa, esto al comparar con su línea base de 0.53."
      ],
      "metadata": {
        "id": "WG6clJDvg5mw"
      }
    },
    {
      "cell_type": "code",
      "source": [
        "## 6 ) Calcular el estadístico Z de prueba.\n",
        "Z = ( p_muestra - p) / (Sigma /np.sqrt( n ))\n",
        "print('Z prueba: ', Z)\n",
        "\n",
        "## 7) Calcular el p-value y comparar con el nivel de significancia establecido.\n",
        "# calcular p-value\n",
        "pvalue = stats.norm.cdf(Z) # Z de prueba se encuentra en cola izquierda\n",
        "print('p-value (significancia estadística): ', pvalue) # 1 cola\n",
        "\n",
        "# Otra forma usando Scipy\n",
        "pvalue2 = stats.norm(p, Sigma /np.sqrt( n )).cdf(p_muestra)\n",
        "print('p-value con scipy: ', pvalue2)"
      ],
      "metadata": {
        "colab": {
          "base_uri": "https://localhost:8080/"
        },
        "id": "fRDe_cDUhMZG",
        "outputId": "cbbf62e3-2610-4ab6-a26f-c1cce89e749c"
      },
      "execution_count": null,
      "outputs": [
        {
          "output_type": "stream",
          "name": "stdout",
          "text": [
            "Z prueba:  -2.120421248378273\n",
            "p-value (significancia estadística):  0.016985268172948553\n",
            "p-value con scipy:  0.016985268172948553\n"
          ]
        }
      ]
    },
    {
      "cell_type": "markdown",
      "source": [
        "**Concluir prueba de hipótesis:**\n",
        "como el Z prueba (-2.120) es menor al Zcritico (-1.645), o como el valor-p (p-value= 0.016) es menor al Nivel de signficancia \"alpha\" establecido en 0.05, se rechaza H0. Por tanto se concluye que existe una diferencia estadísticamente significativa entre la tasa de rebote exhibida en la versión B experimental y la tasa de rebote de la línea base.\n"
      ],
      "metadata": {
        "id": "RbmSbRdLhURD"
      }
    },
    {
      "cell_type": "code",
      "source": [
        "# Ahora tendremos las siguientes hipótesis\n",
        "  # H0: p = 0.53\n",
        "  # H1: p = 0.49\n",
        "H1= p_muestra\n",
        "\n",
        "## 8) Calcular el tamaño del efecto\n",
        "efecto = (p - p_muestra) # Diferencia bruta\n",
        "dCohen = efecto/Sigma # d de Cohen \n",
        "print(f'd Cohen: {dCohen: 4.3f}')\n",
        "print(f'tamaño del efecto: {efecto: 4.3f}')\n",
        "\n",
        "## 9) Calcular la potencia de la prueba (1 - beta)\n",
        "# Calcular Beta (error tipo II)\n",
        "# Forma simple con Scipy\n",
        "beta = 1 - stats.norm(H1, Sigma/np.sqrt(n)).cdf(valor_proporcion_zcritico)\n",
        "print(f'Beta: {beta: 5.3f}')\n",
        "\n",
        "# Calcular Potencia estadística (1- beta)\n",
        "print(f'Potencia de la prueba: {1 - beta: 5.3f}')"
      ],
      "metadata": {
        "colab": {
          "base_uri": "https://localhost:8080/"
        },
        "id": "oQmnXzV4hTtA",
        "outputId": "5dc530f1-8e12-4d4b-81b8-1b0112e8b15d"
      },
      "execution_count": null,
      "outputs": [
        {
          "output_type": "stream",
          "name": "stdout",
          "text": [
            "d Cohen:  0.080\n",
            "tamaño del efecto:  0.040\n",
            "Beta:  0.317\n",
            "Potencia de la prueba:  0.683\n"
          ]
        }
      ]
    },
    {
      "cell_type": "code",
      "source": [
        "# Visualizando\n",
        "# Proyectar distribucion H0\n",
        "h0_z = stats.norm(p, Sigma / np.sqrt(n))\n",
        "x0_z = np.linspace(h0_z.ppf(0.0001), h0_z.ppf(0.9999), 100)\n",
        "pdf0_z = h0_z.pdf(x0_z) # Función densidad probabilidad\n",
        "\n",
        "# proyectar distribucion H1\n",
        "h1_z = stats.norm(H1, Sigma / np.sqrt(n))\n",
        "x1_z = np.linspace(h1_z.ppf(0.0001), h1_z.ppf(0.9999), 100)\n",
        "pdf1_z = h1_z.pdf(x1_z) # Función densidad probabilidad\n",
        "\n",
        "plt.figure(figsize=(10, 5)) # Tamaño gráfico\n",
        "plt.plot(x0_z, pdf0_z,\"b\") # medias H0\n",
        "plt.plot(x1_z, pdf1_z,\"r\") # medias H1\n",
        "plt.vlines(ymin=0, ymax=17, x=valor_proporcion_zcritico,  colors='y')# valor_proporcion_zcritico\n",
        "plt.legend(['$H_0$', '$H_1$','$p_5$'])\n",
        "plt.show()"
      ],
      "metadata": {
        "colab": {
          "base_uri": "https://localhost:8080/",
          "height": 320
        },
        "id": "W1hWoq1shsjO",
        "outputId": "37a9a1c9-e3f6-41bf-8ece-9734e60a8391"
      },
      "execution_count": null,
      "outputs": [
        {
          "output_type": "display_data",
          "data": {
            "text/plain": [
              "<Figure size 720x360 with 1 Axes>"
            ],
            "image/png": "[encoded data removed]"
          },
          "metadata": {
            "needs_background": "light"
          }
        }
      ]
    },
    {
      "cell_type": "markdown",
      "source": [
        "**Conclusión final**\n",
        "\n",
        "El nuevo tratamiento aplicado versión B del sitio web en 700 usuarios aleatorios durante 1 semana, demuestra que la Tasa de Rebote de 49% exhibida es estadísticamente menor que el actual, esto con un nivel de confianza del 0.95. \n",
        "\n",
        "También se aprecia que la diferencia (tamaño del efecto bruto) obtenida es menor a lo requerido por el negocio, ya que es de sólo 400 puntos base, y además al evaluar la potencia, el análisis arrojó un Poder por debajo del mínimo recomendable de 0.80, es decir, el efecto obtenido por el tratamiento no solo no cumple lo esperado por el negocio, sino que además no tiene una potencia aceptable para respaldar la H1 (Hipótesis alternativa).\n",
        "No se puede afirmar que el tratamiento funciona."
      ],
      "metadata": {
        "id": "b3sbqSKyhyJt"
      }
    },
    {
      "cell_type": "markdown",
      "source": [
        "#### 3) Escenario 3\n",
        "\n",
        "En el siguiente procedimiento apoyados en Python vamos a calcular el valor de $Z$ crítico (para una prueba de 1 cola, cola izquierda con alpha de 0.05) y su valor correspondiente de proporción muestral (para la tasa de rebote).  El valor que obtendremos en esta operación corresponderá a la proporción límite hasta donde la proporción muestral que se obtenga en el experimento, será considera que cae en la zona de rechazo de la Hipótesis nula (H0). "
      ],
      "metadata": {
        "id": "139GnU1Ei-fl"
      }
    },
    {
      "cell_type": "code",
      "source": [
        "# Pasos\n",
        "# 1) Cargamos data línea base (población)\n",
        "p = 0.53\n",
        "Sigma = np.sqrt(p* (1-p))\n",
        "\n",
        "# 2) Cargar datos de la muestra\n",
        "n = 700\n",
        "p_muestra = 0.47 # Tasa de rebote\n",
        "Sigma_muestra = np.sqrt( p_muestra * (1 - p_muestra))\n",
        "\n",
        "# 3) Determinar el nivel de significancia de la prueba\n",
        "alpha = 0.05\n",
        "\n",
        "# 4) Definir hipótesis a contrastar (prueba unilateral - cola izquierda)\n",
        " # H0:   p = 0.53\n",
        " # H1:   p < 0.53 \n",
        "\n",
        "# regla decision (1 cola)\n",
        " # no rechazar H0 si: Z prueba >= Z crítico\n",
        " # rechazar HO si: Z prueba < Zcritico\n",
        "\n",
        "# 5) Determinar el valor crítico de Z\n",
        "Zcritico = stats.norm.ppf(alpha)# 1 cola izquierda\n",
        "print(f'Z crítico: {Zcritico: 4.3f}')\n",
        "\n",
        "# 5.1) Calcular el valor en porcentaje correspondiente al Z crítico\n",
        "valor_proporcion_zcritico= stats.norm(p, Sigma/np.sqrt(n)).ppf(alpha) # buscar valor cola izquierda\n",
        "print(f\"Valor media para Z crítico: {valor_proporcion_zcritico: 4.3f}\")"
      ],
      "metadata": {
        "colab": {
          "base_uri": "https://localhost:8080/"
        },
        "id": "feolr9CBjK2C",
        "outputId": "c0dff636-9020-4628-dfa9-6d54a5c35927"
      },
      "execution_count": null,
      "outputs": [
        {
          "output_type": "stream",
          "name": "stdout",
          "text": [
            "Z crítico: -1.645\n",
            "Valor media para Z crítico:  0.499\n"
          ]
        }
      ]
    },
    {
      "cell_type": "code",
      "source": [
        "# visualizando la distribución de las proprociones muestrales cuando el n=700 y el límite crítico de Rechazo H0\n",
        "\n",
        "# proyectar distribución H0\n",
        "muestral_z = stats.norm(p, Sigma / np.sqrt(n))\n",
        "x_z = np.linspace(muestral_z.ppf(0.0001), muestral_z.ppf(0.9999), 100)\n",
        "pdf_z = muestral_z.pdf(x_z) # función densidad probabilidad\n",
        "\n",
        "plt.figure(figsize=(10, 5)) # tamaño gráfico\n",
        "plt.plot(x_z, pdf_z,\"b\") # medias H0\n",
        "plt.vlines(ymin=0, ymax=17, x=valor_proporcion_zcritico,  colors='r')\n",
        "plt.legend(['$H_0$', '$p_{5}$'])\n",
        "plt.show()"
      ],
      "metadata": {
        "colab": {
          "base_uri": "https://localhost:8080/",
          "height": 320
        },
        "id": "GbABDdbfjpZo",
        "outputId": "b9fbd444-d36f-4124-ecfb-625e389b9887"
      },
      "execution_count": null,
      "outputs": [
        {
          "output_type": "display_data",
          "data": {
            "text/plain": [
              "<Figure size 720x360 with 1 Axes>"
            ],
            "image/png": "[encoded data removed]"
          },
          "metadata": {
            "needs_background": "light"
          }
        }
      ]
    },
    {
      "cell_type": "markdown",
      "source": [
        "Para esta prueba de Hipótesis, como el valor de proporción muestral obtenido con los 700 visitantes fue de \"Tasa rebote= 47%\", cifra menor al límite de 0.499, se puede concluir que el rebote obtenido con la versión B ha disminuido de forma estadísticamente significativa, esto al comparar con su línea base de 0.53."
      ],
      "metadata": {
        "id": "aPB6_Q7Fj1na"
      }
    },
    {
      "cell_type": "code",
      "source": [
        "## 6 ) Calcular el estadístico Z de prueba.\n",
        "Z = ( p_muestra - p) / (Sigma /np.sqrt( n ))\n",
        "print('Z prueba: ', Z)\n",
        "\n",
        "## 7) Calcular el p-value y comparar con el nivel de significancia establecido.\n",
        "# calcular p-value\n",
        "pvalue = stats.norm.cdf(Z) # Z de prueba se encuentra en cola izquierda\n",
        "print('p-value (significancia estadística): ', pvalue) # 1 cola\n",
        "\n",
        "# Otra forma usando Scipy\n",
        "pvalue2 = stats.norm(p, Sigma /np.sqrt( n )).cdf(p_muestra)\n",
        "print('p-value con scipy: ', pvalue2)"
      ],
      "metadata": {
        "colab": {
          "base_uri": "https://localhost:8080/"
        },
        "id": "PXMi3rRDj02b",
        "outputId": "e2a58283-be7c-4f9d-893c-9165b555e19d"
      },
      "execution_count": null,
      "outputs": [
        {
          "output_type": "stream",
          "name": "stdout",
          "text": [
            "Z prueba:  -3.1806318725674094\n",
            "p-value (significancia estadística):  0.0007347711907812298\n",
            "p-value con scipy:  0.0007347711907812298\n"
          ]
        }
      ]
    },
    {
      "cell_type": "markdown",
      "source": [
        "**Concluir prueba de hipótesis:**\n",
        "como el Z prueba (-3.180) es menor al Zcritico (-1.645), o como el valor-p (p-value= 0.0007) es menor al Nivel de signficancia \"alpha\" establecido en 0.05, se rechaza H0. Por tanto se concluye que existe una diferencia estadísticamente significativa entre la tasa de rebote exhibida en la versión B experimental y la tasa de rebote de la línea base."
      ],
      "metadata": {
        "id": "kq0zk_QZkCHG"
      }
    },
    {
      "cell_type": "code",
      "source": [
        "# Ahora tendremos las siguientes hipótesis\n",
        "  # H0: p = 0.53\n",
        "  # H1: p = 0.49\n",
        "H1= p_muestra\n",
        "\n",
        "## 8) Calcular el tamaño del efecto\n",
        "efecto = (p - p_muestra) # Diferencia bruta\n",
        "dCohen = efecto/Sigma # d de Cohen \n",
        "print(f'd Cohen: {dCohen: 4.3f}')\n",
        "print(f'tamaño del efecto: {efecto: 4.3f}')\n",
        "\n",
        "## 9) Calcular la potencia de la prueba (1 - beta)\n",
        "# Calcular Beta (error tipo II)\n",
        "# Forma simple con Scipy\n",
        "beta = 1 - stats.norm(H1, Sigma/np.sqrt(n)).cdf(valor_proporcion_zcritico)\n",
        "print(f'Beta: {beta: 5.3f}')\n",
        "\n",
        "# Calcular Potencia estadística (1- beta)\n",
        "print(f'Potencia de la prueba: {1 - beta: 5.3f}')"
      ],
      "metadata": {
        "colab": {
          "base_uri": "https://localhost:8080/"
        },
        "id": "Pmv608eGkR45",
        "outputId": "484343be-a7ec-4f1d-a182-934d43350438"
      },
      "execution_count": null,
      "outputs": [
        {
          "output_type": "stream",
          "name": "stdout",
          "text": [
            "d Cohen:  0.120\n",
            "tamaño del efecto:  0.060\n",
            "Beta:  0.062\n",
            "Potencia de la prueba:  0.938\n"
          ]
        }
      ]
    },
    {
      "cell_type": "code",
      "source": [
        "# Visualizando\n",
        "# Proyectar distribucion H0\n",
        "h0_z = stats.norm(p, Sigma / np.sqrt(n))\n",
        "x0_z = np.linspace(h0_z.ppf(0.0001), h0_z.ppf(0.9999), 100)\n",
        "pdf0_z = h0_z.pdf(x0_z) # Función densidad probabilidad\n",
        "\n",
        "# proyectar distribucion H1\n",
        "h1_z = stats.norm(H1, Sigma / np.sqrt(n))\n",
        "x1_z = np.linspace(h1_z.ppf(0.0001), h1_z.ppf(0.9999), 100)\n",
        "pdf1_z = h1_z.pdf(x1_z) # Función densidad probabilidad\n",
        "\n",
        "plt.figure(figsize=(10, 5)) # Tamaño gráfico\n",
        "plt.plot(x0_z, pdf0_z,\"b\") # medias H0\n",
        "plt.plot(x1_z, pdf1_z,\"r\") # medias H1\n",
        "plt.vlines(ymin=0, ymax=17, x=valor_proporcion_zcritico,  colors='y')#valor_proporcion_zcritico\n",
        "plt.legend(['$H_0$', '$H_1$','$p_5$'])\n",
        "plt.show()"
      ],
      "metadata": {
        "colab": {
          "base_uri": "https://localhost:8080/",
          "height": 320
        },
        "id": "csGWRPqkkZLF",
        "outputId": "aae81e5b-50e3-41f5-a190-65552c709101"
      },
      "execution_count": null,
      "outputs": [
        {
          "output_type": "display_data",
          "data": {
            "text/plain": [
              "<Figure size 720x360 with 1 Axes>"
            ],
            "image/png": "[encoded data removed]"
          },
          "metadata": {
            "needs_background": "light"
          }
        }
      ]
    },
    {
      "cell_type": "markdown",
      "source": [
        "**Conclusión final**\n",
        "\n",
        "El nuevo tratamiento aplicado versión B del sitio web en 700 usuarios aleatorios durante 1 semana, demuestra que la Tasa de Rebote de 49% exhibida es estadísticamente menor que el actual, esto con un nivel de confianza del 0.95. \n",
        "\n",
        "También se aprecia que la diferencia (tamaño del efecto bruto) obtenida es superior a lo requerido por el negocio, ya que es de 600 puntos base. Al evaluar la potencia, el análisis arrojó un Poder mayor al mínimo recomendable de 0.80, es decir, el efecto obtenido por el tratamiento cumple  lo esperado por el Negocio, y además tiene una potencia aceptable (0.934) para respaldar la H1 (Hipótesis alternativa).\n",
        "\n",
        "Finalmente se concluye que la versión B entrega una alta seguridad de que los resultados son significativos tanto desde el punto de vista estadístico, como desde el negocio. Se recomienda escalar la versión a todos los usuarios.\n"
      ],
      "metadata": {
        "id": "bK3k0liBkfvD"
      }
    },
    {
      "cell_type": "markdown",
      "source": [
        "### 5.- Toma acciones\n",
        "Luego de evaluar los 3 Escenarios de ejemplos se puede recomendar sólo en el Escenario 3, la implementación de la nueva Versión (B) para ser utilizada por todos sus usuarios.\n"
      ],
      "metadata": {
        "id": "fiueQllXcW-N"
      }
    },
    {
      "cell_type": "markdown",
      "source": [
        "### 6.- Ejemplos de pruebas A/B\n",
        "\n",
        "#### Web Simcity\n",
        "\n",
        "<img src='https://drive.google.com/uc?export=view&id=1HyAaUOOvuUq4k6TLeE2BVbe9XJPXe7HI' width=\"500\" align=\"right\" style=\"margin-right: 20px\"> \n",
        "<br>\n",
        "En este caso se comparan 2 versiones de páginas donde los usuarios podían comprar el juego. La versión de la izquierda tuvo una conversión 40% mayor que la otra, esto aún cuando la versión B incluía un descuento para la compra futura de otro juego.  Se concluye que los jugadores de este juego sólo jugaban Simcity, y por tanto no les interesaba el beneficio de descuento para comprar otro juego.\n",
        "\n",
        "Esto es lo potente de A/B testing, que permite dejar que hablen los números, eliminando muchas conjeturas. O al menos con A/B testing se puede hacer una conjetura cuantificable y determinar qué tan 'verdadera' es. \n",
        "\n",
        "\n",
        "#### Banner Humana\n",
        "\n",
        "<img src='https://drive.google.com/uc?export=view&id=1GCffkpQePqZush-MVY_tx26z_eR-Tqcr' width=\"500\" align=\"right\" style=\"margin-right: 20px\"> \n",
        "<br>\n",
        "En este caso la organización Humana probó 2 Banners en su página de inicio, realizando distintos cambios, primero en la imagen, luego en el mensaje de llamado a la acción (CTA), siguiendo variación en el botón. Fueron varias pruebas, que como resultado lograron un aumento de 433% en los clics.\n",
        "\n",
        "Aquí es importante mencionar, que esta gran mejora de 433% no es producto de una sola prueba, son muchas, donde algunas funcionan y muchas otras no. Por tanto lo que soporta esto, es una cultura potente de experimentación, ya que no sirve copiar y pegar lo que le funciona otro, cada realidad es distinta en el momento en que se está, y cambiará siempre, los éxitos pasados no garantizan éxitos futuros. Por eso resulta clave y esencial habilitar equipos obsesionados con las pruebas en búsqueda de la mejora continua de los desafíos que se estén trabajando.\n",
        "\n",
        "Si se quiere conocer más ejemplos, en este [link](https://designforfounders.com/ab-testing-examples/) se pueden encontrar varios."
      ],
      "metadata": {
        "id": "Vp21OOpfnN33"
      }
    },
    {
      "cell_type": "markdown",
      "source": [
        "## Tipos de pruebas A/B\n",
        "\n",
        "### Pruebas simples:   Sencuenciales / bi-variante\n",
        "Estas pruebas se aplican de forma secuencial, son más sencillas de diseñar y se cree que se necesita poco conocimiento en estadísca, esto último porque la mente humana normalmente se confunde ante la cantidad de combinaciones posibles que se pueden probar. \n",
        "\n",
        "Ejemplo: \n",
        "En el caso de una landing page, primero se prueba el tamaño  de  un botón (grande v/s pequeño), luego se prueba el color (azul v/s verde), luego se continua con el tipo de letra (Times v/s Corbel), y así con nuevos factores. De esta forma sólo se hace. variar 1 factor al mismo tiempo. \n",
        "\n",
        "Esto tiene el problema que las pruebas secuenciales son subóptimas porque no permite medir lo que sucede cuando los factores interactúan. Por ejemplo, puede ser que los usuarios prefieran el botón de color azul en promedio pero prefieran el de color verde cuando se combina con la tipografía Corbel.\n",
        "\n",
        "### Pruebas complejas:  Multi-variante\n",
        "\n",
        "<img src='https://drive.google.com/uc?export=view&id=17tuGmJHCXoGQChWOJaesYRcM_Zk6RJRW' width=\"300\" align=\"right\" style=\"margin-right: 20px\"> \n",
        "<br>\n",
        "\n",
        "Para estas pruebas se utiliza un modelo matemático para identificar las posibles combinaciones, y luego se deben elegir y ejecutar solo ciertos tratamientos que sean pertinentes de testear.\n",
        "\n",
        "Esto se denomina prueba \"multi-variante\" y generalmente significa que se termina ejecutando una prueba A/B/C o incluso una prueba A/B/C/D. \n",
        "\n",
        "Con la información del ejemplo anterior con los factores 'color' y 'tamaño del botón', se podrían diseñar un experimento con 4 versiones distintas: \n",
        " 1) botón rojo grande, \n",
        " 2) botón rojo pequeño, \n",
        " 3) botón azul grande, \n",
        " 4) botón azul pequeño.\n",
        "\n",
        "Para este ejemplo donde se cuenta con 2 factores, y cada uno de ellos tiene 2 niveles, la formula que se aplica para determinar la cantidad de versiones es:\n",
        "\n",
        "* Cantidad de niveles elevado a la cantidad de factores\n",
        "\n",
        "Es así como se obtienen la combinatoria, por ejemplo 2 elevado a 2, entrega un resultado de 4 tratamientos o versiones.\n",
        "\n",
        "Si quisiera probar las fuentes, la cantidad de grupos de prueba crecería mucho más llegando a 8 versiones distintas.\n",
        "Aquí la fórmula es la misma: 2 elevado a 3 = 8 versiones.\n",
        "Si se requiere conocer más en detalle este tipo de pruebas, se recomienda estudiar Design of experiments \"DoE\" (Diseño de Experimentos), técnica altamente utilizada en equipos de mejora continua de la calidad, véase [aquí ](https://en.wikipedia.org/wiki/Design_of_experiments)más información\n"
      ],
      "metadata": {
        "id": "mc2VTu5VKmr7"
      }
    },
    {
      "cell_type": "markdown",
      "source": [
        "## Espacios de aplicación"
      ],
      "metadata": {
        "id": "4xUEtp2VxbSo"
      }
    },
    {
      "cell_type": "markdown",
      "source": [
        "Como se puede apreciar el método A/B testing hoy en día puede ser utilizado para evaluar y optimizar todo, desde el un tratamiento médico o sicológico, el diseño del sitio de internet, las funcionalidades de productos, las ofertas de un e-commerce, los titulares y las descripciones de los productos, entre muchos otros casos de uso. Por ejemplo, el periódico online New York Times hace pruebas con sus titulares para optimizar el engagement.\n",
        "\n",
        "Áreas de aplicación:\n",
        "* Marketing\n",
        "* Producto\n",
        "* Experiencia cliente\n",
        "* Retención\n",
        "* y en general en cualquier desafío\n",
        "\n",
        "Los equipos de Marketing digital o Growth hacking los aplican en todo el Funnel de Crecimiento llamado AARRR, o Funnel Pirata, aquí sus estados:\n",
        "* A. Adquisición de audiencia\n",
        "* A. Activación de usuarios\n",
        "* R. Retención de clientes\n",
        "* R. Referral para adquirir nuevos clientes\n",
        "* R. Revenue"
      ],
      "metadata": {
        "id": "ivMizPRsx7it"
      }
    },
    {
      "cell_type": "markdown",
      "source": [
        "## Resumen\n",
        "\n",
        "El método A/B testing es una herramienta poderosa de optimización si lo que se busca es hacer cambios para crear aprendizaje y capturar nuevo valor, esto de una forma simple, replicable y escalable.\n",
        "\n",
        "La adopción de este método resulta clave si lo que se busca es crear una cultura de experimentación y mejora continua 'Data-Driven', creando una atmósfera de creatividad e innovación, donde los equipos toman datos e hipótesis, para transformar y acelerar el crecimiento de los negocios.\n",
        "\n",
        "\n",
        "<img src='https://drive.google.com/uc?export=view&id=1_i9GzNCSGiN5amJe4n-Lx7opHh4uM3vK' width=\"500\" align=\"center\" style=\"margin-right: 20px\"> \n",
        "<br>\n",
        "\n",
        "Como menciona la Líder de Growth de Airbnb \"Lindsay Pettingill\", el crecimiento exponencial que ellos han vivido no sucede de forma orgánica, este proviene de una robusta cultura de experimentación en todos los niveles de la organización, lo que se puede traducir en la capacidad de realizar 700 experimentos por semana.\n",
        "\n",
        "Hoy en un negocio digital, si el resultado que se obtiene en la prueba no es el mejor, es decir, no se puede rechazar la Hipótesis nula (H0), o aún rechazando la H0 el efecto y/o Poder del experimento no son aceptables, es muy fácil volver a la tradicional forma del producto o servicio. Lo importante aquí es capturar aprendizaje accionable, socializarlo, y comprender que por ahora no es necesario perseverar con esa iniciativa, tal vez mañana vuelva al backlog, producto de cambios en el mercado. \n",
        "\n",
        "\n",
        "\n",
        "Si aún no se cuenta con un proceso de pruebas A/B en la organización, la recomendación es conformar un equipo de trabajo, seleccionar un desafío de negocio y comenzar a trabajar con 1 experimento por semana, para así habilitar la práctica organizacional donde todos puedan experimentar sin miedo al error para crear más y mejor valor a clientes y stakeholders. \n",
        "El objetivo no es tener la escala de Google o Abnb en un corto periodo de tiempo, sino es adoptar una forma completamente diferente de gestionar y transformar un negocio.\n",
        "\n",
        "\n",
        "\n",
        "<img src='https://drive.google.com/uc?export=view&id=1e6h3-AlW4zWUXVczObI8Z6q907CF9La4' width=\"600\" align=\"center\" style=\"margin-right: 20px\"> \n",
        "<br>\n",
        "<p style=\"font-size:8pt\"> \n",
        "Imagen gentileza de: Roberto Moraga </p>\n",
        "\n",
        "El crecimiento se crea a partir de muchos pequeños incrementos resultantes de los experimentos, es decir, esto funciona igual que el interés compuesto.  \n",
        "\n",
        "* Mientras más experimentas más aprendes.\n",
        "* Mientras más aprendes, más creces.\n",
        "\n",
        "\n",
        "Para la mayoría de las punteras Digitales mencionadas en este documento, contar con un proceso de experimentación de alta frecuencia no es sólo una práctica cultural arraigada, es un diferenciador competitivo central.\n",
        "\n",
        "\n",
        "Finalmente es importante tener en cuenta siempre:\n",
        "1. Significancia estadística versus práctica \n",
        "2. Impacto de las acciones en los otros proceso (visión sistémica)\n",
        "3. Óptimo local versus global"
      ],
      "metadata": {
        "id": "aY3lnzNLwp4O"
      }
    },
    {
      "cell_type": "markdown",
      "source": [
        "----\n",
        "¿Tienes alguna pregunta o sugerencia?\n",
        "Déjame comentarios en https://www.linkedin.com/in/robertomoragad/  y haré todo lo posible para responder.\n",
        "\n",
        "\n",
        "---\n",
        "*Nota:  El presente documento sigue la visión Frecuentista. En un futuro trabajo se abordará la visión bayesiana.*"
      ],
      "metadata": {
        "id": "8tTWcsME4q8H"
      }
    },
    {
      "cell_type": "markdown",
      "source": [
        "## Referencias:\n",
        "\n",
        "* https://www.statsmodels.org/dev/index.html\n",
        "\n",
        "* https://docs.scipy.org/doc/scipy/reference/index.html\n",
        "\n",
        "* Cohen J.  Things I have learned (so far) Am Psychol, 1990.\n",
        "\n",
        "* Gail M. Sullivan, Richard Feinn.   Using Effect Size—or Why the P Value Is Not Enough, 2012.\n",
        "\n",
        "* Geoff Cumming.  Understanding The New Statistics (Multivariate Applications Series), 2012.\n",
        "\n",
        "* https://en.wikipedia.org/wiki/Effect_size\n",
        "\n",
        "* https://github.com/robertomoragad/Estadistica/blob/master/Tama%C3%B1o_del_Efecto_y_Potencia_Estad%C3%ADstica_en_la_prueba_de_T_de_Student_para_dos_grupos.ipynb\n",
        "\n",
        "* https://github.com/robertomoragad/Estadistica/blob/master/Calculo_de_poder_Experimento_01.ipynb"
      ],
      "metadata": {
        "id": "9JuSCK5-7yXS"
      }
    }
  ]
}