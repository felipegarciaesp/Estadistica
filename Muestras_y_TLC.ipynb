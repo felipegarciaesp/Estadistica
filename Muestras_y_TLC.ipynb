{
  "nbformat": 4,
  "nbformat_minor": 0,
  "metadata": {
    "colab": {
      "name": "Muestras y TLC.ipynb",
      "provenance": [],
      "authorship_tag": "ABX9TyP6dToB5AElW9JDwQAWmF8S",
      "include_colab_link": true
    },
    "kernelspec": {
      "name": "python3",
      "display_name": "Python 3"
    }
  },
  "cells": [
    {
      "cell_type": "markdown",
      "metadata": {
        "id": "view-in-github",
        "colab_type": "text"
      },
      "source": [
        "<a href=\"https://colab.research.google.com/github/robertomoragad/Estadistica/blob/master/Muestras_y_TLC.ipynb\" target=\"_parent\"><img src=\"https://colab.research.google.com/assets/colab-badge.svg\" alt=\"Open In Colab\"/></a>"
      ]
    },
    {
      "cell_type": "code",
      "metadata": {
        "id": "TEc_NGyShwyp"
      },
      "source": [
        "#Importamos Librerias de la siguiente forma: \n",
        "import numpy as np # importando numpy\n",
        "from scipy import stats # importando scipy.stats\n",
        "import matplotlib.pyplot as plt #importando matplotlib"
      ],
      "execution_count": 68,
      "outputs": []
    },
    {
      "cell_type": "markdown",
      "metadata": {
        "id": "_1Ne-SYo_VPu"
      },
      "source": [
        "**Vamos a ejercitar con el Teorema del Límite Central**"
      ]
    },
    {
      "cell_type": "code",
      "metadata": {
        "colab": {
          "base_uri": "https://localhost:8080/",
          "height": 297
        },
        "id": "dUmg3LcLRNY4",
        "outputId": "dcab6b94-b4e8-48f3-e500-f94d1fe6c9f4"
      },
      "source": [
        "#crear poblacion (tiempos desde que se toman un examen de salud hasta que está publicado su resultado (en días))\n",
        "\n",
        "pob = np.random.RandomState(seed=4).gamma(4 , 1, 10000)\n",
        "\n",
        "\n",
        "#graficar histograma de la poblacion\n",
        "plt.hist(pob, range(0, 14, 1), density=True)\n",
        "plt.xticks(range(0, 14,1))\n",
        "plt.show\n",
        "\n",
        "#calcular parametros\n",
        "media_pob = np.mean(pob)\n",
        "sigma_pob = np.std(pob)\n",
        "\n",
        "print('media poblacional: ', media_pob)\n",
        "print('desv.std poblacional: ', sigma_pob)"
      ],
      "execution_count": 312,
      "outputs": [
        {
          "output_type": "stream",
          "text": [
            "media poblacional:  3.9875216145364973\n",
            "desv.std poblacional:  1.968486388237042\n"
          ],
          "name": "stdout"
        },
        {
          "output_type": "display_data",
          "data": {
            "image/png": "[encoded data removed]",
            "text/plain": [
              "<Figure size 432x288 with 1 Axes>"
            ]
          },
          "metadata": {
            "tags": [],
            "needs_background": "light"
          }
        }
      ]
    },
    {
      "cell_type": "code",
      "metadata": {
        "colab": {
          "base_uri": "https://localhost:8080/",
          "height": 313
        },
        "id": "lQjJCvq0a8Yc",
        "outputId": "6a46d188-1ddc-4419-9343-fe7fa38d122a"
      },
      "source": [
        "#Muestreo\n",
        "#sacar m muestras de tamaño n, calcular la media muestral y graficar histograma con todas los datos de las muestras (n*m)\n",
        "n= 2\n",
        "m= 100\n",
        "\n",
        "muestras_n = np.random.RandomState(seed=1).choice(pob, (n*m))\n",
        "#plt.figure(figsize=(10, 5))\n",
        "plt.hist(muestras_n, range(0, 14, 1), color='b')\n",
        "plt.xticks(range(0, 14,1))\n",
        "plt.show()\n",
        "\n",
        "print('media de todas las muestras: ', np.mean(muestras_n))\n",
        "print('desv std de todas las muestras: ', np.std(muestras_n,ddof=1))\n",
        "\n",
        "#Ahora listemos las muestras de cada día, de forma manual\n",
        "muestra1 = muestras_n[0:5] #Día 1\n",
        "muestra2 = muestras_n[5:10] #Día 2\n",
        "muestra3 = muestras_n[10:15] #Día 3\n",
        "#etc\n",
        "print(muestra1)"
      ],
      "execution_count": 320,
      "outputs": [
        {
          "output_type": "display_data",
          "data": {
            "image/png": "[encoded data removed]",
            "text/plain": [
              "<Figure size 432x288 with 1 Axes>"
            ]
          },
          "metadata": {
            "tags": [],
            "needs_background": "light"
          }
        },
        {
          "output_type": "stream",
          "text": [
            "media de todas las muestras:  3.80583526505024\n",
            "desv std de todas las muestras:  1.9586450269512394\n",
            "[4.23095826 3.41714465 2.19840935 7.29930714 2.02308406]\n"
          ],
          "name": "stdout"
        }
      ]
    },
    {
      "cell_type": "code",
      "metadata": {
        "colab": {
          "base_uri": "https://localhost:8080/"
        },
        "id": "L8WqNPA0cpLG",
        "outputId": "c691f1f2-9ddf-4610-df9c-c2c003223a8a"
      },
      "source": [
        "#Ahora listemos las muestras de forma automática\n",
        "\n",
        "muestras=[]\n",
        "\n",
        "for i in range(0, m):\n",
        "        muestras.append(muestras_n[i*n:(i+1)*n])\n",
        "\n",
        "print(muestras)"
      ],
      "execution_count": 321,
      "outputs": [
        {
          "output_type": "stream",
          "text": [
            "[array([4.23095826, 3.41714465]), array([2.19840935, 7.29930714]), array([2.02308406, 5.25772342]), array([3.62919455, 2.91545104]), array([0.85440989, 4.37139814]), array([1.59939535, 3.72022326]), array([6.61281942, 6.68303306]), array([6.23353079, 2.26181568]), array([6.676063  , 8.48528695]), array([3.40865878, 3.30790115]), array([3.88892073, 5.28682381]), array([4.13053146, 3.14555585]), array([3.05431603, 4.39801308]), array([3.24169328, 5.53618009]), array([1.07340617, 2.33448778]), array([1.52947437, 4.75591797]), array([2.31121413, 3.46047528]), array([3.7185977 , 3.60031542]), array([3.84877646, 6.55349524]), array([1.51266885, 3.57283062]), array([3.08231058, 0.70807528]), array([2.52142256, 0.82093776]), array([2.83387674, 2.92726477]), array([1.54615015, 5.21488706]), array([2.44515358, 4.52349278]), array([1.80471622, 3.20022958]), array([1.17342472, 3.73255365]), array([6.30326223, 4.83615218]), array([2.93879531, 2.96811309]), array([4.35755706, 4.62134937]), array([2.84598744, 7.1701965 ]), array([4.47226847, 2.69971204]), array([1.66394515, 2.78644218]), array([3.79111732, 4.65780863]), array([3.74840414, 3.44096692]), array([7.59001007, 6.44943877]), array([3.38340024, 2.14936656]), array([3.09437433, 2.36732788]), array([4.83247771, 1.61537   ]), array([5.02329381, 2.73117022]), array([2.26095625, 1.86186734]), array([4.62497488, 0.59923925]), array([0.70807528, 7.87647644]), array([2.65338471, 3.19432612]), array([1.7772543 , 1.73693648]), array([1.83547466, 0.90020439]), array([1.8857629 , 2.85252669]), array([3.55526226, 9.21115695]), array([3.90284193, 3.27702715]), array([4.63434912, 3.79836965]), array([5.21078485, 1.51944934]), array([1.63993286, 4.91681635]), array([3.91757843, 7.45951342]), array([4.05055242, 1.22199019]), array([5.19931638, 4.91681635]), array([6.73394795, 7.21746094]), array([3.53182863, 4.30099884]), array([4.3148014, 3.9194167]), array([2.01840186, 3.67055646]), array([3.25714367, 5.97753327]), array([1.93093488, 5.01817809]), array([4.30940876, 0.56389054]), array([3.76242397, 6.65223121]), array([6.32259393, 4.92373884]), array([2.70780335, 5.11059558]), array([2.79036596, 5.61203943]), array([8.80452188, 2.13963019]), array([2.90401169, 5.28197886]), array([3.83794958, 4.44599909]), array([5.61203943, 2.58612117]), array([2.79804435, 1.49665812]), array([2.49799634, 4.89253866]), array([5.50023278, 3.21972297]), array([3.7932585 , 1.91796616]), array([10.66788946,  1.38595959]), array([3.76298409, 3.08201725]), array([1.39967782, 7.48522144]), array([1.00426989, 4.08102906]), array([6.26750399, 1.52429913]), array([3.50804054, 7.2827487 ]), array([4.76185773, 1.33574777]), array([5.64556619, 9.48144728]), array([2.26270013, 4.7019981 ]), array([3.84849442, 4.9794812 ]), array([3.99104353, 2.63073063]), array([3.19615541, 3.34728566]), array([3.29925589, 1.6069333 ]), array([6.34821665, 3.73232535]), array([1.23966682, 4.24068697]), array([2.83401386, 6.38591744]), array([9.70638802, 1.72682085]), array([6.51889548, 3.1197275 ]), array([6.63520679, 1.11781661]), array([1.9738061 , 2.18795324]), array([3.22070058, 4.79147004]), array([2.99891615, 3.45200108]), array([3.33515427, 2.49866475]), array([2.41425819, 1.49290545]), array([4.93261804, 2.17249951]), array([4.25179131, 6.51180705])]\n"
          ],
          "name": "stdout"
        }
      ]
    },
    {
      "cell_type": "code",
      "metadata": {
        "colab": {
          "base_uri": "https://localhost:8080/"
        },
        "id": "KmYP7EbRd-BI",
        "outputId": "369959d1-13b2-4d4f-f2b2-21df376cab6c"
      },
      "source": [
        "#Ahora calculamos la media muestral (Xbar) de cada muestra\n",
        "\n",
        "muestras=[]\n",
        "\n",
        "for i in range(0, m):\n",
        "        muestras.append(muestras_n[i*n:(i+1)*n])\n",
        "        print(\"muestra\", i+1, \"Xbar:\", muestras[i].mean(),\"n:\", len(muestras[i]))"
      ],
      "execution_count": 322,
      "outputs": [
        {
          "output_type": "stream",
          "text": [
            "muestra 1 Xbar: 3.8240514567192907 n: 2\n",
            "muestra 2 Xbar: 4.748858246833224 n: 2\n",
            "muestra 3 Xbar: 3.6404037417191626 n: 2\n",
            "muestra 4 Xbar: 3.272322794568316 n: 2\n",
            "muestra 5 Xbar: 2.612904010765271 n: 2\n",
            "muestra 6 Xbar: 2.659809307598376 n: 2\n",
            "muestra 7 Xbar: 6.647926240527346 n: 2\n",
            "muestra 8 Xbar: 4.247673238461761 n: 2\n",
            "muestra 9 Xbar: 7.580674975772968 n: 2\n",
            "muestra 10 Xbar: 3.3582799602680833 n: 2\n",
            "muestra 11 Xbar: 4.587872268287304 n: 2\n",
            "muestra 12 Xbar: 3.6380436530993903 n: 2\n",
            "muestra 13 Xbar: 3.7261645565931554 n: 2\n",
            "muestra 14 Xbar: 4.388936684197081 n: 2\n",
            "muestra 15 Xbar: 1.7039469751433023 n: 2\n",
            "muestra 16 Xbar: 3.1426961705369223 n: 2\n",
            "muestra 17 Xbar: 2.8858447062482875 n: 2\n",
            "muestra 18 Xbar: 3.6594565605480076 n: 2\n",
            "muestra 19 Xbar: 5.201135854070698 n: 2\n",
            "muestra 20 Xbar: 2.542749736678033 n: 2\n",
            "muestra 21 Xbar: 1.8951929297985566 n: 2\n",
            "muestra 22 Xbar: 1.671180158600179 n: 2\n",
            "muestra 23 Xbar: 2.880570753610638 n: 2\n",
            "muestra 24 Xbar: 3.380518606082971 n: 2\n",
            "muestra 25 Xbar: 3.4843231789879807 n: 2\n",
            "muestra 26 Xbar: 2.502472903402682 n: 2\n",
            "muestra 27 Xbar: 2.452989183663793 n: 2\n",
            "muestra 28 Xbar: 5.569707204984662 n: 2\n",
            "muestra 29 Xbar: 2.9534542019168475 n: 2\n",
            "muestra 30 Xbar: 4.489453216795452 n: 2\n",
            "muestra 31 Xbar: 5.008091971829169 n: 2\n",
            "muestra 32 Xbar: 3.5859902526233705 n: 2\n",
            "muestra 33 Xbar: 2.22519366541061 n: 2\n",
            "muestra 34 Xbar: 4.224462975321734 n: 2\n",
            "muestra 35 Xbar: 3.594685526226211 n: 2\n",
            "muestra 36 Xbar: 7.019724416773583 n: 2\n",
            "muestra 37 Xbar: 2.766383400523505 n: 2\n",
            "muestra 38 Xbar: 2.730851103704543 n: 2\n",
            "muestra 39 Xbar: 3.2239238594273685 n: 2\n",
            "muestra 40 Xbar: 3.8772320193160934 n: 2\n",
            "muestra 41 Xbar: 2.061411796980491 n: 2\n",
            "muestra 42 Xbar: 2.6121070636454564 n: 2\n",
            "muestra 43 Xbar: 4.292275856737705 n: 2\n",
            "muestra 44 Xbar: 2.923855415678023 n: 2\n",
            "muestra 45 Xbar: 1.7570953859202196 n: 2\n",
            "muestra 46 Xbar: 1.3678395212698304 n: 2\n",
            "muestra 47 Xbar: 2.3691447915909376 n: 2\n",
            "muestra 48 Xbar: 6.383209602925721 n: 2\n",
            "muestra 49 Xbar: 3.589934542740357 n: 2\n",
            "muestra 50 Xbar: 4.21635938543692 n: 2\n",
            "muestra 51 Xbar: 3.365117093104862 n: 2\n",
            "muestra 52 Xbar: 3.2783746091334978 n: 2\n",
            "muestra 53 Xbar: 5.6885459241923435 n: 2\n",
            "muestra 54 Xbar: 2.6362713049174853 n: 2\n",
            "muestra 55 Xbar: 5.058066366660009 n: 2\n",
            "muestra 56 Xbar: 6.975704442843808 n: 2\n",
            "muestra 57 Xbar: 3.9164137378291786 n: 2\n",
            "muestra 58 Xbar: 4.117109047417516 n: 2\n",
            "muestra 59 Xbar: 2.8444791631992743 n: 2\n",
            "muestra 60 Xbar: 4.617338472559024 n: 2\n",
            "muestra 61 Xbar: 3.47455648726884 n: 2\n",
            "muestra 62 Xbar: 2.4366496524537173 n: 2\n",
            "muestra 63 Xbar: 5.207327593055405 n: 2\n",
            "muestra 64 Xbar: 5.623166385006865 n: 2\n",
            "muestra 65 Xbar: 3.909199462414468 n: 2\n",
            "muestra 66 Xbar: 4.201202696216166 n: 2\n",
            "muestra 67 Xbar: 5.472076038175379 n: 2\n",
            "muestra 68 Xbar: 4.092995272797383 n: 2\n",
            "muestra 69 Xbar: 4.141974335693433 n: 2\n",
            "muestra 70 Xbar: 4.099080300353802 n: 2\n",
            "muestra 71 Xbar: 2.147351233831645 n: 2\n",
            "muestra 72 Xbar: 3.69526749907646 n: 2\n",
            "muestra 73 Xbar: 4.359977877615118 n: 2\n",
            "muestra 74 Xbar: 2.855612332104923 n: 2\n",
            "muestra 75 Xbar: 6.026924522395968 n: 2\n",
            "muestra 76 Xbar: 3.4225006655209014 n: 2\n",
            "muestra 77 Xbar: 4.442449631980035 n: 2\n",
            "muestra 78 Xbar: 2.542649471515195 n: 2\n",
            "muestra 79 Xbar: 3.8959015627509896 n: 2\n",
            "muestra 80 Xbar: 5.395394621417169 n: 2\n",
            "muestra 81 Xbar: 3.0488027504275133 n: 2\n",
            "muestra 82 Xbar: 7.563506734622716 n: 2\n",
            "muestra 83 Xbar: 3.482349115703328 n: 2\n",
            "muestra 84 Xbar: 4.413987810080488 n: 2\n",
            "muestra 85 Xbar: 3.310887080630233 n: 2\n",
            "muestra 86 Xbar: 3.2717205366387363 n: 2\n",
            "muestra 87 Xbar: 2.453094594854198 n: 2\n",
            "muestra 88 Xbar: 5.040271000638593 n: 2\n",
            "muestra 89 Xbar: 2.7401768966520286 n: 2\n",
            "muestra 90 Xbar: 4.609965649294729 n: 2\n",
            "muestra 91 Xbar: 5.7166044361493995 n: 2\n",
            "muestra 92 Xbar: 4.819311489729868 n: 2\n",
            "muestra 93 Xbar: 3.8765116994349156 n: 2\n",
            "muestra 94 Xbar: 2.080879668580063 n: 2\n",
            "muestra 95 Xbar: 4.006085308572646 n: 2\n",
            "muestra 96 Xbar: 3.2254586158559215 n: 2\n",
            "muestra 97 Xbar: 2.916909509770404 n: 2\n",
            "muestra 98 Xbar: 1.9535818168300534 n: 2\n",
            "muestra 99 Xbar: 3.5525587760174093 n: 2\n",
            "muestra 100 Xbar: 5.381799180478336 n: 2\n"
          ],
          "name": "stdout"
        }
      ]
    },
    {
      "cell_type": "code",
      "metadata": {
        "colab": {
          "base_uri": "https://localhost:8080/",
          "height": 1000
        },
        "id": "a6n9WOhHe9bW",
        "outputId": "8c336ea1-562a-43eb-dc78-afe81f95488a"
      },
      "source": [
        "#Crearemos la lista de Xbarras (medias muestrales)\n",
        "\n",
        "muestras=[]\n",
        "\n",
        "for i in range(0, m):\n",
        "        muestras.append(muestras_n[i*n:(i+1)*n])\n",
        "\n",
        "print('Xbarra')\n",
        "lista_xbarra=[]\n",
        "for i in range(0, m):\n",
        "    lista_xbarra.append(muestras[i].mean())\n",
        "    print(muestras[i].mean())\n",
        "\n",
        "\n",
        "xbar_bar = np.mean(lista_xbarra)\n",
        "sigma_xbar = np.std(lista_xbarra)\n",
        "print(\"Media de medias: \", xbar_bar)\n",
        "print(\"sigma de medias: \", sigma_xbar)\n",
        "\n",
        "plt.hist(lista_xbarra, bins=10)\n",
        "plt.xticks(range(0, 14))\n",
        "plt.show"
      ],
      "execution_count": 323,
      "outputs": [
        {
          "output_type": "stream",
          "text": [
            "Xbarra\n",
            "3.8240514567192907\n",
            "4.748858246833224\n",
            "3.6404037417191626\n",
            "3.272322794568316\n",
            "2.612904010765271\n",
            "2.659809307598376\n",
            "6.647926240527346\n",
            "4.247673238461761\n",
            "7.580674975772968\n",
            "3.3582799602680833\n",
            "4.587872268287304\n",
            "3.6380436530993903\n",
            "3.7261645565931554\n",
            "4.388936684197081\n",
            "1.7039469751433023\n",
            "3.1426961705369223\n",
            "2.8858447062482875\n",
            "3.6594565605480076\n",
            "5.201135854070698\n",
            "2.542749736678033\n",
            "1.8951929297985566\n",
            "1.671180158600179\n",
            "2.880570753610638\n",
            "3.380518606082971\n",
            "3.4843231789879807\n",
            "2.502472903402682\n",
            "2.452989183663793\n",
            "5.569707204984662\n",
            "2.9534542019168475\n",
            "4.489453216795452\n",
            "5.008091971829169\n",
            "3.5859902526233705\n",
            "2.22519366541061\n",
            "4.224462975321734\n",
            "3.594685526226211\n",
            "7.019724416773583\n",
            "2.766383400523505\n",
            "2.730851103704543\n",
            "3.2239238594273685\n",
            "3.8772320193160934\n",
            "2.061411796980491\n",
            "2.6121070636454564\n",
            "4.292275856737705\n",
            "2.923855415678023\n",
            "1.7570953859202196\n",
            "1.3678395212698304\n",
            "2.3691447915909376\n",
            "6.383209602925721\n",
            "3.589934542740357\n",
            "4.21635938543692\n",
            "3.365117093104862\n",
            "3.2783746091334978\n",
            "5.6885459241923435\n",
            "2.6362713049174853\n",
            "5.058066366660009\n",
            "6.975704442843808\n",
            "3.9164137378291786\n",
            "4.117109047417516\n",
            "2.8444791631992743\n",
            "4.617338472559024\n",
            "3.47455648726884\n",
            "2.4366496524537173\n",
            "5.207327593055405\n",
            "5.623166385006865\n",
            "3.909199462414468\n",
            "4.201202696216166\n",
            "5.472076038175379\n",
            "4.092995272797383\n",
            "4.141974335693433\n",
            "4.099080300353802\n",
            "2.147351233831645\n",
            "3.69526749907646\n",
            "4.359977877615118\n",
            "2.855612332104923\n",
            "6.026924522395968\n",
            "3.4225006655209014\n",
            "4.442449631980035\n",
            "2.542649471515195\n",
            "3.8959015627509896\n",
            "5.395394621417169\n",
            "3.0488027504275133\n",
            "7.563506734622716\n",
            "3.482349115703328\n",
            "4.413987810080488\n",
            "3.310887080630233\n",
            "3.2717205366387363\n",
            "2.453094594854198\n",
            "5.040271000638593\n",
            "2.7401768966520286\n",
            "4.609965649294729\n",
            "5.7166044361493995\n",
            "4.819311489729868\n",
            "3.8765116994349156\n",
            "2.080879668580063\n",
            "4.006085308572646\n",
            "3.2254586158559215\n",
            "2.916909509770404\n",
            "1.9535818168300534\n",
            "3.5525587760174093\n",
            "5.381799180478336\n",
            "Media de medias:  3.8058352650502396\n",
            "sigma de medias:  1.3196924363091456\n"
          ],
          "name": "stdout"
        },
        {
          "output_type": "execute_result",
          "data": {
            "text/plain": [
              "<function matplotlib.pyplot.show>"
            ]
          },
          "metadata": {
            "tags": []
          },
          "execution_count": 323
        },
        {
          "output_type": "display_data",
          "data": {
            "image/png": "[encoded data removed]",
            "text/plain": [
              "<Figure size 432x288 with 1 Axes>"
            ]
          },
          "metadata": {
            "tags": [],
            "needs_background": "light"
          }
        }
      ]
    },
    {
      "cell_type": "code",
      "metadata": {
        "colab": {
          "base_uri": "https://localhost:8080/",
          "height": 297
        },
        "id": "IiBRt_EpwYiZ",
        "outputId": "848111f3-9fb4-4833-eb3c-42cbee3b35cc"
      },
      "source": [
        "#Test de normalidad\n",
        "\n",
        "fig = plt.figure()\n",
        "ax1 = fig.add_subplot(111)\n",
        "x = lista_xbarra\n",
        "prob = stats.probplot(x, dist=stats.norm, plot=ax1)\n",
        "ax1.set_xlabel('')\n",
        "ax1.set_title('Probplot against normal distribution')\n",
        "\n",
        "\n",
        "#comprobar normalidad de los datos con Anderson Darling\n",
        "stats.anderson(lista_xbarra, dist='norm')\n"
      ],
      "execution_count": 324,
      "outputs": [
        {
          "output_type": "execute_result",
          "data": {
            "text/plain": [
              "AndersonResult(statistic=0.9541868963748783, critical_values=array([0.555, 0.632, 0.759, 0.885, 1.053]), significance_level=array([15. , 10. ,  5. ,  2.5,  1. ]))"
            ]
          },
          "metadata": {
            "tags": []
          },
          "execution_count": 324
        },
        {
          "output_type": "display_data",
          "data": {
            "image/png": "[encoded data removed]",
            "text/plain": [
              "<Figure size 432x288 with 1 Axes>"
            ]
          },
          "metadata": {
            "tags": [],
            "needs_background": "light"
          }
        }
      ]
    }
  ]
}