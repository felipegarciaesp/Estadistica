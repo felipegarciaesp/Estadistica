{
  "nbformat": 4,
  "nbformat_minor": 0,
  "metadata": {
    "colab": {
      "name": "Analiticas Agiles Kanban en pandas.ipynb",
      "provenance": [],
      "authorship_tag": "ABX9TyMdip05klEP4g5Q+NwEP+pF",
      "include_colab_link": true
    },
    "kernelspec": {
      "name": "python3",
      "display_name": "Python 3"
    }
  },
  "cells": [
    {
      "cell_type": "markdown",
      "metadata": {
        "id": "view-in-github",
        "colab_type": "text"
      },
      "source": [
        "<a href=\"https://colab.research.google.com/github/robertomoragad/Estadistica/blob/master/Analiticas_Agiles_Kanban_en_pandas.ipynb\" target=\"_parent\"><img src=\"https://colab.research.google.com/assets/colab-badge.svg\" alt=\"Open In Colab\"/></a>"
      ]
    },
    {
      "cell_type": "code",
      "metadata": {
        "id": "wWDJEzlujHpu"
      },
      "source": [
        "#Importamos librerias de la siguiente forma: \n",
        "import numpy as np # importando numpy\n",
        "from scipy import stats # importando scipy.stats\n",
        "import matplotlib.pyplot as plt #importando matplotlib\n",
        "import pandas as pd #pandas"
      ],
      "execution_count": 1,
      "outputs": []
    },
    {
      "cell_type": "code",
      "metadata": {
        "id": "4Qx5bZV6jMe0"
      },
      "source": [
        "#lectura base de datos equipo agile\n",
        "df = pd.read_csv('https://docs.google.com/spreadsheets/d/e/2PACX-1vTPwEM4f6YoBsqhFdJa9Z0AvGpvPBmJQnr2zGusI5S724NeFqPVwjJoLC-yygUkavo3S2wjKLepobwN/pub?output=csv')\n"
      ],
      "execution_count": 2,
      "outputs": []
    },
    {
      "cell_type": "code",
      "metadata": {
        "colab": {
          "base_uri": "https://localhost:8080/",
          "height": 197
        },
        "id": "5q5Adbd5kGzd",
        "outputId": "ee578593-ed67-4829-b3e9-a834cd0805b0"
      },
      "source": [
        "#limpiar registros sin leadtime\n",
        "#visualizar base de datos\n",
        "base = df.dropna(subset=['Leadtime (dias)'])\n",
        "base.head()\n",
        "\n",
        "base.tail()"
      ],
      "execution_count": 3,
      "outputs": [
        {
          "output_type": "execute_result",
          "data": {
            "text/html": [
              "<div>\n",
              "<style scoped>\n",
              "    .dataframe tbody tr th:only-of-type {\n",
              "        vertical-align: middle;\n",
              "    }\n",
              "\n",
              "    .dataframe tbody tr th {\n",
              "        vertical-align: top;\n",
              "    }\n",
              "\n",
              "    .dataframe thead th {\n",
              "        text-align: right;\n",
              "    }\n",
              "</style>\n",
              "<table border=\"1\" class=\"dataframe\">\n",
              "  <thead>\n",
              "    <tr style=\"text-align: right;\">\n",
              "      <th></th>\n",
              "      <th>ID</th>\n",
              "      <th>Tarea</th>\n",
              "      <th>Tipologia</th>\n",
              "      <th>Fecha Seleccionada</th>\n",
              "      <th>Fecha Done</th>\n",
              "      <th>Leadtime (dias)</th>\n",
              "      <th>Semana Seleccionado</th>\n",
              "      <th>Semana Done</th>\n",
              "      <th>Satisfaccion</th>\n",
              "    </tr>\n",
              "  </thead>\n",
              "  <tbody>\n",
              "    <tr>\n",
              "      <th>71</th>\n",
              "      <td>Ob19</td>\n",
              "      <td>Ob386</td>\n",
              "      <td>Maintenance</td>\n",
              "      <td>13/12/2019</td>\n",
              "      <td>10/01/2020</td>\n",
              "      <td>29.0</td>\n",
              "      <td>50</td>\n",
              "      <td>2.0</td>\n",
              "      <td>1.0</td>\n",
              "    </tr>\n",
              "    <tr>\n",
              "      <th>72</th>\n",
              "      <td>Pu296</td>\n",
              "      <td>Pu459</td>\n",
              "      <td>Maintenance</td>\n",
              "      <td>20/01/2020</td>\n",
              "      <td>4/02/2020</td>\n",
              "      <td>16.0</td>\n",
              "      <td>4</td>\n",
              "      <td>6.0</td>\n",
              "      <td>1.0</td>\n",
              "    </tr>\n",
              "    <tr>\n",
              "      <th>73</th>\n",
              "      <td>Re156</td>\n",
              "      <td>Re473</td>\n",
              "      <td>ADSS</td>\n",
              "      <td>3/02/2020</td>\n",
              "      <td>14/02/2020</td>\n",
              "      <td>12.0</td>\n",
              "      <td>6</td>\n",
              "      <td>7.0</td>\n",
              "      <td>2.0</td>\n",
              "    </tr>\n",
              "    <tr>\n",
              "      <th>74</th>\n",
              "      <td>Pr28</td>\n",
              "      <td>Pr376</td>\n",
              "      <td>Maintenance</td>\n",
              "      <td>10/02/2020</td>\n",
              "      <td>14/02/2020</td>\n",
              "      <td>5.0</td>\n",
              "      <td>7</td>\n",
              "      <td>7.0</td>\n",
              "      <td>5.0</td>\n",
              "    </tr>\n",
              "    <tr>\n",
              "      <th>75</th>\n",
              "      <td>Pr347</td>\n",
              "      <td>Pr332</td>\n",
              "      <td>Maintenance</td>\n",
              "      <td>17/02/2020</td>\n",
              "      <td>20/02/2020</td>\n",
              "      <td>4.0</td>\n",
              "      <td>8</td>\n",
              "      <td>8.0</td>\n",
              "      <td>3.0</td>\n",
              "    </tr>\n",
              "  </tbody>\n",
              "</table>\n",
              "</div>"
            ],
            "text/plain": [
              "       ID  Tarea    Tipologia  ... Semana Seleccionado Semana Done  Satisfaccion\n",
              "71   Ob19  Ob386  Maintenance  ...                  50         2.0           1.0\n",
              "72  Pu296  Pu459  Maintenance  ...                   4         6.0           1.0\n",
              "73  Re156  Re473         ADSS  ...                   6         7.0           2.0\n",
              "74   Pr28  Pr376  Maintenance  ...                   7         7.0           5.0\n",
              "75  Pr347  Pr332  Maintenance  ...                   8         8.0           3.0\n",
              "\n",
              "[5 rows x 9 columns]"
            ]
          },
          "metadata": {
            "tags": []
          },
          "execution_count": 3
        }
      ]
    },
    {
      "cell_type": "code",
      "metadata": {
        "colab": {
          "base_uri": "https://localhost:8080/",
          "height": 137
        },
        "id": "sqJ3qwbYjZms",
        "outputId": "c7d8427b-8d3b-4abb-e4c5-6faa7ef1d36e"
      },
      "source": [
        "#1 Tabla general\n",
        "table1 = pd.pivot_table(data=base,index=['Tipologia'])\n",
        "table1"
      ],
      "execution_count": 23,
      "outputs": [
        {
          "output_type": "execute_result",
          "data": {
            "text/html": [
              "<div>\n",
              "<style scoped>\n",
              "    .dataframe tbody tr th:only-of-type {\n",
              "        vertical-align: middle;\n",
              "    }\n",
              "\n",
              "    .dataframe tbody tr th {\n",
              "        vertical-align: top;\n",
              "    }\n",
              "\n",
              "    .dataframe thead th {\n",
              "        text-align: right;\n",
              "    }\n",
              "</style>\n",
              "<table border=\"1\" class=\"dataframe\">\n",
              "  <thead>\n",
              "    <tr style=\"text-align: right;\">\n",
              "      <th></th>\n",
              "      <th>Leadtime (dias)</th>\n",
              "      <th>Satisfaccion</th>\n",
              "      <th>Semana Done</th>\n",
              "      <th>Semana Seleccionado</th>\n",
              "    </tr>\n",
              "    <tr>\n",
              "      <th>Tipologia</th>\n",
              "      <th></th>\n",
              "      <th></th>\n",
              "      <th></th>\n",
              "      <th></th>\n",
              "    </tr>\n",
              "  </thead>\n",
              "  <tbody>\n",
              "    <tr>\n",
              "      <th>ADSS</th>\n",
              "      <td>5.772727</td>\n",
              "      <td>3.272727</td>\n",
              "      <td>23.181818</td>\n",
              "      <td>25.000000</td>\n",
              "    </tr>\n",
              "    <tr>\n",
              "      <th>Maintenance</th>\n",
              "      <td>7.680851</td>\n",
              "      <td>3.297872</td>\n",
              "      <td>25.042553</td>\n",
              "      <td>26.489362</td>\n",
              "    </tr>\n",
              "  </tbody>\n",
              "</table>\n",
              "</div>"
            ],
            "text/plain": [
              "             Leadtime (dias)  Satisfaccion  Semana Done  Semana Seleccionado\n",
              "Tipologia                                                                   \n",
              "ADSS                5.772727      3.272727    23.181818            25.000000\n",
              "Maintenance         7.680851      3.297872    25.042553            26.489362"
            ]
          },
          "metadata": {
            "tags": []
          },
          "execution_count": 23
        }
      ]
    },
    {
      "cell_type": "code",
      "metadata": {
        "colab": {
          "base_uri": "https://localhost:8080/",
          "height": 137
        },
        "id": "SZWND_WRnImE",
        "outputId": "fd974edb-ba8a-4246-f320-8d084d771ac2"
      },
      "source": [
        "#2 Tabla vista por tipologia con: cantidad requerimientos terminados, leadtime y satisfaccion media\n",
        "table2 = pd.pivot_table(data=base,index=['Tipologia'],values=['ID','Satisfaccion', 'Leadtime (dias)'], aggfunc={'ID':np.size, 'Leadtime (dias)':np.average,'Satisfaccion':np.mean})\n",
        "table2\n"
      ],
      "execution_count": 5,
      "outputs": [
        {
          "output_type": "execute_result",
          "data": {
            "text/html": [
              "<div>\n",
              "<style scoped>\n",
              "    .dataframe tbody tr th:only-of-type {\n",
              "        vertical-align: middle;\n",
              "    }\n",
              "\n",
              "    .dataframe tbody tr th {\n",
              "        vertical-align: top;\n",
              "    }\n",
              "\n",
              "    .dataframe thead th {\n",
              "        text-align: right;\n",
              "    }\n",
              "</style>\n",
              "<table border=\"1\" class=\"dataframe\">\n",
              "  <thead>\n",
              "    <tr style=\"text-align: right;\">\n",
              "      <th></th>\n",
              "      <th>ID</th>\n",
              "      <th>Leadtime (dias)</th>\n",
              "      <th>Satisfaccion</th>\n",
              "    </tr>\n",
              "    <tr>\n",
              "      <th>Tipologia</th>\n",
              "      <th></th>\n",
              "      <th></th>\n",
              "      <th></th>\n",
              "    </tr>\n",
              "  </thead>\n",
              "  <tbody>\n",
              "    <tr>\n",
              "      <th>ADSS</th>\n",
              "      <td>22</td>\n",
              "      <td>5.772727</td>\n",
              "      <td>3.272727</td>\n",
              "    </tr>\n",
              "    <tr>\n",
              "      <th>Maintenance</th>\n",
              "      <td>47</td>\n",
              "      <td>7.680851</td>\n",
              "      <td>3.297872</td>\n",
              "    </tr>\n",
              "  </tbody>\n",
              "</table>\n",
              "</div>"
            ],
            "text/plain": [
              "             ID  Leadtime (dias)  Satisfaccion\n",
              "Tipologia                                     \n",
              "ADSS         22         5.772727      3.272727\n",
              "Maintenance  47         7.680851      3.297872"
            ]
          },
          "metadata": {
            "tags": []
          },
          "execution_count": 5
        }
      ]
    },
    {
      "cell_type": "code",
      "metadata": {
        "colab": {
          "base_uri": "https://localhost:8080/",
          "height": 167
        },
        "id": "Dui51fssdB-M",
        "outputId": "d66c9d8e-e20d-4310-d15c-3f78b5961c85"
      },
      "source": [
        "#2 Otra vista\n",
        "table2b = pd.pivot_table(base, index = ['Tipologia'], values = ['Leadtime (dias)', 'Satisfaccion'] , aggfunc = [np.size, np.std]) \n",
        "table2b\n"
      ],
      "execution_count": 77,
      "outputs": [
        {
          "output_type": "execute_result",
          "data": {
            "text/html": [
              "<div>\n",
              "<style scoped>\n",
              "    .dataframe tbody tr th:only-of-type {\n",
              "        vertical-align: middle;\n",
              "    }\n",
              "\n",
              "    .dataframe tbody tr th {\n",
              "        vertical-align: top;\n",
              "    }\n",
              "\n",
              "    .dataframe thead tr th {\n",
              "        text-align: left;\n",
              "    }\n",
              "\n",
              "    .dataframe thead tr:last-of-type th {\n",
              "        text-align: right;\n",
              "    }\n",
              "</style>\n",
              "<table border=\"1\" class=\"dataframe\">\n",
              "  <thead>\n",
              "    <tr>\n",
              "      <th></th>\n",
              "      <th colspan=\"2\" halign=\"left\">size</th>\n",
              "      <th colspan=\"2\" halign=\"left\">std</th>\n",
              "    </tr>\n",
              "    <tr>\n",
              "      <th></th>\n",
              "      <th>Leadtime (dias)</th>\n",
              "      <th>Satisfaccion</th>\n",
              "      <th>Leadtime (dias)</th>\n",
              "      <th>Satisfaccion</th>\n",
              "    </tr>\n",
              "    <tr>\n",
              "      <th>Tipologia</th>\n",
              "      <th></th>\n",
              "      <th></th>\n",
              "      <th></th>\n",
              "      <th></th>\n",
              "    </tr>\n",
              "  </thead>\n",
              "  <tbody>\n",
              "    <tr>\n",
              "      <th>ADSS</th>\n",
              "      <td>22.0</td>\n",
              "      <td>22.0</td>\n",
              "      <td>5.079668</td>\n",
              "      <td>1.638287</td>\n",
              "    </tr>\n",
              "    <tr>\n",
              "      <th>Maintenance</th>\n",
              "      <td>47.0</td>\n",
              "      <td>47.0</td>\n",
              "      <td>7.253504</td>\n",
              "      <td>1.531054</td>\n",
              "    </tr>\n",
              "  </tbody>\n",
              "</table>\n",
              "</div>"
            ],
            "text/plain": [
              "                       size                          std             \n",
              "            Leadtime (dias) Satisfaccion Leadtime (dias) Satisfaccion\n",
              "Tipologia                                                            \n",
              "ADSS                   22.0         22.0        5.079668     1.638287\n",
              "Maintenance            47.0         47.0        7.253504     1.531054"
            ]
          },
          "metadata": {
            "tags": []
          },
          "execution_count": 77
        }
      ]
    },
    {
      "cell_type": "code",
      "metadata": {
        "colab": {
          "base_uri": "https://localhost:8080/",
          "height": 437
        },
        "id": "xhURTXCeH5xg",
        "outputId": "9faafa16-3c1c-40be-ed4f-6bb9c3f5ab9a"
      },
      "source": [
        "#filtrando\n",
        "#ejemplo conocer registros de tipologia ADDS con satisfaccion iguala 4 o 5\n",
        "#base[(base['Satisfaccion']>=4) & (base['Satisfaccion']< 6) & (base['Tipologia'].str.startswith('A'))]\n",
        "\n",
        "base.query('Satisfaccion >= 4 & Satisfaccion < 6 & Tipologia.str.startswith(\"A\").values')\n"
      ],
      "execution_count": 93,
      "outputs": [
        {
          "output_type": "execute_result",
          "data": {
            "text/html": [
              "<div>\n",
              "<style scoped>\n",
              "    .dataframe tbody tr th:only-of-type {\n",
              "        vertical-align: middle;\n",
              "    }\n",
              "\n",
              "    .dataframe tbody tr th {\n",
              "        vertical-align: top;\n",
              "    }\n",
              "\n",
              "    .dataframe thead th {\n",
              "        text-align: right;\n",
              "    }\n",
              "</style>\n",
              "<table border=\"1\" class=\"dataframe\">\n",
              "  <thead>\n",
              "    <tr style=\"text-align: right;\">\n",
              "      <th></th>\n",
              "      <th>ID</th>\n",
              "      <th>Tarea</th>\n",
              "      <th>Tipologia</th>\n",
              "      <th>Fecha Seleccionada</th>\n",
              "      <th>Fecha Done</th>\n",
              "      <th>Leadtime (dias)</th>\n",
              "      <th>Semana Seleccionado</th>\n",
              "      <th>Semana Done</th>\n",
              "      <th>Satisfaccion</th>\n",
              "    </tr>\n",
              "  </thead>\n",
              "  <tbody>\n",
              "    <tr>\n",
              "      <th>23</th>\n",
              "      <td>Ag43</td>\n",
              "      <td>Ag411</td>\n",
              "      <td>ADSS</td>\n",
              "      <td>1/07/2019</td>\n",
              "      <td>4/07/2019</td>\n",
              "      <td>4.0</td>\n",
              "      <td>27</td>\n",
              "      <td>27.0</td>\n",
              "      <td>5.0</td>\n",
              "    </tr>\n",
              "    <tr>\n",
              "      <th>24</th>\n",
              "      <td>Er358</td>\n",
              "      <td>Er424</td>\n",
              "      <td>ADSS</td>\n",
              "      <td>4/07/2019</td>\n",
              "      <td>5/07/2019</td>\n",
              "      <td>2.0</td>\n",
              "      <td>27</td>\n",
              "      <td>27.0</td>\n",
              "      <td>5.0</td>\n",
              "    </tr>\n",
              "    <tr>\n",
              "      <th>25</th>\n",
              "      <td>So152</td>\n",
              "      <td>So420</td>\n",
              "      <td>ADSS</td>\n",
              "      <td>1/07/2019</td>\n",
              "      <td>1/07/2019</td>\n",
              "      <td>1.0</td>\n",
              "      <td>27</td>\n",
              "      <td>27.0</td>\n",
              "      <td>5.0</td>\n",
              "    </tr>\n",
              "    <tr>\n",
              "      <th>26</th>\n",
              "      <td>Ca79</td>\n",
              "      <td>Ca49</td>\n",
              "      <td>ADSS</td>\n",
              "      <td>4/07/2019</td>\n",
              "      <td>4/07/2019</td>\n",
              "      <td>1.0</td>\n",
              "      <td>27</td>\n",
              "      <td>27.0</td>\n",
              "      <td>4.0</td>\n",
              "    </tr>\n",
              "    <tr>\n",
              "      <th>27</th>\n",
              "      <td>Ha188</td>\n",
              "      <td>Ha367</td>\n",
              "      <td>ADSS</td>\n",
              "      <td>25/06/2019</td>\n",
              "      <td>27/06/2019</td>\n",
              "      <td>3.0</td>\n",
              "      <td>26</td>\n",
              "      <td>26.0</td>\n",
              "      <td>4.0</td>\n",
              "    </tr>\n",
              "    <tr>\n",
              "      <th>28</th>\n",
              "      <td>IQ217</td>\n",
              "      <td>IQ332</td>\n",
              "      <td>ADSS</td>\n",
              "      <td>3/07/2019</td>\n",
              "      <td>5/07/2019</td>\n",
              "      <td>3.0</td>\n",
              "      <td>27</td>\n",
              "      <td>27.0</td>\n",
              "      <td>4.0</td>\n",
              "    </tr>\n",
              "    <tr>\n",
              "      <th>31</th>\n",
              "      <td>Re319</td>\n",
              "      <td>Re113</td>\n",
              "      <td>ADSS</td>\n",
              "      <td>24/06/2019</td>\n",
              "      <td>24/06/2019</td>\n",
              "      <td>1.0</td>\n",
              "      <td>26</td>\n",
              "      <td>26.0</td>\n",
              "      <td>5.0</td>\n",
              "    </tr>\n",
              "    <tr>\n",
              "      <th>32</th>\n",
              "      <td>Pr468</td>\n",
              "      <td>Pr472</td>\n",
              "      <td>ADSS</td>\n",
              "      <td>18/06/2019</td>\n",
              "      <td>21/06/2019</td>\n",
              "      <td>4.0</td>\n",
              "      <td>25</td>\n",
              "      <td>25.0</td>\n",
              "      <td>4.0</td>\n",
              "    </tr>\n",
              "    <tr>\n",
              "      <th>33</th>\n",
              "      <td>Va377</td>\n",
              "      <td>Va371</td>\n",
              "      <td>ADSS</td>\n",
              "      <td>8/07/2019</td>\n",
              "      <td>8/07/2019</td>\n",
              "      <td>1.0</td>\n",
              "      <td>28</td>\n",
              "      <td>28.0</td>\n",
              "      <td>5.0</td>\n",
              "    </tr>\n",
              "    <tr>\n",
              "      <th>34</th>\n",
              "      <td>So399</td>\n",
              "      <td>So424</td>\n",
              "      <td>ADSS</td>\n",
              "      <td>8/07/2019</td>\n",
              "      <td>9/07/2019</td>\n",
              "      <td>2.0</td>\n",
              "      <td>28</td>\n",
              "      <td>28.0</td>\n",
              "      <td>4.0</td>\n",
              "    </tr>\n",
              "    <tr>\n",
              "      <th>57</th>\n",
              "      <td>Co481</td>\n",
              "      <td>Co326</td>\n",
              "      <td>ADSS</td>\n",
              "      <td>17/12/2019</td>\n",
              "      <td>20/12/2019</td>\n",
              "      <td>4.0</td>\n",
              "      <td>51</td>\n",
              "      <td>51.0</td>\n",
              "      <td>5.0</td>\n",
              "    </tr>\n",
              "    <tr>\n",
              "      <th>61</th>\n",
              "      <td>Co386</td>\n",
              "      <td>Co59</td>\n",
              "      <td>ADSS</td>\n",
              "      <td>9/01/2020</td>\n",
              "      <td>13/01/2020</td>\n",
              "      <td>5.0</td>\n",
              "      <td>2</td>\n",
              "      <td>3.0</td>\n",
              "      <td>5.0</td>\n",
              "    </tr>\n",
              "    <tr>\n",
              "      <th>62</th>\n",
              "      <td>Co463</td>\n",
              "      <td>Co488</td>\n",
              "      <td>ADSS</td>\n",
              "      <td>19/02/2020</td>\n",
              "      <td>21/02/2020</td>\n",
              "      <td>3.0</td>\n",
              "      <td>8</td>\n",
              "      <td>8.0</td>\n",
              "      <td>4.0</td>\n",
              "    </tr>\n",
              "  </tbody>\n",
              "</table>\n",
              "</div>"
            ],
            "text/plain": [
              "       ID  Tarea Tipologia  ... Semana Seleccionado Semana Done  Satisfaccion\n",
              "23   Ag43  Ag411      ADSS  ...                  27        27.0           5.0\n",
              "24  Er358  Er424      ADSS  ...                  27        27.0           5.0\n",
              "25  So152  So420      ADSS  ...                  27        27.0           5.0\n",
              "26   Ca79   Ca49      ADSS  ...                  27        27.0           4.0\n",
              "27  Ha188  Ha367      ADSS  ...                  26        26.0           4.0\n",
              "28  IQ217  IQ332      ADSS  ...                  27        27.0           4.0\n",
              "31  Re319  Re113      ADSS  ...                  26        26.0           5.0\n",
              "32  Pr468  Pr472      ADSS  ...                  25        25.0           4.0\n",
              "33  Va377  Va371      ADSS  ...                  28        28.0           5.0\n",
              "34  So399  So424      ADSS  ...                  28        28.0           4.0\n",
              "57  Co481  Co326      ADSS  ...                  51        51.0           5.0\n",
              "61  Co386   Co59      ADSS  ...                   2         3.0           5.0\n",
              "62  Co463  Co488      ADSS  ...                   8         8.0           4.0\n",
              "\n",
              "[13 rows x 9 columns]"
            ]
          },
          "metadata": {
            "tags": []
          },
          "execution_count": 93
        }
      ]
    },
    {
      "cell_type": "code",
      "metadata": {
        "colab": {
          "base_uri": "https://localhost:8080/",
          "height": 334
        },
        "id": "-EWeWguMlrRb",
        "outputId": "4a7bd28d-e970-41ec-f2bf-a3fe49aa8238"
      },
      "source": [
        "table2.plot(kind='bar');"
      ],
      "execution_count": 94,
      "outputs": [
        {
          "output_type": "display_data",
          "data": {
            "image/png": "[encoded data removed]",
            "text/plain": [
              "<Figure size 432x288 with 1 Axes>"
            ]
          },
          "metadata": {
            "tags": [],
            "needs_background": "light"
          }
        }
      ]
    },
    {
      "cell_type": "code",
      "metadata": {
        "colab": {
          "base_uri": "https://localhost:8080/",
          "height": 675
        },
        "id": "5euZzzjRsce2",
        "outputId": "bc3f6ec1-6781-4555-eb47-def574512155"
      },
      "source": [
        "#Histograma satisfaccion clientes\n",
        "#crear tabla\n",
        "table3 = pd.pivot_table(base,index=['Satisfaccion'],values=['ID'],aggfunc=np.size)\n",
        "print(table3)\n",
        "\n",
        "#visualizar grafico\n",
        "table3.plot(kind='bar');\n",
        "\n",
        "#otra forma para crear histograma\n",
        "base.plot(y='Satisfaccion',kind='hist')"
      ],
      "execution_count": 6,
      "outputs": [
        {
          "output_type": "stream",
          "text": [
            "              ID\n",
            "Satisfaccion    \n",
            "1.0           15\n",
            "2.0            9\n",
            "3.0            7\n",
            "4.0           17\n",
            "5.0           21\n"
          ],
          "name": "stdout"
        },
        {
          "output_type": "execute_result",
          "data": {
            "text/plain": [
              "<matplotlib.axes._subplots.AxesSubplot at 0x7f3781ebc410>"
            ]
          },
          "metadata": {
            "tags": []
          },
          "execution_count": 6
        },
        {
          "output_type": "display_data",
          "data": {
            "image/png": "[encoded data removed]",
            "text/plain": [
              "<Figure size 432x288 with 1 Axes>"
            ]
          },
          "metadata": {
            "tags": [],
            "needs_background": "light"
          }
        },
        {
          "output_type": "display_data",
          "data": {
            "image/png": "[encoded data removed]",
            "text/plain": [
              "<Figure size 432x288 with 1 Axes>"
            ]
          },
          "metadata": {
            "tags": [],
            "needs_background": "light"
          }
        }
      ]
    },
    {
      "cell_type": "code",
      "metadata": {
        "colab": {
          "base_uri": "https://localhost:8080/",
          "height": 847
        },
        "id": "J39iV68ooX1s",
        "outputId": "8c9667d0-8190-4541-fbb5-4feb40ad11bf"
      },
      "source": [
        "#Histograma leadtime\n",
        "#crear tabla\n",
        "table4 = pd.pivot_table(base,index=['Leadtime (dias)'],values=['ID'],aggfunc=np.size)\n",
        "print(table4)\n",
        "\n",
        "#crear grafico\n",
        "table4.plot(kind='line');\n",
        "\n",
        "#otra forma para crear histograma\n",
        "base.plot(y='Leadtime (dias)',kind='hist')"
      ],
      "execution_count": 7,
      "outputs": [
        {
          "output_type": "stream",
          "text": [
            "                 ID\n",
            "Leadtime (dias)    \n",
            "1.0               7\n",
            "2.0               9\n",
            "3.0              13\n",
            "4.0               8\n",
            "5.0               9\n",
            "6.0               3\n",
            "8.0               1\n",
            "11.0              1\n",
            "12.0              2\n",
            "14.0              3\n",
            "16.0              6\n",
            "17.0              1\n",
            "19.0              4\n",
            "26.0              1\n",
            "29.0              1\n"
          ],
          "name": "stdout"
        },
        {
          "output_type": "execute_result",
          "data": {
            "text/plain": [
              "<matplotlib.axes._subplots.AxesSubplot at 0x7f37818e7d50>"
            ]
          },
          "metadata": {
            "tags": []
          },
          "execution_count": 7
        },
        {
          "output_type": "display_data",
          "data": {
            "image/png": "[encoded data removed]",
            "text/plain": [
              "<Figure size 432x288 with 1 Axes>"
            ]
          },
          "metadata": {
            "tags": [],
            "needs_background": "light"
          }
        },
        {
          "output_type": "display_data",
          "data": {
            "image/png": "[encoded data removed]",
            "text/plain": [
              "<Figure size 432x288 with 1 Axes>"
            ]
          },
          "metadata": {
            "tags": [],
            "needs_background": "light"
          }
        }
      ]
    },
    {
      "cell_type": "code",
      "metadata": {
        "colab": {
          "base_uri": "https://localhost:8080/",
          "height": 581
        },
        "id": "jROPy65hxJ_5",
        "outputId": "72be149b-fc86-43fe-cfc3-8ca9eab79ab8"
      },
      "source": [
        "#Analisis de umbral de satisfaccion frente a leadtime\n",
        "#crear tabla\n",
        "table5 = pd.pivot_table(base,index=['Leadtime (dias)'],values=['Satisfaccion'],aggfunc=np.mean)\n",
        "print(table5)\n",
        "\n",
        "#graficar\n",
        "table5.plot(kind='area');"
      ],
      "execution_count": 8,
      "outputs": [
        {
          "output_type": "stream",
          "text": [
            "                 Satisfaccion\n",
            "Leadtime (dias)              \n",
            "1.0                  4.857143\n",
            "2.0                  4.666667\n",
            "3.0                  4.076923\n",
            "4.0                  3.875000\n",
            "5.0                  3.888889\n",
            "6.0                  2.000000\n",
            "8.0                  1.000000\n",
            "11.0                 2.000000\n",
            "12.0                 1.500000\n",
            "14.0                 1.333333\n",
            "16.0                 1.166667\n",
            "17.0                 2.000000\n",
            "19.0                 1.250000\n",
            "26.0                 1.000000\n",
            "29.0                 1.000000\n"
          ],
          "name": "stdout"
        },
        {
          "output_type": "display_data",
          "data": {
            "image/png": "[encoded data removed]",
            "text/plain": [
              "<Figure size 432x288 with 1 Axes>"
            ]
          },
          "metadata": {
            "tags": [],
            "needs_background": "light"
          }
        }
      ]
    },
    {
      "cell_type": "code",
      "metadata": {
        "colab": {
          "base_uri": "https://localhost:8080/",
          "height": 296
        },
        "id": "w82d9msGwHI9",
        "outputId": "781adee7-9161-4b31-cc35-98124c236a32"
      },
      "source": [
        "#grafico de dispersion:  leadtime VS satisfaccion\n",
        "\n",
        "base.plot(x='Leadtime (dias)',y='Satisfaccion',kind='scatter')"
      ],
      "execution_count": 9,
      "outputs": [
        {
          "output_type": "execute_result",
          "data": {
            "text/plain": [
              "<matplotlib.axes._subplots.AxesSubplot at 0x7f37817a7350>"
            ]
          },
          "metadata": {
            "tags": []
          },
          "execution_count": 9
        },
        {
          "output_type": "display_data",
          "data": {
            "image/png": "[encoded data removed]",
            "text/plain": [
              "<Figure size 432x288 with 1 Axes>"
            ]
          },
          "metadata": {
            "tags": [],
            "needs_background": "light"
          }
        }
      ]
    },
    {
      "cell_type": "markdown",
      "metadata": {
        "id": "s7OTIe8vzdF3"
      },
      "source": [
        "**Conclusión análisis de umbrales:**\n",
        "\n",
        "La satisfacción de los clientes disminuye cuando el tiempo de respuesta a los requerimientos de clientes excede los 5 días.\n",
        "\n",
        "Según análisis presentado en tabla 4, un 33% de los requerimientos sobrepasan este valor,  se deben analizar estos casos para determinar un patrón que explique dicho resultado."
      ]
    },
    {
      "cell_type": "markdown",
      "metadata": {
        "id": "K7kY5OKEObvG"
      },
      "source": [
        "\n",
        "\n",
        "---\n",
        "\n",
        "**Velocidad del equipo**"
      ]
    },
    {
      "cell_type": "code",
      "metadata": {
        "id": "QuEC8DHKGltT"
      },
      "source": [
        "#Velocidad semanal\n",
        "\n",
        "#construya su codigo aquí, analice y concluya\n",
        "\n",
        "\n",
        "#realice una simulación montecarlo con las semanas donde alcanzan estabilidad"
      ],
      "execution_count": 169,
      "outputs": []
    },
    {
      "cell_type": "code",
      "metadata": {
        "colab": {
          "base_uri": "https://localhost:8080/"
        },
        "id": "wdJgQcMha_eN",
        "outputId": "238ac6d6-f6ed-46ec-d6de-2037929786ae"
      },
      "source": [
        "\n",
        "\n",
        "multi_functions = pd.pivot_table(base, index = ['Tipologia', 'Satisfaccion'], values = 'Leadtime (dias)', aggfunc = [np.size, np.std]) \n",
        "print(multi_functions)\n"
      ],
      "execution_count": 20,
      "outputs": [
        {
          "output_type": "stream",
          "text": [
            "                                    size             std\n",
            "                         Leadtime (dias) Leadtime (dias)\n",
            "Tipologia   Satisfaccion                                \n",
            "ADSS        1.0                      5.0        5.215362\n",
            "            2.0                      4.0        4.242641\n",
            "            4.0                      6.0        1.032796\n",
            "            5.0                      7.0        1.718249\n",
            "Maintenance 1.0                     10.0        5.169354\n",
            "            2.0                      5.0        5.449771\n",
            "            3.0                      7.0        0.975900\n",
            "            4.0                     11.0        1.128152\n",
            "            5.0                     14.0        1.286019\n"
          ],
          "name": "stdout"
        }
      ]
    }
  ]
}