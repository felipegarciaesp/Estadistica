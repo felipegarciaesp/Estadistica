{
  "nbformat": 4,
  "nbformat_minor": 0,
  "metadata": {
    "colab": {
      "name": "Dist Binomial con python.ipynb",
      "provenance": [],
      "authorship_tag": "ABX9TyN7tVan31NAjhzam4tYn/UG",
      "include_colab_link": true
    },
    "kernelspec": {
      "name": "python3",
      "display_name": "Python 3"
    }
  },
  "cells": [
    {
      "cell_type": "markdown",
      "metadata": {
        "id": "view-in-github",
        "colab_type": "text"
      },
      "source": [
        "<a href=\"https://colab.research.google.com/github/robertomoragad/Estadistica/blob/master/Dist_Binomial_con_python.ipynb\" target=\"_parent\"><img src=\"https://colab.research.google.com/assets/colab-badge.svg\" alt=\"Open In Colab\"/></a>"
      ]
    },
    {
      "cell_type": "markdown",
      "metadata": {
        "id": "GKkZBc1iUamK"
      },
      "source": [
        "Objetivo: reforzar conocimientos de estadísticas aplicadas al análisis de datos, aplicando herramientas de programación y computación en la nube (Python y Google Colab)\n",
        "\n",
        "autor: Roberto Moraga Diaz - Lean Agile Coach\n",
        "\n",
        "puedes encontrar más info de notebooks aquí: https://github.com/robertomoragad/Estadistica"
      ]
    },
    {
      "cell_type": "code",
      "metadata": {
        "id": "O_hDgTBArGbr"
      },
      "source": [
        "#Importamos librerias de la siguiente forma: \n",
        "import numpy as np # importando numpy\n",
        "from scipy import stats # importando scipy.stats\n",
        "import matplotlib.pyplot as plt #importando matplotlib\n",
        "import pandas as pd #pandas"
      ],
      "execution_count": null,
      "outputs": []
    },
    {
      "cell_type": "markdown",
      "metadata": {
        "id": "QWWJ_9VSrxjl"
      },
      "source": [
        "##Ejercicio 1\n",
        "El jefe de recursos humanos de una empresa realiza un test de diez ítems a los aspirantes a un puesto, teniendo en cada ítems cuatro posibles respuestas, de las que solo una es correcta. Suponiendo que los aspirantes tienen la misma probabilidad de responder. \n",
        "Se pide hallar las probabilidades para el aspirante, que conteste:\n",
        "\n",
        "* a)  Todos los ítems mal \n",
        "* b)  Al menos cuatro ítems correctos \n",
        "* c)  Entre cuatro y seis ítems correctos \n",
        "* d)  Todos los ítems correctos \n",
        "* e)  Menos de tres ítems correctos\n"
      ]
    },
    {
      "cell_type": "code",
      "metadata": {
        "colab": {
          "base_uri": "https://localhost:8080/",
          "height": 312
        },
        "id": "T0SMJChLrbwn",
        "outputId": "35249b29-237a-42bd-df88-4c8fdf4d7055"
      },
      "source": [
        "# Definir parametros 𝑋~𝐵(n, p) \n",
        "\n",
        "n = 10\n",
        "p = 1/4\n",
        "\n",
        "#Crear distribucion binomial\n",
        "binomial = stats.binom(n, p) # Distribución binomial con Scipy\n",
        "x = np.arange(binomial.ppf(0.000001), #creamos conjunto de valores para x con el inverso de cdf (cumulative dist. function)\n",
        "              binomial.ppf(0.999999))\n",
        "print(x)\n",
        "fmp = binomial.pmf(x) #pmf: Función de Masa de Probabilidad\n",
        "\n",
        "#graficamos distribucion\n",
        "plt.plot(x, fmp, '--')\n",
        "plt.vlines(x, 0, fmp, colors='b', lw=10, alpha=0.5)\n",
        "plt.title('Distribución Binomial')\n",
        "plt.ylabel('probabilidad')\n",
        "plt.xlabel('valores')\n",
        "plt.show()"
      ],
      "execution_count": null,
      "outputs": [
        {
          "output_type": "stream",
          "text": [
            "[0. 1. 2. 3. 4. 5. 6. 7. 8.]\n"
          ],
          "name": "stdout"
        },
        {
          "output_type": "display_data",
          "data": {
            "image/png": "[encoded data removed]",
            "text/plain": [
              "<Figure size 432x288 with 1 Axes>"
            ]
          },
          "metadata": {
            "tags": [],
            "needs_background": "light"
          }
        }
      ]
    },
    {
      "cell_type": "code",
      "metadata": {
        "colab": {
          "base_uri": "https://localhost:8080/"
        },
        "id": "3T1MEqIfs7Pz",
        "outputId": "7f06bbc4-0aaf-4f1a-a553-4d5c9ba659a2"
      },
      "source": [
        "#ahora calcular las probabilidades para el aspirante\n",
        "\n",
        "#a) Todos los ítems mal \n",
        "cero = stats.binom(n, p).pmf(0) #usar pmf: Función de Masa de Probabilidad\n",
        "print ('prob 0 correcta: ', cero)\n"
      ],
      "execution_count": null,
      "outputs": [
        {
          "output_type": "stream",
          "text": [
            "prob 0 correcta:  0.056313514709472684\n"
          ],
          "name": "stdout"
        }
      ]
    },
    {
      "cell_type": "code",
      "metadata": {
        "colab": {
          "base_uri": "https://localhost:8080/"
        },
        "id": "RAtamsAo-Qhg",
        "outputId": "311238a4-078c-42eb-cb0a-0c74c42d6026"
      },
      "source": [
        "#a) Todos los ítems mal \n",
        "cero = stats.binom(n, p).pmf(0) #usar pmf: Función de Masa de Probabilidad\n",
        "print ('prob 0 correcta: ', cero)\n",
        "\n",
        "#b) Al menos cuatro ítems correctos \n",
        "prob_4_o_mas = 1 - stats.binom(n, p).cdf(3) #usar cdf: Funcion de dist. acumulada\n",
        "print('prob 4 o mas: ', prob_4_o_mas)\n",
        "\n",
        "#c) Entre cuatro y seis ítems correctos \n",
        "prob_4_a_6 = stats.binom(n, p).pmf(4) + stats.binom(n, p).pmf(5) + stats.binom(n, p).pmf(6)\n",
        "print('prob entre 4 y 6: ', prob_4_a_6)\n",
        "\n",
        "#otra forma con sustracción de prob\n",
        "prob_4_a_6b =  stats.binom(n, p).cdf(6)-stats.binom(n, p).cdf(3)\n",
        "print('prob entre 4 y 6*: ', prob_4_a_6b)\n",
        "\n"
      ],
      "execution_count": null,
      "outputs": [
        {
          "output_type": "stream",
          "text": [
            "prob 0 correcta:  0.056313514709472684\n",
            "prob 4 o mas:  0.22412490844726562\n",
            "prob entre 4 y 6:  0.2206192016601565\n",
            "prob entre 4 y 6*:  0.22061920166015625\n"
          ],
          "name": "stdout"
        }
      ]
    },
    {
      "cell_type": "code",
      "metadata": {
        "colab": {
          "base_uri": "https://localhost:8080/"
        },
        "id": "eNzVdXQIHGsc",
        "outputId": "8f3e4ead-4dd0-465d-8dc9-584c18e79671"
      },
      "source": [
        "#d) Todos los ítems correctos \n",
        "prob_10 = stats.binom(n, p).pmf(10)#usar pmf: Función de Masa de Probabilidad\n",
        "print('prob todos: ', prob_10)\n",
        "\n",
        "#e) Menos de tres ítems correctos\n",
        "prob_2_o_menos = stats.binom(n, p).cdf(2) #usar cdf: Funcion de dist. acumulada\n",
        "print('prob 2 o menos: ', prob_2_o_menos)"
      ],
      "execution_count": null,
      "outputs": [
        {
          "output_type": "stream",
          "text": [
            "prob todos:  9.5367431640625e-07\n",
            "prob 2 o menos:  0.5255928039550781\n"
          ],
          "name": "stdout"
        }
      ]
    },
    {
      "cell_type": "markdown",
      "metadata": {
        "id": "rqO7ayUf-2c2"
      },
      "source": [
        "##Ejercicio 2 \n",
        "En cada una de las diferentes competencias, Antonia tiene un 60% de posibilidades de ganar. Suponiendo que las competiciones sean independientes entre sí, \n",
        "\n",
        "* a) ¿cuál es la probabilidad de que Antonia gane 1 carrera de 4?\n",
        "\n",
        "* b) ¿cuál es la probabilidad de que Antonia gane al menos 1 carrera de 4?\n",
        "\n",
        "* c) ¿cuál es la probabilidad de que Antonia gane al menos 1 carrera de 10?"
      ]
    },
    {
      "cell_type": "code",
      "metadata": {
        "colab": {
          "base_uri": "https://localhost:8080/",
          "height": 312
        },
        "id": "fyLmDV2t_jWV",
        "outputId": "57c89daa-3217-46c9-a4b2-fb75c036096e"
      },
      "source": [
        "# Definir parametros 𝑋~𝐵(n, p) \n",
        "\n",
        "n = 4\n",
        "p = 0.6\n",
        "\n",
        "#Crear distribucion\n",
        "binomial = stats.binom(n, p) # Distribución binomial con Scipy\n",
        "x = np.arange(binomial.ppf(0.0001), #creamos conjunto de valores para x con el inverso de cdf (cumulative dist. function)\n",
        "              binomial.ppf(0.9999))\n",
        "print(x)\n",
        "fmp = binomial.pmf(x) #pmf: Función de Masa de Probabilidad\n",
        "\n",
        "#graficamos distribucion\n",
        "plt.plot(x, fmp, '--')\n",
        "plt.vlines(x, 0, fmp, colors='b', lw=10, alpha=0.5)\n",
        "plt.title('Distribución Binomial')\n",
        "plt.ylabel('probabilidad')\n",
        "plt.xlabel('valores')\n",
        "plt.show()"
      ],
      "execution_count": null,
      "outputs": [
        {
          "output_type": "stream",
          "text": [
            "[0. 1. 2. 3.]\n"
          ],
          "name": "stdout"
        },
        {
          "output_type": "display_data",
          "data": {
            "image/png": "[encoded data removed]",
            "text/plain": [
              "<Figure size 432x288 with 1 Axes>"
            ]
          },
          "metadata": {
            "tags": [],
            "needs_background": "light"
          }
        }
      ]
    },
    {
      "cell_type": "code",
      "metadata": {
        "colab": {
          "base_uri": "https://localhost:8080/"
        },
        "id": "pIiycvp3AO2B",
        "outputId": "a4b0ab2c-0213-4572-f963-c518b6788cc5"
      },
      "source": [
        "#ahora calcular las probabilidades para Antonia\n",
        "\n",
        "#a) ¿cuál es la probabilidad de que Antonia gane 1 carrera de 4?\n",
        "una = stats.binom(n, p).pmf(1) #usar pmf: Función de Masa de Probabilidad\n",
        "print ('prob gane 1 carrera de 4: ', una)\n"
      ],
      "execution_count": null,
      "outputs": [
        {
          "output_type": "stream",
          "text": [
            "prob gane 1 carrera de 4:  0.15360000000000007\n"
          ],
          "name": "stdout"
        }
      ]
    },
    {
      "cell_type": "code",
      "metadata": {
        "colab": {
          "base_uri": "https://localhost:8080/"
        },
        "id": "gaC4VbybBlbk",
        "outputId": "cd6d5c2c-261a-47b4-adc3-fe7008912eb4"
      },
      "source": [
        "#b) ¿cuál es la probabilidad de que Antonia gane al menos 1 carrera de 4?\n",
        "una_o_mas = 1 - stats.binom(n, p).pmf(0)  #usar pmf: Función de Masa de Probabilidad\n",
        "print ('prob gane al menos 1 de 4: ', una_o_mas)\n"
      ],
      "execution_count": null,
      "outputs": [
        {
          "output_type": "stream",
          "text": [
            "prob gane al menos 1 de 4:  0.9744\n"
          ],
          "name": "stdout"
        }
      ]
    },
    {
      "cell_type": "code",
      "metadata": {
        "colab": {
          "base_uri": "https://localhost:8080/"
        },
        "id": "I1vC0YxeBnLF",
        "outputId": "8c86699e-d091-48fc-af91-a876ec57db24"
      },
      "source": [
        "#c) ¿cuál es la probabilidad de que Antonia gane al menos 1 carrera de 10?\n",
        "\n",
        "n=10 #aqui cambia el numero de ensayos\n",
        "\n",
        "una_o_mas_de_10 = 1 - stats.binom(n, p).pmf(0)  #usar pmf: Función de Masa de Probabilidad\n",
        "print ('prob gane al menos 1 de 10: ', una_o_mas_de_10)"
      ],
      "execution_count": null,
      "outputs": [
        {
          "output_type": "stream",
          "text": [
            "prob gane al menos 1 de 10:  0.9998951424\n"
          ],
          "name": "stdout"
        }
      ]
    },
    {
      "cell_type": "code",
      "metadata": {
        "id": "DlV-bFKnwzEm"
      },
      "source": [
        ""
      ],
      "execution_count": null,
      "outputs": []
    }
  ]
}