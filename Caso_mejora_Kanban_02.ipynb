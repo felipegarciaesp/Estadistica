{
  "nbformat": 4,
  "nbformat_minor": 0,
  "metadata": {
    "colab": {
      "provenance": [],
      "toc_visible": true,
      "include_colab_link": true
    },
    "kernelspec": {
      "name": "python3",
      "display_name": "Python 3"
    },
    "language_info": {
      "name": "python"
    }
  },
  "cells": [
    {
      "cell_type": "markdown",
      "metadata": {
        "id": "view-in-github",
        "colab_type": "text"
      },
      "source": [
        "<a href=\"https://colab.research.google.com/github/robertomoragad/Estadistica/blob/master/Caso_mejora_Kanban_02.ipynb\" target=\"_parent\"><img src=\"https://colab.research.google.com/assets/colab-badge.svg\" alt=\"Open In Colab\"/></a>"
      ]
    },
    {
      "cell_type": "code",
      "execution_count": null,
      "metadata": {
        "id": "6pBk7Ct_MxYR"
      },
      "outputs": [],
      "source": [
        "#Importamos librerias\n",
        "import numpy as np #\n",
        "from scipy import stats \n",
        "import matplotlib.pyplot as plt \n"
      ]
    },
    {
      "cell_type": "markdown",
      "source": [
        "#Caso de estudio \n",
        "##mejora del delivery en unidad de BI-BigData"
      ],
      "metadata": {
        "id": "t-xNfH82beGN"
      }
    },
    {
      "cell_type": "markdown",
      "source": [
        "##Introducción\n",
        "\n",
        "Durante el año 2018 tuve la oportunidad de unirme a una Gerencia de BI-Bigdata en una institución de telecomunicaciones, donde me desempeñé con el rol de Agile Coach.\n",
        "\n",
        "Una de las actividades que desarrollé en esta organización fue contribuir a modelar las nuevas formas de trabajo (way of working). \n",
        "\n",
        "En esta organización introdujimos algunos accionables con el propósito de mejorar la conexión de los equipos y la capacidad de los mismos para acelerar la entrega de productos y la efectividad al negocio (clientes).\n",
        "\n",
        "<img src='https://drive.google.com/uc?export=view&id=1akl6s-8bZ0m-Fr8XvXKEumLZt1Ox14CH' width=\"200\" align=\"center\" style=\"margin-right: 20px\"> \n",
        "<br>\n",
        "\n",
        "Accionables:\n",
        "* Entrenamiento en Lean-Agile\n",
        "* Definición de Propósito de equipos\n",
        "* Modelar value stream mapping\n",
        "* Identificar clientes, Stakeholders y tipologías de servicios\n",
        "* Diseño de equipos y capacity planning\n",
        "* Incorporar herramienta Jira\n",
        "* Implementar Kanban (con foco en: visualizar flujo, limitar WIP, métricas de flujo)\n",
        "* Iteraciones semanales con cadencia organizacional\n",
        "* Acompañamiento a equipos\n",
        "\n",
        "\n",
        "\n",
        "\n",
        "<img src='https://drive.google.com/uc?export=view&id=1TJtx2AxUxL3FPe33W1g47DUcbiKaPWul' width=\"500\" align=\"center\" style=\"margin-right: 20px\"> \n",
        "<br>\n",
        "\n",
        "\n",
        "<p style=\"font-size:8pt\"> \n",
        "Imagen gentileza de: Roberto Moraga </p>\n"
      ],
      "metadata": {
        "id": "Vu3J12bRIT6_"
      }
    },
    {
      "cell_type": "markdown",
      "source": [
        "###Resultados generales\n",
        "En la siguiente imagen se puede apreciar una gráfica de control con la evolución en el tiempo de la métrica \"lead time\", que es aquella que nos indica cuánto tiempo demora un producto desde que ingresa al backlog del equipo, hasta que este queda liberado para el cliente.\n",
        "\n",
        "Las primeras 5 semanas, muestran los datos sin la implementación del nuevo método de trabajo, mientras que las siguientes 5 incorporán los resultados producto de la adopción del método Kanban.\n",
        "\n",
        "**Gráfico de control** \n",
        "<img src='https://drive.google.com/uc?export=view&id=1L17GhDIHs2scDGAfFo9m-ma2QghaBUr-' width=\"800\" align=\"center\" style=\"margin-right: 20px\"> \n",
        "<br>\n",
        "\n",
        "<p style=\"font-size:8pt\"> \n",
        "Imagen gentileza de: Roberto Moraga </p>\n",
        "\n",
        "---\n",
        "**Estadísticos:**\n",
        "\n",
        "Antes de Kanban:\n",
        "* Media leadtime: 24.9\n",
        "* Sigma leadtime: 19.0\n",
        "* Throughput semanal: 5.8\n",
        "\n",
        "Con método Kanban:\n",
        "* Media leadtime: 8.7\n",
        "* Sigma leadtime: 5.7\n",
        "* Throughput semanal: 8.2"
      ],
      "metadata": {
        "id": "pCX2Za-kbobt"
      }
    },
    {
      "cell_type": "markdown",
      "source": [
        "Se puede concluir que la incorporación del nuevo Way of working generó:\n",
        "\n",
        "\n",
        "*   Una reducción de los tiempos de entrega (lead time) en 65%.\n",
        "*   Un aumento de la velocidad (throughput) de 41%\n",
        "*   Una dismución de la variabilidad de los tiempos de entrega (leadtime) en 70%.\n",
        "\n",
        "<img src='https://drive.google.com/uc?export=view&id=1_o4WWCv1a7GA8AuX19lq9OLTyphd4myz' width=\"300\" align=\"center\" style=\"margin-right: 20px\"> \n",
        "<br>\n",
        "\n",
        "<p style=\"font-size:7pt\"> \n",
        "Planificación del backlog.  Imagen gentileza de: Roberto Moraga </p>"
      ],
      "metadata": {
        "id": "3cD10onOML9B"
      }
    },
    {
      "cell_type": "markdown",
      "source": [
        "##Análisis de datos\n",
        "\n",
        "Veamos en detalle estos resultados y las pruebas estadísticas asociadas, para determinar la relavancia estadística y práctica del efecto generado."
      ],
      "metadata": {
        "id": "ECT9qBypbVh8"
      }
    },
    {
      "cell_type": "markdown",
      "source": [
        "###Cargar data sets"
      ],
      "metadata": {
        "id": "9F1pHsWVdg6V"
      }
    },
    {
      "cell_type": "code",
      "source": [
        "#cargar data sets de Lead time desde Base de datos Jira\n",
        "#a: periodo de 5 semanas sin metodo Kanban\n",
        "#b: periodo de 5 semanas con metodo Kanban\n",
        "\n",
        "a = (39.12, 22.65, 25.99, 0.40, 40.73, 6.47, 25.26, 11.58, 4.22, 23.65, 44.07, 27.06, 46.23, 53.32, 17.15, 61.51, 7.30, 5.45, 6.85, 2.42, 25.39, 5.21, 10.26, 61.07, 27.77, 54.20, 29.04, 0.08, 38.37)\n",
        "\n",
        "b = (13.65, 8.87, 9.87, 0.70, 14.10, 3.54, 9.66, 5.36, 2.65, 9.17, 15.03, 10.19, 15.62, 17.55, 7.17, 19.74, 3.85, 3.15, 3.68, 1.85, 9.70, 3.05, 4.90, 19.63, 10.40, 17.79, 10.77, 0.37, 13.44, 18.99, 2.14, 3.95, 11.01, 8.63, 17.26, 3.49, 9.17, 2.14, 3.96, 5.27, 6.51)\n",
        "\n",
        "#calcular estadisticos data set\n",
        "xbar_a= np.average(a)\n",
        "s_a= np.std(a, ddof=1)\n",
        "print('Antes de adoptar Kanban:')\n",
        "print('-media muestra: ', xbar_a)\n",
        "print('-sigma muestra: ', s_a)\n",
        "\n",
        "xbar_b= np.average(b)\n",
        "s_b= np.std(b, ddof=1)\n",
        "print('Con adopción de Kanban:')\n",
        "print('-media muestra: ', xbar_b)\n",
        "print('-sigma muestra: ', s_b)\n",
        "\n",
        "#graficar distribucion de muestras\n",
        "plt.figure(figsize=(10, 5)) # tamaño gráfico\n",
        "plt.hist(a, bins=9, density='true', alpha=0.25) # sin kanban\n",
        "plt.hist(b, bins=3, density='true', alpha=0.25) # con kanban\n",
        "plt.show()\n"
      ],
      "metadata": {
        "colab": {
          "base_uri": "https://localhost:8080/",
          "height": 431
        },
        "id": "c1rSmCByGzVe",
        "outputId": "7feb49ad-2de6-4e5e-b12c-e16835cf86ce"
      },
      "execution_count": null,
      "outputs": [
        {
          "output_type": "stream",
          "name": "stdout",
          "text": [
            "Antes de adoptar Kanban:\n",
            "-media muestra:  24.924827586206895\n",
            "-sigma muestra:  19.041295465511954\n",
            "Con adopción de Kanban:\n",
            "-media muestra:  8.730975609756097\n",
            "-sigma muestra:  5.748313580902685\n"
          ]
        },
        {
          "output_type": "display_data",
          "data": {
            "text/plain": [
              "<Figure size 720x360 with 1 Axes>"
            ],
            "image/png": "[encoded data removed]"
          },
          "metadata": {
            "needs_background": "light"
          }
        }
      ]
    },
    {
      "cell_type": "markdown",
      "source": [
        "###Definir umbral para calcular proporción de SLA (service level agreement)\n",
        "Con solo ver las gráficas de distribución de ambas muestras, podemos darnos cuentas que estas distribuciones son asimétricas y en consecuencia no siguen una distribución Normal.\n",
        "\n",
        "Por esta razón no podremos realizar un prueba de diferencia de medias con la prueba paramétrica T-Student. \n",
        "\n",
        "Aquí tenemos 2 opciones:\n",
        "\n",
        "\n",
        "\n",
        "1.   Realizar una prueba no paramétrica, por ejemplo de diferencia de medianas.\n",
        "2.   Realizar una prueba paramétrica de diferencia de proporciones.\n",
        "\n",
        "\n",
        "Para la opción #1 aplicaremos la prueba no paramétrica de Mann Whitney U, que se aplica a muestras independientes, cuya hipótesis nula es que la distribución de ambas muestras es la misma.\n",
        "Y su Hipótesis alternativa dice que los valores de una de las muestras tienden a exceder a los de la otra.\n",
        "\n"
      ],
      "metadata": {
        "id": "oRPw0FdWdoKR"
      }
    },
    {
      "cell_type": "code",
      "source": [
        "#Prueba No Parametrica, Mann Whitney U , Test de hipotesis diferencia de Medianas\n",
        "res = stats.mannwhitneyu(a, b, use_continuity=True, alternative='two-sided',method='exact')\n",
        "print(res)"
      ],
      "metadata": {
        "colab": {
          "base_uri": "https://localhost:8080/"
        },
        "id": "hM0_oCcIfCCs",
        "outputId": "e4ec3af8-4e28-45c4-fdfc-525f61b2e0e1"
      },
      "execution_count": null,
      "outputs": [
        {
          "output_type": "stream",
          "name": "stdout",
          "text": [
            "MannwhitneyuResult(statistic=895.0, pvalue=0.0002471746576377251)\n"
          ]
        }
      ]
    },
    {
      "cell_type": "markdown",
      "source": [
        "Resultado:\n",
        "\n",
        "  *Se rechaza la Hipótesis nula, las muestras tienen distribuciones diferentes.*"
      ],
      "metadata": {
        "id": "6Qq1Zheuf1jF"
      }
    },
    {
      "cell_type": "markdown",
      "source": [
        "Para la opción #2 aplicaremos la prueba de Diferencia de proporciones, que es mi favorita, ya que podremos hacer un análisis de 'potencia de prueba' en la eventualidad de que se rechace la Hipótesis nula, misma que indica que las proporciones son iguales.\n",
        "\n",
        "El punto aquí es que nuestra variable de estudio es el 'lead time', una variable continua del tiempo de entrega, y nosotros necesitamos proporciones para efectuar la Prueba de hipótesis.  Por esta razón es que se definió un umbral máximo para el leadtime, igual a 10 días.  \n",
        "Gracias a esto fue posible calcular en cada muestra el porcentaje de productos que tuvieron un tiempo de entrega menor o igual a 10 días, y con estas proporciones procedimos a aplicar la Prueba de diferencia de proporciones.\n",
        "\n",
        "###Calcular proporciones"
      ],
      "metadata": {
        "id": "miLTWoPIgM9Z"
      }
    },
    {
      "cell_type": "code",
      "source": [
        "#Umbral Target service time\n",
        "k = 10 #days\n",
        "\n",
        "#Momento 1 (sin kanban)\n",
        "data = a\n",
        "\n",
        "#Contador cumplimiento Umbral  \n",
        "count = 0\n",
        "for i in data : \n",
        "    if i <= k : \n",
        "        count = count + 1\n",
        "\n",
        "#calculo estadistica descriptiva\n",
        "muestra_a = np.size(data)\n",
        "media_a = np.mean(data)\n",
        "mediana_a = np.median(data)\n",
        "per75_a = np.percentile(data, 75)\n",
        "sigma_a = np.std(data, ddof=1)\n",
        "\n",
        "#calculo indicador negocio SLA\n",
        "q_target_a = count\n",
        "sla_a = count/muestra_a\n",
        "\n",
        "#Graficar\n",
        "plt.figure(figsize=(8, 5)) #tamaño grafico\n",
        "plt.hist(data, bins=9, range=[0, 62], alpha=0.5, density=\"true\")\n",
        "plt.vlines(ymin=0, ymax=0.1, x=k, colors='r')#Z critico\n",
        "plt.legend(['Target', 'leadtime'],bbox_to_anchor=(1.1,1.05))\n",
        "plt.show()\n",
        "\n",
        "print('Datos con sistema de trabajo sin kanban  | 1° Momento:')\n",
        "print('muestra: ', muestra_a)\n",
        "print(\"Cantidad en target: \", q_target_a)\n",
        "print(\"Cumplimiento target: \", sla_a)\n",
        "print('media: ', media_a)\n",
        "print('mediana: ', mediana_a)\n",
        "print('cuartil 3: ', per75_a)\n",
        "print('desv. std: ', sigma_a)"
      ],
      "metadata": {
        "colab": {
          "base_uri": "https://localhost:8080/",
          "height": 467
        },
        "id": "7KOC-_PkLubL",
        "outputId": "ac4233a2-015c-4a0b-c311-4a6ffda9576a"
      },
      "execution_count": null,
      "outputs": [
        {
          "output_type": "display_data",
          "data": {
            "text/plain": [
              "<Figure size 576x360 with 1 Axes>"
            ],
            "image/png": "[encoded data removed]"
          },
          "metadata": {
            "needs_background": "light"
          }
        },
        {
          "output_type": "stream",
          "name": "stdout",
          "text": [
            "Datos con sistema de trabajo sin kanban  | 1° Momento:\n",
            "muestra:  29\n",
            "Cantidad en target:  9\n",
            "Cumplimiento target:  0.3103448275862069\n",
            "media:  24.924827586206895\n",
            "mediana:  25.26\n",
            "cuartil 3:  39.12\n",
            "desv. std:  19.041295465511954\n"
          ]
        }
      ]
    },
    {
      "cell_type": "code",
      "source": [
        "#Umbral Target service time\n",
        "k = 10 #days\n",
        "\n",
        "#Momento 2 (con kanban)\n",
        "data = b\n",
        "\n",
        "#Contador cumplimiento Umbral  \n",
        "count = 0\n",
        "for i in data : \n",
        "    if i <= k : \n",
        "        count = count + 1\n",
        "\n",
        "#calculo estadistica descriptiva\n",
        "muestra_b = np.size(data)\n",
        "media_b = np.mean(data)\n",
        "mediana_b = np.median(data)\n",
        "per75_b = np.percentile(data, 75)\n",
        "sigma_b = np.std(data, ddof=1)\n",
        "\n",
        "#calculo indicador negocio SLA\n",
        "q_target_b = count\n",
        "sla_b = count/muestra_b\n",
        "\n",
        "#Graficar\n",
        "plt.figure(figsize=(8, 5)) #tamaño grafico\n",
        "plt.hist(data, bins=9, range=[0, 62], alpha=0.5, density=\"true\")\n",
        "plt.vlines(ymin=0, ymax=0.1, x=k, colors='r')#Z critico\n",
        "plt.legend(['Target', 'leadtime'],bbox_to_anchor=(1.1,1.05))\n",
        "plt.show()\n",
        "\n",
        "print('Datos con sistema de trabajo con kanban  | 2° Momento:')\n",
        "print('muestra: ', muestra_b)\n",
        "print(\"Cantidad en target: \", q_target_b)\n",
        "print(\"Cumplimiento target: \", sla_b)\n",
        "print('media: ', media_b)\n",
        "print('mediana: ', mediana_b)\n",
        "print('cuartil 3: ', per75_b)\n",
        "print('desv. std: ', sigma_b)"
      ],
      "metadata": {
        "colab": {
          "base_uri": "https://localhost:8080/",
          "height": 467
        },
        "id": "9-VZnVIENXKi",
        "outputId": "fb616f5c-504a-46ac-a1b7-3b3f94b62cc6"
      },
      "execution_count": null,
      "outputs": [
        {
          "output_type": "display_data",
          "data": {
            "text/plain": [
              "<Figure size 576x360 with 1 Axes>"
            ],
            "image/png": "[encoded data removed]"
          },
          "metadata": {
            "needs_background": "light"
          }
        },
        {
          "output_type": "stream",
          "name": "stdout",
          "text": [
            "Datos con sistema de trabajo con kanban  | 2° Momento:\n",
            "muestra:  41\n",
            "Cantidad en target:  26\n",
            "Cumplimiento target:  0.6341463414634146\n",
            "media:  8.730975609756097\n",
            "mediana:  8.87\n",
            "cuartil 3:  13.44\n",
            "desv. std:  5.748313580902685\n"
          ]
        }
      ]
    },
    {
      "cell_type": "markdown",
      "source": [
        "###Prueba de diferencia de proporciones"
      ],
      "metadata": {
        "id": "xlKnZS6WiJpC"
      }
    },
    {
      "cell_type": "code",
      "source": [
        "#Analisis post hoc utilizando prueba de diferencia de 2 proporciones***\n",
        "\n",
        "## 1) cargar datos muestras: tamaño (n), proporcion (p)\n",
        "#muestra 1 (control)\n",
        "n_1 = muestra_a\n",
        "p_1 = sla_a\n",
        "\n",
        "#muestra 2 (experimental)\n",
        "n_2 = muestra_b\n",
        "p_2 = sla_b\n",
        "\n",
        "\n",
        "## 2) Determinar Nivel de Significancia\n",
        "alpha = 0.05\n",
        "\n",
        "\n",
        "#calcular Z critico 2 colas con Scipy\n",
        "Zcritico = stats.norm.ppf(1 - (alpha/2))\n",
        "print ('Z critico: ',Zcritico)\n",
        "\n",
        "## 3) Estimar el IC de la diferencia de proporciones\n",
        "#'Sigma diferencias  proporciones' es de la siguiente forma:\n",
        "#Calcular Desv. Standar de las diferencias de proporciones\n",
        "Sp_1p_2 = np.sqrt( (p_1*(1-p_1)/n_1) + (p_2*(1-p_2)/n_2))\n",
        "\n",
        "print('S diferencia proporciones: ',Sp_1p_2)\n",
        "\n",
        "#IC diferencia proporciones al 1-alpha:\n",
        "LI = (p_1 - p_2) - Zcritico * Sp_1p_2\n",
        "LS = (p_1 - p_2) + Zcritico * Sp_1p_2\n",
        "print('IC diferencia proporciones al', 1-alpha, 'NC : ', LI, LS)\n",
        "\n",
        "#otra forma con Scipy\n",
        "IC = stats.norm.interval(1-alpha, loc=p_1 - p_2, scale=Sp_1p_2)\n",
        "print('IC diferencia proporciones al', 1-alpha, 'NC : ', IC)\n",
        "\n",
        "\n",
        "#Graficar\n",
        "#proyectar distribucion diferencia proporciones\n",
        "dif_prop = stats.norm(p_1 - p_2,Sp_1p_2 )\n",
        "x_dif_prop = np.linspace(dif_prop.ppf(0.01), dif_prop.ppf(0.99), 100)\n",
        "pdf_dif_prop = dif_prop.pdf(x_dif_prop) #funcion densidad probabilidad\n",
        "\n",
        "plt.figure(figsize=(10, 5)) #tamaño grafico\n",
        "plt.plot(x_dif_prop, pdf_dif_prop,\"b\", ) #medias h1 fit\n",
        "plt.vlines(ymin=0, ymax=5, x=LI)#Limite inf\n",
        "plt.vlines(ymin=0, ymax=5, x=LS)#Limite sup\n",
        "plt.legend(['Dif propor','Limit Inf', 'Limit Sup'],bbox_to_anchor=(1.1,1.05))\n",
        "plt.show()"
      ],
      "metadata": {
        "colab": {
          "base_uri": "https://localhost:8080/",
          "height": 397
        },
        "id": "M9Aa4GbqNXP0",
        "outputId": "c6e8af4e-92e2-4300-98a9-355ac2ba53f4"
      },
      "execution_count": null,
      "outputs": [
        {
          "output_type": "stream",
          "name": "stdout",
          "text": [
            "Z critico:  1.959963984540054\n",
            "S diferencia proporciones:  0.11418856798948211\n",
            "IC diferencia proporciones al 0.95 NC :  -0.5476069945827959 -0.09999603317161951\n",
            "IC diferencia proporciones al 0.95 NC :  (-0.5476069945827959, -0.09999603317161951)\n"
          ]
        },
        {
          "output_type": "display_data",
          "data": {
            "text/plain": [
              "<Figure size 720x360 with 1 Axes>"
            ],
            "image/png": "[encoded data removed]"
          },
          "metadata": {
            "needs_background": "light"
          }
        }
      ]
    },
    {
      "cell_type": "markdown",
      "source": [
        "*Resultado: se puede apreciar que el intervalo de Confianza de la diferencia de proporciones no incluye el valor 0.*"
      ],
      "metadata": {
        "id": "lsVnoO_-iR9q"
      }
    },
    {
      "cell_type": "code",
      "source": [
        "#4) plantear hipotesis\n",
        " # H0:  Prop 1 = Prop 2\n",
        " # H1:  Prop 1 ≠ Prop 2\n",
        "\n",
        "#regla decision (2 colas)\n",
        " # no rechazar H0 si: -Zcritico <= Z <= Zcritico\n",
        " # rechazar HO si: Z < -Zcritico o Z > Zcritico\n",
        "\n",
        "\n",
        "## 5) Calcular el estadístico Z crítico a emplear\n",
        "Zcritico = Zcritico #fue obtenido en paso anterior\n",
        "\n",
        "\n",
        "## 6) Determinar el tipo de test, una o dos colas.\n",
        "#como la hipotesis alternativa es del tipo “diferente de” se trata de un test de dos colas\n",
        "#Nota: Se recomienda utilizar el contraste bilateral para estos análisis dado que éstos \n",
        "#requieren una mayor diferencia para detectar una misma potencia\n",
        "\n",
        "\n",
        "## 7 ) Calcular el estadístico Z de prueba\n",
        "\n",
        "Z = ( p_1 - p_2 - 0) / Sp_1p_2\n",
        "print('Z prueba: ', Z)\n",
        "\n",
        "## 8) Calcular el p-value y comparación con el nivel de significancia establecido.\n",
        "#calcular p-value\n",
        "pvalue = (stats.norm.cdf(Z)) #Z prueba se encuentra en cola izq\n",
        "print('p-value (significancia estadística): ', pvalue*2) #2 colas multiplicar por 2\n",
        "\n",
        "## 9) Concluir prueba de hipotesis:\n",
        "#como Z prueba se encuetra en la Zona de No Rechazo, es decir dentro de -1,96 y 1,96, No se puede rechazar la H0, las proporciones no son diferentes.\n",
        "#p-value es mayor al nivel de significancia (alpha= 0.05)"
      ],
      "metadata": {
        "colab": {
          "base_uri": "https://localhost:8080/"
        },
        "id": "-NPPWLUyOuqF",
        "outputId": "ac047773-d9bf-4965-afed-8bbd5518016c"
      },
      "execution_count": null,
      "outputs": [
        {
          "output_type": "stream",
          "name": "stdout",
          "text": [
            "Z prueba:  -2.835673654362957\n",
            "p-value (significancia estadística):  0.00457291470117414\n"
          ]
        }
      ]
    },
    {
      "cell_type": "markdown",
      "source": [
        "Resultado:\n",
        "\n",
        "\n",
        "*debido a que p-value 0.004 es menor al Novel de significancia (alpha= 0.05) pre-seteado, se rechaza la Hipótesis nula, por tanto existen diferencias estadísticamente significativas entre las proporciones muestrales.*\n",
        "\n",
        "Como se rechaza la Hipótesis nula, es recomendable realizar un análisis de potencia de prueba para medir la relevancia del efecto creado.\n"
      ],
      "metadata": {
        "id": "ysI08zvvi3lu"
      }
    },
    {
      "cell_type": "code",
      "source": [
        "## 10) Calcular la potencia de la prueba (1 - beta)\n",
        "\n",
        "#buscar el valor en Porcentaje correspondiente al Z critico\n",
        "x = 0 - (Zcritico * Sp_1p_2)# por la izquierda\n",
        "print('X promedio para Z=',Zcritico,': ',x)\n",
        "\n",
        "#otra forma mas simple con Scipy usando ppf\n",
        "x_b = stats.norm.ppf((alpha/2), loc=0, scale=Sp_1p_2)\n",
        "#print('X promedio para Z=',Zcritico,': ',x_b)\n",
        "\n",
        "\n",
        "#Calcular Beta (error tipo II)\n",
        "#forma simple con Scipy\n",
        "beta = 1- stats.norm.cdf(-Zcritico, loc=Z, scale=1)\n",
        "print('Beta: ',beta)\n",
        "\n",
        "#otra forma simple para calcular Beta con Scipy\n",
        "beta1 = 1- stats.norm.cdf(-Zcritico-Z)\n",
        "print('otra forma beta: ', beta1)\n",
        "\n",
        "#Calcular Potencia estadística (1- beta)\n",
        "print('Potencia de la prueba: ', 1-beta)\n",
        "\n",
        "\n",
        "## 11) Calcular el tamaño del efecto\n",
        "\n",
        "dif_bruta = (p_1 - p_2)\n",
        "print('diferencia bruta: ', dif_bruta)\n",
        "\n",
        "\n",
        "#graficar H0 y H1\n",
        "\n",
        "#proyectar distribucion diferencias prop H0\n",
        "H0_dif_prop = stats.norm(0, Sp_1p_2 )\n",
        "H0_x_dif_prop = np.linspace(H0_dif_prop.ppf(0.001), H0_dif_prop.ppf(0.999), 100)\n",
        "H0_pdf_dif_prop = H0_dif_prop.pdf(H0_x_dif_prop) #funcion densidad probabilidad\n",
        "\n",
        "#proyectar distribucion diferencias prop H0\n",
        "H1_dif_prop = stats.norm(p_1 - p_2, Sp_1p_2 )\n",
        "H1_x_dif_prop = np.linspace(H1_dif_prop.ppf(0.001), H1_dif_prop.ppf(0.999), 100)\n",
        "H1_pdf_dif_prop = H1_dif_prop.pdf(H1_x_dif_prop) #funcion densidad probabilidad\n",
        "\n",
        "\n",
        "plt.figure(figsize=(10, 5)) #tamaño grafico\n",
        "plt.plot(H0_x_dif_prop, H0_pdf_dif_prop,\"r\", ) #medias h0 fit\n",
        "plt.plot(H1_x_dif_prop, H1_pdf_dif_prop,\"b\", ) #medias h1 fit\n",
        "plt.vlines(ymin=0, ymax=4, x=x)#Z critico\n",
        "plt.legend(['H0','H1', 'Valor Critico'],bbox_to_anchor=(1.1,1.05))\n",
        "plt.show()"
      ],
      "metadata": {
        "colab": {
          "base_uri": "https://localhost:8080/",
          "height": 415
        },
        "id": "RIL6IYxQO3nn",
        "outputId": "0caec8d4-3efa-4e9b-fdba-1694c9213875"
      },
      "execution_count": null,
      "outputs": [
        {
          "output_type": "stream",
          "name": "stdout",
          "text": [
            "X promedio para Z= 1.959963984540054 :  -0.22380548070558823\n",
            "Beta:  0.19059394357802195\n",
            "otra forma beta:  0.19059394357802195\n",
            "Potencia de la prueba:  0.809406056421978\n",
            "diferencia bruta:  -0.32380151387720774\n"
          ]
        },
        {
          "output_type": "display_data",
          "data": {
            "text/plain": [
              "<Figure size 720x360 with 1 Axes>"
            ],
            "image/png": "[encoded data removed]"
          },
          "metadata": {
            "needs_background": "light"
          }
        }
      ]
    },
    {
      "cell_type": "markdown",
      "source": [
        "###Conclusión\n",
        "\n",
        "*Podemos concluir que el efecto creado por la implementación del nuevo Way of Working en la organización, tuvo una relevancia estadística y práctica, esto último ya que el aumento de SLA en 32 puntos porcentuales brutos, cuenta con una potencia superior al 80%.*\n",
        "\n",
        "\n",
        "Por lo tanto se validan las mejoras exhibidas en este estudio.\n",
        "\n",
        "\n",
        "####Nota:\n",
        "* SLA antes de kanban: 0.31\n",
        "* SLA con kanban: 0.63\n",
        "\n"
      ],
      "metadata": {
        "id": "cnYbvxP7igcU"
      }
    },
    {
      "cell_type": "markdown",
      "source": [
        "Prueba adicional para verificar si la reducción de la variabilidad de los tiempos de entrega es estadísticamente significativa:\n"
      ],
      "metadata": {
        "id": "xHH9F1ruOnih"
      }
    },
    {
      "cell_type": "code",
      "source": [
        "#Prueba No parametrica, Levene, Test de hipotesis diferencia de Varianzas\n",
        "res= stats.levene(a, b, center='median', proportiontocut=0.05)\n",
        "print(res)"
      ],
      "metadata": {
        "colab": {
          "base_uri": "https://localhost:8080/"
        },
        "id": "Y5Lk0_x8OqjW",
        "outputId": "ade93e42-2eb9-4c55-c9d9-9f70d2619adb"
      },
      "execution_count": null,
      "outputs": [
        {
          "output_type": "stream",
          "name": "stdout",
          "text": [
            "LeveneResult(statistic=37.49809139348904, pvalue=5.1650439223283556e-08)\n"
          ]
        }
      ]
    },
    {
      "cell_type": "markdown",
      "source": [
        "Por tanto las varianzas son diferentes, la disminución exhibida es estadísticamente significativa.\n",
        "\n",
        "---------\n",
        "\n",
        "\n",
        "##Anexo\n",
        "\n",
        "Prueba paramétrica para diferencia de medias"
      ],
      "metadata": {
        "id": "c1PkQCijO0N5"
      }
    },
    {
      "cell_type": "code",
      "source": [
        "#Prueba Parametrica, T-Student 2 muestras independientes, Test de hipotesis diferencia de medias\n",
        "res = stats.ttest_ind(a, b,  equal_var=False, alternative=\"two-sided\")\n",
        "print(res)"
      ],
      "metadata": {
        "colab": {
          "base_uri": "https://localhost:8080/"
        },
        "id": "VxAnHYZQO4gH",
        "outputId": "54beda51-346a-4679-a6e8-9c0ab73a424f"
      },
      "execution_count": null,
      "outputs": [
        {
          "output_type": "stream",
          "name": "stdout",
          "text": [
            "Ttest_indResult(statistic=4.439025531067535, pvalue=0.00010265058131141083)\n"
          ]
        }
      ]
    },
    {
      "cell_type": "markdown",
      "source": [
        "Medias son diferentes, pero, recordar que este test se aplica para muestras con distribución Normal. Por tanto no aplica.\n"
      ],
      "metadata": {
        "id": "fBL5isfzPIxi"
      }
    }
  ]
}